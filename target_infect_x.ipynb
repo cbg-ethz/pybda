{
 "cells": [
  {
   "cell_type": "code",
   "execution_count": 1,
   "metadata": {
    "collapsed": true
   },
   "outputs": [],
   "source": [
    "import findspark\n"
   ]
  },
  {
   "cell_type": "code",
   "execution_count": 2,
   "metadata": {
    "collapsed": false
   },
   "outputs": [],
   "source": [
    "findspark.init(spark_home=\"/opt/local/spark/spark-2.0.0-bin-hadoop2.7/\")"
   ]
  },
  {
   "cell_type": "code",
   "execution_count": 3,
   "metadata": {
    "collapsed": true
   },
   "outputs": [],
   "source": [
    "import pyspark\n",
    "from pyspark.sql import SQLContext"
   ]
  },
  {
   "cell_type": "code",
   "execution_count": 4,
   "metadata": {
    "collapsed": false,
    "scrolled": true
   },
   "outputs": [
    {
     "name": "stdout",
     "output_type": "stream",
     "text": [
      "<pyspark.context.SparkContext object at 0x105de2048>\n"
     ]
    }
   ],
   "source": [
    "sc = pyspark.SparkContext()\n",
    "print(sc)"
   ]
  },
  {
   "cell_type": "code",
   "execution_count": 59,
   "metadata": {
    "collapsed": false
   },
   "outputs": [],
   "source": [
    "from __future__ import print_function\n",
    "import scipy\n",
    "import numpy\n",
    "import sklearn\n",
    "from functools import reduce\n",
    "from operator import add"
   ]
  },
  {
   "cell_type": "code",
   "execution_count": 10,
   "metadata": {
    "collapsed": false
   },
   "outputs": [],
   "source": [
    "mat_fl = ('/Users/simondi/PHD/data/data/sysvirdrug/integrated_data_files/rnai.screen.raw.tsv')"
   ]
  },
  {
   "cell_type": "markdown",
   "metadata": {},
   "source": [
    "Read the data to RDD"
   ]
  },
  {
   "cell_type": "code",
   "execution_count": 42,
   "metadata": {
    "collapsed": false
   },
   "outputs": [],
   "source": [
    "rdd = sc.textFile(mat_fl) \\\n",
    "        .filter(lambda line: not line.startswith(\"Virus\")) \\\n",
    "        .filter(lambda line: line.strip().split(\"\\t\")[6] != \"Viability\") \\\n",
    "        .map(lambda line: numpy.array([x for i, x in enumerate(line.strip().split(\"\\t\")) if i < 100]))"
   ]
  },
  {
   "cell_type": "code",
   "execution_count": 43,
   "metadata": {
    "collapsed": false
   },
   "outputs": [
    {
     "data": {
      "text/plain": [
       "[array(['CHIKV', '1', '1', '1', '1', 'NA', 'Readout', '20610', 'GFP', 'NA',\n",
       "        'Dharmacon', 'NA', 'Kinome', 'MRC5', 'IR', 'NA', 'pooled', 'NA'], \n",
       "       dtype='<U9'),\n",
       " array(['CHIKV', '1', '1', '1', '2', 'aak1', 'Readout', '18100', 'GFP', '0',\n",
       "        'Dharmacon', 'D-005300-01,D-005300-02,D-005300-03,D-005300-04',\n",
       "        'Kinome', 'MRC5', 'IR', 'NA', 'pooled', '22848'], \n",
       "       dtype='<U47'),\n",
       " array(['CHIKV', '1', '1', '1', '3', 'aatk', 'Readout', '32730', 'GFP', '0',\n",
       "        'Dharmacon', 'D-005301-02,D-005301-03,D-005301-04,D-005301-05',\n",
       "        'Kinome', 'MRC5', 'IR', 'NA', 'pooled', '9625'], \n",
       "       dtype='<U47'),\n",
       " array(['CHIKV', '1', '1', '1', '4', 'cerk', 'Readout', '19250', 'GFP', '0',\n",
       "        'Dharmacon', 'D-004061-01,D-004061-02,D-004061-03,D-004061-04',\n",
       "        'Kinome', 'MRC5', 'IR', 'NA', 'pooled', '64781'], \n",
       "       dtype='<U47'),\n",
       " array(['CHIKV', '1', '1', '1', '5', 'rapgef4', 'Readout', '33210', 'GFP',\n",
       "        '0', 'Dharmacon', 'D-009511-01,D-009511-02,D-009511-03,D-009511-04',\n",
       "        'Kinome', 'MRC5', 'IR', 'NA', 'pooled', '11069'], \n",
       "       dtype='<U47')]"
      ]
     },
     "execution_count": 43,
     "metadata": {},
     "output_type": "execute_result"
    }
   ],
   "source": [
    "rdd.take(5)"
   ]
  },
  {
   "cell_type": "code",
   "execution_count": 55,
   "metadata": {
    "collapsed": false
   },
   "outputs": [
    {
     "data": {
      "text/plain": [
       "[DenseVector([20610.0]),\n",
       " DenseVector([18100.0]),\n",
       " DenseVector([32730.0]),\n",
       " DenseVector([19250.0]),\n",
       " DenseVector([33210.0])]"
      ]
     },
     "execution_count": 55,
     "metadata": {},
     "output_type": "execute_result"
    }
   ],
   "source": [
    "from pyspark.mllib.linalg import Vectors, DenseMatrix\n",
    "readout = rdd.filter(lambda x: str(x[7]) != \"NA\").map(lambda x: Vectors.dense(float(x[7])))\n",
    "readout.take(5)"
   ]
  },
  {
   "cell_type": "code",
   "execution_count": 56,
   "metadata": {
    "collapsed": false
   },
   "outputs": [],
   "source": [
    "from pyspark.mllib.clustering import KMeans, KMeansModel\n",
    "clusters = KMeans.train(readout, 10, maxIterations=10, initializationMode=\"random\")"
   ]
  },
  {
   "cell_type": "code",
   "execution_count": 57,
   "metadata": {
    "collapsed": true
   },
   "outputs": [],
   "source": [
    "import matplotlib.pyplot as plt"
   ]
  },
  {
   "cell_type": "markdown",
   "metadata": {},
   "source": [
    "Here I plot the clustering!"
   ]
  },
  {
   "cell_type": "code",
   "execution_count": 88,
   "metadata": {
    "collapsed": false
   },
   "outputs": [
    {
     "data": {
      "image/png": "[encoded data removed]",
      "text/plain": [
       "<matplotlib.figure.Figure at 0x11e1be320>"
      ]
     },
     "metadata": {},
     "output_type": "display_data"
    }
   ],
   "source": [
    "x = rdd.map(lambda x: x[0]).collect()\n",
    "y = rdd.map(lambda x: x[1]).collect()\n",
    "centers = rdd.map(lambda x: clusters.predict(x)).collect()\n",
    "plt.scatter(x, y, c=centers)\n",
    "plt.show()"
   ]
  },
  {
   "cell_type": "code",
   "execution_count": null,
   "metadata": {
    "collapsed": true
   },
   "outputs": [],
   "source": [
    "sc.stop()"
   ]
  }
 ],
 "metadata": {
  "kernelspec": {
   "display_name": "Python 3",
   "language": "python",
   "name": "python3"
  },
  "language_info": {
   "codemirror_mode": {
    "name": "ipython",
    "version": 3
   },
   "file_extension": ".py",
   "mimetype": "text/x-python",
   "name": "python",
   "nbconvert_exporter": "python",
   "pygments_lexer": "ipython3",
   "version": "3.5.2"
  }
 },
 "nbformat": 4,
 "nbformat_minor": 0
}
