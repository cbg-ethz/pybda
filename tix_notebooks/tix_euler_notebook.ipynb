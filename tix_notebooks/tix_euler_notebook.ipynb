{
 "cells": [
  {
   "cell_type": "code",
   "execution_count": 1,
   "metadata": {
    "collapsed": false
   },
   "outputs": [],
   "source": [
    "import matplotlib\n",
    "import bokeh\n",
    "import plotly\n",
    "import sklearn"
   ]
  },
  {
   "cell_type": "code",
   "execution_count": 2,
   "metadata": {
    "collapsed": false
   },
   "outputs": [],
   "source": [
    "import os\n",
    "import findspark\n",
    "\n",
    "if os.path.isdir(\"/cluster/home/simondi/spark/\"):\n",
    "    is_cluster = True\n",
    "    import sparkhpc\n",
    "    from sparkhpc import sparkjob\n",
    "    spark_path = \"/cluster/home/simondi/spark/\"\n",
    "else:\n",
    "    is_cluster = False\n",
    "    spark_path = \"/usr/local/spark/spark/\"\n",
    "\n",
    "findspark.init(spark_path)\n",
    "import pyspark"
   ]
  },
  {
   "cell_type": "code",
   "execution_count": 28,
   "metadata": {
    "collapsed": false
   },
   "outputs": [],
   "source": [
    "from pyspark.rdd import reduce\n",
    "from pyspark.sql.types import DoubleType\n",
    "from pyspark.ml.feature import VectorAssembler"
   ]
  },
  {
   "cell_type": "code",
   "execution_count": 29,
   "metadata": {
    "collapsed": true
   },
   "outputs": [],
   "source": [
    "from pyspark.ml.clustering import KMeans\n",
    "from pyspark.ml.linalg import SparseVector, VectorUDT, Vector"
   ]
  },
  {
   "cell_type": "code",
   "execution_count": 37,
   "metadata": {
    "collapsed": true
   },
   "outputs": [],
   "source": [
    "conf = pyspark.SparkConf().setMaster(\"local[2]\").setAppName(\"pupsfallera\").set(\"spark.driver.memory\", \"2G\").set(\"spark.executor.memory\", \"1g\")"
   ]
  },
  {
   "cell_type": "code",
   "execution_count": 38,
   "metadata": {
    "collapsed": false
   },
   "outputs": [],
   "source": [
    "sc = pyspark.SparkContext(conf=conf)"
   ]
  },
  {
   "cell_type": "code",
   "execution_count": 39,
   "metadata": {
    "collapsed": false
   },
   "outputs": [],
   "source": [
    "spark = pyspark.sql.SparkSession(sc)"
   ]
  },
  {
   "cell_type": "code",
   "execution_count": 40,
   "metadata": {
    "collapsed": false
   },
   "outputs": [],
   "source": [
    "if is_cluster:\n",
    "    file_name = \"/cluster/home/simondi/simondi/tix/data/screening_data/cells_sample_10.tsv\"\n",
    "else:\n",
    "    file_name = \"/Users/simondi/PHD/data/data/target_infect_x/screening_data_subset/cells_sample_10.tsv\""
   ]
  },
  {
   "cell_type": "code",
   "execution_count": 154,
   "metadata": {
    "collapsed": false
   },
   "outputs": [],
   "source": [
    "df = spark.read.csv(path=file_name, sep=\"\\t\", header='true')"
   ]
  },
  {
   "cell_type": "code",
   "execution_count": 155,
   "metadata": {
    "collapsed": false
   },
   "outputs": [
    {
     "data": {
      "text/plain": [
       "DataFrame[study: string, pathogen: string, library: string, design: string, replicate: string, plate: string, well: string, gene: string, sirna: string, well_type: string, image_idx: string, object_idx: string, cells.areashape_area: string, cells.areashape_eccentricity: string, cells.areashape_extent: string, cells.areashape_formfactor: string, cells.areashape_majoraxislength: string, cells.areashape_minoraxislength: string, cells.areashape_perimeter: string, cells.children_bacteria_count: string, cells.children_invasomes_count: string, cells.location_center_x: string, cells.location_center_y: string, cells.neighbors_anglebetweenneighbors_2: string, cells.neighbors_firstclosestobjectnumber_2: string, cells.neighbors_firstclosestxvector_2: string, cells.neighbors_firstclosestyvector_2: string, cells.neighbors_numberofneighbors_2: string, cells.neighbors_secondclosestobjectnumber_2: string, cells.neighbors_secondclosestxvector_2: string, cells.neighbors_secondclosestyvector_2: string, cells.parent_nuclei: string]"
      ]
     },
     "execution_count": 155,
     "metadata": {},
     "output_type": "execute_result"
    }
   ],
   "source": [
    "df.cache()"
   ]
  },
  {
   "cell_type": "code",
   "execution_count": 156,
   "metadata": {
    "collapsed": false
   },
   "outputs": [],
   "source": [
    "old_cols = df.schema.names\n",
    "new_cols = list(map(lambda x: x.replace(\".\", \"_\"),  old_cols))\n",
    "df = reduce(lambda data, idx: data.withColumnRenamed(old_cols[idx], new_cols[idx]), range(len(new_cols)), df)\n",
    "for i, x in enumerate(new_cols):\n",
    "    if x.startswith(\"cells\"):\n",
    "        df= df.withColumn(x, df[x].cast(\"double\"))"
   ]
  },
  {
   "cell_type": "code",
   "execution_count": 102,
   "metadata": {
    "collapsed": false
   },
   "outputs": [
    {
     "data": {
      "text/plain": [
       "array([2, 0, 2, 0, 2, 0, 2, 0, 2, 0])"
      ]
     },
     "execution_count": 102,
     "metadata": {},
     "output_type": "execute_result"
    }
   ],
   "source": [
    "import numpy\n",
    "np10 = numpy.zeros(10, dtype=\"int\")\n",
    "np10[::2] = 2\n",
    "np10"
   ]
  },
  {
   "cell_type": "code",
   "execution_count": 146,
   "metadata": {
    "collapsed": false
   },
   "outputs": [
    {
     "data": {
      "text/plain": [
       "[Row(a=2, b=2, c=0),\n",
       " Row(a=0, b=0, c=1),\n",
       " Row(a=2, b=2, c=2),\n",
       " Row(a=0, b=0, c=3),\n",
       " Row(a=2, b=2, c=4),\n",
       " Row(a=0, b=0, c=5),\n",
       " Row(a=2, b=2, c=6),\n",
       " Row(a=0, b=0, c=7),\n",
       " Row(a=2, b=2, c=8),\n",
       " Row(a=0, b=0, c=9)]"
      ]
     },
     "execution_count": 146,
     "metadata": {},
     "output_type": "execute_result"
    }
   ],
   "source": [
    "import pandas\n",
    "\n",
    "df = pandas.DataFrame({'a': np10, 'b': np10, 'c': range(10)})\n",
    "df = spark.createDataFrame(df)\n",
    "df.take(10)"
   ]
  },
  {
   "cell_type": "code",
   "execution_count": 168,
   "metadata": {
    "collapsed": false
   },
   "outputs": [
    {
     "data": {
      "text/plain": [
       "577"
      ]
     },
     "execution_count": 168,
     "metadata": {},
     "output_type": "execute_result"
    }
   ],
   "source": [
    "from pyspark.sql.window import Window\n",
    "import sys\n",
    "import pyspark.sql.functions as func\n",
    "\n",
    "def z_score_w(col, w):\n",
    "    avg = func.avg(col).over(w)\n",
    "    sd = func.stddev(col).over(w)\n",
    "    return (col - avg) / sd\n",
    "\n",
    "X = df.sample(fraction=.0001, withReplacement=False)\n",
    "X.count()"
   ]
  },
  {
   "cell_type": "code",
   "execution_count": 169,
   "metadata": {
    "collapsed": false
   },
   "outputs": [],
   "source": [
    "w = Window().partitionBy([\"study\", \"pathogen\"]).rowsBetween(-sys.maxsize, sys.maxsize)\n",
    "for x in X.columns:\n",
    "    if x.startswith(\"cells\"):\n",
    "        X = X.withColumn(x, z_score_w(df[x], w))"
   ]
  },
  {
   "cell_type": "code",
   "execution_count": 178,
   "metadata": {
    "collapsed": false
   },
   "outputs": [],
   "source": [
    "X=X.na.fill(value=0)"
   ]
  },
  {
   "cell_type": "code",
   "execution_count": 179,
   "metadata": {
    "collapsed": false
   },
   "outputs": [],
   "source": [
    "assembler = VectorAssembler(inputCols=[x for x in X.columns if x.startswith(\"cells\")], outputCol='features')\n",
    "Y = assembler.transform(X)"
   ]
  },
  {
   "cell_type": "code",
   "execution_count": 180,
   "metadata": {
    "collapsed": false
   },
   "outputs": [
    {
     "data": {
      "text/plain": [
       "DataFrame[study: string, pathogen: string, library: string, design: string, replicate: string, plate: string, well: string, gene: string, sirna: string, well_type: string, image_idx: string, object_idx: string, cells_areashape_area: double, cells_areashape_eccentricity: double, cells_areashape_extent: double, cells_areashape_formfactor: double, cells_areashape_majoraxislength: double, cells_areashape_minoraxislength: double, cells_areashape_perimeter: double, cells_children_bacteria_count: double, cells_children_invasomes_count: double, cells_location_center_x: double, cells_location_center_y: double, cells_neighbors_anglebetweenneighbors_2: double, cells_neighbors_firstclosestobjectnumber_2: double, cells_neighbors_firstclosestxvector_2: double, cells_neighbors_firstclosestyvector_2: double, cells_neighbors_numberofneighbors_2: double, cells_neighbors_secondclosestobjectnumber_2: double, cells_neighbors_secondclosestxvector_2: double, cells_neighbors_secondclosestyvector_2: double, cells_parent_nuclei: double, features: vector]"
      ]
     },
     "execution_count": 180,
     "metadata": {},
     "output_type": "execute_result"
    }
   ],
   "source": [
    "Y.cache()"
   ]
  },
  {
   "cell_type": "code",
   "execution_count": 181,
   "metadata": {
    "collapsed": false
   },
   "outputs": [
    {
     "data": {
      "text/plain": [
       "[Row(study='infectx', pathogen='brucella', library='q', design='u', replicate='1', plate='h151-1d', well='g12', gene='or6c6', sirna='si00673337', well_type='sirna', image_idx='1399', object_idx='238', cells_areashape_area=-0.9519484837325727, cells_areashape_eccentricity=0.4076168959084319, cells_areashape_extent=0.2334119557378339, cells_areashape_formfactor=0.23953182452451546, cells_areashape_majoraxislength=-1.0830433792487084, cells_areashape_minoraxislength=-1.1241746680234674, cells_areashape_perimeter=-1.1031117930930467, cells_children_bacteria_count=0.2825194336434967, cells_children_invasomes_count=0.0, cells_location_center_x=1.762572890588212, cells_location_center_y=-0.12786017094786453, cells_neighbors_anglebetweenneighbors_2=-0.04995983746277535, cells_neighbors_firstclosestobjectnumber_2=0.8318142570231133, cells_neighbors_firstclosestxvector_2=-0.8619160906709297, cells_neighbors_firstclosestyvector_2=-0.41076509746131623, cells_neighbors_numberofneighbors_2=-1.1143354337402935, cells_neighbors_secondclosestobjectnumber_2=0.9060090432174449, cells_neighbors_secondclosestxvector_2=-0.10840606622112262, cells_neighbors_secondclosestyvector_2=0.9799559378474597, cells_parent_nuclei=0.9227528496477791, features=DenseVector([-0.9519, 0.4076, 0.2334, 0.2395, -1.083, -1.1242, -1.1031, 0.2825, 0.0, 1.7626, -0.1279, -0.05, 0.8318, -0.8619, -0.4108, -1.1143, 0.906, -0.1084, 0.98, 0.9228]))]"
      ]
     },
     "execution_count": 181,
     "metadata": {},
     "output_type": "execute_result"
    }
   ],
   "source": [
    "Y.take(1)"
   ]
  },
  {
   "cell_type": "code",
   "execution_count": 186,
   "metadata": {
    "collapsed": false
   },
   "outputs": [
    {
     "data": {
      "text/plain": [
       "200"
      ]
     },
     "execution_count": 186,
     "metadata": {},
     "output_type": "execute_result"
    }
   ],
   "source": [
    "Y.rdd.getNumPartitions()"
   ]
  },
  {
   "cell_type": "code",
   "execution_count": 187,
   "metadata": {
    "collapsed": false
   },
   "outputs": [],
   "source": [
    "kmeans = KMeans(k=5, seed=23)\n",
    "model = kmeans.fit(Y)"
   ]
  },
  {
   "cell_type": "code",
   "execution_count": 188,
   "metadata": {
    "collapsed": false
   },
   "outputs": [],
   "source": [
    "from pyspark.ml.feature import PCA\n",
    "from pyspark.ml.linalg import Vectors"
   ]
  },
  {
   "cell_type": "code",
   "execution_count": 189,
   "metadata": {
    "collapsed": false
   },
   "outputs": [],
   "source": [
    "pca = PCA(k=2, inputCol=\"features\", outputCol=\"pcaFeatures\")\n",
    "pca_model = pca.fit(Y)"
   ]
  },
  {
   "cell_type": "code",
   "execution_count": 190,
   "metadata": {
    "collapsed": false
   },
   "outputs": [],
   "source": [
    "result = pca_model.transform(Y).select(\"pcaFeatures\")"
   ]
  },
  {
   "cell_type": "code",
   "execution_count": 216,
   "metadata": {
    "collapsed": false
   },
   "outputs": [],
   "source": [
    "df2 = result.rdd.map(lambda x: tuple(float(x)  for x in x.pcaFeatures.values )).toDF()\n",
    "df2  = df2.withColumnRenamed(\"_1\", \"PCA1\")\n",
    "df2  = df2.withColumnRenamed(\"_2\", \"PCA2\")"
   ]
  },
  {
   "cell_type": "code",
   "execution_count": 217,
   "metadata": {
    "collapsed": false
   },
   "outputs": [],
   "source": [
    "df2 = df2.toPandas()"
   ]
  },
  {
   "cell_type": "code",
   "execution_count": 201,
   "metadata": {
    "collapsed": false
   },
   "outputs": [
    {
     "data": {
      "text/html": [
       "<div>\n",
       "<style>\n",
       "    .dataframe thead tr:only-child th {\n",
       "        text-align: right;\n",
       "    }\n",
       "\n",
       "    .dataframe thead th {\n",
       "        text-align: left;\n",
       "    }\n",
       "\n",
       "    .dataframe tbody tr th {\n",
       "        vertical-align: top;\n",
       "    }\n",
       "</style>\n",
       "<table border=\"1\" class=\"dataframe\">\n",
       "  <thead>\n",
       "    <tr style=\"text-align: right;\">\n",
       "      <th></th>\n",
       "      <th>PCA1</th>\n",
       "      <th>PCA2</th>\n",
       "    </tr>\n",
       "  </thead>\n",
       "  <tbody>\n",
       "    <tr>\n",
       "      <th>1</th>\n",
       "      <td>0.473660</td>\n",
       "      <td>0.227862</td>\n",
       "    </tr>\n",
       "    <tr>\n",
       "      <th>2</th>\n",
       "      <td>1.330111</td>\n",
       "      <td>-0.544508</td>\n",
       "    </tr>\n",
       "    <tr>\n",
       "      <th>3</th>\n",
       "      <td>-0.367510</td>\n",
       "      <td>-1.810112</td>\n",
       "    </tr>\n",
       "    <tr>\n",
       "      <th>4</th>\n",
       "      <td>1.603545</td>\n",
       "      <td>-1.531582</td>\n",
       "    </tr>\n",
       "  </tbody>\n",
       "</table>\n",
       "</div>"
      ],
      "text/plain": [
       "       PCA1      PCA2\n",
       "1  0.473660  0.227862\n",
       "2  1.330111 -0.544508\n",
       "3 -0.367510 -1.810112\n",
       "4  1.603545 -1.531582"
      ]
     },
     "execution_count": 201,
     "metadata": {},
     "output_type": "execute_result"
    }
   ],
   "source": [
    "df2[1:5]"
   ]
  },
  {
   "cell_type": "code",
   "execution_count": 202,
   "metadata": {
    "collapsed": false
   },
   "outputs": [],
   "source": [
    "df2[\"pathogen\"] = Y.select(\"pathogen\").toPandas()\n",
    "df2[\"design\"] = Y.select(\"design\").toPandas()\n",
    "df2[\"library\"] = Y.select(\"library\").toPandas()"
   ]
  },
  {
   "cell_type": "code",
   "execution_count": 203,
   "metadata": {
    "collapsed": false
   },
   "outputs": [
    {
     "data": {
      "text/html": [
       "<div>\n",
       "<style>\n",
       "    .dataframe thead tr:only-child th {\n",
       "        text-align: right;\n",
       "    }\n",
       "\n",
       "    .dataframe thead th {\n",
       "        text-align: left;\n",
       "    }\n",
       "\n",
       "    .dataframe tbody tr th {\n",
       "        vertical-align: top;\n",
       "    }\n",
       "</style>\n",
       "<table border=\"1\" class=\"dataframe\">\n",
       "  <thead>\n",
       "    <tr style=\"text-align: right;\">\n",
       "      <th></th>\n",
       "      <th>PCA1</th>\n",
       "      <th>PCA2</th>\n",
       "      <th>pathogen</th>\n",
       "      <th>design</th>\n",
       "      <th>library</th>\n",
       "    </tr>\n",
       "  </thead>\n",
       "  <tbody>\n",
       "    <tr>\n",
       "      <th>1</th>\n",
       "      <td>0.473660</td>\n",
       "      <td>0.227862</td>\n",
       "      <td>brucella</td>\n",
       "      <td>u</td>\n",
       "      <td>q</td>\n",
       "    </tr>\n",
       "    <tr>\n",
       "      <th>2</th>\n",
       "      <td>1.330111</td>\n",
       "      <td>-0.544508</td>\n",
       "      <td>brucella</td>\n",
       "      <td>u</td>\n",
       "      <td>q</td>\n",
       "    </tr>\n",
       "    <tr>\n",
       "      <th>3</th>\n",
       "      <td>-0.367510</td>\n",
       "      <td>-1.810112</td>\n",
       "      <td>brucella</td>\n",
       "      <td>p</td>\n",
       "      <td>d</td>\n",
       "    </tr>\n",
       "    <tr>\n",
       "      <th>4</th>\n",
       "      <td>1.603545</td>\n",
       "      <td>-1.531582</td>\n",
       "      <td>brucella</td>\n",
       "      <td>p</td>\n",
       "      <td>d</td>\n",
       "    </tr>\n",
       "  </tbody>\n",
       "</table>\n",
       "</div>"
      ],
      "text/plain": [
       "       PCA1      PCA2  pathogen design library\n",
       "1  0.473660  0.227862  brucella      u       q\n",
       "2  1.330111 -0.544508  brucella      u       q\n",
       "3 -0.367510 -1.810112  brucella      p       d\n",
       "4  1.603545 -1.531582  brucella      p       d"
      ]
     },
     "execution_count": 203,
     "metadata": {},
     "output_type": "execute_result"
    }
   ],
   "source": [
    "df2[1:5]"
   ]
  },
  {
   "cell_type": "code",
   "execution_count": 208,
   "metadata": {
    "collapsed": false
   },
   "outputs": [
    {
     "data": {
      "image/png": "[encoded data removed]",
      "text/plain": [
       "<matplotlib.figure.Figure at 0x114a8c9e8>"
      ]
     },
     "metadata": {},
     "output_type": "display_data"
    }
   ],
   "source": [
    "from cycler import cycler\n",
    "import matplotlib\n",
    "import matplotlib.pyplot\n",
    "\n",
    "fig, ax = matplotlib.pyplot.subplots()\n",
    "matplotlib.pyplot.rc('axes', prop_cycle=(cycler('color', ['r', 'g', 'b', 'y'])))\n",
    "ax.margins(0.05)\n",
    "\n",
    "groups = df2.groupby(\"pathogen\")\n",
    "for name, group in groups:\n",
    "    design_groups = group.groupby(['design'])\n",
    "    for design, dgr in design_groups:\n",
    "        ax.plot(dgr.PCA1, dgr.PCA2, marker='o', linestyle='', ms=5, label=name +\", \"+ design)\n",
    "ax.legend()\n",
    "matplotlib.pyplot.show()"
   ]
  },
  {
   "cell_type": "code",
   "execution_count": 209,
   "metadata": {
    "collapsed": true
   },
   "outputs": [],
   "source": [
    "import sklearn"
   ]
  },
  {
   "cell_type": "code",
   "execution_count": 210,
   "metadata": {
    "collapsed": true
   },
   "outputs": [],
   "source": [
    "from time import time\n",
    "\n",
    "import numpy as np\n",
    "import matplotlib.pyplot as plt\n",
    "from mpl_toolkits.mplot3d import Axes3D\n",
    "from matplotlib.ticker import NullFormatter\n",
    "from matplotlib.backends.backend_pdf import PdfPages\n",
    "from sklearn import manifold\n",
    "from sklearn.utils import check_random_state"
   ]
  },
  {
   "cell_type": "code",
   "execution_count": 221,
   "metadata": {
    "collapsed": false
   },
   "outputs": [
    {
     "data": {
      "text/plain": [
       "array([[  2.91520086e+00,  -3.70741153e-01],\n",
       "       [  4.73659559e-01,   2.27861800e-01],\n",
       "       [  1.33011051e+00,  -5.44508449e-01],\n",
       "       ..., \n",
       "       [  2.20676574e+00,   2.07656888e+00],\n",
       "       [  1.75356132e-01,  -7.02102822e-01],\n",
       "       [ -8.58140567e-04,   6.66606044e-01]])"
      ]
     },
     "execution_count": 221,
     "metadata": {},
     "output_type": "execute_result"
    }
   ],
   "source": [
    "df2.values"
   ]
  },
  {
   "cell_type": "code",
   "execution_count": 226,
   "metadata": {
    "collapsed": false
   },
   "outputs": [],
   "source": [
    "tsne = manifold.TSNE(n_components=2, init='pca', random_state=0)\n",
    "trans_data = tsne.fit_transform(df2.values)\n",
    "\n"
   ]
  },
  {
   "cell_type": "code",
   "execution_count": 241,
   "metadata": {
    "collapsed": false
   },
   "outputs": [
    {
     "data": {
      "text/html": [
       "<div>\n",
       "<style>\n",
       "    .dataframe thead tr:only-child th {\n",
       "        text-align: right;\n",
       "    }\n",
       "\n",
       "    .dataframe thead th {\n",
       "        text-align: left;\n",
       "    }\n",
       "\n",
       "    .dataframe tbody tr th {\n",
       "        vertical-align: top;\n",
       "    }\n",
       "</style>\n",
       "<table border=\"1\" class=\"dataframe\">\n",
       "  <thead>\n",
       "    <tr style=\"text-align: right;\">\n",
       "      <th></th>\n",
       "      <th>a</th>\n",
       "      <th>b</th>\n",
       "      <th>pathogen</th>\n",
       "      <th>design</th>\n",
       "    </tr>\n",
       "  </thead>\n",
       "  <tbody>\n",
       "    <tr>\n",
       "      <th>0</th>\n",
       "      <td>-16.388256</td>\n",
       "      <td>0.329523</td>\n",
       "      <td>brucella</td>\n",
       "      <td>u</td>\n",
       "    </tr>\n",
       "    <tr>\n",
       "      <th>1</th>\n",
       "      <td>-2.649010</td>\n",
       "      <td>0.699221</td>\n",
       "      <td>brucella</td>\n",
       "      <td>u</td>\n",
       "    </tr>\n",
       "    <tr>\n",
       "      <th>2</th>\n",
       "      <td>-9.178353</td>\n",
       "      <td>-3.934992</td>\n",
       "      <td>brucella</td>\n",
       "      <td>u</td>\n",
       "    </tr>\n",
       "    <tr>\n",
       "      <th>3</th>\n",
       "      <td>3.702672</td>\n",
       "      <td>-11.588075</td>\n",
       "      <td>brucella</td>\n",
       "      <td>p</td>\n",
       "    </tr>\n",
       "    <tr>\n",
       "      <th>4</th>\n",
       "      <td>-12.038499</td>\n",
       "      <td>-6.845116</td>\n",
       "      <td>brucella</td>\n",
       "      <td>p</td>\n",
       "    </tr>\n",
       "    <tr>\n",
       "      <th>5</th>\n",
       "      <td>6.679056</td>\n",
       "      <td>6.014356</td>\n",
       "      <td>brucella</td>\n",
       "      <td>u</td>\n",
       "    </tr>\n",
       "    <tr>\n",
       "      <th>6</th>\n",
       "      <td>-13.188291</td>\n",
       "      <td>6.432633</td>\n",
       "      <td>brucella</td>\n",
       "      <td>p</td>\n",
       "    </tr>\n",
       "    <tr>\n",
       "      <th>7</th>\n",
       "      <td>8.717917</td>\n",
       "      <td>10.688834</td>\n",
       "      <td>brucella</td>\n",
       "      <td>u</td>\n",
       "    </tr>\n",
       "    <tr>\n",
       "      <th>8</th>\n",
       "      <td>-1.530753</td>\n",
       "      <td>-8.306866</td>\n",
       "      <td>brucella</td>\n",
       "      <td>u</td>\n",
       "    </tr>\n",
       "    <tr>\n",
       "      <th>9</th>\n",
       "      <td>9.237120</td>\n",
       "      <td>-11.571178</td>\n",
       "      <td>brucella</td>\n",
       "      <td>u</td>\n",
       "    </tr>\n",
       "    <tr>\n",
       "      <th>10</th>\n",
       "      <td>-3.837545</td>\n",
       "      <td>-5.654910</td>\n",
       "      <td>brucella</td>\n",
       "      <td>p</td>\n",
       "    </tr>\n",
       "    <tr>\n",
       "      <th>11</th>\n",
       "      <td>3.745703</td>\n",
       "      <td>-9.818919</td>\n",
       "      <td>brucella</td>\n",
       "      <td>p</td>\n",
       "    </tr>\n",
       "    <tr>\n",
       "      <th>12</th>\n",
       "      <td>5.136806</td>\n",
       "      <td>-18.755007</td>\n",
       "      <td>brucella</td>\n",
       "      <td>p</td>\n",
       "    </tr>\n",
       "    <tr>\n",
       "      <th>13</th>\n",
       "      <td>3.684048</td>\n",
       "      <td>-8.678819</td>\n",
       "      <td>brucella</td>\n",
       "      <td>u</td>\n",
       "    </tr>\n",
       "    <tr>\n",
       "      <th>14</th>\n",
       "      <td>-3.801889</td>\n",
       "      <td>11.476204</td>\n",
       "      <td>brucella</td>\n",
       "      <td>p</td>\n",
       "    </tr>\n",
       "    <tr>\n",
       "      <th>15</th>\n",
       "      <td>-2.634433</td>\n",
       "      <td>3.508403</td>\n",
       "      <td>brucella</td>\n",
       "      <td>u</td>\n",
       "    </tr>\n",
       "    <tr>\n",
       "      <th>16</th>\n",
       "      <td>-12.304726</td>\n",
       "      <td>-5.078466</td>\n",
       "      <td>brucella</td>\n",
       "      <td>u</td>\n",
       "    </tr>\n",
       "    <tr>\n",
       "      <th>17</th>\n",
       "      <td>10.371105</td>\n",
       "      <td>0.253504</td>\n",
       "      <td>brucella</td>\n",
       "      <td>p</td>\n",
       "    </tr>\n",
       "    <tr>\n",
       "      <th>18</th>\n",
       "      <td>5.865092</td>\n",
       "      <td>12.340975</td>\n",
       "      <td>brucella</td>\n",
       "      <td>p</td>\n",
       "    </tr>\n",
       "    <tr>\n",
       "      <th>19</th>\n",
       "      <td>-7.734118</td>\n",
       "      <td>4.623287</td>\n",
       "      <td>brucella</td>\n",
       "      <td>u</td>\n",
       "    </tr>\n",
       "    <tr>\n",
       "      <th>20</th>\n",
       "      <td>-20.151513</td>\n",
       "      <td>4.651524</td>\n",
       "      <td>brucella</td>\n",
       "      <td>u</td>\n",
       "    </tr>\n",
       "    <tr>\n",
       "      <th>21</th>\n",
       "      <td>-0.549098</td>\n",
       "      <td>1.640484</td>\n",
       "      <td>brucella</td>\n",
       "      <td>p</td>\n",
       "    </tr>\n",
       "    <tr>\n",
       "      <th>22</th>\n",
       "      <td>5.444747</td>\n",
       "      <td>2.544587</td>\n",
       "      <td>brucella</td>\n",
       "      <td>u</td>\n",
       "    </tr>\n",
       "    <tr>\n",
       "      <th>23</th>\n",
       "      <td>12.116015</td>\n",
       "      <td>5.554614</td>\n",
       "      <td>brucella</td>\n",
       "      <td>u</td>\n",
       "    </tr>\n",
       "    <tr>\n",
       "      <th>24</th>\n",
       "      <td>11.291114</td>\n",
       "      <td>3.777026</td>\n",
       "      <td>brucella</td>\n",
       "      <td>p</td>\n",
       "    </tr>\n",
       "    <tr>\n",
       "      <th>25</th>\n",
       "      <td>5.224910</td>\n",
       "      <td>1.525679</td>\n",
       "      <td>brucella</td>\n",
       "      <td>u</td>\n",
       "    </tr>\n",
       "    <tr>\n",
       "      <th>26</th>\n",
       "      <td>-11.238170</td>\n",
       "      <td>13.746235</td>\n",
       "      <td>brucella</td>\n",
       "      <td>u</td>\n",
       "    </tr>\n",
       "    <tr>\n",
       "      <th>27</th>\n",
       "      <td>-17.469186</td>\n",
       "      <td>10.200363</td>\n",
       "      <td>brucella</td>\n",
       "      <td>u</td>\n",
       "    </tr>\n",
       "    <tr>\n",
       "      <th>28</th>\n",
       "      <td>3.014858</td>\n",
       "      <td>-10.288630</td>\n",
       "      <td>brucella</td>\n",
       "      <td>p</td>\n",
       "    </tr>\n",
       "    <tr>\n",
       "      <th>29</th>\n",
       "      <td>2.789563</td>\n",
       "      <td>-19.241179</td>\n",
       "      <td>brucella</td>\n",
       "      <td>p</td>\n",
       "    </tr>\n",
       "    <tr>\n",
       "      <th>...</th>\n",
       "      <td>...</td>\n",
       "      <td>...</td>\n",
       "      <td>...</td>\n",
       "      <td>...</td>\n",
       "    </tr>\n",
       "    <tr>\n",
       "      <th>547</th>\n",
       "      <td>15.771848</td>\n",
       "      <td>-0.507546</td>\n",
       "      <td>bartonella</td>\n",
       "      <td>u</td>\n",
       "    </tr>\n",
       "    <tr>\n",
       "      <th>548</th>\n",
       "      <td>7.477661</td>\n",
       "      <td>3.155445</td>\n",
       "      <td>bartonella</td>\n",
       "      <td>u</td>\n",
       "    </tr>\n",
       "    <tr>\n",
       "      <th>549</th>\n",
       "      <td>-14.487472</td>\n",
       "      <td>-6.601432</td>\n",
       "      <td>bartonella</td>\n",
       "      <td>u</td>\n",
       "    </tr>\n",
       "    <tr>\n",
       "      <th>550</th>\n",
       "      <td>10.834909</td>\n",
       "      <td>-0.336475</td>\n",
       "      <td>bartonella</td>\n",
       "      <td>u</td>\n",
       "    </tr>\n",
       "    <tr>\n",
       "      <th>551</th>\n",
       "      <td>4.789815</td>\n",
       "      <td>2.798698</td>\n",
       "      <td>bartonella</td>\n",
       "      <td>u</td>\n",
       "    </tr>\n",
       "    <tr>\n",
       "      <th>552</th>\n",
       "      <td>-2.967726</td>\n",
       "      <td>-10.880652</td>\n",
       "      <td>bartonella</td>\n",
       "      <td>u</td>\n",
       "    </tr>\n",
       "    <tr>\n",
       "      <th>553</th>\n",
       "      <td>-14.663967</td>\n",
       "      <td>4.546626</td>\n",
       "      <td>bartonella</td>\n",
       "      <td>u</td>\n",
       "    </tr>\n",
       "    <tr>\n",
       "      <th>554</th>\n",
       "      <td>-16.180103</td>\n",
       "      <td>1.841131</td>\n",
       "      <td>bartonella</td>\n",
       "      <td>p</td>\n",
       "    </tr>\n",
       "    <tr>\n",
       "      <th>555</th>\n",
       "      <td>-1.767983</td>\n",
       "      <td>8.976848</td>\n",
       "      <td>bartonella</td>\n",
       "      <td>u</td>\n",
       "    </tr>\n",
       "    <tr>\n",
       "      <th>556</th>\n",
       "      <td>5.881274</td>\n",
       "      <td>14.004563</td>\n",
       "      <td>bartonella</td>\n",
       "      <td>p</td>\n",
       "    </tr>\n",
       "    <tr>\n",
       "      <th>557</th>\n",
       "      <td>-8.689689</td>\n",
       "      <td>1.409251</td>\n",
       "      <td>bartonella</td>\n",
       "      <td>u</td>\n",
       "    </tr>\n",
       "    <tr>\n",
       "      <th>558</th>\n",
       "      <td>-3.568512</td>\n",
       "      <td>13.083747</td>\n",
       "      <td>bartonella</td>\n",
       "      <td>u</td>\n",
       "    </tr>\n",
       "    <tr>\n",
       "      <th>559</th>\n",
       "      <td>-12.863442</td>\n",
       "      <td>12.092293</td>\n",
       "      <td>bartonella</td>\n",
       "      <td>u</td>\n",
       "    </tr>\n",
       "    <tr>\n",
       "      <th>560</th>\n",
       "      <td>-1.731554</td>\n",
       "      <td>4.589358</td>\n",
       "      <td>bartonella</td>\n",
       "      <td>u</td>\n",
       "    </tr>\n",
       "    <tr>\n",
       "      <th>561</th>\n",
       "      <td>12.342372</td>\n",
       "      <td>-15.846818</td>\n",
       "      <td>bartonella</td>\n",
       "      <td>u</td>\n",
       "    </tr>\n",
       "    <tr>\n",
       "      <th>562</th>\n",
       "      <td>12.207421</td>\n",
       "      <td>12.727233</td>\n",
       "      <td>bartonella</td>\n",
       "      <td>u</td>\n",
       "    </tr>\n",
       "    <tr>\n",
       "      <th>563</th>\n",
       "      <td>0.173342</td>\n",
       "      <td>-18.228716</td>\n",
       "      <td>bartonella</td>\n",
       "      <td>u</td>\n",
       "    </tr>\n",
       "    <tr>\n",
       "      <th>564</th>\n",
       "      <td>0.482980</td>\n",
       "      <td>-17.046637</td>\n",
       "      <td>bartonella</td>\n",
       "      <td>u</td>\n",
       "    </tr>\n",
       "    <tr>\n",
       "      <th>565</th>\n",
       "      <td>5.347056</td>\n",
       "      <td>-10.184590</td>\n",
       "      <td>bartonella</td>\n",
       "      <td>p</td>\n",
       "    </tr>\n",
       "    <tr>\n",
       "      <th>566</th>\n",
       "      <td>2.324708</td>\n",
       "      <td>-6.726431</td>\n",
       "      <td>bartonella</td>\n",
       "      <td>p</td>\n",
       "    </tr>\n",
       "    <tr>\n",
       "      <th>567</th>\n",
       "      <td>4.886505</td>\n",
       "      <td>12.570423</td>\n",
       "      <td>bartonella</td>\n",
       "      <td>u</td>\n",
       "    </tr>\n",
       "    <tr>\n",
       "      <th>568</th>\n",
       "      <td>5.074450</td>\n",
       "      <td>11.908874</td>\n",
       "      <td>bartonella</td>\n",
       "      <td>u</td>\n",
       "    </tr>\n",
       "    <tr>\n",
       "      <th>569</th>\n",
       "      <td>-13.113602</td>\n",
       "      <td>-2.664569</td>\n",
       "      <td>bartonella</td>\n",
       "      <td>u</td>\n",
       "    </tr>\n",
       "    <tr>\n",
       "      <th>570</th>\n",
       "      <td>-4.774093</td>\n",
       "      <td>6.953956</td>\n",
       "      <td>bartonella</td>\n",
       "      <td>p</td>\n",
       "    </tr>\n",
       "    <tr>\n",
       "      <th>571</th>\n",
       "      <td>-0.716443</td>\n",
       "      <td>-1.092138</td>\n",
       "      <td>bartonella</td>\n",
       "      <td>p</td>\n",
       "    </tr>\n",
       "    <tr>\n",
       "      <th>572</th>\n",
       "      <td>-2.609974</td>\n",
       "      <td>-3.298311</td>\n",
       "      <td>bartonella</td>\n",
       "      <td>u</td>\n",
       "    </tr>\n",
       "    <tr>\n",
       "      <th>573</th>\n",
       "      <td>-6.786764</td>\n",
       "      <td>3.140585</td>\n",
       "      <td>bartonella</td>\n",
       "      <td>p</td>\n",
       "    </tr>\n",
       "    <tr>\n",
       "      <th>574</th>\n",
       "      <td>-12.163600</td>\n",
       "      <td>11.072701</td>\n",
       "      <td>bartonella</td>\n",
       "      <td>u</td>\n",
       "    </tr>\n",
       "    <tr>\n",
       "      <th>575</th>\n",
       "      <td>-2.185315</td>\n",
       "      <td>-5.354692</td>\n",
       "      <td>bartonella</td>\n",
       "      <td>u</td>\n",
       "    </tr>\n",
       "    <tr>\n",
       "      <th>576</th>\n",
       "      <td>-0.006407</td>\n",
       "      <td>3.723239</td>\n",
       "      <td>bartonella</td>\n",
       "      <td>u</td>\n",
       "    </tr>\n",
       "  </tbody>\n",
       "</table>\n",
       "<p>577 rows × 4 columns</p>\n",
       "</div>"
      ],
      "text/plain": [
       "             a          b    pathogen design\n",
       "0   -16.388256   0.329523    brucella      u\n",
       "1    -2.649010   0.699221    brucella      u\n",
       "2    -9.178353  -3.934992    brucella      u\n",
       "3     3.702672 -11.588075    brucella      p\n",
       "4   -12.038499  -6.845116    brucella      p\n",
       "5     6.679056   6.014356    brucella      u\n",
       "6   -13.188291   6.432633    brucella      p\n",
       "7     8.717917  10.688834    brucella      u\n",
       "8    -1.530753  -8.306866    brucella      u\n",
       "9     9.237120 -11.571178    brucella      u\n",
       "10   -3.837545  -5.654910    brucella      p\n",
       "11    3.745703  -9.818919    brucella      p\n",
       "12    5.136806 -18.755007    brucella      p\n",
       "13    3.684048  -8.678819    brucella      u\n",
       "14   -3.801889  11.476204    brucella      p\n",
       "15   -2.634433   3.508403    brucella      u\n",
       "16  -12.304726  -5.078466    brucella      u\n",
       "17   10.371105   0.253504    brucella      p\n",
       "18    5.865092  12.340975    brucella      p\n",
       "19   -7.734118   4.623287    brucella      u\n",
       "20  -20.151513   4.651524    brucella      u\n",
       "21   -0.549098   1.640484    brucella      p\n",
       "22    5.444747   2.544587    brucella      u\n",
       "23   12.116015   5.554614    brucella      u\n",
       "24   11.291114   3.777026    brucella      p\n",
       "25    5.224910   1.525679    brucella      u\n",
       "26  -11.238170  13.746235    brucella      u\n",
       "27  -17.469186  10.200363    brucella      u\n",
       "28    3.014858 -10.288630    brucella      p\n",
       "29    2.789563 -19.241179    brucella      p\n",
       "..         ...        ...         ...    ...\n",
       "547  15.771848  -0.507546  bartonella      u\n",
       "548   7.477661   3.155445  bartonella      u\n",
       "549 -14.487472  -6.601432  bartonella      u\n",
       "550  10.834909  -0.336475  bartonella      u\n",
       "551   4.789815   2.798698  bartonella      u\n",
       "552  -2.967726 -10.880652  bartonella      u\n",
       "553 -14.663967   4.546626  bartonella      u\n",
       "554 -16.180103   1.841131  bartonella      p\n",
       "555  -1.767983   8.976848  bartonella      u\n",
       "556   5.881274  14.004563  bartonella      p\n",
       "557  -8.689689   1.409251  bartonella      u\n",
       "558  -3.568512  13.083747  bartonella      u\n",
       "559 -12.863442  12.092293  bartonella      u\n",
       "560  -1.731554   4.589358  bartonella      u\n",
       "561  12.342372 -15.846818  bartonella      u\n",
       "562  12.207421  12.727233  bartonella      u\n",
       "563   0.173342 -18.228716  bartonella      u\n",
       "564   0.482980 -17.046637  bartonella      u\n",
       "565   5.347056 -10.184590  bartonella      p\n",
       "566   2.324708  -6.726431  bartonella      p\n",
       "567   4.886505  12.570423  bartonella      u\n",
       "568   5.074450  11.908874  bartonella      u\n",
       "569 -13.113602  -2.664569  bartonella      u\n",
       "570  -4.774093   6.953956  bartonella      p\n",
       "571  -0.716443  -1.092138  bartonella      p\n",
       "572  -2.609974  -3.298311  bartonella      u\n",
       "573  -6.786764   3.140585  bartonella      p\n",
       "574 -12.163600  11.072701  bartonella      u\n",
       "575  -2.185315  -5.354692  bartonella      u\n",
       "576  -0.006407   3.723239  bartonella      u\n",
       "\n",
       "[577 rows x 4 columns]"
      ]
     },
     "execution_count": 241,
     "metadata": {},
     "output_type": "execute_result"
    }
   ],
   "source": [
    "transe=pandas.DataFrame(trans_data)\n",
    "transe[\"pathogen\"] = Y.select(\"pathogen\").toPandas()\n",
    "transe[\"design\"] = Y.select(\"design\").toPandas()\n",
    "transe.columns = ['a', 'b', 'pathogen', 'design']\n",
    "transe"
   ]
  },
  {
   "cell_type": "code",
   "execution_count": 250,
   "metadata": {
    "collapsed": false
   },
   "outputs": [
    {
     "data": {
      "image/png": "[encoded data removed]",
      "text/plain": [
       "<matplotlib.figure.Figure at 0x117299a58>"
      ]
     },
     "metadata": {},
     "output_type": "display_data"
    }
   ],
   "source": [
    "fig, ax = matplotlib.pyplot.subplots()\n",
    "matplotlib.pyplot.rc('axes', prop_cycle=(cycler('color', ['r', 'g', 'b', 'y'])))\n",
    "ax.margins(0.05)\n",
    "\n",
    "groups = transe.groupby(\"pathogen\")\n",
    "for name, group in groups:\n",
    "        ax.plot(group.a, group.b, marker='o', linestyle='', ms=5, label=name)\n",
    "ax.legend()\n",
    "matplotlib.pyplot.show()"
   ]
  },
  {
   "cell_type": "code",
   "execution_count": 36,
   "metadata": {
    "collapsed": true
   },
   "outputs": [],
   "source": [
    "\n",
    "sc.stop()"
   ]
  }
 ],
 "metadata": {
  "anaconda-cloud": {},
  "kernelspec": {
   "display_name": "Python 3",
   "language": "python",
   "name": "python3"
  },
  "language_info": {
   "codemirror_mode": {
    "name": "ipython",
    "version": 3
   },
   "file_extension": ".py",
   "mimetype": "text/x-python",
   "name": "python",
   "nbconvert_exporter": "python",
   "pygments_lexer": "ipython3",
   "version": "3.5.2"
  }
 },
 "nbformat": 4,
 "nbformat_minor": 0
}
