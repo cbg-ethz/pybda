{
 "cells": [
  {
   "cell_type": "code",
   "execution_count": 1,
   "metadata": {
    "collapsed": false
   },
   "outputs": [],
   "source": [
    "import h5py\n",
    "import pandas"
   ]
  },
  {
   "cell_type": "code",
   "execution_count": 2,
   "metadata": {
    "collapsed": false
   },
   "outputs": [],
   "source": [
    "import sparkhpc\n",
    "from sparkhpc import sparkjob\n",
    "import findspark \n",
    "findspark.init(\"/cluster/home/simondi/spark/\")\n",
    "import pyspark"
   ]
  },
  {
   "cell_type": "code",
   "execution_count": 68,
   "metadata": {
    "collapsed": false
   },
   "outputs": [],
   "source": [
    "from pyspark.rdd import reduce\n",
    "from pyspark.sql.types import DoubleType"
   ]
  },
  {
   "cell_type": "code",
   "execution_count": 16,
   "metadata": {
    "collapsed": true
   },
   "outputs": [],
   "source": [
    "from pyspark.sql import SQLContext\n",
    "sqlc = SQLContext(sc)"
   ]
  },
  {
   "cell_type": "code",
   "execution_count": 3,
   "metadata": {
    "collapsed": false
   },
   "outputs": [],
   "source": [
    "sc = pyspark.SparkContext(\"local\", \"App Name\")"
   ]
  },
  {
   "cell_type": "code",
   "execution_count": 4,
   "metadata": {
    "collapsed": true
   },
   "outputs": [],
   "source": [
    "file_name = \"/cluster/home/simondi/simondi/tix/data/screening_data/cells_sample_10.tsv\""
   ]
  },
  {
   "cell_type": "code",
   "execution_count": 14,
   "metadata": {
    "collapsed": false
   },
   "outputs": [
    {
     "data": {
      "text/plain": [
       "['study\\tpathogen\\tlibrary\\tdesign\\treplicate\\tplate\\twell\\tgene\\tsirna\\twell_type\\timage_idx\\tobject_idx\\tcells.areashape_area\\tcells.areashape_eccentricity\\tcells.areashape_extent\\tcells.areashape_formfactor\\tcells.areashape_majoraxislength\\tcells.areashape_minoraxislength\\tcells.areashape_perimeter\\tcells.children_bacteria_count\\tcells.children_invasomes_count\\tcells.location_center_x\\tcells.location_center_y\\tcells.neighbors_anglebetweenneighbors_2\\tcells.neighbors_firstclosestobjectnumber_2\\tcells.neighbors_firstclosestxvector_2\\tcells.neighbors_firstclosestyvector_2\\tcells.neighbors_numberofneighbors_2\\tcells.neighbors_secondclosestobjectnumber_2\\tcells.neighbors_secondclosestxvector_2\\tcells.neighbors_secondclosestyvector_2\\tcells.parent_nuclei',\n",
       " 'infectx_published\\tlisteria\\ta\\tu\\t1\\tkb2-02-1x\\ta01\\tchka\\ts3008\\tsirna\\t4\\t144\\t2842.0\\t0.751864254475\\t0.656047999859\\t0.61208987236\\t75.3157806396\\t49.6570472717\\t240.55130004900002\\t0.0\\t0\\t881.00177002\\t910.962341309\\t171.973251343\\t145.0\\t30.1583766937\\t-53.266174316400004\\t5.0\\t134.0\\t-25.248916626\\t64.1275634766\\t144.0',\n",
       " 'infectx_published\\tlisteria\\ta\\tu\\t1\\tkb2-02-1x\\ta01\\tchka\\ts3008\\tsirna\\t5\\t168\\t2484.0\\t0.7443224787710001\\t0.564288973808\\t0.48369204998000004\\t73.0543823242\\t48.7872047424\\t253.036575317\\t1.0\\t0\\t872.33215332\\t455.98107910199997\\t97.5600357056\\t165.0\\t-17.180620193499998\\t42.949043273899996\\t4.0\\t155.0\\t-54.698463439899996\\t-30.773979187\\t168.0',\n",
       " 'infectx_published\\tlisteria\\ta\\tu\\t1\\tkb2-02-1x\\ta01\\tchka\\ts3008\\tsirna\\t2\\t210\\t4646.0\\t0.91317820549\\t0.715870559216\\t0.518087804317\\t122.713951111\\t50.013359069799996\\t334.69342041\\t17.0\\t0\\t1025.27355957\\t179.84201049799998\\t143.13684082\\t212.0\\t-8.14504814148\\t45.5921897888\\t8.0\\t223.0\\t36.486579895\\t-34.0335769653\\t210.0',\n",
       " 'infectx_published\\tlisteria\\ta\\tu\\t1\\tkb2-02-1x\\ta01\\tchka\\ts3008\\tsirna\\t6\\t207\\t4070.0\\t0.852616667747\\t0.544117629528\\t0.517207980156\\t101.693138123\\t53.138420105\\t313.462982178\\t9.0\\t0\\t1042.65966797\\t570.001953125\\t136.43157959\\t206.0\\t-12.9226016998\\t-55.759757995600005\\t6.0\\t214.0\\t58.0754890442\\t38.2695274353\\t207.0']"
      ]
     },
     "execution_count": 14,
     "metadata": {},
     "output_type": "execute_result"
    }
   ],
   "source": [
    "data = sc.textFile(file_name)\n",
    "data.take(5)"
   ]
  },
  {
   "cell_type": "code",
   "execution_count": 24,
   "metadata": {
    "collapsed": false
   },
   "outputs": [],
   "source": [
    "#data_rdd = data.map(lambda line: line.split(\"\\t\"))\n",
    "df = sqlc.read.format('com.databricks.spark.csv').options(header='true',delimiter='\\t', inferschema='true').load(file_name)"
   ]
  },
  {
   "cell_type": "code",
   "execution_count": 85,
   "metadata": {
    "collapsed": false
   },
   "outputs": [
    {
     "name": "stdout",
     "output_type": "stream",
     "text": [
      "root\n",
      " |-- study: string (nullable = true)\n",
      " |-- pathogen: string (nullable = true)\n",
      " |-- library: string (nullable = true)\n",
      " |-- design: string (nullable = true)\n",
      " |-- replicate: integer (nullable = true)\n",
      " |-- plate: string (nullable = true)\n",
      " |-- well: string (nullable = true)\n",
      " |-- gene: string (nullable = true)\n",
      " |-- sirna: string (nullable = true)\n",
      " |-- well_type: string (nullable = true)\n",
      " |-- image_idx: integer (nullable = true)\n",
      " |-- object_idx: integer (nullable = true)\n",
      " |-- cells_areashape_area: double (nullable = true)\n",
      " |-- cells_areashape_eccentricity: double (nullable = true)\n",
      " |-- cells_areashape_extent: double (nullable = true)\n",
      " |-- cells_areashape_formfactor: double (nullable = true)\n",
      " |-- cells_areashape_majoraxislength: double (nullable = true)\n",
      " |-- cells_areashape_minoraxislength: double (nullable = true)\n",
      " |-- cells_areashape_perimeter: double (nullable = true)\n",
      " |-- cells_children_bacteria_count: double (nullable = true)\n",
      " |-- cells_children_invasomes_count: double (nullable = true)\n",
      " |-- cells_location_center_x: double (nullable = true)\n",
      " |-- cells_location_center_y: double (nullable = true)\n",
      " |-- cells_neighbors_anglebetweenneighbors_2: double (nullable = true)\n",
      " |-- cells_neighbors_firstclosestobjectnumber_2: double (nullable = true)\n",
      " |-- cells_neighbors_firstclosestxvector_2: double (nullable = true)\n",
      " |-- cells_neighbors_firstclosestyvector_2: double (nullable = true)\n",
      " |-- cells_neighbors_numberofneighbors_2: double (nullable = true)\n",
      " |-- cells_neighbors_secondclosestobjectnumber_2: double (nullable = true)\n",
      " |-- cells_neighbors_secondclosestxvector_2: double (nullable = true)\n",
      " |-- cells_neighbors_secondclosestyvector_2: double (nullable = true)\n",
      " |-- cells_parent_nuclei: double (nullable = true)\n",
      "\n"
     ]
    }
   ],
   "source": [
    "old_cols = df.schema.names\n",
    "new_cols = list(map(lambda x: x.replace(\".\", \"_\"),  old_cols))\n",
    "df = reduce(lambda data, idx: data.withColumnRenamed(old_cols[idx], new_cols[idx]), range(len(new_cols)), df)\n",
    "for i, x in enumerate(new_cols):\n",
    "    if x.startswith(\"cells\"):\n",
    "        df= df.withColumn(x, df[x].cast(\"double\"))\n",
    "df.printSchema()"
   ]
  },
  {
   "cell_type": "code",
   "execution_count": 86,
   "metadata": {
    "collapsed": false
   },
   "outputs": [
    {
     "data": {
      "text/plain": [
       "[Row(cells_parent_nuclei=144.0)]"
      ]
     },
     "execution_count": 86,
     "metadata": {},
     "output_type": "execute_result"
    }
   ],
   "source": [
    "s = df.select(\"cells_parent_nuclei\")\n",
    "s.take(1)"
   ]
  },
  {
   "cell_type": "code",
   "execution_count": 90,
   "metadata": {
    "collapsed": false
   },
   "outputs": [
    {
     "data": {
      "text/plain": [
       "[Row(study='infectx_published', pathogen='listeria', library='a', design='u', replicate=1, plate='kb2-02-1x', well='a01', gene='chka', sirna='s3008', well_type='sirna', image_idx=4, object_idx=144, cells_areashape_area=2842.0, cells_areashape_eccentricity=0.751864254475, cells_areashape_extent=0.656047999859, cells_areashape_formfactor=0.61208987236, cells_areashape_majoraxislength=75.3157806396, cells_areashape_minoraxislength=49.6570472717, cells_areashape_perimeter=240.55130004900002, cells_children_bacteria_count=0.0, cells_children_invasomes_count=0.0, cells_location_center_x=881.00177002, cells_location_center_y=910.962341309, cells_neighbors_anglebetweenneighbors_2=171.973251343, cells_neighbors_firstclosestobjectnumber_2=145.0, cells_neighbors_firstclosestxvector_2=30.1583766937, cells_neighbors_firstclosestyvector_2=-53.266174316400004, cells_neighbors_numberofneighbors_2=5.0, cells_neighbors_secondclosestobjectnumber_2=134.0, cells_neighbors_secondclosestxvector_2=-25.248916626, cells_neighbors_secondclosestyvector_2=64.1275634766, cells_parent_nuclei=144.0),\n",
       " Row(study='infectx_published', pathogen='listeria', library='a', design='u', replicate=1, plate='kb2-02-1x', well='a01', gene='chka', sirna='s3008', well_type='sirna', image_idx=5, object_idx=168, cells_areashape_area=2484.0, cells_areashape_eccentricity=0.7443224787710001, cells_areashape_extent=0.564288973808, cells_areashape_formfactor=0.48369204998000004, cells_areashape_majoraxislength=73.0543823242, cells_areashape_minoraxislength=48.7872047424, cells_areashape_perimeter=253.036575317, cells_children_bacteria_count=1.0, cells_children_invasomes_count=0.0, cells_location_center_x=872.33215332, cells_location_center_y=455.98107910199997, cells_neighbors_anglebetweenneighbors_2=97.5600357056, cells_neighbors_firstclosestobjectnumber_2=165.0, cells_neighbors_firstclosestxvector_2=-17.180620193499998, cells_neighbors_firstclosestyvector_2=42.949043273899996, cells_neighbors_numberofneighbors_2=4.0, cells_neighbors_secondclosestobjectnumber_2=155.0, cells_neighbors_secondclosestxvector_2=-54.698463439899996, cells_neighbors_secondclosestyvector_2=-30.773979187, cells_parent_nuclei=168.0),\n",
       " Row(study='infectx_published', pathogen='listeria', library='a', design='u', replicate=1, plate='kb2-02-1x', well='a01', gene='chka', sirna='s3008', well_type='sirna', image_idx=2, object_idx=210, cells_areashape_area=4646.0, cells_areashape_eccentricity=0.91317820549, cells_areashape_extent=0.715870559216, cells_areashape_formfactor=0.518087804317, cells_areashape_majoraxislength=122.713951111, cells_areashape_minoraxislength=50.013359069799996, cells_areashape_perimeter=334.69342041, cells_children_bacteria_count=17.0, cells_children_invasomes_count=0.0, cells_location_center_x=1025.27355957, cells_location_center_y=179.84201049799998, cells_neighbors_anglebetweenneighbors_2=143.13684082, cells_neighbors_firstclosestobjectnumber_2=212.0, cells_neighbors_firstclosestxvector_2=-8.14504814148, cells_neighbors_firstclosestyvector_2=45.5921897888, cells_neighbors_numberofneighbors_2=8.0, cells_neighbors_secondclosestobjectnumber_2=223.0, cells_neighbors_secondclosestxvector_2=36.486579895, cells_neighbors_secondclosestyvector_2=-34.0335769653, cells_parent_nuclei=210.0),\n",
       " Row(study='infectx_published', pathogen='listeria', library='a', design='u', replicate=1, plate='kb2-02-1x', well='a01', gene='chka', sirna='s3008', well_type='sirna', image_idx=6, object_idx=207, cells_areashape_area=4070.0, cells_areashape_eccentricity=0.852616667747, cells_areashape_extent=0.544117629528, cells_areashape_formfactor=0.517207980156, cells_areashape_majoraxislength=101.693138123, cells_areashape_minoraxislength=53.138420105, cells_areashape_perimeter=313.462982178, cells_children_bacteria_count=9.0, cells_children_invasomes_count=0.0, cells_location_center_x=1042.65966797, cells_location_center_y=570.001953125, cells_neighbors_anglebetweenneighbors_2=136.43157959, cells_neighbors_firstclosestobjectnumber_2=206.0, cells_neighbors_firstclosestxvector_2=-12.9226016998, cells_neighbors_firstclosestyvector_2=-55.759757995600005, cells_neighbors_numberofneighbors_2=6.0, cells_neighbors_secondclosestobjectnumber_2=214.0, cells_neighbors_secondclosestxvector_2=58.0754890442, cells_neighbors_secondclosestyvector_2=38.2695274353, cells_parent_nuclei=207.0)]"
      ]
     },
     "execution_count": 90,
     "metadata": {},
     "output_type": "execute_result"
    }
   ],
   "source": [
    "df.take(4)"
   ]
  },
  {
   "cell_type": "code",
   "execution_count": 89,
   "metadata": {
    "collapsed": false
   },
   "outputs": [
    {
     "data": {
      "text/plain": [
       "[(2842.0,\n",
       "  0.751864254475,\n",
       "  0.656047999859,\n",
       "  0.61208987236,\n",
       "  75.3157806396,\n",
       "  49.6570472717,\n",
       "  240.55130004900002,\n",
       "  0.0,\n",
       "  0.0,\n",
       "  881.00177002,\n",
       "  910.962341309,\n",
       "  171.973251343,\n",
       "  145.0,\n",
       "  30.1583766937,\n",
       "  -53.266174316400004,\n",
       "  5.0,\n",
       "  134.0,\n",
       "  -25.248916626,\n",
       "  64.1275634766,\n",
       "  144.0),\n",
       " (2484.0,\n",
       "  0.7443224787710001,\n",
       "  0.564288973808,\n",
       "  0.48369204998000004,\n",
       "  73.0543823242,\n",
       "  48.7872047424,\n",
       "  253.036575317,\n",
       "  1.0,\n",
       "  0.0,\n",
       "  872.33215332,\n",
       "  455.98107910199997,\n",
       "  97.5600357056,\n",
       "  165.0,\n",
       "  -17.180620193499998,\n",
       "  42.949043273899996,\n",
       "  4.0,\n",
       "  155.0,\n",
       "  -54.698463439899996,\n",
       "  -30.773979187,\n",
       "  168.0),\n",
       " (4646.0,\n",
       "  0.91317820549,\n",
       "  0.715870559216,\n",
       "  0.518087804317,\n",
       "  122.713951111,\n",
       "  50.013359069799996,\n",
       "  334.69342041,\n",
       "  17.0,\n",
       "  0.0,\n",
       "  1025.27355957,\n",
       "  179.84201049799998,\n",
       "  143.13684082,\n",
       "  212.0,\n",
       "  -8.14504814148,\n",
       "  45.5921897888,\n",
       "  8.0,\n",
       "  223.0,\n",
       "  36.486579895,\n",
       "  -34.0335769653,\n",
       "  210.0),\n",
       " (4070.0,\n",
       "  0.852616667747,\n",
       "  0.544117629528,\n",
       "  0.517207980156,\n",
       "  101.693138123,\n",
       "  53.138420105,\n",
       "  313.462982178,\n",
       "  9.0,\n",
       "  0.0,\n",
       "  1042.65966797,\n",
       "  570.001953125,\n",
       "  136.43157959,\n",
       "  206.0,\n",
       "  -12.9226016998,\n",
       "  -55.759757995600005,\n",
       "  6.0,\n",
       "  214.0,\n",
       "  58.0754890442,\n",
       "  38.2695274353,\n",
       "  207.0)]"
      ]
     },
     "execution_count": 89,
     "metadata": {},
     "output_type": "execute_result"
    }
   ],
   "source": [
    "vectorial= df.rdd.map(lambda line: line[12:])\n",
    "vectorial.take(4)"
   ]
  },
  {
   "cell_type": "code",
   "execution_count": null,
   "metadata": {
    "collapsed": true
   },
   "outputs": [],
   "source": []
  },
  {
   "cell_type": "code",
   "execution_count": 71,
   "metadata": {
    "collapsed": false
   },
   "outputs": [
    {
     "data": {
      "text/plain": [
       "[Row(study='infectx_published', pathogen='listeria', library='a', design='u', replicate=1, plate='kb2-02-1x', well='a01', gene='chka', sirna='s3008', well_type='sirna', image_idx=4, object_idx=144, cells_areashape_area=2842.0, cells_areashape_eccentricity='0.751864254475', cells_areashape_extent='0.656047999859', cells_areashape_formfactor='0.61208987236', cells_areashape_majoraxislength='75.3157806396', cells_areashape_minoraxislength='49.6570472717', cells_areashape_perimeter='240.55130004900002', cells_children_bacteria_count=0.0, cells_children_invasomes_count='0', cells_location_center_x='881.00177002', cells_location_center_y='910.962341309', cells_neighbors_anglebetweenneighbors_2='171.973251343', cells_neighbors_firstclosestobjectnumber_2='145.0', cells_neighbors_firstclosestxvector_2='30.1583766937', cells_neighbors_firstclosestyvector_2='-53.266174316400004', cells_neighbors_numberofneighbors_2='5.0', cells_neighbors_secondclosestobjectnumber_2='134.0', cells_neighbors_secondclosestxvector_2='-25.248916626', cells_neighbors_secondclosestyvector_2='64.1275634766', cells_parent_nuclei='144.0')]"
      ]
     },
     "execution_count": 71,
     "metadata": {},
     "output_type": "execute_result"
    }
   ],
   "source": [
    "s.take(1)"
   ]
  },
  {
   "cell_type": "code",
   "execution_count": null,
   "metadata": {
    "collapsed": true
   },
   "outputs": [],
   "source": []
  }
 ],
 "metadata": {
  "anaconda-cloud": {},
  "kernelspec": {
   "display_name": "Python 3",
   "language": "python",
   "name": "python3"
  },
  "language_info": {
   "codemirror_mode": {
    "name": "ipython",
    "version": 3
   },
   "file_extension": ".py",
   "mimetype": "text/x-python",
   "name": "python",
   "nbconvert_exporter": "python",
   "pygments_lexer": "ipython3",
   "version": "3.5.2"
  }
 },
 "nbformat": 4,
 "nbformat_minor": 0
}
