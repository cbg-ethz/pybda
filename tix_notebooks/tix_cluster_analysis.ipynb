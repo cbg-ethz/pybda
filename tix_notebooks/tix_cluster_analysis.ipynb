{
 "cells": [
  {
   "cell_type": "code",
   "execution_count": 37,
   "metadata": {
    "collapsed": false
   },
   "outputs": [
    {
     "name": "stdout",
     "output_type": "stream",
     "text": [
      "t-SNE: 2.4 sec\n"
     ]
    }
   ],
   "source": [
    "from time import time\n",
    "\n",
    "import numpy as np\n",
    "import matplotlib.pyplot as plt\n",
    "from mpl_toolkits.mplot3d import Axes3D\n",
    "from matplotlib.ticker import NullFormatter\n",
    "from matplotlib.backends.backend_pdf import PdfPages\n",
    "from sklearn import manifold\n",
    "from sklearn.utils import check_random_state\n",
    "\n",
    "# Next line to silence pyflakes.\n",
    "Axes3D\n",
    "\n",
    "# Variables for manifold learning.\n",
    "n_neighbors = 10\n",
    "n_samples = 1000\n",
    "\n",
    "# Create our sphere.\n",
    "random_state = check_random_state(0)\n",
    "p = random_state.rand(n_samples) * (2 * np.pi - 0.55)\n",
    "t = random_state.rand(n_samples) * np.pi\n",
    "\n",
    "# Sever the poles from the sphere.\n",
    "indices = ((t < (np.pi - (np.pi / 8))) & (t > ((np.pi / 8))))\n",
    "colors = p[indices]\n",
    "x, y, z = np.sin(t[indices]) * np.cos(p[indices]), \\\n",
    "    np.sin(t[indices]) * np.sin(p[indices]), \\\n",
    "    np.cos(t[indices])\n",
    "\n",
    "sphere_data = np.array([x, y, z]).T\n",
    "\n",
    "# Perform t-distributed stochastic neighbor embedding.\n",
    "t0 = time()\n",
    "tsne = manifold.TSNE(n_components=2, init='pca', random_state=0)\n",
    "trans_data = tsne.fit_transform(sphere_data).T\n",
    "t1 = time()\n",
    "print(\"t-SNE: %.2g sec\" % (t1 - t0))\n",
    "\n",
    "ax = fig.add_subplot(253)\n",
    "\n",
    "plt.scatter(trans_data[0], trans_data[1], c=colors, cmap=plt.cm.rainbow)\n",
    "ax.xaxis.set_major_formatter(NullFormatter())\n",
    "ax.yaxis.set_major_formatter(NullFormatter())\n",
    "plt.plot()\n",
    "plt.savefig(\"/Users/simondi/PHD/Sci/presentations/target_infect_x/reigoldswil_16_09_13/plots/tsne.pdf\")"
   ]
  },
  {
   "cell_type": "code",
   "execution_count": null,
   "metadata": {
    "collapsed": true
   },
   "outputs": [],
   "source": [
    ""
   ]
  }
 ],
 "metadata": {
  "kernelspec": {
   "display_name": "Python 3",
   "language": "python",
   "name": "python3"
  },
  "language_info": {
   "codemirror_mode": {
    "name": "ipython",
    "version": 3.0
   },
   "file_extension": ".py",
   "mimetype": "text/x-python",
   "name": "python",
   "nbconvert_exporter": "python",
   "pygments_lexer": "ipython3",
   "version": "3.5.2"
  }
 },
 "nbformat": 4,
 "nbformat_minor": 0
}