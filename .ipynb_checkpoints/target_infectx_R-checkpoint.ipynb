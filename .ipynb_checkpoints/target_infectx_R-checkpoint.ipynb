{
 "cells": [
  {
   "cell_type": "code",
   "execution_count": 9,
   "metadata": {
    "collapsed": false
   },
   "outputs": [
    {
     "name": "stderr",
     "output_type": "stream",
     "text": [
      "Downloading GitHub repo apache/spark@master\n",
      "from URL https://api.github.com/repos/apache/spark/zipball/master\n"
     ]
    },
    {
     "ename": "ERROR",
     "evalue": "Error: Does not appear to be an R package (no DESCRIPTION)\n",
     "output_type": "error",
     "traceback": [
      "Error: Does not appear to be an R package (no DESCRIPTION)\nTraceback:\n",
      "1. devtools::install_github(\"apache/spark\")",
      "2. install_remotes(remotes, quiet = quiet, ...)",
      "3. vapply(remotes, install_remote, ..., FUN.VALUE = logical(1))",
      "4. FUN(X[[i]], ...)",
      "5. source_pkg(bundle, subdir = remote$subdir)",
      "6. source_pkg_info(path = path, subdir = subdir)",
      "7. stop(\"Does not appear to be an R package (no DESCRIPTION)\", call. = FALSE)"
     ]
    }
   ],
   "source": [
    "library(ggplot2)"
   ]
  },
  {
   "cell_type": "code",
   "execution_count": 10,
   "metadata": {
    "collapsed": false
   },
   "outputs": [
    {
     "name": "stderr",
     "output_type": "stream",
     "text": [
      "\n",
      "Attaching package: ‘SparkR’\n",
      "\n",
      "The following objects are masked from ‘package:stats’:\n",
      "\n",
      "    cov, filter, lag, na.omit, predict, sd, var, window\n",
      "\n",
      "The following objects are masked from ‘package:base’:\n",
      "\n",
      "    as.data.frame, colnames, colnames<-, drop, endsWith, intersect,\n",
      "    rank, rbind, sample, startsWith, subset, summary, transform, union\n",
      "\n"
     ]
    }
   ],
   "source": [
    "library(SparkR)"
   ]
  },
  {
   "cell_type": "code",
   "execution_count": null,
   "metadata": {
    "collapsed": false
   },
   "outputs": [],
   "source": [
    "sparkR.session()"
   ]
  },
  {
   "cell_type": "code",
   "execution_count": null,
   "metadata": {
    "collapsed": true
   },
   "outputs": [],
   "source": [
    "    "
   ]
  }
 ],
 "metadata": {
  "kernelspec": {
   "display_name": "R",
   "language": "R",
   "name": "ir"
  },
  "language_info": {
   "codemirror_mode": "r",
   "file_extension": ".r",
   "mimetype": "text/x-r-source",
   "name": "R",
   "pygments_lexer": "r",
   "version": "3.3.0"
  }
 },
 "nbformat": 4,
 "nbformat_minor": 0
}
