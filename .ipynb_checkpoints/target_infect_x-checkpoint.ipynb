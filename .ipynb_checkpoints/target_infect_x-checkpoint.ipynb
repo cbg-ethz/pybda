{
 "cells": [
  {
   "cell_type": "code",
   "execution_count": 2,
   "metadata": {
    "collapsed": false
   },
   "outputs": [],
   "source": [
    "import findspark\n",
    "findspark.init(spark_home=\"/opt/local/spark/spark-2.0.0-bin-hadoop2.7/\")\n",
    "\n",
    "from __future__ import print_function\n",
    "import numpy\n",
    "import pyspark\n",
    "from pyspark.sql import SQLContext"
   ]
  },
  {
   "cell_type": "code",
   "execution_count": 3,
   "metadata": {
    "collapsed": false,
    "scrolled": false
   },
   "outputs": [
    {
     "name": "stdout",
     "output_type": "stream",
     "text": [
      "<pyspark.context.SparkContext object at 0x10b0082e8>\n"
     ]
    }
   ],
   "source": [
    "sc = pyspark.SparkContext()\n",
    "print(sc)"
   ]
  },
  {
   "cell_type": "code",
   "execution_count": 4,
   "metadata": {
    "collapsed": false
   },
   "outputs": [],
   "source": [
    "from operator import add\n",
    "mat_fl = ('/Users/simondi/PHD/data/data/sysvirdrug/integrated_data_files/rnai.screen.raw.tsv')"
   ]
  },
  {
   "cell_type": "code",
   "execution_count": 5,
   "metadata": {
    "collapsed": false
   },
   "outputs": [],
   "source": [
    "rdd = sc.textFile(mat_fl) \\\n",
    "        .filter(lambda line: not line.startswith(\"Virus\")) \\\n",
    "        .filter(lambda line: line.strip().split(\"\\t\")[6] != \"Viability\") \\\n",
    "        .map(lambda line: numpy.array([x for i, x in enumerate(line.strip().split(\"\\t\")) if i < 100]))"
   ]
  },
  {
   "cell_type": "code",
   "execution_count": 6,
   "metadata": {
    "collapsed": false
   },
   "outputs": [
    {
     "data": {
      "text/plain": [
       "[array(20610.0),\n",
       " array(18100.0),\n",
       " array(32730.0),\n",
       " array(19250.0),\n",
       " array(33210.0)]"
      ]
     },
     "execution_count": 6,
     "metadata": {},
     "output_type": "execute_result"
    }
   ],
   "source": [
    "readout = rdd.filter(lambda x: str(x[7]) != \"NA\").map(lambda x: numpy.array(float(x[7])))\n",
    "readout.take(5)"
   ]
  },
  {
   "cell_type": "code",
   "execution_count": 7,
   "metadata": {
    "collapsed": true
   },
   "outputs": [],
   "source": [
    "sc.stop()"
   ]
  },
  {
   "cell_type": "code",
   "execution_count": null,
   "metadata": {
    "collapsed": true
   },
   "outputs": [],
   "source": []
  }
 ],
 "metadata": {
  "kernelspec": {
   "display_name": "Python 3",
   "language": "python",
   "name": "python3"
  },
  "language_info": {
   "codemirror_mode": {
    "name": "ipython",
    "version": 3
   },
   "file_extension": ".py",
   "mimetype": "text/x-python",
   "name": "python",
   "nbconvert_exporter": "python",
   "pygments_lexer": "ipython3",
   "version": "3.5.2"
  }
 },
 "nbformat": 4,
 "nbformat_minor": 0
}
