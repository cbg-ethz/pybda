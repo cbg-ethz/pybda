{
 "cells": [
  {
   "cell_type": "code",
   "execution_count": 35,
   "metadata": {
    "collapsed": true
   },
   "outputs": [],
   "source": [
    "import pandas\n",
    "import scipy\n",
    "import scipy.io as spio\n",
    "import os, fnmatch"
   ]
  },
  {
   "cell_type": "code",
   "execution_count": 32,
   "metadata": {
    "collapsed": true
   },
   "outputs": [],
   "source": [
    "path = \"/Users/simondi/PHD/data/data/target_infect_x/BRUCELLA-AU-CV3/VZ001-2H/\""
   ]
  },
  {
   "cell_type": "code",
   "execution_count": 44,
   "metadata": {
    "collapsed": true
   },
   "outputs": [],
   "source": [
    "def find_files(directory):\n",
    "    for root, dirs, files in os.walk(directory):\n",
    "        for basename in files:\n",
    "                filename = os.path.join(root, basename)\n",
    "                yield filename"
   ]
  },
  {
   "cell_type": "code",
   "execution_count": 47,
   "metadata": {
    "collapsed": false
   },
   "outputs": [],
   "source": [
    "files = list(find_files(path))"
   ]
  },
  {
   "cell_type": "code",
   "execution_count": 43,
   "metadata": {
    "collapsed": false
   },
   "outputs": [
    {
     "data": {
      "text/plain": [
       "['/Users/simondi/PHD/data/data/target_infect_x/BRUCELLA-AU-CV3/VZ001-2H/HCS_ANALYSIS_CELL_FEATURES_CC_MAT/20150905044635441-3204234/Bacteria.AreaShape_PerObjArea_CorrPathogen.mat',\n",
       " '/Users/simondi/PHD/data/data/target_infect_x/BRUCELLA-AU-CV3/VZ001-2H/HCS_ANALYSIS_CELL_FEATURES_CC_MAT/20150905044635441-3204234/Bacteria.AreaShape_PerObjLowerQuartDistToNucl_CorrPathogen.mat',\n",
       " '/Users/simondi/PHD/data/data/target_infect_x/BRUCELLA-AU-CV3/VZ001-2H/HCS_ANALYSIS_CELL_FEATURES_CC_MAT/20150905044635441-3204234/Bacteria.AreaShape_PerObjLowerQuartDistToNuclNorm_CorrPathogen.mat',\n",
       " '/Users/simondi/PHD/data/data/target_infect_x/BRUCELLA-AU-CV3/VZ001-2H/HCS_ANALYSIS_CELL_FEATURES_CC_MAT/20150905044635441-3204234/Bacteria.AreaShape_PerObjMeanDistToNucl_CorrPathogen.mat',\n",
       " '/Users/simondi/PHD/data/data/target_infect_x/BRUCELLA-AU-CV3/VZ001-2H/HCS_ANALYSIS_CELL_FEATURES_CC_MAT/20150905044635441-3204234/Bacteria.AreaShape_PerObjMeanDistToNuclNorm_CorrPathogen.mat']"
      ]
     },
     "execution_count": 43,
     "metadata": {},
     "output_type": "execute_result"
    }
   ],
   "source": [
    "files[:5]"
   ]
  },
  {
   "cell_type": "code",
   "execution_count": 4,
   "metadata": {
    "collapsed": true
   },
   "outputs": [],
   "source": [
    "mat = spio.loadmat(path)"
   ]
  },
  {
   "cell_type": "code",
   "execution_count": 28,
   "metadata": {
    "collapsed": false
   },
   "outputs": [],
   "source": [
    "features = mat[\"handles\"][0][0][0][0][0][0][0][0][0][0]"
   ]
  },
  {
   "cell_type": "code",
   "execution_count": 29,
   "metadata": {
    "collapsed": false
   },
   "outputs": [
    {
     "data": {
      "text/plain": [
       "3456"
      ]
     },
     "execution_count": 29,
     "metadata": {},
     "output_type": "execute_result"
    }
   ],
   "source": [
    "len(features)"
   ]
  },
  {
   "cell_type": "code",
   "execution_count": null,
   "metadata": {
    "collapsed": true
   },
   "outputs": [],
   "source": [
    ""
   ]
  }
 ],
 "metadata": {
  "kernelspec": {
   "display_name": "Python 3",
   "language": "python",
   "name": "python3"
  },
  "language_info": {
   "codemirror_mode": {
    "name": "ipython",
    "version": 3.0
   },
   "file_extension": ".py",
   "mimetype": "text/x-python",
   "name": "python",
   "nbconvert_exporter": "python",
   "pygments_lexer": "ipython3",
   "version": "3.5.2"
  }
 },
 "nbformat": 4,
 "nbformat_minor": 0
}