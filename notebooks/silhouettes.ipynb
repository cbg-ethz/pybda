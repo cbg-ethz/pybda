{
 "cells": [
  {
   "cell_type": "code",
   "execution_count": 8,
   "metadata": {},
   "outputs": [],
   "source": [
    "import itertools\n",
    "import logging\n",
    "\n",
    "import click\n",
    "import numpy\n",
    "import pandas\n",
    "import scipy\n",
    "import scipy.spatial"
   ]
  },
  {
   "cell_type": "code",
   "execution_count": 9,
   "metadata": {},
   "outputs": [],
   "source": [
    "import scipy.stats"
   ]
  },
  {
   "cell_type": "code",
   "execution_count": 10,
   "metadata": {},
   "outputs": [],
   "source": [
    "import matplotlib.pyplot as plt"
   ]
  },
  {
   "cell_type": "code",
   "execution_count": 11,
   "metadata": {},
   "outputs": [],
   "source": [
    "import glob"
   ]
  },
  {
   "cell_type": "code",
   "execution_count": 100,
   "metadata": {},
   "outputs": [],
   "source": [
    "files = [x for x in glob.glob(\"/Users/simondi/PROJECTS/target_infect_x_project/src/tix-analysis/data/kmeans-transformed-clusters/*\") if x.endswith(\"tsv\")]"
   ]
  },
  {
   "cell_type": "code",
   "execution_count": 101,
   "metadata": {},
   "outputs": [],
   "source": [
    "tables = [None] * len(files)\n",
    "for i, fl in enumerate(files):\n",
    "    tables[i] = pandas.read_csv(\n",
    "          fl, sep=\"\\t\", nrows=1000,\n",
    "          usecols=lambda x: x.startswith(\"f_\") or x.startswith(\"pred\"))\n",
    "df = pandas.concat(tables)"
   ]
  },
  {
   "cell_type": "code",
   "execution_count": 102,
   "metadata": {},
   "outputs": [],
   "source": [
    "def _mean_distance(it, current_idx, df):\n",
    "    distances = scipy.spatial.distance.cdist(\n",
    "      df[df.prediction == current_idx].filter(regex=\"f_\\d+\").values,\n",
    "      df[df.prediction == it].filter(regex=\"f_\\d+\").values)\n",
    "    return numpy.mean(distances, axis=1)"
   ]
  },
  {
   "cell_type": "code",
   "execution_count": 103,
   "metadata": {},
   "outputs": [],
   "source": [
    "def _mp_min_distance(self, current_idx, K, mat):\n",
    "    itr = numpy.array([j for j in range(K) if j != current_idx])\n",
    "    distances = [self._mean_distance(it, current_idx, mat) for it in itr]\n",
    "    distances = numpy.vstack(distances).T\n",
    "    argmins = numpy.argmin(distances, axis=1)\n",
    "    min_distances = numpy.min(distances, axis=1)\n",
    "    arg = itr[argmins]\n",
    "    return arg, min_distances"
   ]
  },
  {
   "cell_type": "code",
   "execution_count": 104,
   "metadata": {},
   "outputs": [],
   "source": [
    "def _compute_silhouette(self, current_idx, K, mat):\n",
    "    min_cluster, min_distance = self._mp_min_distance(current_idx, K, mat)\n",
    "    within_distance = self._mean_distance(current_idx, current_idx, mat)\n",
    "    silhouette = (min_distance - within_distance) / \\\n",
    "                  numpy.maximum(min_distance, within_distance)\n",
    "    return zip(itertools.repeat(current_idx, len(min_cluster)),\n",
    "               min_cluster,\n",
    "               silhouette)"
   ]
  },
  {
   "cell_type": "code",
   "execution_count": 107,
   "metadata": {},
   "outputs": [],
   "source": [
    "s =  (self._compute_silhouette(c, len(files), mat) for c in range(len(files)))"
   ]
  },
  {
   "cell_type": "code",
   "execution_count": 2,
   "metadata": {},
   "outputs": [],
   "source": [
    "fl = \"/Users/simondi/PROJECTS/target_infect_x_project/src/tix-analysis/data/kmeans-transformed-silhouettes.tsv\""
   ]
  },
  {
   "cell_type": "code",
   "execution_count": 3,
   "metadata": {},
   "outputs": [],
   "source": [
    "p = pandas.read_csv(fl, sep=\"\\t\")"
   ]
  },
  {
   "cell_type": "code",
   "execution_count": 4,
   "metadata": {},
   "outputs": [
    {
     "data": {
      "text/html": [
       "<div>\n",
       "<style scoped>\n",
       "    .dataframe tbody tr th:only-of-type {\n",
       "        vertical-align: middle;\n",
       "    }\n",
       "\n",
       "    .dataframe tbody tr th {\n",
       "        vertical-align: top;\n",
       "    }\n",
       "\n",
       "    .dataframe thead th {\n",
       "        text-align: right;\n",
       "    }\n",
       "</style>\n",
       "<table border=\"1\" class=\"dataframe\">\n",
       "  <thead>\n",
       "    <tr style=\"text-align: right;\">\n",
       "      <th></th>\n",
       "      <th>cluster</th>\n",
       "      <th>neighbor</th>\n",
       "      <th>silhouette</th>\n",
       "    </tr>\n",
       "  </thead>\n",
       "  <tbody>\n",
       "    <tr>\n",
       "      <th>0</th>\n",
       "      <td>0</td>\n",
       "      <td>3</td>\n",
       "      <td>0.356017</td>\n",
       "    </tr>\n",
       "    <tr>\n",
       "      <th>1</th>\n",
       "      <td>0</td>\n",
       "      <td>9</td>\n",
       "      <td>0.118037</td>\n",
       "    </tr>\n",
       "    <tr>\n",
       "      <th>2</th>\n",
       "      <td>0</td>\n",
       "      <td>9</td>\n",
       "      <td>0.165585</td>\n",
       "    </tr>\n",
       "    <tr>\n",
       "      <th>3</th>\n",
       "      <td>0</td>\n",
       "      <td>9</td>\n",
       "      <td>0.099604</td>\n",
       "    </tr>\n",
       "    <tr>\n",
       "      <th>4</th>\n",
       "      <td>0</td>\n",
       "      <td>7</td>\n",
       "      <td>-0.040370</td>\n",
       "    </tr>\n",
       "    <tr>\n",
       "      <th>5</th>\n",
       "      <td>0</td>\n",
       "      <td>9</td>\n",
       "      <td>0.108966</td>\n",
       "    </tr>\n",
       "  </tbody>\n",
       "</table>\n",
       "</div>"
      ],
      "text/plain": [
       "   cluster  neighbor  silhouette\n",
       "0        0         3    0.356017\n",
       "1        0         9    0.118037\n",
       "2        0         9    0.165585\n",
       "3        0         9    0.099604\n",
       "4        0         7   -0.040370\n",
       "5        0         9    0.108966"
      ]
     },
     "execution_count": 4,
     "metadata": {},
     "output_type": "execute_result"
    }
   ],
   "source": [
    "p.loc[:5,:]"
   ]
  },
  {
   "cell_type": "code",
   "execution_count": 12,
   "metadata": {},
   "outputs": [],
   "source": [
    "import numpy"
   ]
  },
  {
   "cell_type": "code",
   "execution_count": 13,
   "metadata": {},
   "outputs": [],
   "source": [
    "hist = numpy.histogram(p[\"silhouette\"].values, bins=100, density=True)"
   ]
  },
  {
   "cell_type": "code",
   "execution_count": 14,
   "metadata": {},
   "outputs": [
    {
     "data": {
      "text/plain": [
       "(array([3.66809573, 0.        , 0.        , 0.        , 0.        ,\n",
       "        0.        , 0.        , 0.        , 0.        , 0.        ,\n",
       "        3.66809573, 1.83404787, 3.66809573, 1.83404787, 1.83404787,\n",
       "        0.        , 0.        , 0.        , 0.        , 3.66809573,\n",
       "        1.83404787, 0.        , 0.        , 3.66809573, 1.83404787,\n",
       "        3.66809573, 3.66809573, 3.66809573, 1.83404787, 3.66809573,\n",
       "        0.        , 0.        , 3.66809573, 1.83404787, 1.83404787,\n",
       "        0.        , 5.5021436 , 3.66809573, 1.83404787, 3.66809573,\n",
       "        3.66809573, 7.33619147, 5.5021436 , 0.        , 1.83404787,\n",
       "        1.83404787, 3.66809573, 3.66809573, 3.66809573, 1.83404787,\n",
       "        1.83404787, 1.83404787, 1.83404787, 3.66809573, 5.5021436 ,\n",
       "        0.        , 3.66809573, 3.66809573, 5.5021436 , 1.83404787,\n",
       "        1.83404787, 0.        , 7.33619147, 0.        , 5.5021436 ,\n",
       "        0.        , 0.        , 3.66809573, 1.83404787, 0.        ,\n",
       "        1.83404787, 9.17023934, 3.66809573, 0.        , 1.83404787,\n",
       "        0.        , 0.        , 3.66809573, 0.        , 1.83404787,\n",
       "        1.83404787, 1.83404787, 1.83404787, 0.        , 0.        ,\n",
       "        0.        , 0.        , 0.        , 1.83404787, 0.        ,\n",
       "        0.        , 1.83404787, 0.        , 0.        , 1.83404787,\n",
       "        0.        , 0.        , 0.        , 0.        , 1.83404787]),\n",
       " array([-0.04036954, -0.03491712, -0.0294647 , -0.02401228, -0.01855986,\n",
       "        -0.01310744, -0.00765502, -0.0022026 ,  0.00324982,  0.00870224,\n",
       "         0.01415466,  0.01960708,  0.0250595 ,  0.03051192,  0.03596434,\n",
       "         0.04141676,  0.04686918,  0.0523216 ,  0.05777402,  0.06322644,\n",
       "         0.06867887,  0.07413129,  0.07958371,  0.08503613,  0.09048855,\n",
       "         0.09594097,  0.10139339,  0.10684581,  0.11229823,  0.11775065,\n",
       "         0.12320307,  0.12865549,  0.13410791,  0.13956033,  0.14501275,\n",
       "         0.15046517,  0.15591759,  0.16137001,  0.16682243,  0.17227485,\n",
       "         0.17772727,  0.18317969,  0.18863211,  0.19408453,  0.19953695,\n",
       "         0.20498938,  0.2104418 ,  0.21589422,  0.22134664,  0.22679906,\n",
       "         0.23225148,  0.2377039 ,  0.24315632,  0.24860874,  0.25406116,\n",
       "         0.25951358,  0.264966  ,  0.27041842,  0.27587084,  0.28132326,\n",
       "         0.28677568,  0.2922281 ,  0.29768052,  0.30313294,  0.30858536,\n",
       "         0.31403778,  0.3194902 ,  0.32494262,  0.33039504,  0.33584746,\n",
       "         0.34129989,  0.34675231,  0.35220473,  0.35765715,  0.36310957,\n",
       "         0.36856199,  0.37401441,  0.37946683,  0.38491925,  0.39037167,\n",
       "         0.39582409,  0.40127651,  0.40672893,  0.41218135,  0.41763377,\n",
       "         0.42308619,  0.42853861,  0.43399103,  0.43944345,  0.44489587,\n",
       "         0.45034829,  0.45580071,  0.46125313,  0.46670555,  0.47215797,\n",
       "         0.4776104 ,  0.48306282,  0.48851524,  0.49396766,  0.49942008,\n",
       "         0.5048725 ]))"
      ]
     },
     "execution_count": 14,
     "metadata": {},
     "output_type": "execute_result"
    }
   ],
   "source": [
    "hist"
   ]
  },
  {
   "cell_type": "code",
   "execution_count": 15,
   "metadata": {},
   "outputs": [],
   "source": [
    "mids = numpy.zeros(len(hist[0]))\n",
    "widths = numpy.zeros(len(hist[0]))\n",
    "for i in range(len(mids)):\n",
    "    mids[i] = (hist[1][i] + hist[1][i + 1]) / 2\n",
    "    widths[i] = numpy.abs(hist[1][i] - hist[1][i + 1])"
   ]
  },
  {
   "cell_type": "code",
   "execution_count": 16,
   "metadata": {},
   "outputs": [
    {
     "data": {
      "text/plain": [
       "array([-0.03764333, -0.03219091, -0.02673849, -0.02128607, -0.01583365,\n",
       "       -0.01038123, -0.00492881,  0.00052361,  0.00597603,  0.01142845,\n",
       "        0.01688087,  0.02233329,  0.02778571,  0.03323813,  0.03869055,\n",
       "        0.04414297,  0.04959539,  0.05504781,  0.06050023,  0.06595266,\n",
       "        0.07140508,  0.0768575 ,  0.08230992,  0.08776234,  0.09321476,\n",
       "        0.09866718,  0.1041196 ,  0.10957202,  0.11502444,  0.12047686,\n",
       "        0.12592928,  0.1313817 ,  0.13683412,  0.14228654,  0.14773896,\n",
       "        0.15319138,  0.1586438 ,  0.16409622,  0.16954864,  0.17500106,\n",
       "        0.18045348,  0.1859059 ,  0.19135832,  0.19681074,  0.20226317,\n",
       "        0.20771559,  0.21316801,  0.21862043,  0.22407285,  0.22952527,\n",
       "        0.23497769,  0.24043011,  0.24588253,  0.25133495,  0.25678737,\n",
       "        0.26223979,  0.26769221,  0.27314463,  0.27859705,  0.28404947,\n",
       "        0.28950189,  0.29495431,  0.30040673,  0.30585915,  0.31131157,\n",
       "        0.31676399,  0.32221641,  0.32766883,  0.33312125,  0.33857367,\n",
       "        0.3440261 ,  0.34947852,  0.35493094,  0.36038336,  0.36583578,\n",
       "        0.3712882 ,  0.37674062,  0.38219304,  0.38764546,  0.39309788,\n",
       "        0.3985503 ,  0.40400272,  0.40945514,  0.41490756,  0.42035998,\n",
       "        0.4258124 ,  0.43126482,  0.43671724,  0.44216966,  0.44762208,\n",
       "        0.4530745 ,  0.45852692,  0.46397934,  0.46943176,  0.47488418,\n",
       "        0.48033661,  0.48578903,  0.49124145,  0.49669387,  0.50214629])"
      ]
     },
     "execution_count": 16,
     "metadata": {},
     "output_type": "execute_result"
    }
   ],
   "source": [
    "mids"
   ]
  },
  {
   "cell_type": "code",
   "execution_count": 17,
   "metadata": {},
   "outputs": [
    {
     "data": {
      "text/plain": [
       "array([-0.03764333, -0.03219091, -0.02673849, -0.02128607, -0.01583365,\n",
       "       -0.01038123, -0.00492881,  0.00052361,  0.00597603,  0.01142845,\n",
       "        0.01688087,  0.02233329,  0.02778571,  0.03323813,  0.03869055,\n",
       "        0.04414297,  0.04959539,  0.05504781,  0.06050023,  0.06595266,\n",
       "        0.07140508,  0.0768575 ,  0.08230992,  0.08776234,  0.09321476,\n",
       "        0.09866718,  0.1041196 ,  0.10957202,  0.11502444,  0.12047686,\n",
       "        0.12592928,  0.1313817 ,  0.13683412,  0.14228654,  0.14773896,\n",
       "        0.15319138,  0.1586438 ,  0.16409622,  0.16954864,  0.17500106,\n",
       "        0.18045348,  0.1859059 ,  0.19135832,  0.19681074,  0.20226317,\n",
       "        0.20771559,  0.21316801,  0.21862043,  0.22407285,  0.22952527,\n",
       "        0.23497769,  0.24043011,  0.24588253,  0.25133495,  0.25678737,\n",
       "        0.26223979,  0.26769221,  0.27314463,  0.27859705,  0.28404947,\n",
       "        0.28950189,  0.29495431,  0.30040673,  0.30585915,  0.31131157,\n",
       "        0.31676399,  0.32221641,  0.32766883,  0.33312125,  0.33857367,\n",
       "        0.3440261 ,  0.34947852,  0.35493094,  0.36038336,  0.36583578,\n",
       "        0.3712882 ,  0.37674062,  0.38219304,  0.38764546,  0.39309788,\n",
       "        0.3985503 ,  0.40400272,  0.40945514,  0.41490756,  0.42035998,\n",
       "        0.4258124 ,  0.43126482,  0.43671724,  0.44216966,  0.44762208,\n",
       "        0.4530745 ,  0.45852692,  0.46397934,  0.46943176,  0.47488418,\n",
       "        0.48033661,  0.48578903,  0.49124145,  0.49669387])"
      ]
     },
     "execution_count": 17,
     "metadata": {},
     "output_type": "execute_result"
    }
   ],
   "source": [
    "(hist[1][:-2] + hist[1][1:-1]) / 2"
   ]
  },
  {
   "cell_type": "code",
   "execution_count": 229,
   "metadata": {},
   "outputs": [
    {
     "data": {
      "text/plain": [
       "array([0.00545242, 0.00545242, 0.00545242, 0.00545242, 0.00545242,\n",
       "       0.00545242, 0.00545242, 0.00545242, 0.00545242, 0.00545242,\n",
       "       0.00545242, 0.00545242, 0.00545242, 0.00545242, 0.00545242,\n",
       "       0.00545242, 0.00545242, 0.00545242, 0.00545242, 0.00545242,\n",
       "       0.00545242, 0.00545242, 0.00545242, 0.00545242, 0.00545242,\n",
       "       0.00545242, 0.00545242, 0.00545242, 0.00545242, 0.00545242,\n",
       "       0.00545242, 0.00545242, 0.00545242, 0.00545242, 0.00545242,\n",
       "       0.00545242, 0.00545242, 0.00545242, 0.00545242, 0.00545242,\n",
       "       0.00545242, 0.00545242, 0.00545242, 0.00545242, 0.00545242,\n",
       "       0.00545242, 0.00545242, 0.00545242, 0.00545242, 0.00545242,\n",
       "       0.00545242, 0.00545242, 0.00545242, 0.00545242, 0.00545242,\n",
       "       0.00545242, 0.00545242, 0.00545242, 0.00545242, 0.00545242,\n",
       "       0.00545242, 0.00545242, 0.00545242, 0.00545242, 0.00545242,\n",
       "       0.00545242, 0.00545242, 0.00545242, 0.00545242, 0.00545242,\n",
       "       0.00545242, 0.00545242, 0.00545242, 0.00545242, 0.00545242,\n",
       "       0.00545242, 0.00545242, 0.00545242, 0.00545242, 0.00545242,\n",
       "       0.00545242, 0.00545242, 0.00545242, 0.00545242, 0.00545242,\n",
       "       0.00545242, 0.00545242, 0.00545242, 0.00545242, 0.00545242,\n",
       "       0.00545242, 0.00545242, 0.00545242, 0.00545242, 0.00545242,\n",
       "       0.00545242, 0.00545242, 0.00545242, 0.00545242, 0.00545242])"
      ]
     },
     "execution_count": 229,
     "metadata": {},
     "output_type": "execute_result"
    }
   ],
   "source": [
    "widths"
   ]
  },
  {
   "cell_type": "code",
   "execution_count": 234,
   "metadata": {},
   "outputs": [
    {
     "data": {
      "text/plain": [
       "array([0.00545242, 0.00545242, 0.00545242, 0.00545242, 0.00545242,\n",
       "       0.00545242, 0.00545242, 0.00545242, 0.00545242, 0.00545242,\n",
       "       0.00545242, 0.00545242, 0.00545242, 0.00545242, 0.00545242,\n",
       "       0.00545242, 0.00545242, 0.00545242, 0.00545242, 0.00545242,\n",
       "       0.00545242, 0.00545242, 0.00545242, 0.00545242, 0.00545242,\n",
       "       0.00545242, 0.00545242, 0.00545242, 0.00545242, 0.00545242,\n",
       "       0.00545242, 0.00545242, 0.00545242, 0.00545242, 0.00545242,\n",
       "       0.00545242, 0.00545242, 0.00545242, 0.00545242, 0.00545242,\n",
       "       0.00545242, 0.00545242, 0.00545242, 0.00545242, 0.00545242,\n",
       "       0.00545242, 0.00545242, 0.00545242, 0.00545242, 0.00545242,\n",
       "       0.00545242, 0.00545242, 0.00545242, 0.00545242, 0.00545242,\n",
       "       0.00545242, 0.00545242, 0.00545242, 0.00545242, 0.00545242,\n",
       "       0.00545242, 0.00545242, 0.00545242, 0.00545242, 0.00545242,\n",
       "       0.00545242, 0.00545242, 0.00545242, 0.00545242, 0.00545242,\n",
       "       0.00545242, 0.00545242, 0.00545242, 0.00545242, 0.00545242,\n",
       "       0.00545242, 0.00545242, 0.00545242, 0.00545242, 0.00545242,\n",
       "       0.00545242, 0.00545242, 0.00545242, 0.00545242, 0.00545242,\n",
       "       0.00545242, 0.00545242, 0.00545242, 0.00545242, 0.00545242,\n",
       "       0.00545242, 0.00545242, 0.00545242, 0.00545242, 0.00545242,\n",
       "       0.00545242, 0.00545242, 0.00545242, 0.00545242, 0.00545242])"
      ]
     },
     "execution_count": 234,
     "metadata": {},
     "output_type": "execute_result"
    }
   ],
   "source": [
    "numpy.diff(hist[1], 1)"
   ]
  },
  {
   "cell_type": "code",
   "execution_count": 18,
   "metadata": {},
   "outputs": [],
   "source": [
    "neg_idx = numpy.where(mids <= 0)[0]\n",
    "pos_idx = numpy.where(mids > 0)[0]"
   ]
  },
  {
   "cell_type": "code",
   "execution_count": 19,
   "metadata": {},
   "outputs": [],
   "source": [
    "scores = numpy.append(mids[numpy.ix_(neg_idx)], mids[numpy.ix_(pos_idx)])\n",
    "freqs = numpy.append(-hist[0][numpy.ix_(neg_idx)], hist[0][numpy.ix_(pos_idx)])\n",
    "trends = numpy.append(numpy.repeat(\"#464C72FF\", len(neg_idx)), numpy.repeat( \"#5E988BFF\", len(pos_idx)))"
   ]
  },
  {
   "cell_type": "code",
   "execution_count": null,
   "metadata": {},
   "outputs": [],
   "source": [
    "\"#464C72FF\""
   ]
  },
  {
   "cell_type": "code",
   "execution_count": 199,
   "metadata": {},
   "outputs": [],
   "source": [
    "p = pandas.DataFrame({\"Score\": scores, \"Frequency\": freqs, \"Trend\": trends})"
   ]
  },
  {
   "cell_type": "code",
   "execution_count": 107,
   "metadata": {},
   "outputs": [
    {
     "name": "stderr",
     "output_type": "stream",
     "text": [
      "No handles with labels found to put in legend.\n"
     ]
    },
    {
     "data": {
      "image/png": "[encoded data removed]",
      "text/plain": [
       "<Figure size 720x720 with 1 Axes>"
      ]
     },
     "metadata": {},
     "output_type": "display_data"
    }
   ],
   "source": [
    "\n",
    "_, ax = plt.subplots(figsize=(10, 10))\n",
    "for i in [\"top\", \"bottom\", \"left\", \"right\"]:\n",
    "    ax.spines[i].set_visible(False)\n",
    "ax.xaxis.set_label_coords(x=.85, y=-0.1)\n",
    "ax.yaxis.set_label_coords(x=-0.05, y=.885)\n",
    "ax.grid(which=\"major\", axis=\"both\", linestyle=\"-\", color=\"gainsboro\")\n",
    "ax.legend(frameon=False, loc='lower center', ncol=2)\n",
    "ax.set_axisbelow(True)\n",
    "plt.bar(mids[numpy.ix_(neg_idx)], \n",
    "        -hist[0][numpy.ix_(neg_idx)],\n",
    "        width=widths[numpy.ix_(neg_idx)], \n",
    "        color=\"#464C72FF\", alpha=.75)\n",
    "plt.bar(mids[numpy.ix_(pos_idx)], \n",
    "        hist[0][numpy.ix_(pos_idx)],\n",
    "        width=widths[numpy.ix_(pos_idx)], \n",
    "        color=\"#5E988BFF\", alpha=.75)\n",
    "locs, labels = plt.yticks()\n",
    "plt.yticks(locs, numpy.abs(locs))\n",
    "plt.xlabel(\"Silhouette score\", fontsize=12)\n",
    "plt.ylabel(\"Density\", fontsize=15)\n",
    "plt.title(\"Number of clusters\", x=0.13, fontsize=12)\n",
    "plt.legend([\"Bad\", \"Good\"], loc=2, bbox_to_anchor=(1, 0.5), frameon=False)\n",
    "plt.show()"
   ]
  },
  {
   "cell_type": "code",
   "execution_count": 108,
   "metadata": {},
   "outputs": [
    {
     "data": {
      "text/plain": [
       "array([ 6.,  4.,  2.,  0.,  2.,  4.,  6.,  8., 10.])"
      ]
     },
     "execution_count": 108,
     "metadata": {},
     "output_type": "execute_result"
    }
   ],
   "source": [
    "map(lambda x: , numpy.abs(locs))"
   ]
  },
  {
   "cell_type": "code",
   "execution_count": 90,
   "metadata": {},
   "outputs": [
    {
     "data": {
      "text/plain": [
       "-6.0"
      ]
     },
     "execution_count": 90,
     "metadata": {},
     "output_type": "execute_result"
    }
   ],
   "source": [
    "sprint"
   ]
  },
  {
   "cell_type": "code",
   "execution_count": 83,
   "metadata": {},
   "outputs": [
    {
     "data": {
      "text/plain": [
       "-6.0"
      ]
     },
     "execution_count": 83,
     "metadata": {},
     "output_type": "execute_result"
    }
   ],
   "source": [
    "s.get_position()[1]"
   ]
  },
  {
   "cell_type": "code",
   "execution_count": 85,
   "metadata": {},
   "outputs": [
    {
     "data": {
      "text/plain": [
       "[Text(0,-6,'−6'),\n",
       " Text(0,-4,'−4'),\n",
       " Text(0,-2,'−2'),\n",
       " Text(0,0,'0'),\n",
       " Text(0,2,'2'),\n",
       " Text(0,4,'4'),\n",
       " Text(0,6,'6'),\n",
       " Text(0,8,'8'),\n",
       " Text(0,10,'10')]"
      ]
     },
     "execution_count": 85,
     "metadata": {},
     "output_type": "execute_result"
    }
   ],
   "source": [
    "list(labels)"
   ]
  },
  {
   "cell_type": "code",
   "execution_count": null,
   "metadata": {},
   "outputs": [],
   "source": []
  }
 ],
 "metadata": {
  "kernelspec": {
   "display_name": "Python 3 (Tix)",
   "language": "python",
   "name": "tix"
  },
  "language_info": {
   "codemirror_mode": {
    "name": "ipython",
    "version": 3
   },
   "file_extension": ".py",
   "mimetype": "text/x-python",
   "name": "python",
   "nbconvert_exporter": "python",
   "pygments_lexer": "ipython3",
   "version": "3.6.5"
  }
 },
 "nbformat": 4,
 "nbformat_minor": 2
}
