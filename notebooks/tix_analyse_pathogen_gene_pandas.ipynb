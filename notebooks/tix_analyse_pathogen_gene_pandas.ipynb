{
 "cells": [
  {
   "cell_type": "code",
   "execution_count": 1,
   "metadata": {
    "collapsed": false
   },
   "outputs": [],
   "source": [
    "import uuid\n",
    "import pandas\n",
    "import numpy\n",
    "from random import shuffle\n",
    "\n",
    "import sklearn\n",
    "from sklearn.decomposition import PCA\n",
    "from sklearn.discriminant_analysis import LinearDiscriminantAnalysis\n",
    "import sklearn.manifold\n",
    "\n",
    "import matplotlib\n",
    "from mpl_toolkits.mplot3d import Axes3D\n",
    "import matplotlib.pyplot as plt\n",
    "import matplotlib.colors as colors\n",
    "import matplotlib.cm as cmx\n",
    "\n",
    "import os"
   ]
  },
  {
   "cell_type": "code",
   "execution_count": 2,
   "metadata": {
    "collapsed": false
   },
   "outputs": [],
   "source": [
    "def load_data():\n",
    "    if os.path.isdir(\"/cluster/home/simondi/spark/\"):\n",
    "        filename = \"/cluster/home/simondi/simondi/tix/data/screening_data/cells_sample_10_normalized.tsv\"\n",
    "    else:\n",
    "        filename = \"/Users/simondi/PHD/data/data/target_infect_x/screening_data_subset/cells_sample_10_normalized.tsv\"\n",
    "\n",
    "    data = pandas.read_csv(filename, sep=\"\\t\", header=0)\n",
    "\n",
    "    feature_cols = [(i, x) for i, x in enumerate(data.columns.values) if\n",
    "                    x.startswith(\"cells\")]\n",
    "    for i, c in feature_cols:\n",
    "        data.loc[:, c] = data.loc[:, c].astype('float64')\n",
    "\n",
    "    data_new = data.query(\n",
    "      \"library=='d' and design=='p' and replicate==1 and (pathogen=='brucella' or pathogen=='listeria' or pathogen=='adeno' or pathogen=='bartonella')\").groupby(\n",
    "      [\"gene\"]).filter(lambda x: len(x) == 40)\n",
    "\n",
    "    del data_new[\"cells.children_invasomes_count\"]\n",
    "    del data_new[\"cells.children_bacteria_count\"]\n",
    "\n",
    "    X = data_new.dropna()\n",
    "    return X"
   ]
  },
  {
   "cell_type": "code",
   "execution_count": 7,
   "metadata": {
    "collapsed": false
   },
   "outputs": [],
   "source": [
    "data = load_data()"
   ]
  },
  {
   "cell_type": "code",
   "execution_count": 8,
   "metadata": {
    "collapsed": false
   },
   "outputs": [
    {
     "data": {
      "text/plain": [
       "pathogen\n",
       "adeno         140850\n",
       "bartonella    155620\n",
       "brucella      155620\n",
       "listeria      155620\n",
       "dtype: int64"
      ]
     },
     "execution_count": 8,
     "metadata": {},
     "output_type": "execute_result"
    }
   ],
   "source": [
    "data.groupby(\"pathogen\").size()"
   ]
  },
  {
   "cell_type": "code",
   "execution_count": 9,
   "metadata": {
    "collapsed": true
   },
   "outputs": [],
   "source": [
    "fl = \"/Users/simondi/PROJECTS/target_infect_x_project/src/tix_util/tix_analysis/plots/scatter_gene_pathogen\""
   ]
  },
  {
   "cell_type": "code",
   "execution_count": 20,
   "metadata": {
    "collapsed": false
   },
   "outputs": [
    {
     "data": {
      "text/plain": [
       "['cells.areashape_area',\n",
       " 'cells.areashape_eccentricity',\n",
       " 'cells.areashape_extent',\n",
       " 'cells.areashape_formfactor',\n",
       " 'cells.areashape_majoraxislength',\n",
       " 'cells.areashape_minoraxislength',\n",
       " 'cells.areashape_perimeter',\n",
       " 'cells.location_center_x',\n",
       " 'cells.location_center_y',\n",
       " 'cells.neighbors_anglebetweenneighbors_2',\n",
       " 'cells.neighbors_firstclosestobjectnumber_2',\n",
       " 'cells.neighbors_firstclosestxvector_2',\n",
       " 'cells.neighbors_firstclosestyvector_2',\n",
       " 'cells.neighbors_numberofneighbors_2',\n",
       " 'cells.neighbors_secondclosestobjectnumber_2',\n",
       " 'cells.neighbors_secondclosestxvector_2',\n",
       " 'cells.neighbors_secondclosestyvector_2',\n",
       " 'cells.parent_nuclei']"
      ]
     },
     "execution_count": 20,
     "metadata": {},
     "output_type": "execute_result"
    }
   ],
   "source": [
    "feats = [x for x in data.columns if x.startswith(\"cells\")]\n",
    "feats"
   ]
  },
  {
   "cell_type": "code",
   "execution_count": 58,
   "metadata": {
    "collapsed": false
   },
   "outputs": [],
   "source": [
    "def plot_pairwise(X):\n",
    "    markers = ['o', 'v','8', 's', 'p', '*', 'h', 'H', 'D', 'd', 'P', 'X' ]\n",
    "    pathogens = list(set(X[\"pathogen\"]))\n",
    "    path_map = {}\n",
    "    for i, p in enumerate(pathogens):\n",
    "        path_map[p] = markers[i]\n",
    "    \n",
    "    uniq = list(set(X[\"gene\"]))\n",
    "    \n",
    "    hot = plt.get_cmap('hot')\n",
    "    cNorm = colors.Normalize(vmin=0, vmax=len(uniq))\n",
    "    scalarMap = cmx.ScalarMappable(norm=cNorm, cmap=hot)\n",
    "    alpha = 0.5\n",
    "    \n",
    "    for c1 in feats:\n",
    "        for c2 in feats:\n",
    "            fig = plt.figure()\n",
    "            for i in range(len(uniq)):\n",
    "                indx = X[\"gene\"] == uniq[i]\n",
    "                XG = X.loc[indx,:]\n",
    "                unip = list(set(XG[\"pathogen\"]))\n",
    "                for j in range(len(unip)):\n",
    "                    indx = XG[\"pathogen\"] == unip[j]\n",
    "                    plt.scatter(XG.loc[indx, c1], XG.loc[indx, c2], \n",
    "                                color=scalarMap.to_rgba(i),\n",
    "                                label=unip[j].capitalize() + \": \"+ uniq[i].upper(),\n",
    "                                marker=path_map[ unip[j]  ], alpha=alpha)\n",
    "            if len(uniq) <= 5:     \n",
    "                plt.legend( fontsize=\"xx-small\")    \n",
    "            plt.xlabel(c1)\n",
    "            plt.ylabel(c2)\n",
    "            plt.savefig(fl +  \"_\" +c1   + \"_\"  + c2 + \"_\" +uid+ \".png\",      dpi=720)\n",
    "            plt.close(fig)"
   ]
  },
  {
   "cell_type": "code",
   "execution_count": 60,
   "metadata": {
    "collapsed": true
   },
   "outputs": [],
   "source": [
    "plt.close()"
   ]
  },
  {
   "cell_type": "code",
   "execution_count": 61,
   "metadata": {
    "collapsed": false
   },
   "outputs": [
    {
     "name": "stderr",
     "output_type": "stream",
     "text": [
      "/Users/simondi/anaconda3/envs/py35/lib/python3.5/site-packages/matplotlib/pyplot.py:524: RuntimeWarning: More than 20 figures have been opened. Figures created through the pyplot interface (`matplotlib.pyplot.figure`) are retained until explicitly closed and may consume too much memory. (To control this warning, see the rcParam `figure.max_open_warning`).\n",
      "  max_open_warning, RuntimeWarning)\n"
     ]
    }
   ],
   "source": [
    "cnt = 5\n",
    "uid = str(uuid.uuid1())\n",
    "used_genes = gene_list[:cnt]\n",
    "X = data[ data[\"gene\"].isin(used_genes)]\n",
    "plot_pairwise(X)"
   ]
  },
  {
   "cell_type": "code",
   "execution_count": 10,
   "metadata": {
    "collapsed": false
   },
   "outputs": [],
   "source": [
    "def plot(X2, X, method):\n",
    "    markers = [    'o', 'v','8',   's', 'p', '*', 'h', 'H', 'D', 'd', 'P', 'X' ]\n",
    "    pathogens = list(set(X[\"pathogen\"]))\n",
    "    path_map = {}\n",
    "    for i, p in enumerate(pathogens):\n",
    "        path_map[p] = markers[i]\n",
    "    \n",
    "    uniq = list(set(X[\"gene\"]))\n",
    "    \n",
    "    hot = plt.get_cmap('hot')\n",
    "    cNorm = colors.Normalize(vmin=0, vmax=len(uniq))\n",
    "    scalarMap = cmx.ScalarMappable(norm=cNorm, cmap=hot)\n",
    "    alpha = 0.5\n",
    "    \n",
    "    for \n",
    "    \n",
    "    plt.figure()\n",
    "\n",
    "    \n",
    "    \n",
    "        indx = X[\"gene\"] == uniq[i]\n",
    "        XG = X.loc[indx,:]\n",
    "        XP = X2[indx,:]\n",
    "        unip = list(set(XG[\"pathogen\"]))\n",
    "        for j in range(len(unip)):\n",
    "            indx = XG[\"pathogen\"] == unip[j]\n",
    "            plt.scatter(XP[indx, 1], XP[indx, 0], \n",
    "                        color=scalarMap.to_rgba(i),\n",
    "                        label=unip[j].capitalize() + \": \"+ uniq[i].upper(),\n",
    "                        marker=path_map[ unip[j]  ], alpha=alpha)\n",
    "    if len(uniq) <= 5:     \n",
    "        plt.legend( fontsize=\"xx-small\")    \n",
    "\n",
    "    plt.savefig(fl +  \"_\" +  method + \"_2d\" +uid+ \".png\",\n",
    "      dpi=720)\n",
    "    plt.close()"
   ]
  },
  {
   "cell_type": "code",
   "execution_count": 11,
   "metadata": {
    "collapsed": true
   },
   "outputs": [],
   "source": [
    "def plot_pca(Xtrans, X, method):\n",
    "    markers = ['o', 'v','8',   's', 'p', '*', 'h', 'H', 'D', 'd', 'P', 'X' ]\n",
    "    pathogens = list(set(X[\"pathogen\"]))\n",
    "    path_map = {}\n",
    "    for i, p in enumerate(pathogens):\n",
    "        path_map[p] = markers[i]\n",
    "    \n",
    "    uniq = list(set(X[\"gene\"]))\n",
    "    \n",
    "    hot = plt.get_cmap('hot')\n",
    "    cNorm = colors.Normalize(vmin=0, vmax=len(uniq))\n",
    "    scalarMap = cmx.ScalarMappable(norm=cNorm, cmap=hot)\n",
    "    alpha = 0.5\n",
    "    \n",
    "    X2 = Xtrans.transform(X.loc[:, feature_cols_idxs])\n",
    "    \n",
    "    fig = plt.figure()\n",
    "    for i in range(len(uniq)):\n",
    "        indx = X[\"gene\"] == uniq[i]\n",
    "        XG = X.loc[indx,:]\n",
    "        XP = X2[indx,:]\n",
    "        unip = list(set(XG[\"pathogen\"]))\n",
    "        for j in range(len(unip)):\n",
    "            indx = XG[\"pathogen\"] == unip[j]\n",
    "            plt.scatter(XP[indx, 0], XP[indx, 1], \n",
    "                        color=scalarMap.to_rgba(i),\n",
    "                        label=unip[j].capitalize() + \": \"+ uniq[i].upper(),\n",
    "                        marker=path_map[ unip[j]  ], alpha=alpha)\n",
    "    plt.xlabel(\"Variance ratio:\" + \"{0:.2f}\".format(Xtrans.explained_variance_ratio_[0]))\n",
    "    plt.ylabel(\"Variance ratio:\" + \"{0:.2f}\".format(Xtrans.explained_variance_ratio_[1]))\n",
    "    if len(uniq) <= 5:     \n",
    "        plt.legend( fontsize=\"xx-small\")        \n",
    "    plt.savefig(fl +  \"_\" +  method + \"_2d\" +uid+ \".png\",\n",
    "      dpi=720)\n",
    "    plt.close(fig)\n",
    "\n",
    "    fig, ax = plt.subplots()\n",
    "    ax.bar(list(numpy.array(range(10)) + 0.5),  Xtrans.explained_variance_ratio_[:10], width=0.5)\n",
    "\n",
    "    ax.set_ylabel('Variance ratio')\n",
    "    ax.set_xticks(list(numpy.array(range(10)) + 0.5))\n",
    "    ax.set_xticklabels([\"PCA\" + str(i+1) for i in range(10)])\n",
    "    plt.savefig(fl + \"_\" + method + \"_2d_scree\"+uid+\".png\", dpi=720)\n",
    "    plt.close(fig)"
   ]
  },
  {
   "cell_type": "code",
   "execution_count": 12,
   "metadata": {
    "collapsed": false
   },
   "outputs": [],
   "source": [
    "gene_list = list(set(data[\"gene\"]))"
   ]
  },
  {
   "cell_type": "code",
   "execution_count": 13,
   "metadata": {
    "collapsed": true
   },
   "outputs": [],
   "source": [
    "feature_cols_idxs = [x for x in data.columns.values if x.startswith(\"cells\")]"
   ]
  },
  {
   "cell_type": "code",
   "execution_count": 14,
   "metadata": {
    "collapsed": false
   },
   "outputs": [],
   "source": [
    "def tsne(data, genes_list, cnt):\n",
    "    used_genes = gene_list[:cnt]\n",
    "    X = data[ data[\"gene\"].isin(used_genes)]\n",
    "    for x in [1, 5, 10, 30, 50, 100]:\n",
    "        ts2 = sklearn.manifold.TSNE(n_components=2, perplexity=x, n_iter=5000)\n",
    "        X2 = ts2.fit_transform(X.loc[:, feature_cols_idxs])\n",
    "        plot(X2, X, \"tsne_\" + str(x))"
   ]
  },
  {
   "cell_type": "code",
   "execution_count": 15,
   "metadata": {
    "collapsed": true
   },
   "outputs": [],
   "source": [
    "def lle(data, genes_list, cnt):\n",
    "    used_genes = gene_list[:cnt]\n",
    "    X = data[ data[\"gene\"].isin(used_genes)]\n",
    "    for x in [5, 10, 30]:\n",
    "        ts2 = sklearn.manifold.LocallyLinearEmbedding(n_components=2,method=\"standard\",n_neighbors=x)\n",
    "        X2 = ts2.fit_transform(X.loc[:, feature_cols_idxs])\n",
    "        plot(X2, X, \"lle_\"+ str(x))"
   ]
  },
  {
   "cell_type": "code",
   "execution_count": 16,
   "metadata": {
    "collapsed": false
   },
   "outputs": [],
   "source": [
    "def kpca(data, genes_list, cnt):\n",
    "    used_genes = gene_list[:cnt]\n",
    "    X = data[ data[\"gene\"].isin(used_genes)]\n",
    "    for x in [\"rbf\", \"poly\", \"linear\"]:\n",
    "        ts2 = sklearn.decomposition.KernelPCA(n_components=2, kernel=x)\n",
    "        X2 = ts2.fit_transform(X.loc[:, feature_cols_idxs])\n",
    "        plot(X2, X, \"kpca_\" + x)"
   ]
  },
  {
   "cell_type": "code",
   "execution_count": 17,
   "metadata": {
    "collapsed": true
   },
   "outputs": [],
   "source": [
    "def pca(data, genes_list, cnt):\n",
    "    used_genes = gene_list[:cnt]\n",
    "    X = data[ data[\"gene\"].isin(used_genes)]\n",
    "    ts2 = sklearn.decomposition.PCA(n_components=11)\n",
    "    X2 = ts2.fit(X.loc[:, feature_cols_idxs])\n",
    "    plot_pca(X2, X, \"pca\")"
   ]
  },
  {
   "cell_type": "code",
   "execution_count": 18,
   "metadata": {
    "collapsed": false
   },
   "outputs": [
    {
     "ename": "KeyboardInterrupt",
     "evalue": "",
     "output_type": "error",
     "traceback": [
      "\u001b[0;31m---------------------------------------------------------------------------\u001b[0m",
      "\u001b[0;31mKeyboardInterrupt\u001b[0m                         Traceback (most recent call last)",
      "\u001b[0;32m<ipython-input-18-b7b45c8d599d>\u001b[0m in \u001b[0;36m<module>\u001b[0;34m()\u001b[0m\n\u001b[1;32m      3\u001b[0m     \u001b[0mshuffle\u001b[0m\u001b[0;34m(\u001b[0m\u001b[0mgene_list\u001b[0m\u001b[0;34m)\u001b[0m\u001b[0;34m\u001b[0m\u001b[0m\n\u001b[1;32m      4\u001b[0m     \u001b[0mpca\u001b[0m\u001b[0;34m(\u001b[0m\u001b[0mdata\u001b[0m\u001b[0;34m,\u001b[0m \u001b[0mgene_list\u001b[0m\u001b[0;34m,\u001b[0m \u001b[0;36m5\u001b[0m\u001b[0;34m)\u001b[0m\u001b[0;34m\u001b[0m\u001b[0m\n\u001b[0;32m----> 5\u001b[0;31m     \u001b[0mtsne\u001b[0m\u001b[0;34m(\u001b[0m\u001b[0mdata\u001b[0m\u001b[0;34m,\u001b[0m \u001b[0mgene_list\u001b[0m\u001b[0;34m,\u001b[0m \u001b[0;36m5\u001b[0m\u001b[0;34m)\u001b[0m\u001b[0;34m\u001b[0m\u001b[0m\n\u001b[0m\u001b[1;32m      6\u001b[0m \u001b[0;31m#    lle(data, gene_list, 5)\u001b[0m\u001b[0;34m\u001b[0m\u001b[0;34m\u001b[0m\u001b[0m\n\u001b[1;32m      7\u001b[0m     \u001b[0mkpca\u001b[0m\u001b[0;34m(\u001b[0m\u001b[0mdata\u001b[0m\u001b[0;34m,\u001b[0m \u001b[0mgene_list\u001b[0m\u001b[0;34m,\u001b[0m \u001b[0;36m5\u001b[0m\u001b[0;34m)\u001b[0m\u001b[0;34m\u001b[0m\u001b[0m\n",
      "\u001b[0;32m<ipython-input-14-f62c9ab51926>\u001b[0m in \u001b[0;36mtsne\u001b[0;34m(data, genes_list, cnt)\u001b[0m\n\u001b[1;32m      4\u001b[0m     \u001b[0;32mfor\u001b[0m \u001b[0mx\u001b[0m \u001b[0;32min\u001b[0m \u001b[0;34m[\u001b[0m\u001b[0;36m1\u001b[0m\u001b[0;34m,\u001b[0m \u001b[0;36m5\u001b[0m\u001b[0;34m,\u001b[0m \u001b[0;36m10\u001b[0m\u001b[0;34m,\u001b[0m \u001b[0;36m30\u001b[0m\u001b[0;34m,\u001b[0m \u001b[0;36m50\u001b[0m\u001b[0;34m,\u001b[0m \u001b[0;36m100\u001b[0m\u001b[0;34m]\u001b[0m\u001b[0;34m:\u001b[0m\u001b[0;34m\u001b[0m\u001b[0m\n\u001b[1;32m      5\u001b[0m         \u001b[0mts2\u001b[0m \u001b[0;34m=\u001b[0m \u001b[0msklearn\u001b[0m\u001b[0;34m.\u001b[0m\u001b[0mmanifold\u001b[0m\u001b[0;34m.\u001b[0m\u001b[0mTSNE\u001b[0m\u001b[0;34m(\u001b[0m\u001b[0mn_components\u001b[0m\u001b[0;34m=\u001b[0m\u001b[0;36m2\u001b[0m\u001b[0;34m,\u001b[0m \u001b[0mperplexity\u001b[0m\u001b[0;34m=\u001b[0m\u001b[0mx\u001b[0m\u001b[0;34m,\u001b[0m \u001b[0mn_iter\u001b[0m\u001b[0;34m=\u001b[0m\u001b[0;36m5000\u001b[0m\u001b[0;34m)\u001b[0m\u001b[0;34m\u001b[0m\u001b[0m\n\u001b[0;32m----> 6\u001b[0;31m         \u001b[0mX2\u001b[0m \u001b[0;34m=\u001b[0m \u001b[0mts2\u001b[0m\u001b[0;34m.\u001b[0m\u001b[0mfit_transform\u001b[0m\u001b[0;34m(\u001b[0m\u001b[0mX\u001b[0m\u001b[0;34m.\u001b[0m\u001b[0mloc\u001b[0m\u001b[0;34m[\u001b[0m\u001b[0;34m:\u001b[0m\u001b[0;34m,\u001b[0m \u001b[0mfeature_cols_idxs\u001b[0m\u001b[0;34m]\u001b[0m\u001b[0;34m)\u001b[0m\u001b[0;34m\u001b[0m\u001b[0m\n\u001b[0m\u001b[1;32m      7\u001b[0m         \u001b[0mplot\u001b[0m\u001b[0;34m(\u001b[0m\u001b[0mX2\u001b[0m\u001b[0;34m,\u001b[0m \u001b[0mX\u001b[0m\u001b[0;34m,\u001b[0m \u001b[0;34m\"tsne_\"\u001b[0m \u001b[0;34m+\u001b[0m \u001b[0mstr\u001b[0m\u001b[0;34m(\u001b[0m\u001b[0mx\u001b[0m\u001b[0;34m)\u001b[0m\u001b[0;34m)\u001b[0m\u001b[0;34m\u001b[0m\u001b[0m\n",
      "\u001b[0;32m/Users/simondi/PROJECTS/scikit-learn_project/sklearn/manifold/t_sne.py\u001b[0m in \u001b[0;36mfit_transform\u001b[0;34m(self, X, y)\u001b[0m\n\u001b[1;32m    894\u001b[0m             \u001b[0mEmbedding\u001b[0m \u001b[0mof\u001b[0m \u001b[0mthe\u001b[0m \u001b[0mtraining\u001b[0m \u001b[0mdata\u001b[0m \u001b[0;32min\u001b[0m \u001b[0mlow\u001b[0m\u001b[0;34m-\u001b[0m\u001b[0mdimensional\u001b[0m \u001b[0mspace\u001b[0m\u001b[0;34m.\u001b[0m\u001b[0;34m\u001b[0m\u001b[0m\n\u001b[1;32m    895\u001b[0m         \"\"\"\n\u001b[0;32m--> 896\u001b[0;31m         \u001b[0membedding\u001b[0m \u001b[0;34m=\u001b[0m \u001b[0mself\u001b[0m\u001b[0;34m.\u001b[0m\u001b[0m_fit\u001b[0m\u001b[0;34m(\u001b[0m\u001b[0mX\u001b[0m\u001b[0;34m)\u001b[0m\u001b[0;34m\u001b[0m\u001b[0m\n\u001b[0m\u001b[1;32m    897\u001b[0m         \u001b[0mself\u001b[0m\u001b[0;34m.\u001b[0m\u001b[0membedding_\u001b[0m \u001b[0;34m=\u001b[0m \u001b[0membedding\u001b[0m\u001b[0;34m\u001b[0m\u001b[0m\n\u001b[1;32m    898\u001b[0m         \u001b[0;32mreturn\u001b[0m \u001b[0mself\u001b[0m\u001b[0;34m.\u001b[0m\u001b[0membedding_\u001b[0m\u001b[0;34m\u001b[0m\u001b[0m\n",
      "\u001b[0;32m/Users/simondi/PROJECTS/scikit-learn_project/sklearn/manifold/t_sne.py\u001b[0m in \u001b[0;36m_fit\u001b[0;34m(self, X, skip_num_points)\u001b[0m\n\u001b[1;32m    792\u001b[0m                           \u001b[0mX_embedded\u001b[0m\u001b[0;34m=\u001b[0m\u001b[0mX_embedded\u001b[0m\u001b[0;34m,\u001b[0m\u001b[0;34m\u001b[0m\u001b[0m\n\u001b[1;32m    793\u001b[0m                           \u001b[0mneighbors\u001b[0m\u001b[0;34m=\u001b[0m\u001b[0mneighbors_nn\u001b[0m\u001b[0;34m,\u001b[0m\u001b[0;34m\u001b[0m\u001b[0m\n\u001b[0;32m--> 794\u001b[0;31m                           skip_num_points=skip_num_points)\n\u001b[0m\u001b[1;32m    795\u001b[0m \u001b[0;34m\u001b[0m\u001b[0m\n\u001b[1;32m    796\u001b[0m     \u001b[0;34m@\u001b[0m\u001b[0mproperty\u001b[0m\u001b[0;34m\u001b[0m\u001b[0m\n",
      "\u001b[0;32m/Users/simondi/PROJECTS/scikit-learn_project/sklearn/manifold/t_sne.py\u001b[0m in \u001b[0;36m_tsne\u001b[0;34m(self, P, degrees_of_freedom, n_samples, random_state, X_embedded, neighbors, skip_num_points)\u001b[0m\n\u001b[1;32m    868\u001b[0m         \u001b[0mopt_args\u001b[0m\u001b[0;34m[\u001b[0m\u001b[0;34m'it'\u001b[0m\u001b[0;34m]\u001b[0m \u001b[0;34m=\u001b[0m \u001b[0mit\u001b[0m \u001b[0;34m+\u001b[0m \u001b[0;36m1\u001b[0m\u001b[0;34m\u001b[0m\u001b[0m\n\u001b[1;32m    869\u001b[0m         params, kl_divergence, it = _gradient_descent(obj_func, params,\n\u001b[0;32m--> 870\u001b[0;31m                                                       **opt_args)\n\u001b[0m\u001b[1;32m    871\u001b[0m \u001b[0;34m\u001b[0m\u001b[0m\n\u001b[1;32m    872\u001b[0m         \u001b[0;32mif\u001b[0m \u001b[0mself\u001b[0m\u001b[0;34m.\u001b[0m\u001b[0mverbose\u001b[0m\u001b[0;34m:\u001b[0m\u001b[0;34m\u001b[0m\u001b[0m\n",
      "\u001b[0;32m/Users/simondi/PROJECTS/scikit-learn_project/sklearn/manifold/t_sne.py\u001b[0m in \u001b[0;36m_gradient_descent\u001b[0;34m(objective, p0, it, n_iter, objective_error, n_iter_check, n_iter_without_progress, momentum, learning_rate, min_gain, min_grad_norm, min_error_diff, verbose, args, kwargs)\u001b[0m\n\u001b[1;32m    386\u001b[0m \u001b[0;34m\u001b[0m\u001b[0m\n\u001b[1;32m    387\u001b[0m     \u001b[0;32mfor\u001b[0m \u001b[0mi\u001b[0m \u001b[0;32min\u001b[0m \u001b[0mrange\u001b[0m\u001b[0;34m(\u001b[0m\u001b[0mit\u001b[0m\u001b[0;34m,\u001b[0m \u001b[0mn_iter\u001b[0m\u001b[0;34m)\u001b[0m\u001b[0;34m:\u001b[0m\u001b[0;34m\u001b[0m\u001b[0m\n\u001b[0;32m--> 388\u001b[0;31m         \u001b[0mnew_error\u001b[0m\u001b[0;34m,\u001b[0m \u001b[0mgrad\u001b[0m \u001b[0;34m=\u001b[0m \u001b[0mobjective\u001b[0m\u001b[0;34m(\u001b[0m\u001b[0mp\u001b[0m\u001b[0;34m,\u001b[0m \u001b[0;34m*\u001b[0m\u001b[0margs\u001b[0m\u001b[0;34m,\u001b[0m \u001b[0;34m**\u001b[0m\u001b[0mkwargs\u001b[0m\u001b[0;34m)\u001b[0m\u001b[0;34m\u001b[0m\u001b[0m\n\u001b[0m\u001b[1;32m    389\u001b[0m         \u001b[0mgrad_norm\u001b[0m \u001b[0;34m=\u001b[0m \u001b[0mlinalg\u001b[0m\u001b[0;34m.\u001b[0m\u001b[0mnorm\u001b[0m\u001b[0;34m(\u001b[0m\u001b[0mgrad\u001b[0m\u001b[0;34m)\u001b[0m\u001b[0;34m\u001b[0m\u001b[0m\n\u001b[1;32m    390\u001b[0m \u001b[0;34m\u001b[0m\u001b[0m\n",
      "\u001b[0;32m/Users/simondi/PROJECTS/scikit-learn_project/sklearn/manifold/t_sne.py\u001b[0m in \u001b[0;36m_kl_divergence_bh\u001b[0;34m(params, P, neighbors, degrees_of_freedom, n_samples, n_components, angle, skip_num_points, verbose)\u001b[0m\n\u001b[1;32m    289\u001b[0m     error = _barnes_hut_tsne.gradient(sP, X_embedded, neighbors,\n\u001b[1;32m    290\u001b[0m                                       \u001b[0mgrad\u001b[0m\u001b[0;34m,\u001b[0m \u001b[0mangle\u001b[0m\u001b[0;34m,\u001b[0m \u001b[0mn_components\u001b[0m\u001b[0;34m,\u001b[0m \u001b[0mverbose\u001b[0m\u001b[0;34m,\u001b[0m\u001b[0;34m\u001b[0m\u001b[0m\n\u001b[0;32m--> 291\u001b[0;31m                                       dof=degrees_of_freedom)\n\u001b[0m\u001b[1;32m    292\u001b[0m     \u001b[0mc\u001b[0m \u001b[0;34m=\u001b[0m \u001b[0;36m2.0\u001b[0m \u001b[0;34m*\u001b[0m \u001b[0;34m(\u001b[0m\u001b[0mdegrees_of_freedom\u001b[0m \u001b[0;34m+\u001b[0m \u001b[0;36m1.0\u001b[0m\u001b[0;34m)\u001b[0m \u001b[0;34m/\u001b[0m \u001b[0mdegrees_of_freedom\u001b[0m\u001b[0;34m\u001b[0m\u001b[0m\n\u001b[1;32m    293\u001b[0m     \u001b[0mgrad\u001b[0m \u001b[0;34m=\u001b[0m \u001b[0mgrad\u001b[0m\u001b[0;34m.\u001b[0m\u001b[0mravel\u001b[0m\u001b[0;34m(\u001b[0m\u001b[0;34m)\u001b[0m\u001b[0;34m\u001b[0m\u001b[0m\n",
      "\u001b[0;32m/Users/simondi/PROJECTS/scikit-learn_project/sklearn/manifold/_barnes_hut_tsne.pyx\u001b[0m in \u001b[0;36msklearn.manifold._barnes_hut_tsne.gradient (sklearn/manifold/_barnes_hut_tsne.c:8142)\u001b[0;34m()\u001b[0m\n",
      "\u001b[0;31mKeyboardInterrupt\u001b[0m: "
     ]
    }
   ],
   "source": [
    "for i in range(10):\n",
    "    uid = str(uuid.uuid1())\n",
    "    shuffle(gene_list)\n",
    "    pca(data, gene_list, 5)\n",
    "    tsne(data, gene_list, 5)\n",
    "#    lle(data, gene_list, 5)\n",
    "    kpca(data, gene_list, 5)\n",
    "    \n",
    "# pca(data, gene_list, 100)\n",
    "# tsne(data, gene_list, 100)\n",
    "# lle(data, gene_list, 100)\n",
    "# kpca(data, gene_list, 100)"
   ]
  },
  {
   "cell_type": "code",
   "execution_count": null,
   "metadata": {
    "collapsed": true
   },
   "outputs": [],
   "source": [
    "list(range(10))[:5]"
   ]
  },
  {
   "cell_type": "code",
   "execution_count": null,
   "metadata": {
    "collapsed": true
   },
   "outputs": [],
   "source": []
  }
 ],
 "metadata": {
  "kernelspec": {
   "display_name": "Python 3",
   "language": "python",
   "name": "python3"
  },
  "language_info": {
   "codemirror_mode": {
    "name": "ipython",
    "version": 3
   },
   "file_extension": ".py",
   "mimetype": "text/x-python",
   "name": "python",
   "nbconvert_exporter": "python",
   "pygments_lexer": "ipython3",
   "version": "3.5.2"
  }
 },
 "nbformat": 4,
 "nbformat_minor": 0
}
