{
 "cells": [
  {
   "cell_type": "code",
   "execution_count": 1,
   "metadata": {},
   "outputs": [
    {
     "name": "stderr",
     "output_type": "stream",
     "text": [
      "\n",
      "Attaching package: ‘dplyr’\n",
      "\n",
      "The following objects are masked from ‘package:stats’:\n",
      "\n",
      "    filter, lag\n",
      "\n",
      "The following objects are masked from ‘package:base’:\n",
      "\n",
      "    intersect, setdiff, setequal, union\n",
      "\n",
      "\n",
      "Attaching package: ‘data.table’\n",
      "\n",
      "The following objects are masked from ‘package:dplyr’:\n",
      "\n",
      "    between, first, last\n",
      "\n",
      "\n",
      "Attaching package: ‘ggplot2’\n",
      "\n",
      "The following object is masked from ‘package:dplyr’:\n",
      "\n",
      "    vars\n",
      "\n",
      "Loading required package: viridisLite\n",
      "\n",
      "Attaching package: ‘cowplot’\n",
      "\n",
      "The following object is masked from ‘package:ggplot2’:\n",
      "\n",
      "    ggsave\n",
      "\n"
     ]
    }
   ],
   "source": [
    "library(dplyr)\n",
    "library(dtplyr)\n",
    "library(tidyr)\n",
    "library(data.table)\n",
    "library(tibble)\n",
    "library(ggplot2)\n",
    "library(hrbrthemes)\n",
    "library(ggthemr)\n",
    "library(viridis)\n",
    "library(cowplot)\n"
   ]
  },
  {
   "cell_type": "code",
   "execution_count": 3,
   "metadata": {},
   "outputs": [],
   "source": [
    "fl = \"~/PROJECTS/target_infect_x_project/src/tix-analysis/data/kmeans-transformed-bic.tsv\"\n",
    "gene.pred.file = \"~/PROJECTS/target_infect_x_project/src/tix-analysis/data/kmeans-transformed-statistics-gene_pathogen_prediction_counts.tsv\""
   ]
  },
  {
   "cell_type": "code",
   "execution_count": 19,
   "metadata": {},
   "outputs": [
    {
     "name": "stderr",
     "output_type": "stream",
     "text": [
      "Warning message:\n",
      "“Missing column names filled in: 'X1' [1]”Parsed with column specification:\n",
      "cols(\n",
      "  X1 = col_integer(),\n",
      "  gene = col_character(),\n",
      "  pathogen = col_character(),\n",
      "  prediction = col_integer(),\n",
      "  count = col_integer()\n",
      ")\n"
     ]
    }
   ],
   "source": [
    "cont <- readr::read_tsv(fl2, col_names=TRUE)"
   ]
  },
  {
   "cell_type": "code",
   "execution_count": 15,
   "metadata": {},
   "outputs": [
    {
     "name": "stderr",
     "output_type": "stream",
     "text": [
      "Registering fonts with R\n"
     ]
    },
    {
     "name": "stdout",
     "output_type": "stream",
     "text": [
      "Importing fonts may take a few minutes, depending on the number of fonts and the speed of the system.\n",
      "Continue? [y/n] y\n"
     ]
    },
    {
     "name": "stderr",
     "output_type": "stream",
     "text": [
      "Scanning ttf files in /Library/Fonts/, /System/Library/Fonts, ~/Library/Fonts/ ...\n",
      "Extracting .afm files from .ttf files...\n",
      "/Library/Fonts/Andale Mono.ttf => /Library/Frameworks/R.framework/Versions/3.5/Resources/library/extrafontdb/metrics/Andale Mono\n",
      "/Library/Fonts/Apple Chancery.ttf : No FontName. Skipping.\n",
      "/Library/Fonts/AppleGothic.ttf : No FontName. Skipping.\n",
      "/Library/Fonts/AppleMyungjo.ttf => /Library/Frameworks/R.framework/Versions/3.5/Resources/library/extrafontdb/metrics/AppleMyungjo\n",
      "/Library/Fonts/Arial Black.ttf => /Library/Frameworks/R.framework/Versions/3.5/Resources/library/extrafontdb/metrics/Arial Black\n",
      "/Library/Fonts/Arial Bold Italic.ttf => /Library/Frameworks/R.framework/Versions/3.5/Resources/library/extrafontdb/metrics/Arial Bold Italic\n",
      "/Library/Fonts/Arial Bold.ttf => /Library/Frameworks/R.framework/Versions/3.5/Resources/library/extrafontdb/metrics/Arial Bold\n",
      "/Library/Fonts/Arial Italic.ttf => /Library/Frameworks/R.framework/Versions/3.5/Resources/library/extrafontdb/metrics/Arial Italic\n",
      "/Library/Fonts/Arial Narrow Bold Italic.ttf => /Library/Frameworks/R.framework/Versions/3.5/Resources/library/extrafontdb/metrics/Arial Narrow Bold Italic\n",
      "/Library/Fonts/Arial Narrow Bold.ttf => /Library/Frameworks/R.framework/Versions/3.5/Resources/library/extrafontdb/metrics/Arial Narrow Bold\n",
      "/Library/Fonts/Arial Narrow Italic.ttf => /Library/Frameworks/R.framework/Versions/3.5/Resources/library/extrafontdb/metrics/Arial Narrow Italic\n",
      "/Library/Fonts/Arial Narrow.ttf => /Library/Frameworks/R.framework/Versions/3.5/Resources/library/extrafontdb/metrics/Arial Narrow\n",
      "/Library/Fonts/Arial Rounded Bold.ttf => /Library/Frameworks/R.framework/Versions/3.5/Resources/library/extrafontdb/metrics/Arial Rounded Bold\n",
      "/Library/Fonts/Arial Unicode.ttf => /Library/Frameworks/R.framework/Versions/3.5/Resources/library/extrafontdb/metrics/Arial Unicode\n",
      "/Library/Fonts/Arial.ttf => /Library/Frameworks/R.framework/Versions/3.5/Resources/library/extrafontdb/metrics/Arial\n",
      "/Library/Fonts/Ayuthaya.ttf : No FontName. Skipping.\n",
      "/Library/Fonts/BigCaslon.ttf : No FontName. Skipping.\n",
      "/Library/Fonts/Bodoni 72 Smallcaps Book.ttf => /Library/Frameworks/R.framework/Versions/3.5/Resources/library/extrafontdb/metrics/Bodoni 72 Smallcaps Book\n",
      "/Library/Fonts/Bodoni Ornaments.ttf => /Library/Frameworks/R.framework/Versions/3.5/Resources/library/extrafontdb/metrics/Bodoni Ornaments\n",
      "/Library/Fonts/Bradley Hand Bold.ttf => /Library/Frameworks/R.framework/Versions/3.5/Resources/library/extrafontdb/metrics/Bradley Hand Bold\n",
      "/Library/Fonts/Brush Script.ttf => /Library/Frameworks/R.framework/Versions/3.5/Resources/library/extrafontdb/metrics/Brush Script\n",
      "/Library/Fonts/Chalkduster.ttfWarning message in system2(ttf2pt1, c(args, shQuote(ttfiles[i]), shQuote(tmpfiles[i])), :\n",
      "“running command ''/Library/Frameworks/R.framework/Versions/3.5/Resources/library/Rttf2pt1/exec//ttf2pt1' -a -GfAe '/Library/Fonts/Chalkduster.ttf' '/var/folders/cx/v45t2v2n6b548_vfn76vnzlw0050sr/T//RtmpP8hrj4/fonts/Chalkduster' 2>&1' had status 134” : No FontName. Skipping.\n",
      "/Library/Fonts/Comic Sans MS Bold.ttf => /Library/Frameworks/R.framework/Versions/3.5/Resources/library/extrafontdb/metrics/Comic Sans MS Bold\n",
      "/Library/Fonts/Comic Sans MS.ttf => /Library/Frameworks/R.framework/Versions/3.5/Resources/library/extrafontdb/metrics/Comic Sans MS\n",
      "/Library/Fonts/Courier New Bold Italic.ttf => /Library/Frameworks/R.framework/Versions/3.5/Resources/library/extrafontdb/metrics/Courier New Bold Italic\n",
      "/Library/Fonts/Courier New Bold.ttf => /Library/Frameworks/R.framework/Versions/3.5/Resources/library/extrafontdb/metrics/Courier New Bold\n",
      "/Library/Fonts/Courier New Italic.ttf => /Library/Frameworks/R.framework/Versions/3.5/Resources/library/extrafontdb/metrics/Courier New Italic\n",
      "/Library/Fonts/Courier New.ttf => /Library/Frameworks/R.framework/Versions/3.5/Resources/library/extrafontdb/metrics/Courier New\n",
      "/Library/Fonts/DIN Alternate Bold.ttf => /Library/Frameworks/R.framework/Versions/3.5/Resources/library/extrafontdb/metrics/DIN Alternate Bold\n",
      "/Library/Fonts/DIN Condensed Bold.ttf => /Library/Frameworks/R.framework/Versions/3.5/Resources/library/extrafontdb/metrics/DIN Condensed Bold\n",
      "/Library/Fonts/Diwan Thuluth.ttf : No FontName. Skipping.\n",
      "/Library/Fonts/Farisi.ttf : No FontName. Skipping.\n",
      "/Library/Fonts/Georgia Bold Italic.ttf => /Library/Frameworks/R.framework/Versions/3.5/Resources/library/extrafontdb/metrics/Georgia Bold Italic\n",
      "/Library/Fonts/Georgia Bold.ttf => /Library/Frameworks/R.framework/Versions/3.5/Resources/library/extrafontdb/metrics/Georgia Bold\n",
      "/Library/Fonts/Georgia Italic.ttf => /Library/Frameworks/R.framework/Versions/3.5/Resources/library/extrafontdb/metrics/Georgia Italic\n",
      "/Library/Fonts/Georgia.ttf => /Library/Frameworks/R.framework/Versions/3.5/Resources/library/extrafontdb/metrics/Georgia\n",
      "/Library/Fonts/Gurmukhi.ttf : No FontName. Skipping.\n",
      "/Library/Fonts/Herculanum.ttf : No FontName. Skipping.\n",
      "/Library/Fonts/Hoefler Text Ornaments.ttf : No FontName. Skipping.\n",
      "/Library/Fonts/Impact.ttf => /Library/Frameworks/R.framework/Versions/3.5/Resources/library/extrafontdb/metrics/Impact\n",
      "/Library/Fonts/Khmer Sangam MN.ttf => /Library/Frameworks/R.framework/Versions/3.5/Resources/library/extrafontdb/metrics/Khmer Sangam MN\n",
      "/Library/Fonts/Kokonor.ttfWarning message in system2(ttf2pt1, c(args, shQuote(ttfiles[i]), shQuote(tmpfiles[i])), :\n",
      "“running command ''/Library/Frameworks/R.framework/Versions/3.5/Resources/library/Rttf2pt1/exec//ttf2pt1' -a -GfAe '/Library/Fonts/Kokonor.ttf' '/var/folders/cx/v45t2v2n6b548_vfn76vnzlw0050sr/T//RtmpP8hrj4/fonts/Kokonor' 2>&1' had status 134” : No FontName. Skipping.\n",
      "/Library/Fonts/Krungthep.ttf : No FontName. Skipping.\n",
      "/Library/Fonts/Lao Sangam MN.ttf => /Library/Frameworks/R.framework/Versions/3.5/Resources/library/extrafontdb/metrics/Lao Sangam MN\n",
      "/Library/Fonts/Luminari.ttf => /Library/Frameworks/R.framework/Versions/3.5/Resources/library/extrafontdb/metrics/Luminari\n",
      "/Library/Fonts/Microsoft Sans Serif.ttf => /Library/Frameworks/R.framework/Versions/3.5/Resources/library/extrafontdb/metrics/Microsoft Sans Serif\n",
      "/Library/Fonts/Microsoft/Arial Bold Italic.ttf => /Library/Frameworks/R.framework/Versions/3.5/Resources/library/extrafontdb/metrics/Arial Bold Italic\n",
      "/Library/Fonts/Microsoft/Arial Bold.ttf => /Library/Frameworks/R.framework/Versions/3.5/Resources/library/extrafontdb/metrics/Arial Bold\n",
      "/Library/Fonts/Microsoft/Arial Italic.ttf => /Library/Frameworks/R.framework/Versions/3.5/Resources/library/extrafontdb/metrics/Arial Italic\n",
      "/Library/Fonts/Microsoft/Arial.ttf => /Library/Frameworks/R.framework/Versions/3.5/Resources/library/extrafontdb/metrics/Arial\n",
      "/Library/Fonts/Microsoft/Batang.ttf => /Library/Frameworks/R.framework/Versions/3.5/Resources/library/extrafontdb/metrics/Batang\n",
      "/Library/Fonts/Microsoft/Bookshelf Symbol 7.ttf => /Library/Frameworks/R.framework/Versions/3.5/Resources/library/extrafontdb/metrics/Bookshelf Symbol 7\n",
      "/Library/Fonts/Microsoft/Brush Script.ttf => /Library/Frameworks/R.framework/Versions/3.5/Resources/library/extrafontdb/metrics/Brush Script\n",
      "/Library/Fonts/Microsoft/Calibri Bold Italic.ttf => /Library/Frameworks/R.framework/Versions/3.5/Resources/library/extrafontdb/metrics/Calibri Bold Italic\n",
      "/Library/Fonts/Microsoft/Calibri Bold.ttf => /Library/Frameworks/R.framework/Versions/3.5/Resources/library/extrafontdb/metrics/Calibri Bold\n",
      "/Library/Fonts/Microsoft/Calibri Italic.ttf => /Library/Frameworks/R.framework/Versions/3.5/Resources/library/extrafontdb/metrics/Calibri Italic\n",
      "/Library/Fonts/Microsoft/Calibri.ttf => /Library/Frameworks/R.framework/Versions/3.5/Resources/library/extrafontdb/metrics/Calibri\n",
      "/Library/Fonts/Microsoft/Calibril.ttf => /Library/Frameworks/R.framework/Versions/3.5/Resources/library/extrafontdb/metrics/Calibril\n",
      "/Library/Fonts/Microsoft/Cambria Bold Italic.ttf => /Library/Frameworks/R.framework/Versions/3.5/Resources/library/extrafontdb/metrics/Cambria Bold Italic\n",
      "/Library/Fonts/Microsoft/Cambria Bold.ttf => /Library/Frameworks/R.framework/Versions/3.5/Resources/library/extrafontdb/metrics/Cambria Bold\n",
      "/Library/Fonts/Microsoft/Cambria Italic.ttf => /Library/Frameworks/R.framework/Versions/3.5/Resources/library/extrafontdb/metrics/Cambria Italic\n"
     ]
    },
    {
     "name": "stderr",
     "output_type": "stream",
     "text": [
      "/Library/Fonts/Microsoft/Cambria Math.ttf => /Library/Frameworks/R.framework/Versions/3.5/Resources/library/extrafontdb/metrics/Cambria Math\n",
      "/Library/Fonts/Microsoft/Cambria.ttf => /Library/Frameworks/R.framework/Versions/3.5/Resources/library/extrafontdb/metrics/Cambria\n",
      "/Library/Fonts/Microsoft/Candara Bold Italic.ttf => /Library/Frameworks/R.framework/Versions/3.5/Resources/library/extrafontdb/metrics/Candara Bold Italic\n",
      "/Library/Fonts/Microsoft/Candara Bold.ttf => /Library/Frameworks/R.framework/Versions/3.5/Resources/library/extrafontdb/metrics/Candara Bold\n",
      "/Library/Fonts/Microsoft/Candara Italic.ttf => /Library/Frameworks/R.framework/Versions/3.5/Resources/library/extrafontdb/metrics/Candara Italic\n",
      "/Library/Fonts/Microsoft/Candara.ttf => /Library/Frameworks/R.framework/Versions/3.5/Resources/library/extrafontdb/metrics/Candara\n",
      "/Library/Fonts/Microsoft/Consolas Bold Italic.ttf => /Library/Frameworks/R.framework/Versions/3.5/Resources/library/extrafontdb/metrics/Consolas Bold Italic\n",
      "/Library/Fonts/Microsoft/Consolas Bold.ttf => /Library/Frameworks/R.framework/Versions/3.5/Resources/library/extrafontdb/metrics/Consolas Bold\n",
      "/Library/Fonts/Microsoft/Consolas Italic.ttf => /Library/Frameworks/R.framework/Versions/3.5/Resources/library/extrafontdb/metrics/Consolas Italic\n",
      "/Library/Fonts/Microsoft/Consolas.ttf => /Library/Frameworks/R.framework/Versions/3.5/Resources/library/extrafontdb/metrics/Consolas\n",
      "/Library/Fonts/Microsoft/Constantia Bold Italic.ttf => /Library/Frameworks/R.framework/Versions/3.5/Resources/library/extrafontdb/metrics/Constantia Bold Italic\n",
      "/Library/Fonts/Microsoft/Constantia Bold.ttf => /Library/Frameworks/R.framework/Versions/3.5/Resources/library/extrafontdb/metrics/Constantia Bold\n",
      "/Library/Fonts/Microsoft/Constantia Italic.ttf => /Library/Frameworks/R.framework/Versions/3.5/Resources/library/extrafontdb/metrics/Constantia Italic\n",
      "/Library/Fonts/Microsoft/Constantia.ttf => /Library/Frameworks/R.framework/Versions/3.5/Resources/library/extrafontdb/metrics/Constantia\n",
      "/Library/Fonts/Microsoft/Corbel Bold Italic.ttf => /Library/Frameworks/R.framework/Versions/3.5/Resources/library/extrafontdb/metrics/Corbel Bold Italic\n",
      "/Library/Fonts/Microsoft/Corbel Bold.ttf => /Library/Frameworks/R.framework/Versions/3.5/Resources/library/extrafontdb/metrics/Corbel Bold\n",
      "/Library/Fonts/Microsoft/Corbel Italic.ttf => /Library/Frameworks/R.framework/Versions/3.5/Resources/library/extrafontdb/metrics/Corbel Italic\n",
      "/Library/Fonts/Microsoft/Corbel.ttf => /Library/Frameworks/R.framework/Versions/3.5/Resources/library/extrafontdb/metrics/Corbel\n",
      "/Library/Fonts/Microsoft/Franklin Gothic Book Italic.ttf => /Library/Frameworks/R.framework/Versions/3.5/Resources/library/extrafontdb/metrics/Franklin Gothic Book Italic\n",
      "/Library/Fonts/Microsoft/Franklin Gothic Book.ttf => /Library/Frameworks/R.framework/Versions/3.5/Resources/library/extrafontdb/metrics/Franklin Gothic Book\n",
      "/Library/Fonts/Microsoft/Franklin Gothic Medium Italic.ttf => /Library/Frameworks/R.framework/Versions/3.5/Resources/library/extrafontdb/metrics/Franklin Gothic Medium Italic\n",
      "/Library/Fonts/Microsoft/Franklin Gothic Medium.ttf => /Library/Frameworks/R.framework/Versions/3.5/Resources/library/extrafontdb/metrics/Franklin Gothic Medium\n",
      "/Library/Fonts/Microsoft/Gabriola.ttf => /Library/Frameworks/R.framework/Versions/3.5/Resources/library/extrafontdb/metrics/Gabriola\n",
      "/Library/Fonts/Microsoft/Gill Sans MT Bold Italic.ttf => /Library/Frameworks/R.framework/Versions/3.5/Resources/library/extrafontdb/metrics/Gill Sans MT Bold Italic\n",
      "/Library/Fonts/Microsoft/Gill Sans MT Bold.ttf => /Library/Frameworks/R.framework/Versions/3.5/Resources/library/extrafontdb/metrics/Gill Sans MT Bold\n",
      "/Library/Fonts/Microsoft/Gill Sans MT Italic.ttf => /Library/Frameworks/R.framework/Versions/3.5/Resources/library/extrafontdb/metrics/Gill Sans MT Italic\n",
      "/Library/Fonts/Microsoft/Gill Sans MT.ttf => /Library/Frameworks/R.framework/Versions/3.5/Resources/library/extrafontdb/metrics/Gill Sans MT\n",
      "/Library/Fonts/Microsoft/Gulim.ttf => /Library/Frameworks/R.framework/Versions/3.5/Resources/library/extrafontdb/metrics/Gulim\n",
      "/Library/Fonts/Microsoft/himalaya.ttf => /Library/Frameworks/R.framework/Versions/3.5/Resources/library/extrafontdb/metrics/himalaya\n",
      "/Library/Fonts/Microsoft/Lucida Console.ttf => /Library/Frameworks/R.framework/Versions/3.5/Resources/library/extrafontdb/metrics/Lucida Console\n",
      "/Library/Fonts/Microsoft/Lucida Sans Unicode.ttf => /Library/Frameworks/R.framework/Versions/3.5/Resources/library/extrafontdb/metrics/Lucida Sans Unicode\n",
      "/Library/Fonts/Microsoft/Marlett.ttf => /Library/Frameworks/R.framework/Versions/3.5/Resources/library/extrafontdb/metrics/Marlett\n",
      "/Library/Fonts/Microsoft/Meiryo Bold Italic.ttf => /Library/Frameworks/R.framework/Versions/3.5/Resources/library/extrafontdb/metrics/Meiryo Bold Italic\n",
      "/Library/Fonts/Microsoft/Meiryo Bold.ttf => /Library/Frameworks/R.framework/Versions/3.5/Resources/library/extrafontdb/metrics/Meiryo Bold\n",
      "/Library/Fonts/Microsoft/Meiryo Italic.ttf => /Library/Frameworks/R.framework/Versions/3.5/Resources/library/extrafontdb/metrics/Meiryo Italic\n",
      "/Library/Fonts/Microsoft/Meiryo.ttf => /Library/Frameworks/R.framework/Versions/3.5/Resources/library/extrafontdb/metrics/Meiryo\n",
      "/Library/Fonts/Microsoft/MingLiU_HKSCS-ExtB.ttf"
     ]
    }
   ],
   "source": [
    "library(extrafont)\n",
    "font_import()"
   ]
  },
  {
   "cell_type": "code",
   "execution_count": 8,
   "metadata": {},
   "outputs": [],
   "source": [
    "dat <- data.table::fread(gene.pred.file, sep=\"\\t\", header=TRUE)\n",
    "\n",
    "gene.pathogen.combinations <- group_by(dat, gene, pathogen) %>%\n",
    "dplyr::summarize(n=n()) %>%\n",
    "ungroup\n",
    "\n",
    "dat <- dplyr::left_join(dat, gene.pathogen.combinations, by=c(\"gene\", \"pathogen\"))\n",
    "dat <- dplyr::mutate(dat, Frequency=count/n)\n",
    "\n",
    "hs <- hist(dat$Frequency, breaks=300, plot=FALSE)\n",
    "df <- data.frame(Frequency=hs$mids, Density=hs$counts/sum(hs$counts))\n",
    "fre <- mean(dat$Frequency)"
   ]
  },
  {
   "cell_type": "code",
   "execution_count": 19,
   "metadata": {},
   "outputs": [
    {
     "name": "stdout",
     "output_type": "stream",
     "text": [
      "Package \"fontcm\" not installed. Would you like to install it from CRAN? [y/n] y\n"
     ]
    },
    {
     "name": "stderr",
     "output_type": "stream",
     "text": [
      "Attempting to install \"fontcm\" from CRAN...\n"
     ]
    },
    {
     "name": "stdout",
     "output_type": "stream",
     "text": [
      "\n",
      "The downloaded binary packages are in\n",
      "\t/var/folders/cx/v45t2v2n6b548_vfn76vnzlw0050sr/T//RtmpP8hrj4/downloaded_packages\n"
     ]
    },
    {
     "name": "stderr",
     "output_type": "stream",
     "text": [
      "Registering font package \"fontcm\" with fonts.\n",
      "Importing type1 font from /Library/Frameworks/R.framework/Versions/3.5/Resources/library/fontcm\n",
      "Scanning afm files in /Library/Frameworks/R.framework/Versions/3.5/Resources/library/fontcm/fonts/metrics\n",
      "Writing font table in /Library/Frameworks/R.framework/Versions/3.5/Resources/library/extrafontdb/fontmap/fonttable.csv\n",
      "Writing Fontmap to /Library/Frameworks/R.framework/Versions/3.5/Resources/library/extrafontdb/fontmap/Fontmap...\n"
     ]
    }
   ],
   "source": [
    "font_install(\"fontcm\")"
   ]
  },
  {
   "cell_type": "code",
   "execution_count": 38,
   "metadata": {},
   "outputs": [
    {
     "name": "stderr",
     "output_type": "stream",
     "text": [
      "Warning message:\n",
      "“Ignoring unknown parameters: binwidth, bins, pad”Warning message in grid.Call(C_textBounds, as.graphicsAnnot(x$label), x$x, x$y, :\n",
      "“font family 'Roboto Condensed Light' not found in PostScript font database”Warning message in grid.Call(C_textBounds, as.graphicsAnnot(x$label), x$x, x$y, :\n",
      "“font family 'Roboto Condensed Light' not found in PostScript font database”Warning message in grid.Call(C_textBounds, as.graphicsAnnot(x$label), x$x, x$y, :\n",
      "“font family 'Roboto Condensed Light' not found in PostScript font database”Warning message in grid.Call(C_textBounds, as.graphicsAnnot(x$label), x$x, x$y, :\n",
      "“font family 'Roboto Condensed Light' not found in PostScript font database”Warning message in grid.Call(C_textBounds, as.graphicsAnnot(x$label), x$x, x$y, :\n",
      "“font family 'Roboto Condensed Light' not found in PostScript font database”Warning message in grid.Call(C_textBounds, as.graphicsAnnot(x$label), x$x, x$y, :\n",
      "“font family 'Roboto Condensed Light' not found in PostScript font database”Warning message in grid.Call(C_textBounds, as.graphicsAnnot(x$label), x$x, x$y, :\n",
      "“font family 'Roboto Condensed Light' not found in PostScript font database”Warning message in grid.Call(C_textBounds, as.graphicsAnnot(x$label), x$x, x$y, :\n",
      "“font family 'Roboto Condensed Light' not found in PostScript font database”Warning message in grid.Call(C_textBounds, as.graphicsAnnot(x$label), x$x, x$y, :\n",
      "“font family 'Roboto Condensed Light' not found in PostScript font database”Warning message in grid.Call(C_textBounds, as.graphicsAnnot(x$label), x$x, x$y, :\n",
      "“font family 'Roboto Condensed Light' not found in PostScript font database”Warning message in grid.Call(C_textBounds, as.graphicsAnnot(x$label), x$x, x$y, :\n",
      "“font family 'Roboto Condensed Light' not found in PostScript font database”Warning message in grid.Call(C_textBounds, as.graphicsAnnot(x$label), x$x, x$y, :\n",
      "“font family 'Roboto Condensed Light' not found in PostScript font database”Warning message in grid.Call(C_textBounds, as.graphicsAnnot(x$label), x$x, x$y, :\n",
      "“font family 'Roboto Condensed Light' not found in PostScript font database”Warning message in grid.Call(C_textBounds, as.graphicsAnnot(x$label), x$x, x$y, :\n",
      "“font family 'Roboto Condensed Light' not found in PostScript font database”Warning message in grid.Call(C_textBounds, as.graphicsAnnot(x$label), x$x, x$y, :\n",
      "“font family 'Roboto Condensed Light' not found in PostScript font database”Warning message in grid.Call(C_textBounds, as.graphicsAnnot(x$label), x$x, x$y, :\n",
      "“font family 'Roboto Condensed Light' not found in PostScript font database”Warning message in grid.Call(C_textBounds, as.graphicsAnnot(x$label), x$x, x$y, :\n",
      "“font family 'Roboto Condensed Light' not found in PostScript font database”Warning message in grid.Call.graphics(C_text, as.graphicsAnnot(x$label), x$x, x$y, :\n",
      "“font family 'Roboto Condensed Light' not found in PostScript font database”Warning message in grid.Call.graphics(C_text, as.graphicsAnnot(x$label), x$x, x$y, :\n",
      "“font family 'Roboto Condensed Light' not found in PostScript font database”"
     ]
    },
    {
     "data": {},
     "metadata": {},
     "output_type": "display_data"
    },
    {
     "data": {
      "image/png": "[encoded data removed]",
      "text/plain": [
       "plot without title"
      ]
     },
     "metadata": {},
     "output_type": "display_data"
    }
   ],
   "source": [
    "\n",
    "ggplot(df) +\n",
    "geom_histogram(aes(x=Frequency, y=Density), stat=\"identity\", color=\"black\", alpha=.5) +\n",
    "hrbrthemes::theme_ipsum_rc(base_family = \"Helvetica\") +\n",
    "ylab(\"Density\") +\n",
    "xlab(\"Relative frequency of single-cells mapping to same cluster\") +\n",
    "labs(caption=paste(\"The plot shows the relative frequency if single-cells of the same\",\n",
    "                   \"genetic knockdown and pathogen map to the same cluster.\", sep=\"\\n\")) +\n",
    "geom_vline(data=NULL, aes(xintercept=fre), color=\"red\", lwd=1) +\n",
    "geom_text(data=NULL, aes(x=fre, y=.15), label=paste0(\"Mean=\", round(fre, 3)), hjust=-.25) +\n",
    "ggplot2::theme(axis.text.x  = ggplot2::element_text( size=18, color=\"black\"),\n",
    "               axis.text.y  = ggplot2::element_text(size=18, color=\"black\"),\n",
    "               plot.caption  = ggplot2::element_text(size=14, color=\"black\"),\n",
    "               panel.grid.major = element_blank(),\n",
    "               panel.grid.minor = element_blank(),\n",
    "               axis.title.x   = ggplot2::element_text(size=20),\n",
    "               axis.title.y   = ggplot2::element_text(size=20))"
   ]
  },
  {
   "cell_type": "code",
   "execution_count": null,
   "metadata": {},
   "outputs": [],
   "source": []
  }
 ],
 "metadata": {
  "kernelspec": {
   "display_name": "R",
   "language": "R",
   "name": "ir"
  },
  "language_info": {
   "codemirror_mode": "r",
   "file_extension": ".r",
   "mimetype": "text/x-r-source",
   "name": "R",
   "pygments_lexer": "r",
   "version": "3.5.0"
  }
 },
 "nbformat": 4,
 "nbformat_minor": 2
}
