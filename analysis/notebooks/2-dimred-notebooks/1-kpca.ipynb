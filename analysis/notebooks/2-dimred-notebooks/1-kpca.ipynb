{
 "cells": [
  {
   "cell_type": "code",
   "execution_count": 1,
   "metadata": {},
   "outputs": [],
   "source": [
    "import os\n",
    "import sys\n",
    "import pandas\n",
    "import numpy, scipy, sklearn\n",
    "\n",
    "import findspark\n",
    "findspark.init(\"/usr/local/spark/spark\")\n",
    "\n",
    "import pyspark\n",
    "from pyspark.sql.window import Window\n",
    "import pyspark.sql.functions as func\n",
    "\n",
    "from pyspark.rdd import reduce\n",
    "from pyspark.sql.types import DoubleType\n",
    "from pyspark.ml.feature import VectorAssembler\n",
    "import pyspark.mllib.linalg.distributed\n",
    "from pyspark.mllib.linalg.distributed import RowMatrix, DenseMatrix\n",
    "from pyspark.ml.linalg import SparseVector, VectorUDT, Vector, Vectors\n",
    "from pyspark.mllib.stat import Statistics"
   ]
  },
  {
   "cell_type": "code",
   "execution_count": 2,
   "metadata": {},
   "outputs": [],
   "source": [
    "import sklearn\n",
    "import math\n",
    "import numpy\n",
    "from numpy import matmul\n",
    "import scipy\n",
    "from scipy import linalg\n",
    "from scipy.spatial.distance import pdist, squareform\n",
    "from sklearn.decomposition import PCA, KernelPCA\n",
    "from sklearn.datasets import make_circles\n",
    "\n",
    "%matplotlib inline  \n",
    "import matplotlib.pyplot as plt"
   ]
  },
  {
   "cell_type": "code",
   "execution_count": 3,
   "metadata": {},
   "outputs": [],
   "source": [
    "file_name = \"/Users/simondi/PROJECTS/target_infect_x_project/src/tix-analysis/data/single_cell_samples.tsv\""
   ]
  },
  {
   "cell_type": "code",
   "execution_count": 4,
   "metadata": {},
   "outputs": [],
   "source": [
    "conf = pyspark.SparkConf().setMaster(\"local[*]\").set(\"spark.driver.memory\", \"4G\").set(\"spark.executor.memory\", \"4G\")\n",
    "sc = pyspark.SparkContext(conf=conf)\n",
    "spark = pyspark.sql.SparkSession(sc)"
   ]
  },
  {
   "cell_type": "code",
   "execution_count": 4,
   "metadata": {},
   "outputs": [
    {
     "data": {
      "text/plain": [
       "'2.3.0'"
      ]
     },
     "execution_count": 4,
     "metadata": {},
     "output_type": "execute_result"
    }
   ],
   "source": [
    "spark.version"
   ]
  },
  {
   "cell_type": "code",
   "execution_count": 5,
   "metadata": {},
   "outputs": [],
   "source": [
    "df = spark.read.csv(path=file_name, sep=\"\\t\", header='true')"
   ]
  },
  {
   "cell_type": "code",
   "execution_count": 6,
   "metadata": {},
   "outputs": [],
   "source": [
    "old_cols = df.columns\n",
    "new_cols = list(map(lambda x: x.replace(\".\", \"_\"), old_cols))\n",
    "\n",
    "df = reduce(\n",
    "  lambda data, idx: data.withColumnRenamed(old_cols[idx], new_cols[idx]),\n",
    "  range(len(new_cols)), df)\n",
    "\n",
    "for i, x in enumerate(new_cols):\n",
    "    if x.startswith(\"cells\") or x.startswith(\"perin\") or x.startswith(\"nucl\"):\n",
    "        df = df.withColumn(x, df[x].cast(\"double\"))\n",
    "\n",
    "df = df.fillna(0)"
   ]
  },
  {
   "cell_type": "code",
   "execution_count": 7,
   "metadata": {},
   "outputs": [
    {
     "data": {
      "text/plain": [
       "[Row(study='infectx_published', pathogen='listeria', library='a', design='u', replicate='1', plate='kb2-02-1x', well='a01', gene='chka', sirna='s3008', well_type='sirna', image_idx='4', object_idx='144', cells_areashape_area=-0.8044235519947214, cells_areashape_eccentricity=0.01210726352227413, cells_areashape_extent=1.1159023326616404, cells_areashape_formfactor=1.4749286136850854, cells_areashape_majoraxislength=-0.9368530225439791, cells_areashape_minoraxislength=-0.7485320762193192, cells_areashape_perimeter=-1.0209269921587854, cells_location_center_x=0.44758084788204255, cells_location_center_y=1.2808903222918113, cells_neighbors_anglebetweenneighbors_2=1.3915760955745562, cells_neighbors_firstclosestobjectnumber_2=0.14886791955020456, cells_neighbors_firstclosestxvector_2=0.6694456185473984, cells_neighbors_firstclosestyvector_2=-1.233468444008488, cells_neighbors_numberofneighbors_2=-0.08251849113020833, cells_neighbors_secondclosestobjectnumber_2=0.010590200221473884, cells_neighbors_secondclosestxvector_2=-0.5078296335206587, cells_neighbors_secondclosestyvector_2=1.2455372476249023, cells_parent_nuclei=0.13572336470424068, infection='-0.7030171063989196')]"
      ]
     },
     "execution_count": 7,
     "metadata": {},
     "output_type": "execute_result"
    }
   ],
   "source": [
    "df.take(1)"
   ]
  },
  {
   "cell_type": "code",
   "execution_count": 169,
   "metadata": {},
   "outputs": [
    {
     "data": {
      "text/html": [
       "<div>\n",
       "<style scoped>\n",
       "    .dataframe tbody tr th:only-of-type {\n",
       "        vertical-align: middle;\n",
       "    }\n",
       "\n",
       "    .dataframe tbody tr th {\n",
       "        vertical-align: top;\n",
       "    }\n",
       "\n",
       "    .dataframe thead th {\n",
       "        text-align: right;\n",
       "    }\n",
       "</style>\n",
       "<table border=\"1\" class=\"dataframe\">\n",
       "  <thead>\n",
       "    <tr style=\"text-align: right;\">\n",
       "      <th></th>\n",
       "      <th>cells_areashape_area</th>\n",
       "      <th>cells_areashape_eccentricity</th>\n",
       "      <th>cells_areashape_extent</th>\n",
       "      <th>cells_areashape_formfactor</th>\n",
       "      <th>cells_areashape_majoraxislength</th>\n",
       "      <th>cells_areashape_minoraxislength</th>\n",
       "      <th>cells_areashape_perimeter</th>\n",
       "      <th>cells_location_center_x</th>\n",
       "      <th>cells_location_center_y</th>\n",
       "      <th>cells_neighbors_anglebetweenneighbors_2</th>\n",
       "      <th>cells_neighbors_firstclosestobjectnumber_2</th>\n",
       "      <th>cells_neighbors_firstclosestxvector_2</th>\n",
       "      <th>cells_neighbors_firstclosestyvector_2</th>\n",
       "      <th>cells_neighbors_numberofneighbors_2</th>\n",
       "      <th>cells_neighbors_secondclosestobjectnumber_2</th>\n",
       "      <th>cells_neighbors_secondclosestxvector_2</th>\n",
       "      <th>cells_neighbors_secondclosestyvector_2</th>\n",
       "      <th>cells_parent_nuclei</th>\n",
       "    </tr>\n",
       "  </thead>\n",
       "  <tbody>\n",
       "    <tr>\n",
       "      <th>0</th>\n",
       "      <td>-0.804424</td>\n",
       "      <td>0.012107</td>\n",
       "      <td>1.115902</td>\n",
       "      <td>1.474929</td>\n",
       "      <td>-0.936853</td>\n",
       "      <td>-0.748532</td>\n",
       "      <td>-1.020927</td>\n",
       "      <td>0.447581</td>\n",
       "      <td>1.280890</td>\n",
       "      <td>1.391576</td>\n",
       "      <td>0.148868</td>\n",
       "      <td>0.669446</td>\n",
       "      <td>-1.233468</td>\n",
       "      <td>-0.082518</td>\n",
       "      <td>0.010590</td>\n",
       "      <td>-0.507830</td>\n",
       "      <td>1.245537</td>\n",
       "      <td>0.135723</td>\n",
       "    </tr>\n",
       "    <tr>\n",
       "      <th>1</th>\n",
       "      <td>-0.947417</td>\n",
       "      <td>-0.039872</td>\n",
       "      <td>0.126236</td>\n",
       "      <td>0.619824</td>\n",
       "      <td>-1.008134</td>\n",
       "      <td>-0.795895</td>\n",
       "      <td>-0.948540</td>\n",
       "      <td>0.426316</td>\n",
       "      <td>-0.210378</td>\n",
       "      <td>-0.393921</td>\n",
       "      <td>0.394149</td>\n",
       "      <td>-0.378558</td>\n",
       "      <td>1.005330</td>\n",
       "      <td>-0.674801</td>\n",
       "      <td>0.267972</td>\n",
       "      <td>-1.062147</td>\n",
       "      <td>-0.589869</td>\n",
       "      <td>0.429000</td>\n",
       "    </tr>\n",
       "    <tr>\n",
       "      <th>2</th>\n",
       "      <td>-0.083864</td>\n",
       "      <td>1.123911</td>\n",
       "      <td>1.761118</td>\n",
       "      <td>0.848893</td>\n",
       "      <td>0.557173</td>\n",
       "      <td>-0.729131</td>\n",
       "      <td>-0.475111</td>\n",
       "      <td>0.801443</td>\n",
       "      <td>-1.115465</td>\n",
       "      <td>0.699665</td>\n",
       "      <td>0.970561</td>\n",
       "      <td>-0.178526</td>\n",
       "      <td>1.066833</td>\n",
       "      <td>1.694328</td>\n",
       "      <td>1.101400</td>\n",
       "      <td>0.654194</td>\n",
       "      <td>-0.652910</td>\n",
       "      <td>0.942235</td>\n",
       "    </tr>\n",
       "    <tr>\n",
       "      <th>3</th>\n",
       "      <td>-0.313932</td>\n",
       "      <td>0.706511</td>\n",
       "      <td>-0.091321</td>\n",
       "      <td>0.843033</td>\n",
       "      <td>-0.105419</td>\n",
       "      <td>-0.558973</td>\n",
       "      <td>-0.598201</td>\n",
       "      <td>0.844086</td>\n",
       "      <td>0.163342</td>\n",
       "      <td>0.538777</td>\n",
       "      <td>0.896976</td>\n",
       "      <td>-0.284293</td>\n",
       "      <td>-1.291491</td>\n",
       "      <td>0.509764</td>\n",
       "      <td>0.991093</td>\n",
       "      <td>1.060553</td>\n",
       "      <td>0.745440</td>\n",
       "      <td>0.905576</td>\n",
       "    </tr>\n",
       "    <tr>\n",
       "      <th>4</th>\n",
       "      <td>-0.329909</td>\n",
       "      <td>-1.991598</td>\n",
       "      <td>1.681721</td>\n",
       "      <td>0.563054</td>\n",
       "      <td>-0.829567</td>\n",
       "      <td>0.350953</td>\n",
       "      <td>-0.528627</td>\n",
       "      <td>1.166916</td>\n",
       "      <td>-0.347052</td>\n",
       "      <td>1.378619</td>\n",
       "      <td>1.326219</td>\n",
       "      <td>-0.318167</td>\n",
       "      <td>1.466327</td>\n",
       "      <td>1.694328</td>\n",
       "      <td>1.469089</td>\n",
       "      <td>0.423660</td>\n",
       "      <td>-1.182652</td>\n",
       "      <td>1.345491</td>\n",
       "    </tr>\n",
       "  </tbody>\n",
       "</table>\n",
       "</div>"
      ],
      "text/plain": [
       "   cells_areashape_area  cells_areashape_eccentricity  cells_areashape_extent  \\\n",
       "0             -0.804424                      0.012107                1.115902   \n",
       "1             -0.947417                     -0.039872                0.126236   \n",
       "2             -0.083864                      1.123911                1.761118   \n",
       "3             -0.313932                      0.706511               -0.091321   \n",
       "4             -0.329909                     -1.991598                1.681721   \n",
       "\n",
       "   cells_areashape_formfactor  cells_areashape_majoraxislength  \\\n",
       "0                    1.474929                        -0.936853   \n",
       "1                    0.619824                        -1.008134   \n",
       "2                    0.848893                         0.557173   \n",
       "3                    0.843033                        -0.105419   \n",
       "4                    0.563054                        -0.829567   \n",
       "\n",
       "   cells_areashape_minoraxislength  cells_areashape_perimeter  \\\n",
       "0                        -0.748532                  -1.020927   \n",
       "1                        -0.795895                  -0.948540   \n",
       "2                        -0.729131                  -0.475111   \n",
       "3                        -0.558973                  -0.598201   \n",
       "4                         0.350953                  -0.528627   \n",
       "\n",
       "   cells_location_center_x  cells_location_center_y  \\\n",
       "0                 0.447581                 1.280890   \n",
       "1                 0.426316                -0.210378   \n",
       "2                 0.801443                -1.115465   \n",
       "3                 0.844086                 0.163342   \n",
       "4                 1.166916                -0.347052   \n",
       "\n",
       "   cells_neighbors_anglebetweenneighbors_2  \\\n",
       "0                                 1.391576   \n",
       "1                                -0.393921   \n",
       "2                                 0.699665   \n",
       "3                                 0.538777   \n",
       "4                                 1.378619   \n",
       "\n",
       "   cells_neighbors_firstclosestobjectnumber_2  \\\n",
       "0                                    0.148868   \n",
       "1                                    0.394149   \n",
       "2                                    0.970561   \n",
       "3                                    0.896976   \n",
       "4                                    1.326219   \n",
       "\n",
       "   cells_neighbors_firstclosestxvector_2  \\\n",
       "0                               0.669446   \n",
       "1                              -0.378558   \n",
       "2                              -0.178526   \n",
       "3                              -0.284293   \n",
       "4                              -0.318167   \n",
       "\n",
       "   cells_neighbors_firstclosestyvector_2  cells_neighbors_numberofneighbors_2  \\\n",
       "0                              -1.233468                            -0.082518   \n",
       "1                               1.005330                            -0.674801   \n",
       "2                               1.066833                             1.694328   \n",
       "3                              -1.291491                             0.509764   \n",
       "4                               1.466327                             1.694328   \n",
       "\n",
       "   cells_neighbors_secondclosestobjectnumber_2  \\\n",
       "0                                     0.010590   \n",
       "1                                     0.267972   \n",
       "2                                     1.101400   \n",
       "3                                     0.991093   \n",
       "4                                     1.469089   \n",
       "\n",
       "   cells_neighbors_secondclosestxvector_2  \\\n",
       "0                               -0.507830   \n",
       "1                               -1.062147   \n",
       "2                                0.654194   \n",
       "3                                1.060553   \n",
       "4                                0.423660   \n",
       "\n",
       "   cells_neighbors_secondclosestyvector_2  cells_parent_nuclei  \n",
       "0                                1.245537             0.135723  \n",
       "1                               -0.589869             0.429000  \n",
       "2                               -0.652910             0.942235  \n",
       "3                                0.745440             0.905576  \n",
       "4                               -1.182652             1.345491  "
      ]
     },
     "execution_count": 169,
     "metadata": {},
     "output_type": "execute_result"
    }
   ],
   "source": [
    "data = df.toPandas()\n",
    "fc = list(filter(lambda x: x.startswith(\"cells\"), data.columns))\n",
    "data = data[fc]\n",
    "data[:5]"
   ]
  },
  {
   "cell_type": "code",
   "execution_count": 170,
   "metadata": {},
   "outputs": [],
   "source": [
    "data = data.values\n",
    "data = data.astype(numpy.float64)\n",
    "data[numpy.isnan(data)] = 0"
   ]
  },
  {
   "cell_type": "code",
   "execution_count": 171,
   "metadata": {},
   "outputs": [],
   "source": [
    "# factor analysis\n",
    "means = numpy.mean(data, axis=0)\n",
    "std = numpy.nanstd(data, axis=0)\n",
    "Xs = (data - means)"
   ]
  },
  {
   "cell_type": "code",
   "execution_count": 17,
   "metadata": {},
   "outputs": [
    {
     "data": {
      "text/plain": [
       "(100, 18)"
      ]
     },
     "execution_count": 17,
     "metadata": {},
     "output_type": "execute_result"
    }
   ],
   "source": [
    "X.shape"
   ]
  },
  {
   "cell_type": "code",
   "execution_count": 22,
   "metadata": {},
   "outputs": [
    {
     "data": {
      "text/plain": [
       "numpy.ndarray"
      ]
     },
     "execution_count": 22,
     "metadata": {},
     "output_type": "execute_result"
    }
   ],
   "source": [
    "type(X)"
   ]
  },
  {
   "cell_type": "code",
   "execution_count": 34,
   "metadata": {},
   "outputs": [],
   "source": [
    "def rainbowfacet(x, y):\n",
    "    psd = sklearn.metrics.pairwise.euclidean_distances(x, y) ** 2\n",
    "    K = scipy.exp(- (1/x.shape[1]) * psd)\n",
    "    return K"
   ]
  },
  {
   "cell_type": "code",
   "execution_count": 35,
   "metadata": {},
   "outputs": [],
   "source": [
    "idx = numpy.random.choice(X.shape[0], 10, replace=False)"
   ]
  },
  {
   "cell_type": "code",
   "execution_count": 36,
   "metadata": {},
   "outputs": [],
   "source": [
    "Xs = X[numpy.ix_(idx)]"
   ]
  },
  {
   "cell_type": "code",
   "execution_count": 37,
   "metadata": {},
   "outputs": [],
   "source": [
    "def nystroem(X, m=5):\n",
    "    idx = numpy.random.choice(X.shape[0], m, replace=False)    \n",
    "    Xs = X[numpy.ix_(idx)]\n",
    "    K_xs = rainbowfacet(X, Xs)\n",
    "    K_ss = rainbowfacet(Xs, Xs)\n",
    "    K_hat = K_xs.dot(numpy.linalg.pinv(K_ss)).dot(K_xs.T)\n",
    "    return K_hat"
   ]
  },
  {
   "cell_type": "code",
   "execution_count": 48,
   "metadata": {},
   "outputs": [],
   "source": [
    "def kernig(K):\n",
    "    n, _ = K.shape\n",
    "    O = numpy.ones(shape=(n, n)) / n\n",
    "    Kt = K - numpy.matmul(O, K) - numpy.matmul(K, O) + numpy.matmul(O, numpy.matmul(K, O))\n",
    "    return Kt"
   ]
  },
  {
   "cell_type": "code",
   "execution_count": 50,
   "metadata": {},
   "outputs": [],
   "source": [
    "def kpca(K, n_components=2):\n",
    "    U, L = scipy.linalg.eigh(K)\n",
    "    indices = U.argsort()[::-1]\n",
    "    U, L = U[indices], L[:, indices]\n",
    "    L, U = L[:, U > 0], U[U > 0]\n",
    "    return numpy.dot(K, (L / numpy.sqrt(U))[:, :n_components])"
   ]
  },
  {
   "cell_type": "code",
   "execution_count": 12,
   "metadata": {},
   "outputs": [],
   "source": [
    "def fourier(X, n_features=10000):    \n",
    "    w = numpy.random.normal(size=(X.shape[1], n_features))\n",
    "    b = 2 * numpy.pi * numpy.random.rand(n_features)\n",
    "    return numpy.sqrt(2.0 / n_features) * numpy.cos(numpy.dot(X, w) + b)"
   ]
  },
  {
   "cell_type": "code",
   "execution_count": 13,
   "metadata": {},
   "outputs": [],
   "source": [
    "import sklearn.decomposition\n",
    "import scipy\n",
    "import scipy.linalg\n",
    "import numpy"
   ]
  },
  {
   "cell_type": "code",
   "execution_count": 14,
   "metadata": {},
   "outputs": [],
   "source": [
    "import sklearn.kernel_approximation"
   ]
  },
  {
   "cell_type": "code",
   "execution_count": 72,
   "metadata": {},
   "outputs": [],
   "source": [
    "def fourier(X, n_features, seed, gamma):    \n",
    "    random_state = numpy.random.RandomState(seed)\n",
    "    w =  numpy.sqrt(2 * gamma) * random_state.normal(size=(X.shape[1], n_features))\n",
    "    b = random_state.uniform(0, 2 * numpy.pi, size=n_features)\n",
    "    return numpy.sqrt(2.0 / n_features) * numpy.cos(numpy.dot(X, w) + b)"
   ]
  },
  {
   "cell_type": "code",
   "execution_count": 77,
   "metadata": {},
   "outputs": [],
   "source": [
    "rbf_feature = sklearn.kernel_approximation.RBFSampler(random_state=1)"
   ]
  },
  {
   "cell_type": "code",
   "execution_count": 78,
   "metadata": {},
   "outputs": [
    {
     "data": {
      "image/png": "[encoded data removed]",
      "text/plain": [
       "<Figure size 720x720 with 3 Axes>"
      ]
     },
     "metadata": {},
     "output_type": "display_data"
    }
   ],
   "source": [
    "X_kpca = sklearn.decomposition.KernelPCA(2, kernel=\"rbf\").fit_transform(X)\n",
    "Kf_pca = sklearn.decomposition.PCA(2).fit_transform(fourier(X, 100, gamma=1, seed=1))\n",
    "K_pca = sklearn.decomposition.PCA(2).fit_transform(rbf_feature.fit_transform(X))\n",
    "\n",
    "colors = [\"r\", \"b\", \"g\", \"c\", \"m\", \"y\", \"k\", \"w\"]\n",
    "plt.figure(figsize=(10, 10))\n",
    "plt.subplot(2, 2, 1, aspect='equal')\n",
    "plt.scatter(X_kpca[:5, 0], X_kpca[:5, 1], c=(colors), s=20, edgecolor='k')\n",
    "plt.title(\"sk-learn KPCA\")\n",
    "\n",
    "plt.subplot(2, 2, 2, aspect='equal')\n",
    "plt.scatter(K_pca[:5, 0], K_pca[:5, 1], c=colors, s=20, edgecolor='k')\n",
    "plt.title(\"sklearn fourier kpca\")\n",
    "\n",
    "plt.subplot(2, 2, 4, aspect='equal')\n",
    "plt.scatter(Kf_pca[:5, 0], Kf_pca[:5, 1], c=colors, s=20, edgecolor='k')\n",
    "plt.title(\"fourier KPCA\")\n",
    "\n",
    "\n",
    "plt.show()"
   ]
  },
  {
   "cell_type": "code",
   "execution_count": 147,
   "metadata": {},
   "outputs": [],
   "source": [
    "feature_columns = [x for x in df.columns if x.startswith(\"cells\")]\n",
    "assembler = VectorAssembler(inputCols=feature_columns, outputCol='features')\n",
    "data = assembler.transform(df)"
   ]
  },
  {
   "cell_type": "code",
   "execution_count": 148,
   "metadata": {},
   "outputs": [
    {
     "data": {
      "text/plain": [
       "DataFrame[study: string, pathogen: string, library: string, design: string, replicate: string, plate: string, well: string, gene: string, sirna: string, well_type: string, image_idx: string, object_idx: string, cells_areashape_area: double, cells_areashape_eccentricity: double, cells_areashape_extent: double, cells_areashape_formfactor: double, cells_areashape_majoraxislength: double, cells_areashape_minoraxislength: double, cells_areashape_perimeter: double, cells_location_center_x: double, cells_location_center_y: double, cells_neighbors_anglebetweenneighbors_2: double, cells_neighbors_firstclosestobjectnumber_2: double, cells_neighbors_firstclosestxvector_2: double, cells_neighbors_firstclosestyvector_2: double, cells_neighbors_numberofneighbors_2: double, cells_neighbors_secondclosestobjectnumber_2: double, cells_neighbors_secondclosestxvector_2: double, cells_neighbors_secondclosestyvector_2: double, cells_parent_nuclei: double, infection: string, features: vector]"
      ]
     },
     "execution_count": 148,
     "metadata": {},
     "output_type": "execute_result"
    }
   ],
   "source": [
    "data"
   ]
  },
  {
   "cell_type": "code",
   "execution_count": 149,
   "metadata": {},
   "outputs": [],
   "source": [
    "rdd = data.select(feature_columns).rdd.map(numpy.array)\n",
    "X = RowMatrix(rdd)"
   ]
  },
  {
   "cell_type": "code",
   "execution_count": 150,
   "metadata": {},
   "outputs": [],
   "source": [
    "stat = X.computeColumnSummaryStatistics()\n",
    "mean, var = stat.mean(), stat.variance()"
   ]
  },
  {
   "cell_type": "code",
   "execution_count": 151,
   "metadata": {},
   "outputs": [
    {
     "data": {
      "text/plain": [
       "array([-0.06635729, -0.11428057,  0.11343067,  0.05040407, -0.10184821,\n",
       "       -0.00780856, -0.07642234, -0.02282229, -0.06262571,  0.12484165,\n",
       "        0.05149121,  0.0084862 ,  0.06069586,  0.14847159,  0.03277408,\n",
       "       -0.08037804,  0.00642936,  0.04285231])"
      ]
     },
     "execution_count": 151,
     "metadata": {},
     "output_type": "execute_result"
    }
   ],
   "source": [
    "mean"
   ]
  },
  {
   "cell_type": "code",
   "execution_count": 152,
   "metadata": {},
   "outputs": [],
   "source": [
    "X_rowm = RowMatrix(X.rows.map(lambda x: (x - means) / numpy.sqrt(var)))"
   ]
  },
  {
   "cell_type": "code",
   "execution_count": 154,
   "metadata": {},
   "outputs": [],
   "source": [
    "def fourier(X, n_features, seed, gamma):    \n",
    "    p = X.numCols()\n",
    "    \n",
    "    random_state = numpy.random.RandomState(seed)    \n",
    "    w =  numpy.sqrt(2 * gamma) * random_state.normal(size=(p, n_features))\n",
    "    b = random_state.uniform(0, 2 * numpy.pi, size=n_features)\n",
    "    w = DenseMatrix(p, n_features, w.flatten())\n",
    "    Y = X.multiply(w)\n",
    "    Y = Y.rows.map(lambda x: numpy.sqrt(2.0 / n_features) * numpy.cos(x + b))\n",
    "    return RowMatrix(Y)"
   ]
  },
  {
   "cell_type": "code",
   "execution_count": 155,
   "metadata": {},
   "outputs": [],
   "source": [
    "X_new = fourier(X_rowm, 100, 1, 1)"
   ]
  },
  {
   "cell_type": "code",
   "execution_count": 124,
   "metadata": {},
   "outputs": [],
   "source": [
    "from pyspark.sql.functions import col\n",
    "from pyspark.sql.functions import udf\n",
    "from pyspark.sql.types import DoubleType, ArrayType"
   ]
  },
  {
   "cell_type": "code",
   "execution_count": 156,
   "metadata": {},
   "outputs": [],
   "source": [
    "df2 = spark.createDataFrame(X_new.rows.map(lambda x: (x, ) ))"
   ]
  },
  {
   "cell_type": "code",
   "execution_count": 157,
   "metadata": {},
   "outputs": [],
   "source": [
    "def as_array(vector):\n",
    "    def to_array(col):\n",
    "        def to_array_(v):\n",
    "            return v.toArray().tolist()\n",
    "\n",
    "        return udf(to_array_, ArrayType(DoubleType()))(col)\n",
    "\n",
    "    return to_array(vector)"
   ]
  },
  {
   "cell_type": "code",
   "execution_count": 158,
   "metadata": {},
   "outputs": [],
   "source": [
    "len_vec = len(df2.select(\"_1\").take(1)[0][0])"
   ]
  },
  {
   "cell_type": "code",
   "execution_count": 159,
   "metadata": {},
   "outputs": [],
   "source": [
    "data = (\n",
    "    df2.withColumn(\"f\", as_array(col(\"_1\")))\n",
    "        .select([col(\"f\")[i] for i in range(len_vec)])\n",
    ")"
   ]
  },
  {
   "cell_type": "code",
   "execution_count": 161,
   "metadata": {},
   "outputs": [],
   "source": [
    "for i, x in enumerate(data.columns):\n",
    "    if x.startswith(\"f[\"):\n",
    "        data = data.withColumnRenamed(\n",
    "          x, x.replace(\"[\", \"_\").replace(\"]\", \"\"))"
   ]
  },
  {
   "cell_type": "code",
   "execution_count": 162,
   "metadata": {},
   "outputs": [],
   "source": [
    "X_y = data.toPandas().values"
   ]
  },
  {
   "cell_type": "code",
   "execution_count": 165,
   "metadata": {},
   "outputs": [
    {
     "data": {
      "text/plain": [
       "<pyspark.mllib.linalg.distributed.RowMatrix at 0x11ee1b160>"
      ]
     },
     "execution_count": 165,
     "metadata": {},
     "output_type": "execute_result"
    }
   ],
   "source": [
    "X"
   ]
  },
  {
   "cell_type": "code",
   "execution_count": 174,
   "metadata": {},
   "outputs": [
    {
     "data": {
      "image/png": "[encoded data removed]",
      "text/plain": [
       "<Figure size 720x720 with 3 Axes>"
      ]
     },
     "metadata": {},
     "output_type": "display_data"
    }
   ],
   "source": [
    "X_kpca = sklearn.decomposition.KernelPCA(2, kernel=\"rbf\").fit_transform(Xs)\n",
    "Kf_pca = sklearn.decomposition.PCA(2).fit_transform(X_y)\n",
    "K_pca = sklearn.decomposition.PCA(2).fit_transform(rbf_feature.fit_transform(Xs))\n",
    "\n",
    "colors = [\"r\", \"b\", \"g\", \"c\", \"m\", \"y\", \"k\", \"w\"]\n",
    "plt.figure(figsize=(10, 10))\n",
    "plt.subplot(2, 2, 1, aspect='equal')\n",
    "plt.scatter(X_kpca[:5, 0], X_kpca[:5, 1], c=(colors), s=20, edgecolor='k')\n",
    "plt.title(\"sk-learn KPCA\")\n",
    "\n",
    "plt.subplot(2, 2, 2, aspect='equal')\n",
    "plt.scatter(K_pca[:5, 0], K_pca[:5, 1], c=colors, s=20, edgecolor='k')\n",
    "plt.title(\"sklearn fourier kpca\")\n",
    "\n",
    "plt.subplot(2, 2, 4, aspect='equal')\n",
    "plt.scatter(Kf_pca[:5, 0], Kf_pca[:5, 1], c=colors, s=20, edgecolor='k')\n",
    "plt.title(\"fourier KPCA\")\n",
    "\n",
    "\n",
    "plt.show()"
   ]
  },
  {
   "cell_type": "code",
   "execution_count": null,
   "metadata": {},
   "outputs": [],
   "source": []
  }
 ],
 "metadata": {
  "kernelspec": {
   "display_name": "Python 3 (Tix)",
   "language": "python",
   "name": "tix"
  },
  "language_info": {
   "codemirror_mode": {
    "name": "ipython",
    "version": 3
   },
   "file_extension": ".py",
   "mimetype": "text/x-python",
   "name": "python",
   "nbconvert_exporter": "python",
   "pygments_lexer": "ipython3",
   "version": "3.6.5"
  }
 },
 "nbformat": 4,
 "nbformat_minor": 1
}
