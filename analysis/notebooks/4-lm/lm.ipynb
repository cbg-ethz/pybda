{
 "cells": [
  {
   "cell_type": "code",
   "execution_count": 2,
   "metadata": {},
   "outputs": [],
   "source": [
    "import os\n",
    "import sys\n",
    "import pandas\n",
    "import numpy, scipy, sklearn\n",
    "\n",
    "import findspark\n",
    "findspark.init(\"/usr/local/spark/spark\")\n",
    "\n",
    "import pyspark\n",
    "from pyspark.sql.window import Window\n",
    "import pyspark.sql.functions as func\n",
    "\n",
    "from pyspark.rdd import reduce\n",
    "from pyspark.sql.types import DoubleType\n",
    "from pyspark.ml.feature import VectorAssembler\n",
    "from pyspark.ml.clustering import KMeansModel, KMeans\n",
    "from pyspark.ml.linalg import SparseVector, VectorUDT, Vector, Vectors"
   ]
  },
  {
   "cell_type": "code",
   "execution_count": 3,
   "metadata": {},
   "outputs": [],
   "source": [
    "from pyspark.ml.regression import GeneralizedLinearRegression, LinearRegression"
   ]
  },
  {
   "cell_type": "code",
   "execution_count": 6,
   "metadata": {},
   "outputs": [],
   "source": [
    "file_name = \"/Users/simondi/PROJECTS/target_infect_x_project/data/target_infect_x/query_data/cells_sample_10_normalized_cut_100_factors/\""
   ]
  },
  {
   "cell_type": "code",
   "execution_count": 4,
   "metadata": {},
   "outputs": [],
   "source": [
    "conf = pyspark.SparkConf().setMaster(\"local[*]\").set(\"spark.driver.memory\", \"4G\").set(\"spark.executor.memory\", \"4G\")\n",
    "sc = pyspark.SparkContext(conf=conf)\n",
    "spark = pyspark.sql.SparkSession(sc)"
   ]
  },
  {
   "cell_type": "code",
   "execution_count": 5,
   "metadata": {},
   "outputs": [
    {
     "data": {
      "text/plain": [
       "'2.3.0'"
      ]
     },
     "execution_count": 5,
     "metadata": {},
     "output_type": "execute_result"
    }
   ],
   "source": [
    "spark.version"
   ]
  },
  {
   "cell_type": "code",
   "execution_count": 7,
   "metadata": {},
   "outputs": [],
   "source": [
    "df = spark.read.parquet(file_name)"
   ]
  },
  {
   "cell_type": "code",
   "execution_count": 8,
   "metadata": {},
   "outputs": [
    {
     "data": {
      "text/plain": [
       "[Row(study='infectx_published', pathogen='listeria', library='a', design='u', replicate='1', plate='kb2-02-1x', well='a01', gene='chka', sirna='s3008', well_type='sirna', image_idx='4', object_idx='144', cells_areashape_area=-0.8044235519947214, cells_areashape_eccentricity=0.01210726352227413, cells_areashape_extent=1.1159023326616404, cells_areashape_formfactor=1.4749286136850854, cells_areashape_majoraxislength=-0.9368530225439791, cells_areashape_minoraxislength=-0.7485320762193192, cells_areashape_perimeter=-1.0209269921587854, cells_children_bacteria_count=-0.7030171063989196, cells_children_invasomes_count=0.0, cells_location_center_x=0.44758084788204255, cells_location_center_y=1.2808903222918113, cells_neighbors_anglebetweenneighbors_2=1.3915760955745562, cells_neighbors_firstclosestobjectnumber_2=0.14886791955020456, cells_neighbors_firstclosestxvector_2=0.6694456185473984, cells_neighbors_firstclosestyvector_2=-1.233468444008488, cells_neighbors_numberofneighbors_2=-0.08251849113020833, cells_neighbors_secondclosestobjectnumber_2=0.010590200221473884, cells_neighbors_secondclosestxvector_2=-0.5078296335206587, cells_neighbors_secondclosestyvector_2=1.2455372476249023, cells_parent_nuclei=0.13572336470424068, features=DenseVector([0.7496, -0.4258, 1.5657, -0.3073, 0.3223, 0.5355, -1.9055, 0.1969, 1.099, -0.0041]))]"
      ]
     },
     "execution_count": 8,
     "metadata": {},
     "output_type": "execute_result"
    }
   ],
   "source": [
    "df.take(1)"
   ]
  },
  {
   "cell_type": "code",
   "execution_count": 9,
   "metadata": {},
   "outputs": [],
   "source": [
    "for i, x in enumerate(df.columns):\n",
    "    if x.startswith(\"cells_children_bacteria_count\"):\n",
    "        df = df.withColumn(\"label\", df[x].cast(\"double\"))\n",
    "df = df.fillna(0)"
   ]
  },
  {
   "cell_type": "code",
   "execution_count": 10,
   "metadata": {},
   "outputs": [],
   "source": [
    "lr = LinearRegression(maxIter=100, regParam=0, elasticNetParam=0)"
   ]
  },
  {
   "cell_type": "code",
   "execution_count": 11,
   "metadata": {},
   "outputs": [],
   "source": [
    "f = lr.fit(df)"
   ]
  },
  {
   "cell_type": "code",
   "execution_count": 38,
   "metadata": {},
   "outputs": [],
   "source": [
    "model = f"
   ]
  },
  {
   "cell_type": "code",
   "execution_count": 42,
   "metadata": {},
   "outputs": [
    {
     "data": {
      "text/html": [
       "<div>\n",
       "<style scoped>\n",
       "    .dataframe tbody tr th:only-of-type {\n",
       "        vertical-align: middle;\n",
       "    }\n",
       "\n",
       "    .dataframe tbody tr th {\n",
       "        vertical-align: top;\n",
       "    }\n",
       "\n",
       "    .dataframe thead th {\n",
       "        text-align: right;\n",
       "    }\n",
       "</style>\n",
       "<table border=\"1\" class=\"dataframe\">\n",
       "  <thead>\n",
       "    <tr style=\"text-align: right;\">\n",
       "      <th></th>\n",
       "      <th>residuals</th>\n",
       "    </tr>\n",
       "  </thead>\n",
       "  <tbody>\n",
       "    <tr>\n",
       "      <th>0</th>\n",
       "      <td>0.001736</td>\n",
       "    </tr>\n",
       "    <tr>\n",
       "      <th>1</th>\n",
       "      <td>-0.206012</td>\n",
       "    </tr>\n",
       "    <tr>\n",
       "      <th>2</th>\n",
       "      <td>0.377601</td>\n",
       "    </tr>\n",
       "    <tr>\n",
       "      <th>3</th>\n",
       "      <td>-0.144873</td>\n",
       "    </tr>\n",
       "    <tr>\n",
       "      <th>4</th>\n",
       "      <td>0.262813</td>\n",
       "    </tr>\n",
       "    <tr>\n",
       "      <th>5</th>\n",
       "      <td>-0.524857</td>\n",
       "    </tr>\n",
       "    <tr>\n",
       "      <th>6</th>\n",
       "      <td>-0.045906</td>\n",
       "    </tr>\n",
       "    <tr>\n",
       "      <th>7</th>\n",
       "      <td>0.016271</td>\n",
       "    </tr>\n",
       "    <tr>\n",
       "      <th>8</th>\n",
       "      <td>-0.134229</td>\n",
       "    </tr>\n",
       "    <tr>\n",
       "      <th>9</th>\n",
       "      <td>-0.347510</td>\n",
       "    </tr>\n",
       "    <tr>\n",
       "      <th>10</th>\n",
       "      <td>-0.569108</td>\n",
       "    </tr>\n",
       "    <tr>\n",
       "      <th>11</th>\n",
       "      <td>0.166032</td>\n",
       "    </tr>\n",
       "    <tr>\n",
       "      <th>12</th>\n",
       "      <td>-0.010667</td>\n",
       "    </tr>\n",
       "    <tr>\n",
       "      <th>13</th>\n",
       "      <td>0.210031</td>\n",
       "    </tr>\n",
       "    <tr>\n",
       "      <th>14</th>\n",
       "      <td>-0.172290</td>\n",
       "    </tr>\n",
       "    <tr>\n",
       "      <th>15</th>\n",
       "      <td>0.212027</td>\n",
       "    </tr>\n",
       "    <tr>\n",
       "      <th>16</th>\n",
       "      <td>-0.245259</td>\n",
       "    </tr>\n",
       "    <tr>\n",
       "      <th>17</th>\n",
       "      <td>0.446227</td>\n",
       "    </tr>\n",
       "    <tr>\n",
       "      <th>18</th>\n",
       "      <td>-0.115196</td>\n",
       "    </tr>\n",
       "    <tr>\n",
       "      <th>19</th>\n",
       "      <td>-0.048302</td>\n",
       "    </tr>\n",
       "    <tr>\n",
       "      <th>20</th>\n",
       "      <td>-0.010350</td>\n",
       "    </tr>\n",
       "    <tr>\n",
       "      <th>21</th>\n",
       "      <td>-0.246033</td>\n",
       "    </tr>\n",
       "    <tr>\n",
       "      <th>22</th>\n",
       "      <td>-0.145293</td>\n",
       "    </tr>\n",
       "    <tr>\n",
       "      <th>23</th>\n",
       "      <td>0.048764</td>\n",
       "    </tr>\n",
       "    <tr>\n",
       "      <th>24</th>\n",
       "      <td>-0.113255</td>\n",
       "    </tr>\n",
       "    <tr>\n",
       "      <th>25</th>\n",
       "      <td>0.227521</td>\n",
       "    </tr>\n",
       "    <tr>\n",
       "      <th>26</th>\n",
       "      <td>-0.183381</td>\n",
       "    </tr>\n",
       "    <tr>\n",
       "      <th>27</th>\n",
       "      <td>-0.388286</td>\n",
       "    </tr>\n",
       "    <tr>\n",
       "      <th>28</th>\n",
       "      <td>0.091658</td>\n",
       "    </tr>\n",
       "    <tr>\n",
       "      <th>29</th>\n",
       "      <td>-0.164744</td>\n",
       "    </tr>\n",
       "    <tr>\n",
       "      <th>...</th>\n",
       "      <td>...</td>\n",
       "    </tr>\n",
       "    <tr>\n",
       "      <th>70</th>\n",
       "      <td>0.557130</td>\n",
       "    </tr>\n",
       "    <tr>\n",
       "      <th>71</th>\n",
       "      <td>-0.340554</td>\n",
       "    </tr>\n",
       "    <tr>\n",
       "      <th>72</th>\n",
       "      <td>-0.345954</td>\n",
       "    </tr>\n",
       "    <tr>\n",
       "      <th>73</th>\n",
       "      <td>-0.088296</td>\n",
       "    </tr>\n",
       "    <tr>\n",
       "      <th>74</th>\n",
       "      <td>0.021896</td>\n",
       "    </tr>\n",
       "    <tr>\n",
       "      <th>75</th>\n",
       "      <td>0.304795</td>\n",
       "    </tr>\n",
       "    <tr>\n",
       "      <th>76</th>\n",
       "      <td>-0.285850</td>\n",
       "    </tr>\n",
       "    <tr>\n",
       "      <th>77</th>\n",
       "      <td>-0.015749</td>\n",
       "    </tr>\n",
       "    <tr>\n",
       "      <th>78</th>\n",
       "      <td>0.077859</td>\n",
       "    </tr>\n",
       "    <tr>\n",
       "      <th>79</th>\n",
       "      <td>-0.118942</td>\n",
       "    </tr>\n",
       "    <tr>\n",
       "      <th>80</th>\n",
       "      <td>-0.105844</td>\n",
       "    </tr>\n",
       "    <tr>\n",
       "      <th>81</th>\n",
       "      <td>-0.766578</td>\n",
       "    </tr>\n",
       "    <tr>\n",
       "      <th>82</th>\n",
       "      <td>0.146645</td>\n",
       "    </tr>\n",
       "    <tr>\n",
       "      <th>83</th>\n",
       "      <td>-0.203217</td>\n",
       "    </tr>\n",
       "    <tr>\n",
       "      <th>84</th>\n",
       "      <td>-0.189200</td>\n",
       "    </tr>\n",
       "    <tr>\n",
       "      <th>85</th>\n",
       "      <td>0.231401</td>\n",
       "    </tr>\n",
       "    <tr>\n",
       "      <th>86</th>\n",
       "      <td>0.445851</td>\n",
       "    </tr>\n",
       "    <tr>\n",
       "      <th>87</th>\n",
       "      <td>0.084663</td>\n",
       "    </tr>\n",
       "    <tr>\n",
       "      <th>88</th>\n",
       "      <td>0.109020</td>\n",
       "    </tr>\n",
       "    <tr>\n",
       "      <th>89</th>\n",
       "      <td>0.348143</td>\n",
       "    </tr>\n",
       "    <tr>\n",
       "      <th>90</th>\n",
       "      <td>0.296905</td>\n",
       "    </tr>\n",
       "    <tr>\n",
       "      <th>91</th>\n",
       "      <td>0.084724</td>\n",
       "    </tr>\n",
       "    <tr>\n",
       "      <th>92</th>\n",
       "      <td>0.315120</td>\n",
       "    </tr>\n",
       "    <tr>\n",
       "      <th>93</th>\n",
       "      <td>-0.203107</td>\n",
       "    </tr>\n",
       "    <tr>\n",
       "      <th>94</th>\n",
       "      <td>0.201527</td>\n",
       "    </tr>\n",
       "    <tr>\n",
       "      <th>95</th>\n",
       "      <td>0.135639</td>\n",
       "    </tr>\n",
       "    <tr>\n",
       "      <th>96</th>\n",
       "      <td>-0.215348</td>\n",
       "    </tr>\n",
       "    <tr>\n",
       "      <th>97</th>\n",
       "      <td>-0.112092</td>\n",
       "    </tr>\n",
       "    <tr>\n",
       "      <th>98</th>\n",
       "      <td>-0.301716</td>\n",
       "    </tr>\n",
       "    <tr>\n",
       "      <th>99</th>\n",
       "      <td>-0.261936</td>\n",
       "    </tr>\n",
       "  </tbody>\n",
       "</table>\n",
       "<p>100 rows × 1 columns</p>\n",
       "</div>"
      ],
      "text/plain": [
       "    residuals\n",
       "0    0.001736\n",
       "1   -0.206012\n",
       "2    0.377601\n",
       "3   -0.144873\n",
       "4    0.262813\n",
       "5   -0.524857\n",
       "6   -0.045906\n",
       "7    0.016271\n",
       "8   -0.134229\n",
       "9   -0.347510\n",
       "10  -0.569108\n",
       "11   0.166032\n",
       "12  -0.010667\n",
       "13   0.210031\n",
       "14  -0.172290\n",
       "15   0.212027\n",
       "16  -0.245259\n",
       "17   0.446227\n",
       "18  -0.115196\n",
       "19  -0.048302\n",
       "20  -0.010350\n",
       "21  -0.246033\n",
       "22  -0.145293\n",
       "23   0.048764\n",
       "24  -0.113255\n",
       "25   0.227521\n",
       "26  -0.183381\n",
       "27  -0.388286\n",
       "28   0.091658\n",
       "29  -0.164744\n",
       "..        ...\n",
       "70   0.557130\n",
       "71  -0.340554\n",
       "72  -0.345954\n",
       "73  -0.088296\n",
       "74   0.021896\n",
       "75   0.304795\n",
       "76  -0.285850\n",
       "77  -0.015749\n",
       "78   0.077859\n",
       "79  -0.118942\n",
       "80  -0.105844\n",
       "81  -0.766578\n",
       "82   0.146645\n",
       "83  -0.203217\n",
       "84  -0.189200\n",
       "85   0.231401\n",
       "86   0.445851\n",
       "87   0.084663\n",
       "88   0.109020\n",
       "89   0.348143\n",
       "90   0.296905\n",
       "91   0.084724\n",
       "92   0.315120\n",
       "93  -0.203107\n",
       "94   0.201527\n",
       "95   0.135639\n",
       "96  -0.215348\n",
       "97  -0.112092\n",
       "98  -0.301716\n",
       "99  -0.261936\n",
       "\n",
       "[100 rows x 1 columns]"
      ]
     },
     "execution_count": 42,
     "metadata": {},
     "output_type": "execute_result"
    }
   ],
   "source": [
    "model.summary.residuals.toPandas()"
   ]
  },
  {
   "cell_type": "code",
   "execution_count": 23,
   "metadata": {},
   "outputs": [],
   "source": [
    "from pyspark.ml.tuning import ParamGridBuilder, TrainValidationSplit"
   ]
  },
  {
   "cell_type": "code",
   "execution_count": 24,
   "metadata": {},
   "outputs": [],
   "source": [
    "train, test = df.randomSplit([0.9, 0.1], seed=23)"
   ]
  },
  {
   "cell_type": "code",
   "execution_count": 25,
   "metadata": {},
   "outputs": [],
   "source": [
    "model = lr.fit(train)"
   ]
  },
  {
   "cell_type": "code",
   "execution_count": null,
   "metadata": {},
   "outputs": [],
   "source": []
  },
  {
   "cell_type": "code",
   "execution_count": 30,
   "metadata": {},
   "outputs": [
    {
     "data": {
      "text/plain": [
       "[Row(label=-0.6324046272963104, prediction=-0.6490031713160578),\n",
       " Row(label=1.1329073502689189, prediction=0.9971040599152651),\n",
       " Row(label=-0.6324046272963104, prediction=-0.9035112926007549),\n",
       " Row(label=-0.7030171063989196, prediction=-0.5832485615603501),\n",
       " Row(label=1.3447447875767464, prediction=0.8272917641961595),\n",
       " Row(label=0.4973950383454364, prediction=0.9133392481923913),\n",
       " Row(label=-0.7030171063989196, prediction=-0.9633648063317238),\n",
       " Row(label=0.7798449547558731, prediction=0.5998874398452572),\n",
       " Row(label=-0.7030171063989196, prediction=-0.706635072049074),\n",
       " Row(label=0.14433264283239053, prediction=-0.32669901976554777)]"
      ]
     },
     "execution_count": 30,
     "metadata": {},
     "output_type": "execute_result"
    }
   ],
   "source": [
    "model.transform(test).select([\"label\", \"prediction\"]).take(10)"
   ]
  },
  {
   "cell_type": "code",
   "execution_count": 45,
   "metadata": {},
   "outputs": [],
   "source": [
    "glr = GeneralizedLinearRegression(maxIter=100, regParam=0, family=\"gaussian\", link=\"identity\")"
   ]
  },
  {
   "cell_type": "code",
   "execution_count": 47,
   "metadata": {},
   "outputs": [],
   "source": [
    "model = glr.fit(train)"
   ]
  },
  {
   "cell_type": "code",
   "execution_count": 48,
   "metadata": {},
   "outputs": [
    {
     "name": "stdout",
     "output_type": "stream",
     "text": [
      "+--------------------+--------------------+\n",
      "|               label|          prediction|\n",
      "+--------------------+--------------------+\n",
      "| -0.6324046272963104| -0.6490031713160578|\n",
      "|  1.1329073502689189|  0.9971040599152651|\n",
      "| -0.6324046272963104| -0.9035112926007549|\n",
      "| -0.7030171063989196| -0.5832485615603501|\n",
      "|  1.3447447875767464|  0.8272917641961595|\n",
      "|  0.4973950383454364|  0.9133392481923913|\n",
      "| -0.7030171063989196| -0.9633648063317238|\n",
      "|  0.7798449547558731|  0.5998874398452572|\n",
      "| -0.7030171063989196|  -0.706635072049074|\n",
      "| 0.14433264283239053|-0.32669901976554777|\n",
      "|-0.27934223178326456|-0.22168777559232367|\n",
      "|  0.7798449547558731|  0.7415063196478057|\n",
      "|  0.2855576010376089|  1.1152499761266965|\n",
      "| 0.07372016372978137| -0.2530712824875086|\n",
      "| -0.5617921481937013|   -0.51768899484668|\n",
      "|  0.9916823920637007|  0.9348901148852727|\n",
      "| -0.6324046272963104|-0.39129522158481844|\n",
      "+--------------------+--------------------+\n",
      "\n"
     ]
    }
   ],
   "source": [
    "model.transform(test).select([\"label\", \"prediction\"]).show()"
   ]
  },
  {
   "cell_type": "code",
   "execution_count": 50,
   "metadata": {},
   "outputs": [],
   "source": [
    "from pyspark.ml.classification import RandomForestClassifier\n",
    "from pyspark.ml.regression import RandomForestRegressor"
   ]
  },
  {
   "cell_type": "code",
   "execution_count": 66,
   "metadata": {},
   "outputs": [],
   "source": [
    "rf = RandomForestRegressor(labelCol=\"label\", featuresCol=\"features\", numTrees=100, maxDepth=15, subsamplingRate=.5)"
   ]
  },
  {
   "cell_type": "code",
   "execution_count": 67,
   "metadata": {},
   "outputs": [],
   "source": [
    "rft =  rf.fit(train)"
   ]
  },
  {
   "cell_type": "code",
   "execution_count": 68,
   "metadata": {},
   "outputs": [
    {
     "name": "stdout",
     "output_type": "stream",
     "text": [
      "+--------------------+--------------------+\n",
      "|               label|          prediction|\n",
      "+--------------------+--------------------+\n",
      "| -0.6324046272963104|-0.32100359445380405|\n",
      "|  1.1329073502689189|   0.271435105217087|\n",
      "| -0.6324046272963104| -0.3718445794076824|\n",
      "| -0.7030171063989196|-0.48411842118083087|\n",
      "|  1.3447447875767464|  0.4465540533915579|\n",
      "|  0.4973950383454364|-0.00254131370103...|\n",
      "| -0.7030171063989196|-0.44245705851029166|\n",
      "|  0.7798449547558731| -0.2758116078281342|\n",
      "| -0.7030171063989196|-0.35207308525895187|\n",
      "| 0.14433264283239053|-0.36972620503460435|\n",
      "|-0.27934223178326456|-0.24897886576914266|\n",
      "|  0.7798449547558731| 0.26931673084400887|\n",
      "|  0.2855576010376089|  0.4048926907210186|\n",
      "| 0.07372016372978137| -0.2659258607537688|\n",
      "| -0.5617921481937013| -0.4954164178372482|\n",
      "|  0.9916823920637007| 0.28838210020171323|\n",
      "| -0.6324046272963104| -0.3767874529448651|\n",
      "+--------------------+--------------------+\n",
      "\n"
     ]
    }
   ],
   "source": [
    "rft.transform(test).select([\"label\", \"prediction\"]).show()"
   ]
  },
  {
   "cell_type": "code",
   "execution_count": 69,
   "metadata": {},
   "outputs": [],
   "source": [
    "spark.stop()"
   ]
  },
  {
   "cell_type": "code",
   "execution_count": 45,
   "metadata": {},
   "outputs": [],
   "source": [
    "fd = \"/Users/simondi/PROJECTS/target_infect_x_project/src/tix-analysis/data/single_cell_samples.tsv\""
   ]
  },
  {
   "cell_type": "code",
   "execution_count": 46,
   "metadata": {},
   "outputs": [],
   "source": [
    "d = spark.read.csv(path=fd, sep=\"\\t\", header=True)"
   ]
  },
  {
   "cell_type": "code",
   "execution_count": 49,
   "metadata": {},
   "outputs": [
    {
     "data": {
      "text/plain": [
       "[Row(study='infectx_published', pathogen='listeria', library='a', design='u', replicate='1', plate='kb2-02-1x', well='a01', gene='chka', sirna='s3008', well_type='sirna', image_idx='4', object_idx='144', cells_areashape_area='-0.8044235519947214', cells_areashape_eccentricity='0.01210726352227413', cells_areashape_extent='1.1159023326616404', cells_areashape_formfactor='1.4749286136850854', cells_areashape_majoraxislength='-0.9368530225439791', cells_areashape_minoraxislength='-0.7485320762193192', cells_areashape_perimeter='-1.0209269921587854', cells_children_bacteria_count='-0.7030171063989196', cells_children_invasomes_count=None, cells_location_center_x='0.44758084788204255', cells_location_center_y='1.2808903222918113', cells_neighbors_anglebetweenneighbors_2='1.3915760955745562', cells_neighbors_firstclosestobjectnumber_2='0.14886791955020456', cells_neighbors_firstclosestxvector_2='0.6694456185473984', cells_neighbors_firstclosestyvector_2='-1.233468444008488', cells_neighbors_numberofneighbors_2='-0.08251849113020833', cells_neighbors_secondclosestobjectnumber_2='0.010590200221473884', cells_neighbors_secondclosestxvector_2='-0.5078296335206587', cells_neighbors_secondclosestyvector_2='1.2455372476249023', cells_parent_nuclei='0.13572336470424068')]"
      ]
     },
     "execution_count": 49,
     "metadata": {},
     "output_type": "execute_result"
    }
   ],
   "source": [
    "d.take(1)"
   ]
  },
  {
   "cell_type": "code",
   "execution_count": 52,
   "metadata": {},
   "outputs": [
    {
     "data": {
      "text/plain": [
       "[array(['1.2455372476249023', '0.13572336470424068'], dtype='<U19')]"
      ]
     },
     "execution_count": 52,
     "metadata": {},
     "output_type": "execute_result"
    }
   ],
   "source": [
    "d.select([\"cells_neighbors_secondclosestyvector_2\", \"cells_parent_nuclei\"]).rdd.map(numpy.array).take(1)"
   ]
  },
  {
   "cell_type": "code",
   "execution_count": 53,
   "metadata": {},
   "outputs": [
    {
     "data": {
      "text/plain": [
       "['study',\n",
       " 'pathogen',\n",
       " 'library',\n",
       " 'design',\n",
       " 'replicate',\n",
       " 'plate',\n",
       " 'well',\n",
       " 'gene',\n",
       " 'sirna',\n",
       " 'well_type',\n",
       " 'image_idx',\n",
       " 'object_idx',\n",
       " 'cells_areashape_area',\n",
       " 'cells_areashape_eccentricity',\n",
       " 'cells_areashape_extent',\n",
       " 'cells_areashape_formfactor',\n",
       " 'cells_areashape_majoraxislength',\n",
       " 'cells_areashape_minoraxislength',\n",
       " 'cells_areashape_perimeter',\n",
       " 'cells_children_bacteria_count',\n",
       " 'cells_children_invasomes_count',\n",
       " 'cells_location_center_x',\n",
       " 'cells_location_center_y',\n",
       " 'cells_neighbors_anglebetweenneighbors_2',\n",
       " 'cells_neighbors_firstclosestobjectnumber_2',\n",
       " 'cells_neighbors_firstclosestxvector_2',\n",
       " 'cells_neighbors_firstclosestyvector_2',\n",
       " 'cells_neighbors_numberofneighbors_2',\n",
       " 'cells_neighbors_secondclosestobjectnumber_2',\n",
       " 'cells_neighbors_secondclosestxvector_2',\n",
       " 'cells_neighbors_secondclosestyvector_2',\n",
       " 'cells_parent_nuclei']"
      ]
     },
     "execution_count": 53,
     "metadata": {},
     "output_type": "execute_result"
    }
   ],
   "source": [
    "d."
   ]
  },
  {
   "cell_type": "code",
   "execution_count": 94,
   "metadata": {},
   "outputs": [],
   "source": [
    "for x in [\"cells_location_center_x\"]:\n",
    "    d = d.withColumn(x, d[x].cast(\"float\"))\n",
    "for x in [\"cells_location_center_y\"]:\n",
    "    d = d.withColumn(x, d[x].cast(\"float\"))"
   ]
  },
  {
   "cell_type": "code",
   "execution_count": 95,
   "metadata": {},
   "outputs": [
    {
     "data": {
      "text/plain": [
       "[('study', 'string'),\n",
       " ('pathogen', 'string'),\n",
       " ('library', 'string'),\n",
       " ('design', 'string'),\n",
       " ('replicate', 'string'),\n",
       " ('plate', 'string'),\n",
       " ('well', 'string'),\n",
       " ('gene', 'string'),\n",
       " ('sirna', 'string'),\n",
       " ('well_type', 'string'),\n",
       " ('image_idx', 'string'),\n",
       " ('object_idx', 'string'),\n",
       " ('cells_areashape_area', 'string'),\n",
       " ('cells_areashape_eccentricity', 'string'),\n",
       " ('cells_areashape_extent', 'string'),\n",
       " ('cells_areashape_formfactor', 'string'),\n",
       " ('cells_areashape_majoraxislength', 'string'),\n",
       " ('cells_areashape_minoraxislength', 'string'),\n",
       " ('cells_areashape_perimeter', 'string'),\n",
       " ('cells_children_bacteria_count', 'string'),\n",
       " ('cells_children_invasomes_count', 'string'),\n",
       " ('cells_location_center_x', 'float'),\n",
       " ('cells_location_center_y', 'float'),\n",
       " ('cells_neighbors_anglebetweenneighbors_2', 'string'),\n",
       " ('cells_neighbors_firstclosestobjectnumber_2', 'string'),\n",
       " ('cells_neighbors_firstclosestxvector_2', 'string'),\n",
       " ('cells_neighbors_firstclosestyvector_2', 'string'),\n",
       " ('cells_neighbors_numberofneighbors_2', 'string'),\n",
       " ('cells_neighbors_secondclosestobjectnumber_2', 'string'),\n",
       " ('cells_neighbors_secondclosestxvector_2', 'string'),\n",
       " ('cells_neighbors_secondclosestyvector_2', 'string'),\n",
       " ('cells_parent_nuclei', 'string')]"
      ]
     },
     "execution_count": 95,
     "metadata": {},
     "output_type": "execute_result"
    }
   ],
   "source": [
    "d.dtypes"
   ]
  },
  {
   "cell_type": "code",
   "execution_count": 104,
   "metadata": {},
   "outputs": [
    {
     "data": {
      "text/plain": [
       "True"
      ]
     },
     "execution_count": 104,
     "metadata": {},
     "output_type": "execute_result"
    }
   ],
   "source": [
    "\"cells_parent_nuclei\" in column_types"
   ]
  },
  {
   "cell_type": "code",
   "execution_count": 98,
   "metadata": {},
   "outputs": [],
   "source": [
    "from pyspark.ml.linalg import Vectors\n",
    "from pyspark.ml.feature import VectorAssembler\n",
    "\n",
    "assembler = VectorAssembler(\n",
    "    inputCols=[\"cells_location_center_x\"],\n",
    "    outputCol=\"features\")\n",
    "\n",
    "dn = assembler.transform(d)"
   ]
  },
  {
   "cell_type": "code",
   "execution_count": 106,
   "metadata": {},
   "outputs": [
    {
     "data": {
      "text/plain": [
       "True"
      ]
     },
     "execution_count": 106,
     "metadata": {},
     "output_type": "execute_result"
    }
   ],
   "source": [
    "numpy.array(dn.select(\"features\").take(1)[0][0]).dtype == \"float64\""
   ]
  },
  {
   "cell_type": "code",
   "execution_count": null,
   "metadata": {},
   "outputs": [],
   "source": []
  }
 ],
 "metadata": {
  "kernelspec": {
   "display_name": "Python 3 (Tix)",
   "language": "python",
   "name": "tix"
  },
  "language_info": {
   "codemirror_mode": {
    "name": "ipython",
    "version": 3
   },
   "file_extension": ".py",
   "mimetype": "text/x-python",
   "name": "python",
   "nbconvert_exporter": "python",
   "pygments_lexer": "ipython3",
   "version": "3.6.5"
  }
 },
 "nbformat": 4,
 "nbformat_minor": 1
}
