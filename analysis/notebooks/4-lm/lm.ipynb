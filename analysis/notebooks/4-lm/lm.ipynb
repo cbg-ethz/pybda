{
 "cells": [
  {
   "cell_type": "code",
   "execution_count": 1,
   "metadata": {},
   "outputs": [],
   "source": [
    "import os\n",
    "import sys\n",
    "import pandas\n",
    "import numpy, scipy, sklearn\n",
    "\n",
    "import findspark\n",
    "findspark.init(\"/usr/local/spark/spark\")\n",
    "\n",
    "import pyspark\n",
    "from pyspark.sql.window import Window\n",
    "import pyspark.sql.functions as func\n",
    "\n",
    "from pyspark.rdd import reduce\n",
    "from pyspark.sql.types import DoubleType\n",
    "from pyspark.ml.feature import VectorAssembler\n",
    "from pyspark.ml.clustering import KMeansModel, KMeans\n",
    "from pyspark.ml.linalg import SparseVector, VectorUDT, Vector, Vectors"
   ]
  },
  {
   "cell_type": "code",
   "execution_count": 21,
   "metadata": {},
   "outputs": [],
   "source": [
    "from pyspark.ml.regression import GeneralizedLinearRegression, LinearRegression"
   ]
  },
  {
   "cell_type": "code",
   "execution_count": 2,
   "metadata": {},
   "outputs": [],
   "source": [
    "file_name = \"/Users/simondi/PROJECTS/target_infect_x_project/data/target_infect_x/query_data/cells_sample_10_normalized_cut_100_factors/\""
   ]
  },
  {
   "cell_type": "code",
   "execution_count": 3,
   "metadata": {},
   "outputs": [],
   "source": [
    "conf = pyspark.SparkConf().setMaster(\"local[*]\").set(\"spark.driver.memory\", \"4G\").set(\"spark.executor.memory\", \"4G\")\n",
    "sc = pyspark.SparkContext(conf=conf)\n",
    "spark = pyspark.sql.SparkSession(sc)"
   ]
  },
  {
   "cell_type": "code",
   "execution_count": 4,
   "metadata": {},
   "outputs": [
    {
     "data": {
      "text/plain": [
       "'2.3.0'"
      ]
     },
     "execution_count": 4,
     "metadata": {},
     "output_type": "execute_result"
    }
   ],
   "source": [
    "spark.version"
   ]
  },
  {
   "cell_type": "code",
   "execution_count": 5,
   "metadata": {},
   "outputs": [],
   "source": [
    "df = spark.read.parquet(file_name)"
   ]
  },
  {
   "cell_type": "code",
   "execution_count": 6,
   "metadata": {},
   "outputs": [
    {
     "data": {
      "text/plain": [
       "[Row(study='infectx_published', pathogen='listeria', library='a', design='u', replicate='1', plate='kb2-02-1x', well='a01', gene='chka', sirna='s3008', well_type='sirna', image_idx='4', object_idx='144', cells_areashape_area=-0.8044235519947214, cells_areashape_eccentricity=0.01210726352227413, cells_areashape_extent=1.1159023326616404, cells_areashape_formfactor=1.4749286136850854, cells_areashape_majoraxislength=-0.9368530225439791, cells_areashape_minoraxislength=-0.7485320762193192, cells_areashape_perimeter=-1.0209269921587854, cells_children_bacteria_count=-0.7030171063989196, cells_children_invasomes_count=0.0, cells_location_center_x=0.44758084788204255, cells_location_center_y=1.2808903222918113, cells_neighbors_anglebetweenneighbors_2=1.3915760955745562, cells_neighbors_firstclosestobjectnumber_2=0.14886791955020456, cells_neighbors_firstclosestxvector_2=0.6694456185473984, cells_neighbors_firstclosestyvector_2=-1.233468444008488, cells_neighbors_numberofneighbors_2=-0.08251849113020833, cells_neighbors_secondclosestobjectnumber_2=0.010590200221473884, cells_neighbors_secondclosestxvector_2=-0.5078296335206587, cells_neighbors_secondclosestyvector_2=1.2455372476249023, cells_parent_nuclei=0.13572336470424068, features=DenseVector([0.7496, -0.4258, 1.5657, -0.3073, 0.3223, 0.5355, -1.9055, 0.1969, 1.099, -0.0041]))]"
      ]
     },
     "execution_count": 6,
     "metadata": {},
     "output_type": "execute_result"
    }
   ],
   "source": [
    "df.take(1)"
   ]
  },
  {
   "cell_type": "code",
   "execution_count": 17,
   "metadata": {},
   "outputs": [],
   "source": [
    "for i, x in enumerate(df.columns):\n",
    "    if x.startswith(\"cells_children_bacteria_count\"):\n",
    "        df = df.withColumn(\"label\", df[x].cast(\"double\"))\n",
    "df = df.fillna(0)"
   ]
  },
  {
   "cell_type": "code",
   "execution_count": 18,
   "metadata": {},
   "outputs": [
    {
     "data": {
      "text/plain": [
       "[Row(study='infectx_published', pathogen='listeria', library='a', design='u', replicate='1', plate='kb2-02-1x', well='a01', gene='chka', sirna='s3008', well_type='sirna', image_idx='4', object_idx='144', cells_areashape_area=-0.8044235519947214, cells_areashape_eccentricity=0.01210726352227413, cells_areashape_extent=1.1159023326616404, cells_areashape_formfactor=1.4749286136850854, cells_areashape_majoraxislength=-0.9368530225439791, cells_areashape_minoraxislength=-0.7485320762193192, cells_areashape_perimeter=-1.0209269921587854, cells_children_bacteria_count=-0.7030171063989196, cells_children_invasomes_count=0.0, cells_location_center_x=0.44758084788204255, cells_location_center_y=1.2808903222918113, cells_neighbors_anglebetweenneighbors_2=1.3915760955745562, cells_neighbors_firstclosestobjectnumber_2=0.14886791955020456, cells_neighbors_firstclosestxvector_2=0.6694456185473984, cells_neighbors_firstclosestyvector_2=-1.233468444008488, cells_neighbors_numberofneighbors_2=-0.08251849113020833, cells_neighbors_secondclosestobjectnumber_2=0.010590200221473884, cells_neighbors_secondclosestxvector_2=-0.5078296335206587, cells_neighbors_secondclosestyvector_2=1.2455372476249023, cells_parent_nuclei=0.13572336470424068, features=DenseVector([0.7496, -0.4258, 1.5657, -0.3073, 0.3223, 0.5355, -1.9055, 0.1969, 1.099, -0.0041]), label=-0.7030171063989196)]"
      ]
     },
     "execution_count": 18,
     "metadata": {},
     "output_type": "execute_result"
    }
   ],
   "source": [
    "df.take(1)"
   ]
  },
  {
   "cell_type": "code",
   "execution_count": 31,
   "metadata": {},
   "outputs": [],
   "source": [
    "lr = LinearRegression(maxIter=100, regParam=0, elasticNetParam=0)"
   ]
  },
  {
   "cell_type": "code",
   "execution_count": 23,
   "metadata": {},
   "outputs": [],
   "source": [
    "from pyspark.ml.tuning import ParamGridBuilder, TrainValidationSplit"
   ]
  },
  {
   "cell_type": "code",
   "execution_count": 24,
   "metadata": {},
   "outputs": [],
   "source": [
    "train, test = df.randomSplit([0.9, 0.1], seed=23)"
   ]
  },
  {
   "cell_type": "code",
   "execution_count": 25,
   "metadata": {},
   "outputs": [],
   "source": [
    "model = lr.fit(train)"
   ]
  },
  {
   "cell_type": "code",
   "execution_count": null,
   "metadata": {},
   "outputs": [],
   "source": []
  },
  {
   "cell_type": "code",
   "execution_count": 30,
   "metadata": {},
   "outputs": [
    {
     "data": {
      "text/plain": [
       "[Row(label=-0.6324046272963104, prediction=-0.6490031713160578),\n",
       " Row(label=1.1329073502689189, prediction=0.9971040599152651),\n",
       " Row(label=-0.6324046272963104, prediction=-0.9035112926007549),\n",
       " Row(label=-0.7030171063989196, prediction=-0.5832485615603501),\n",
       " Row(label=1.3447447875767464, prediction=0.8272917641961595),\n",
       " Row(label=0.4973950383454364, prediction=0.9133392481923913),\n",
       " Row(label=-0.7030171063989196, prediction=-0.9633648063317238),\n",
       " Row(label=0.7798449547558731, prediction=0.5998874398452572),\n",
       " Row(label=-0.7030171063989196, prediction=-0.706635072049074),\n",
       " Row(label=0.14433264283239053, prediction=-0.32669901976554777)]"
      ]
     },
     "execution_count": 30,
     "metadata": {},
     "output_type": "execute_result"
    }
   ],
   "source": [
    "model.transform(test).select([\"label\", \"prediction\"]).take(10)"
   ]
  },
  {
   "cell_type": "code",
   "execution_count": 45,
   "metadata": {},
   "outputs": [],
   "source": [
    "glr = GeneralizedLinearRegression(maxIter=100, regParam=0, family=\"gaussian\", link=\"identity\")"
   ]
  },
  {
   "cell_type": "code",
   "execution_count": 47,
   "metadata": {},
   "outputs": [],
   "source": [
    "model = glr.fit(train)"
   ]
  },
  {
   "cell_type": "code",
   "execution_count": 48,
   "metadata": {},
   "outputs": [
    {
     "name": "stdout",
     "output_type": "stream",
     "text": [
      "+--------------------+--------------------+\n",
      "|               label|          prediction|\n",
      "+--------------------+--------------------+\n",
      "| -0.6324046272963104| -0.6490031713160578|\n",
      "|  1.1329073502689189|  0.9971040599152651|\n",
      "| -0.6324046272963104| -0.9035112926007549|\n",
      "| -0.7030171063989196| -0.5832485615603501|\n",
      "|  1.3447447875767464|  0.8272917641961595|\n",
      "|  0.4973950383454364|  0.9133392481923913|\n",
      "| -0.7030171063989196| -0.9633648063317238|\n",
      "|  0.7798449547558731|  0.5998874398452572|\n",
      "| -0.7030171063989196|  -0.706635072049074|\n",
      "| 0.14433264283239053|-0.32669901976554777|\n",
      "|-0.27934223178326456|-0.22168777559232367|\n",
      "|  0.7798449547558731|  0.7415063196478057|\n",
      "|  0.2855576010376089|  1.1152499761266965|\n",
      "| 0.07372016372978137| -0.2530712824875086|\n",
      "| -0.5617921481937013|   -0.51768899484668|\n",
      "|  0.9916823920637007|  0.9348901148852727|\n",
      "| -0.6324046272963104|-0.39129522158481844|\n",
      "+--------------------+--------------------+\n",
      "\n"
     ]
    }
   ],
   "source": [
    "model.transform(test).select([\"label\", \"prediction\"]).show()"
   ]
  },
  {
   "cell_type": "code",
   "execution_count": 50,
   "metadata": {},
   "outputs": [],
   "source": [
    "from pyspark.ml.classification import RandomForestClassifier\n",
    "from pyspark.ml.regression import RandomForestRegressor"
   ]
  },
  {
   "cell_type": "code",
   "execution_count": 66,
   "metadata": {},
   "outputs": [],
   "source": [
    "rf = RandomForestRegressor(labelCol=\"label\", featuresCol=\"features\", numTrees=100, maxDepth=15, subsamplingRate=.5)"
   ]
  },
  {
   "cell_type": "code",
   "execution_count": 67,
   "metadata": {},
   "outputs": [],
   "source": [
    "rft =  rf.fit(train)"
   ]
  },
  {
   "cell_type": "code",
   "execution_count": 68,
   "metadata": {},
   "outputs": [
    {
     "name": "stdout",
     "output_type": "stream",
     "text": [
      "+--------------------+--------------------+\n",
      "|               label|          prediction|\n",
      "+--------------------+--------------------+\n",
      "| -0.6324046272963104|-0.32100359445380405|\n",
      "|  1.1329073502689189|   0.271435105217087|\n",
      "| -0.6324046272963104| -0.3718445794076824|\n",
      "| -0.7030171063989196|-0.48411842118083087|\n",
      "|  1.3447447875767464|  0.4465540533915579|\n",
      "|  0.4973950383454364|-0.00254131370103...|\n",
      "| -0.7030171063989196|-0.44245705851029166|\n",
      "|  0.7798449547558731| -0.2758116078281342|\n",
      "| -0.7030171063989196|-0.35207308525895187|\n",
      "| 0.14433264283239053|-0.36972620503460435|\n",
      "|-0.27934223178326456|-0.24897886576914266|\n",
      "|  0.7798449547558731| 0.26931673084400887|\n",
      "|  0.2855576010376089|  0.4048926907210186|\n",
      "| 0.07372016372978137| -0.2659258607537688|\n",
      "| -0.5617921481937013| -0.4954164178372482|\n",
      "|  0.9916823920637007| 0.28838210020171323|\n",
      "| -0.6324046272963104| -0.3767874529448651|\n",
      "+--------------------+--------------------+\n",
      "\n"
     ]
    }
   ],
   "source": [
    "rft.transform(test).select([\"label\", \"prediction\"]).show()"
   ]
  },
  {
   "cell_type": "code",
   "execution_count": 69,
   "metadata": {},
   "outputs": [],
   "source": [
    "spark.stop()"
   ]
  },
  {
   "cell_type": "code",
   "execution_count": null,
   "metadata": {},
   "outputs": [],
   "source": []
  }
 ],
 "metadata": {
  "kernelspec": {
   "display_name": "Python 3 (Tix)",
   "language": "python",
   "name": "tix"
  },
  "language_info": {
   "codemirror_mode": {
    "name": "ipython",
    "version": 3
   },
   "file_extension": ".py",
   "mimetype": "text/x-python",
   "name": "python",
   "nbconvert_exporter": "python",
   "pygments_lexer": "ipython3",
   "version": "3.6.5"
  }
 },
 "nbformat": 4,
 "nbformat_minor": 1
}
