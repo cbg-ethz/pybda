{
 "cells": [
  {
   "cell_type": "code",
   "execution_count": 1,
   "metadata": {},
   "outputs": [],
   "source": [
    "import os\n",
    "import sys\n",
    "import pandas\n",
    "import numpy, scipy, sklearn\n",
    "\n",
    "import findspark\n",
    "findspark.init(\"/usr/local/spark/spark\")\n",
    "\n",
    "import pyspark\n",
    "from pyspark.sql.window import Window\n",
    "import pyspark.sql.functions as func\n",
    "\n",
    "from pyspark.rdd import reduce\n",
    "from pyspark.sql.types import DoubleType\n",
    "from pyspark.ml.feature import VectorAssembler\n",
    "from pyspark.ml.clustering import KMeansModel, KMeans\n",
    "from pyspark.ml.linalg import SparseVector, VectorUDT, Vector, Vectors"
   ]
  },
  {
   "cell_type": "code",
   "execution_count": 25,
   "metadata": {},
   "outputs": [],
   "source": [
    "from pyspark.ml.regression import GeneralizedLinearRegression, LinearRegression\n",
    "from pyspark.ml.classification import LogisticRegression"
   ]
  },
  {
   "cell_type": "code",
   "execution_count": 3,
   "metadata": {},
   "outputs": [],
   "source": [
    "file_name = \"/Users/simondi/PROJECTS/target_infect_x_project/src/tix-analysis/data/dat_test.tsv\""
   ]
  },
  {
   "cell_type": "code",
   "execution_count": 4,
   "metadata": {},
   "outputs": [],
   "source": [
    "conf = pyspark.SparkConf().setMaster(\"local[*]\").set(\"spark.driver.memory\", \"4G\").set(\"spark.executor.memory\", \"4G\")\n",
    "sc = pyspark.SparkContext(conf=conf)\n",
    "spark = pyspark.sql.SparkSession(sc)"
   ]
  },
  {
   "cell_type": "code",
   "execution_count": 5,
   "metadata": {},
   "outputs": [
    {
     "data": {
      "text/plain": [
       "'2.3.0'"
      ]
     },
     "execution_count": 5,
     "metadata": {},
     "output_type": "execute_result"
    }
   ],
   "source": [
    "spark.version"
   ]
  },
  {
   "cell_type": "code",
   "execution_count": 9,
   "metadata": {},
   "outputs": [],
   "source": [
    "df = spark.read.csv(file_name, sep=\"\\t\", header=True)"
   ]
  },
  {
   "cell_type": "code",
   "execution_count": 10,
   "metadata": {},
   "outputs": [
    {
     "data": {
      "text/plain": [
       "[Row(study='group_cossart', pathogen='listeria', library='d', design='p', replicate='1', plate='dz01-1k', well='a01', gene='atp6v1a', sirna='l-017590-01', well_type='control', image_idx='2', object_idx='88', cells_areashape_area='1.4029030010185783', cells_areashape_eccentricity='0.3142536848338833', cells_areashape_extent='-1.6297970823031522', cells_areashape_formfactor='-1.7074273850889834', cells_areashape_majoraxislength='2.305865910760918', cells_areashape_minoraxislength='2.3619640612479333', cells_areashape_perimeter='3.5860804359278955', cells_children_bacteria_count='22.0', cells_children_invasomes_count='0.0', cells_location_center_x='-0.18576560749835072', cells_location_center_y='1.4330089525334146', cells_neighbors_anglebetweenneighbors_2='-0.7511223042913049', cells_neighbors_firstclosestobjectnumber_2='-0.2640081916106512', cells_neighbors_firstclosestxvector_2='-2.032687468785173', cells_neighbors_firstclosestyvector_2='-0.10606883639693158', cells_neighbors_numberofneighbors_2='-0.3213645159630724', cells_neighbors_secondclosestobjectnumber_2='-0.14805853942998132', cells_neighbors_secondclosestxvector_2='-0.18593282053056845', cells_neighbors_secondclosestyvector_2='-1.692067420339227', cells_parent_nuclei='-0.13042663442283667', nuclei_areashape_area='-0.3456105326480362', nuclei_areashape_eccentricity='1.1269486871801118', nuclei_areashape_extent='-1.5741366926613665', nuclei_areashape_formfactor='-0.63816967031304', nuclei_areashape_majoraxislength='0.45512791729371405', nuclei_areashape_minoraxislength='-0.9493281206229313', nuclei_areashape_orientation='0.8514079678307183', nuclei_areashape_perimeter='-0.07094327945416254', nuclei_children_cells_count='1.0', nuclei_children_perinuclei_count='1.0', nuclei_location_center_x='-0.22645277785040666', nuclei_location_center_y='1.2867992940176842', perinuclei_areashape_area='0.3211788904181585', perinuclei_areashape_eccentricity='0.9637917365767842', perinuclei_areashape_formfactor='0.6632745939876702', perinuclei_areashape_majoraxislength='0.38403443628132267', perinuclei_areashape_minoraxislength='-0.5113379272907543', perinuclei_areashape_orientation='0.8633338646406317', perinuclei_areashape_perimeter='-0.022811996343702467', perinuclei_location_center_x='-0.2278767387319804', perinuclei_location_center_y='1.2879445093200563', perinuclei_parent_expandednuclei='-0.13042663442283667', perinuclei_parent_nuclei='-0.13042663442283667', is_infected='1')]"
      ]
     },
     "execution_count": 10,
     "metadata": {},
     "output_type": "execute_result"
    }
   ],
   "source": [
    "df.take(1)"
   ]
  },
  {
   "cell_type": "code",
   "execution_count": 18,
   "metadata": {},
   "outputs": [],
   "source": [
    "for i, x in enumerate(df.columns):\n",
    "    if x.startswith(\"cells\") or x.startswith(\"is_infected\"):\n",
    "        df = df.withColumn(x, df[x].cast(\"double\"))\n",
    "df = df.fillna(0)"
   ]
  },
  {
   "cell_type": "code",
   "execution_count": 19,
   "metadata": {},
   "outputs": [],
   "source": [
    "cols = [x for x in df.columns if x.startswith(\"cell\")]"
   ]
  },
  {
   "cell_type": "code",
   "execution_count": 20,
   "metadata": {},
   "outputs": [],
   "source": [
    " assembler = VectorAssembler(\n",
    "          inputCols=cols,\n",
    "          outputCol=\"features\")\n",
    "df = assembler.transform(df)"
   ]
  },
  {
   "cell_type": "code",
   "execution_count": 21,
   "metadata": {},
   "outputs": [
    {
     "data": {
      "text/plain": [
       "[Row(study='group_cossart', pathogen='listeria', library='d', design='p', replicate='1', plate='dz01-1k', well='a01', gene='atp6v1a', sirna='l-017590-01', well_type='control', image_idx='2', object_idx='88', cells_areashape_area=1.4029030010185783, cells_areashape_eccentricity=0.3142536848338833, cells_areashape_extent=-1.6297970823031522, cells_areashape_formfactor=-1.7074273850889834, cells_areashape_majoraxislength=2.305865910760918, cells_areashape_minoraxislength=2.3619640612479333, cells_areashape_perimeter=3.5860804359278955, cells_children_bacteria_count=22.0, cells_children_invasomes_count=0.0, cells_location_center_x=-0.18576560749835072, cells_location_center_y=1.4330089525334146, cells_neighbors_anglebetweenneighbors_2=-0.7511223042913049, cells_neighbors_firstclosestobjectnumber_2=-0.2640081916106512, cells_neighbors_firstclosestxvector_2=-2.032687468785173, cells_neighbors_firstclosestyvector_2=-0.10606883639693158, cells_neighbors_numberofneighbors_2=-0.3213645159630724, cells_neighbors_secondclosestobjectnumber_2=-0.14805853942998132, cells_neighbors_secondclosestxvector_2=-0.18593282053056845, cells_neighbors_secondclosestyvector_2=-1.692067420339227, cells_parent_nuclei=-0.13042663442283667, nuclei_areashape_area='-0.3456105326480362', nuclei_areashape_eccentricity='1.1269486871801118', nuclei_areashape_extent='-1.5741366926613665', nuclei_areashape_formfactor='-0.63816967031304', nuclei_areashape_majoraxislength='0.45512791729371405', nuclei_areashape_minoraxislength='-0.9493281206229313', nuclei_areashape_orientation='0.8514079678307183', nuclei_areashape_perimeter='-0.07094327945416254', nuclei_children_cells_count='1.0', nuclei_children_perinuclei_count='1.0', nuclei_location_center_x='-0.22645277785040666', nuclei_location_center_y='1.2867992940176842', perinuclei_areashape_area='0.3211788904181585', perinuclei_areashape_eccentricity='0.9637917365767842', perinuclei_areashape_formfactor='0.6632745939876702', perinuclei_areashape_majoraxislength='0.38403443628132267', perinuclei_areashape_minoraxislength='-0.5113379272907543', perinuclei_areashape_orientation='0.8633338646406317', perinuclei_areashape_perimeter='-0.022811996343702467', perinuclei_location_center_x='-0.2278767387319804', perinuclei_location_center_y='1.2879445093200563', perinuclei_parent_expandednuclei='-0.13042663442283667', perinuclei_parent_nuclei='-0.13042663442283667', is_infected=1.0, label=1.0, features=DenseVector([1.4029, 0.3143, -1.6298, -1.7074, 2.3059, 2.362, 3.5861, 22.0, 0.0, -0.1858, 1.433, -0.7511, -0.264, -2.0327, -0.1061, -0.3214, -0.1481, -0.1859, -1.6921, -0.1304]))]"
      ]
     },
     "execution_count": 21,
     "metadata": {},
     "output_type": "execute_result"
    }
   ],
   "source": [
    "df.take(1)"
   ]
  },
  {
   "cell_type": "code",
   "execution_count": 81,
   "metadata": {},
   "outputs": [],
   "source": [
    "lr = LogisticRegression(maxIter=100, regParam=0, elasticNetParam=0)"
   ]
  },
  {
   "cell_type": "code",
   "execution_count": 82,
   "metadata": {},
   "outputs": [],
   "source": [
    "f = lr.fit(df)"
   ]
  },
  {
   "cell_type": "code",
   "execution_count": 83,
   "metadata": {},
   "outputs": [
    {
     "data": {
      "text/plain": [
       "LogisticRegression_44b6a9d2c20d22cb672d"
      ]
     },
     "execution_count": 83,
     "metadata": {},
     "output_type": "execute_result"
    }
   ],
   "source": [
    "f"
   ]
  },
  {
   "cell_type": "code",
   "execution_count": 87,
   "metadata": {},
   "outputs": [
    {
     "data": {
      "text/plain": [
       "'features'"
      ]
     },
     "execution_count": 87,
     "metadata": {},
     "output_type": "execute_result"
    }
   ],
   "source": [
    "f.summary.featuresCol"
   ]
  },
  {
   "cell_type": "code",
   "execution_count": 41,
   "metadata": {},
   "outputs": [
    {
     "name": "stdout",
     "output_type": "stream",
     "text": [
      "+-----------+\n",
      "|is_infected|\n",
      "+-----------+\n",
      "|        1.0|\n",
      "|        0.0|\n",
      "|        1.0|\n",
      "|        0.0|\n",
      "|        1.0|\n",
      "|        0.0|\n",
      "|        1.0|\n",
      "|        1.0|\n",
      "|        1.0|\n",
      "|        1.0|\n",
      "|        1.0|\n",
      "|        1.0|\n",
      "|        0.0|\n",
      "|        1.0|\n",
      "|        0.0|\n",
      "|        1.0|\n",
      "|        1.0|\n",
      "|        0.0|\n",
      "|        0.0|\n",
      "|        0.0|\n",
      "+-----------+\n",
      "only showing top 20 rows\n",
      "\n"
     ]
    }
   ],
   "source": [
    "df.select(\"is_infected\").show()"
   ]
  },
  {
   "cell_type": "code",
   "execution_count": 23,
   "metadata": {},
   "outputs": [],
   "source": [
    "from pyspark.ml.tuning import ParamGridBuilder, TrainValidationSplit"
   ]
  },
  {
   "cell_type": "code",
   "execution_count": 24,
   "metadata": {},
   "outputs": [],
   "source": [
    "train, test = df.randomSplit([0.9, 0.1], seed=23)"
   ]
  },
  {
   "cell_type": "code",
   "execution_count": 25,
   "metadata": {},
   "outputs": [],
   "source": [
    "model = lr.fit(train)"
   ]
  },
  {
   "cell_type": "code",
   "execution_count": null,
   "metadata": {},
   "outputs": [],
   "source": []
  },
  {
   "cell_type": "code",
   "execution_count": 30,
   "metadata": {},
   "outputs": [
    {
     "data": {
      "text/plain": [
       "[Row(label=-0.6324046272963104, prediction=-0.6490031713160578),\n",
       " Row(label=1.1329073502689189, prediction=0.9971040599152651),\n",
       " Row(label=-0.6324046272963104, prediction=-0.9035112926007549),\n",
       " Row(label=-0.7030171063989196, prediction=-0.5832485615603501),\n",
       " Row(label=1.3447447875767464, prediction=0.8272917641961595),\n",
       " Row(label=0.4973950383454364, prediction=0.9133392481923913),\n",
       " Row(label=-0.7030171063989196, prediction=-0.9633648063317238),\n",
       " Row(label=0.7798449547558731, prediction=0.5998874398452572),\n",
       " Row(label=-0.7030171063989196, prediction=-0.706635072049074),\n",
       " Row(label=0.14433264283239053, prediction=-0.32669901976554777)]"
      ]
     },
     "execution_count": 30,
     "metadata": {},
     "output_type": "execute_result"
    }
   ],
   "source": [
    "model.transform(test).select([\"label\", \"prediction\"]).take(10)"
   ]
  },
  {
   "cell_type": "code",
   "execution_count": 45,
   "metadata": {},
   "outputs": [],
   "source": [
    "glr = GeneralizedLinearRegression(maxIter=100, regParam=0, family=\"gaussian\", link=\"identity\")"
   ]
  },
  {
   "cell_type": "code",
   "execution_count": 47,
   "metadata": {},
   "outputs": [],
   "source": [
    "model = glr.fit(train)"
   ]
  },
  {
   "cell_type": "code",
   "execution_count": 48,
   "metadata": {},
   "outputs": [
    {
     "name": "stdout",
     "output_type": "stream",
     "text": [
      "+--------------------+--------------------+\n",
      "|               label|          prediction|\n",
      "+--------------------+--------------------+\n",
      "| -0.6324046272963104| -0.6490031713160578|\n",
      "|  1.1329073502689189|  0.9971040599152651|\n",
      "| -0.6324046272963104| -0.9035112926007549|\n",
      "| -0.7030171063989196| -0.5832485615603501|\n",
      "|  1.3447447875767464|  0.8272917641961595|\n",
      "|  0.4973950383454364|  0.9133392481923913|\n",
      "| -0.7030171063989196| -0.9633648063317238|\n",
      "|  0.7798449547558731|  0.5998874398452572|\n",
      "| -0.7030171063989196|  -0.706635072049074|\n",
      "| 0.14433264283239053|-0.32669901976554777|\n",
      "|-0.27934223178326456|-0.22168777559232367|\n",
      "|  0.7798449547558731|  0.7415063196478057|\n",
      "|  0.2855576010376089|  1.1152499761266965|\n",
      "| 0.07372016372978137| -0.2530712824875086|\n",
      "| -0.5617921481937013|   -0.51768899484668|\n",
      "|  0.9916823920637007|  0.9348901148852727|\n",
      "| -0.6324046272963104|-0.39129522158481844|\n",
      "+--------------------+--------------------+\n",
      "\n"
     ]
    }
   ],
   "source": [
    "model.transform(test).select([\"label\", \"prediction\"]).show()"
   ]
  },
  {
   "cell_type": "code",
   "execution_count": 50,
   "metadata": {},
   "outputs": [],
   "source": [
    "from pyspark.ml.classification import RandomForestClassifier\n",
    "from pyspark.ml.regression import RandomForestRegressor"
   ]
  },
  {
   "cell_type": "code",
   "execution_count": 66,
   "metadata": {},
   "outputs": [],
   "source": [
    "rf = RandomForestRegressor(labelCol=\"label\", featuresCol=\"features\", numTrees=100, maxDepth=15, subsamplingRate=.5)"
   ]
  },
  {
   "cell_type": "code",
   "execution_count": 67,
   "metadata": {},
   "outputs": [],
   "source": [
    "rft =  rf.fit(train)"
   ]
  },
  {
   "cell_type": "code",
   "execution_count": 68,
   "metadata": {},
   "outputs": [
    {
     "name": "stdout",
     "output_type": "stream",
     "text": [
      "+--------------------+--------------------+\n",
      "|               label|          prediction|\n",
      "+--------------------+--------------------+\n",
      "| -0.6324046272963104|-0.32100359445380405|\n",
      "|  1.1329073502689189|   0.271435105217087|\n",
      "| -0.6324046272963104| -0.3718445794076824|\n",
      "| -0.7030171063989196|-0.48411842118083087|\n",
      "|  1.3447447875767464|  0.4465540533915579|\n",
      "|  0.4973950383454364|-0.00254131370103...|\n",
      "| -0.7030171063989196|-0.44245705851029166|\n",
      "|  0.7798449547558731| -0.2758116078281342|\n",
      "| -0.7030171063989196|-0.35207308525895187|\n",
      "| 0.14433264283239053|-0.36972620503460435|\n",
      "|-0.27934223178326456|-0.24897886576914266|\n",
      "|  0.7798449547558731| 0.26931673084400887|\n",
      "|  0.2855576010376089|  0.4048926907210186|\n",
      "| 0.07372016372978137| -0.2659258607537688|\n",
      "| -0.5617921481937013| -0.4954164178372482|\n",
      "|  0.9916823920637007| 0.28838210020171323|\n",
      "| -0.6324046272963104| -0.3767874529448651|\n",
      "+--------------------+--------------------+\n",
      "\n"
     ]
    }
   ],
   "source": [
    "rft.transform(test).select([\"label\", \"prediction\"]).show()"
   ]
  },
  {
   "cell_type": "code",
   "execution_count": 69,
   "metadata": {},
   "outputs": [],
   "source": [
    "spark.stop()"
   ]
  },
  {
   "cell_type": "code",
   "execution_count": 45,
   "metadata": {},
   "outputs": [],
   "source": [
    "fd = \"/Users/simondi/PROJECTS/target_infect_x_project/src/tix-analysis/data/single_cell_samples.tsv\""
   ]
  },
  {
   "cell_type": "code",
   "execution_count": 46,
   "metadata": {},
   "outputs": [],
   "source": [
    "d = spark.read.csv(path=fd, sep=\"\\t\", header=True)"
   ]
  },
  {
   "cell_type": "code",
   "execution_count": 49,
   "metadata": {},
   "outputs": [
    {
     "data": {
      "text/plain": [
       "[Row(study='infectx_published', pathogen='listeria', library='a', design='u', replicate='1', plate='kb2-02-1x', well='a01', gene='chka', sirna='s3008', well_type='sirna', image_idx='4', object_idx='144', cells_areashape_area='-0.8044235519947214', cells_areashape_eccentricity='0.01210726352227413', cells_areashape_extent='1.1159023326616404', cells_areashape_formfactor='1.4749286136850854', cells_areashape_majoraxislength='-0.9368530225439791', cells_areashape_minoraxislength='-0.7485320762193192', cells_areashape_perimeter='-1.0209269921587854', cells_children_bacteria_count='-0.7030171063989196', cells_children_invasomes_count=None, cells_location_center_x='0.44758084788204255', cells_location_center_y='1.2808903222918113', cells_neighbors_anglebetweenneighbors_2='1.3915760955745562', cells_neighbors_firstclosestobjectnumber_2='0.14886791955020456', cells_neighbors_firstclosestxvector_2='0.6694456185473984', cells_neighbors_firstclosestyvector_2='-1.233468444008488', cells_neighbors_numberofneighbors_2='-0.08251849113020833', cells_neighbors_secondclosestobjectnumber_2='0.010590200221473884', cells_neighbors_secondclosestxvector_2='-0.5078296335206587', cells_neighbors_secondclosestyvector_2='1.2455372476249023', cells_parent_nuclei='0.13572336470424068')]"
      ]
     },
     "execution_count": 49,
     "metadata": {},
     "output_type": "execute_result"
    }
   ],
   "source": [
    "d.take(1)"
   ]
  },
  {
   "cell_type": "code",
   "execution_count": 52,
   "metadata": {},
   "outputs": [
    {
     "data": {
      "text/plain": [
       "[array(['1.2455372476249023', '0.13572336470424068'], dtype='<U19')]"
      ]
     },
     "execution_count": 52,
     "metadata": {},
     "output_type": "execute_result"
    }
   ],
   "source": [
    "d.select([\"cells_neighbors_secondclosestyvector_2\", \"cells_parent_nuclei\"]).rdd.map(numpy.array).take(1)"
   ]
  },
  {
   "cell_type": "code",
   "execution_count": 53,
   "metadata": {},
   "outputs": [
    {
     "data": {
      "text/plain": [
       "['study',\n",
       " 'pathogen',\n",
       " 'library',\n",
       " 'design',\n",
       " 'replicate',\n",
       " 'plate',\n",
       " 'well',\n",
       " 'gene',\n",
       " 'sirna',\n",
       " 'well_type',\n",
       " 'image_idx',\n",
       " 'object_idx',\n",
       " 'cells_areashape_area',\n",
       " 'cells_areashape_eccentricity',\n",
       " 'cells_areashape_extent',\n",
       " 'cells_areashape_formfactor',\n",
       " 'cells_areashape_majoraxislength',\n",
       " 'cells_areashape_minoraxislength',\n",
       " 'cells_areashape_perimeter',\n",
       " 'cells_children_bacteria_count',\n",
       " 'cells_children_invasomes_count',\n",
       " 'cells_location_center_x',\n",
       " 'cells_location_center_y',\n",
       " 'cells_neighbors_anglebetweenneighbors_2',\n",
       " 'cells_neighbors_firstclosestobjectnumber_2',\n",
       " 'cells_neighbors_firstclosestxvector_2',\n",
       " 'cells_neighbors_firstclosestyvector_2',\n",
       " 'cells_neighbors_numberofneighbors_2',\n",
       " 'cells_neighbors_secondclosestobjectnumber_2',\n",
       " 'cells_neighbors_secondclosestxvector_2',\n",
       " 'cells_neighbors_secondclosestyvector_2',\n",
       " 'cells_parent_nuclei']"
      ]
     },
     "execution_count": 53,
     "metadata": {},
     "output_type": "execute_result"
    }
   ],
   "source": [
    "d."
   ]
  },
  {
   "cell_type": "code",
   "execution_count": 94,
   "metadata": {},
   "outputs": [],
   "source": [
    "for x in [\"cells_location_center_x\"]:\n",
    "    d = d.withColumn(x, d[x].cast(\"float\"))\n",
    "for x in [\"cells_location_center_y\"]:\n",
    "    d = d.withColumn(x, d[x].cast(\"float\"))"
   ]
  },
  {
   "cell_type": "code",
   "execution_count": 95,
   "metadata": {},
   "outputs": [
    {
     "data": {
      "text/plain": [
       "[('study', 'string'),\n",
       " ('pathogen', 'string'),\n",
       " ('library', 'string'),\n",
       " ('design', 'string'),\n",
       " ('replicate', 'string'),\n",
       " ('plate', 'string'),\n",
       " ('well', 'string'),\n",
       " ('gene', 'string'),\n",
       " ('sirna', 'string'),\n",
       " ('well_type', 'string'),\n",
       " ('image_idx', 'string'),\n",
       " ('object_idx', 'string'),\n",
       " ('cells_areashape_area', 'string'),\n",
       " ('cells_areashape_eccentricity', 'string'),\n",
       " ('cells_areashape_extent', 'string'),\n",
       " ('cells_areashape_formfactor', 'string'),\n",
       " ('cells_areashape_majoraxislength', 'string'),\n",
       " ('cells_areashape_minoraxislength', 'string'),\n",
       " ('cells_areashape_perimeter', 'string'),\n",
       " ('cells_children_bacteria_count', 'string'),\n",
       " ('cells_children_invasomes_count', 'string'),\n",
       " ('cells_location_center_x', 'float'),\n",
       " ('cells_location_center_y', 'float'),\n",
       " ('cells_neighbors_anglebetweenneighbors_2', 'string'),\n",
       " ('cells_neighbors_firstclosestobjectnumber_2', 'string'),\n",
       " ('cells_neighbors_firstclosestxvector_2', 'string'),\n",
       " ('cells_neighbors_firstclosestyvector_2', 'string'),\n",
       " ('cells_neighbors_numberofneighbors_2', 'string'),\n",
       " ('cells_neighbors_secondclosestobjectnumber_2', 'string'),\n",
       " ('cells_neighbors_secondclosestxvector_2', 'string'),\n",
       " ('cells_neighbors_secondclosestyvector_2', 'string'),\n",
       " ('cells_parent_nuclei', 'string')]"
      ]
     },
     "execution_count": 95,
     "metadata": {},
     "output_type": "execute_result"
    }
   ],
   "source": [
    "d.dtypes"
   ]
  },
  {
   "cell_type": "code",
   "execution_count": 104,
   "metadata": {},
   "outputs": [
    {
     "data": {
      "text/plain": [
       "True"
      ]
     },
     "execution_count": 104,
     "metadata": {},
     "output_type": "execute_result"
    }
   ],
   "source": [
    "\"cells_parent_nuclei\" in column_types"
   ]
  },
  {
   "cell_type": "code",
   "execution_count": 98,
   "metadata": {},
   "outputs": [],
   "source": [
    "from pyspark.ml.linalg import Vectors\n",
    "from pyspark.ml.feature import VectorAssembler\n",
    "\n",
    "assembler = VectorAssembler(\n",
    "    inputCols=[\"cells_location_center_x\"],\n",
    "    outputCol=\"features\")\n",
    "\n",
    "dn = assembler.transform(d)"
   ]
  },
  {
   "cell_type": "code",
   "execution_count": 106,
   "metadata": {},
   "outputs": [
    {
     "data": {
      "text/plain": [
       "True"
      ]
     },
     "execution_count": 106,
     "metadata": {},
     "output_type": "execute_result"
    }
   ],
   "source": [
    "numpy.array(dn.select(\"features\").take(1)[0][0]).dtype == \"float64\""
   ]
  },
  {
   "cell_type": "code",
   "execution_count": null,
   "metadata": {},
   "outputs": [],
   "source": []
  }
 ],
 "metadata": {
  "kernelspec": {
   "display_name": "Python 3 (Tix)",
   "language": "python",
   "name": "tix"
  },
  "language_info": {
   "codemirror_mode": {
    "name": "ipython",
    "version": 3
   },
   "file_extension": ".py",
   "mimetype": "text/x-python",
   "name": "python",
   "nbconvert_exporter": "python",
   "pygments_lexer": "ipython3",
   "version": "3.6.5"
  }
 },
 "nbformat": 4,
 "nbformat_minor": 1
}
