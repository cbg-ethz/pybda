{
 "cells": [
  {
   "cell_type": "code",
   "execution_count": 2,
   "metadata": {},
   "outputs": [],
   "source": [
    "import os\n",
    "import sys\n",
    "import pandas\n",
    "import numpy, scipy\n",
    "\n",
    "import findspark\n",
    "findspark.init(\"/usr/local/spark/spark\")\n",
    "\n",
    "import pyspark\n",
    "from pyspark.sql.window import Window\n",
    "import pyspark.sql.functions as func\n",
    "\n",
    "from pyspark.rdd import reduce\n",
    "from pyspark.sql.types import DoubleType\n",
    "from pyspark.ml.feature import VectorAssembler\n",
    "from pyspark.ml.clustering import KMeansModel, KMeans\n",
    "from pyspark.ml.linalg import SparseVector, VectorUDT, Vector, Vectors"
   ]
  },
  {
   "cell_type": "code",
   "execution_count": 141,
   "metadata": {},
   "outputs": [],
   "source": [
    "from  pyspark.mllib.classification import LogisticRegressionWithLBFGS"
   ]
  },
  {
   "cell_type": "code",
   "execution_count": 61,
   "metadata": {},
   "outputs": [],
   "source": [
    "from pyspark.mllib.linalg.distributed import RowMatrix, DenseMatrix"
   ]
  },
  {
   "cell_type": "code",
   "execution_count": 3,
   "metadata": {},
   "outputs": [],
   "source": [
    "from pyspark.ml.regression import GeneralizedLinearRegression, LinearRegression\n",
    "from pyspark.ml.classification import LogisticRegression"
   ]
  },
  {
   "cell_type": "code",
   "execution_count": 4,
   "metadata": {},
   "outputs": [],
   "source": [
    "file_name = \"/Users/simondi/PROJECTS/target_infect_x_project/src/tix-analysis/data/dat_test.tsv\""
   ]
  },
  {
   "cell_type": "code",
   "execution_count": 5,
   "metadata": {},
   "outputs": [],
   "source": [
    "conf = pyspark.SparkConf().setMaster(\"local[*]\").set(\"spark.driver.memory\", \"4G\").set(\"spark.executor.memory\", \"4G\")\n",
    "sc = pyspark.SparkContext(conf=conf)\n",
    "spark = pyspark.sql.SparkSession(sc)"
   ]
  },
  {
   "cell_type": "code",
   "execution_count": 6,
   "metadata": {},
   "outputs": [
    {
     "data": {
      "text/plain": [
       "'2.3.0'"
      ]
     },
     "execution_count": 6,
     "metadata": {},
     "output_type": "execute_result"
    }
   ],
   "source": [
    "spark.version"
   ]
  },
  {
   "cell_type": "code",
   "execution_count": 175,
   "metadata": {},
   "outputs": [],
   "source": [
    "df = spark.read.csv(file_name, sep=\"\\t\", header=True)"
   ]
  },
  {
   "cell_type": "code",
   "execution_count": 176,
   "metadata": {},
   "outputs": [],
   "source": [
    "for i, x in enumerate(df.columns):\n",
    "    if x.startswith(\"cells\") or x.startswith(\"is_infected\"):\n",
    "        df = df.withColumn(x, df[x].cast(\"double\"))\n",
    "df = df.fillna(0)"
   ]
  },
  {
   "cell_type": "code",
   "execution_count": 177,
   "metadata": {},
   "outputs": [],
   "source": [
    "cols = [x for x in df.columns if x.startswith(\"cell\")]"
   ]
  },
  {
   "cell_type": "code",
   "execution_count": 178,
   "metadata": {},
   "outputs": [],
   "source": [
    "assembler = VectorAssembler(\n",
    "          inputCols=cols,\n",
    "          outputCol=\"features\")\n",
    "df = assembler.transform(df)"
   ]
  },
  {
   "cell_type": "code",
   "execution_count": 179,
   "metadata": {},
   "outputs": [],
   "source": [
    "glr = GeneralizedLinearRegression(maxIter=100, regParam=1, labelCol=\"is_infected\", family=\"binomial\", link=\"logit\")"
   ]
  },
  {
   "cell_type": "code",
   "execution_count": 180,
   "metadata": {},
   "outputs": [],
   "source": [
    "model = glr.fit(df)"
   ]
  },
  {
   "cell_type": "code",
   "execution_count": 198,
   "metadata": {},
   "outputs": [],
   "source": [
    "beta = scipy.append(scipy.array(model.intercept),scipy.array(model.coefficients))"
   ]
  },
  {
   "cell_type": "code",
   "execution_count": 204,
   "metadata": {},
   "outputs": [
    {
     "data": {
      "text/plain": [
       "array([nan, nan, nan, nan, nan, nan, nan, nan, nan, nan, nan, nan, nan,\n",
       "       nan, nan, nan, nan, nan, nan, nan, nan])"
      ]
     },
     "execution_count": 204,
     "metadata": {},
     "output_type": "execute_result"
    }
   ],
   "source": [
    "ts = scipy.zeros_like(beta) * scipy.NaN\n",
    "ts"
   ]
  },
  {
   "cell_type": "code",
   "execution_count": 197,
   "metadata": {},
   "outputs": [
    {
     "name": "stdout",
     "output_type": "stream",
     "text": [
      "e\n"
     ]
    }
   ],
   "source": [
    "try:\n",
    "    print(model.summary.)\n",
    "except Exception as e:\n",
    "    print(\"e\")"
   ]
  },
  {
   "cell_type": "code",
   "execution_count": 151,
   "metadata": {},
   "outputs": [
    {
     "ename": "AnalysisException",
     "evalue": "\"cannot resolve '`rawPrediction`' given input columns: [replicate, object_idx, is_infected, cells_areashape_formfactor, nuclei_children_perinuclei_count, library, cells_neighbors_secondclosestxvector_2, perinuclei_areashape_minoraxislength, nuclei_areashape_orientation, nuclei_location_center_y, cells_parent_nuclei, plate, perinuclei_areashape_orientation, perinuclei_parent_expandednuclei, design, nuclei_areashape_majoraxislength, perinuclei_areashape_majoraxislength, perinuclei_parent_nuclei, nuclei_areashape_formfactor, study, nuclei_areashape_minoraxislength, nuclei_children_cells_count, gene, prediction, cells_neighbors_firstclosestobjectnumber_2, cells_neighbors_anglebetweenneighbors_2, perinuclei_location_center_y, perinuclei_areashape_formfactor, nuclei_location_center_x, nuclei_areashape_area, cells_areashape_majoraxislength, perinuclei_areashape_perimeter, features, cells_neighbors_secondclosestobjectnumber_2, cells_location_center_x, sirna, cells_areashape_extent, cells_areashape_eccentricity, cells_areashape_minoraxislength, cells_areashape_perimeter, cells_children_invasomes_count, perinuclei_areashape_area, cells_areashape_area, perinuclei_location_center_x, cells_neighbors_secondclosestyvector_2, cells_children_bacteria_count, nuclei_areashape_extent, cells_neighbors_numberofneighbors_2, nuclei_areashape_perimeter, well_type, pathogen, cells_location_center_y, perinuclei_areashape_eccentricity, cells_neighbors_firstclosestyvector_2, image_idx, cells_neighbors_firstclosestxvector_2, nuclei_areashape_eccentricity, well];;\\n'Project [is_infected#1452, prediction#6487, 'rawPrediction, 'probability]\\n+- AnalysisBarrier\\n      +- Project [study#10, pathogen#11, library#12, design#13, replicate#14, plate#15, well#16, gene#17, sirna#18, well_type#19, image_idx#20, object_idx#21, cells_areashape_area#1432, cells_areashape_eccentricity#1433, cells_areashape_extent#1434, cells_areashape_formfactor#1435, cells_areashape_majoraxislength#1436, cells_areashape_minoraxislength#1437, cells_areashape_perimeter#1438, cells_children_bacteria_count#1439, cells_children_invasomes_count#1440, cells_location_center_x#1441, cells_location_center_y#1442, cells_neighbors_anglebetweenneighbors_2#1443, ... 34 more fields]\\n         +- Sample 0.9, 1.0, false, 23\\n            +- Sort [study#10 ASC NULLS FIRST, pathogen#11 ASC NULLS FIRST, library#12 ASC NULLS FIRST, design#13 ASC NULLS FIRST, replicate#14 ASC NULLS FIRST, plate#15 ASC NULLS FIRST, well#16 ASC NULLS FIRST, gene#17 ASC NULLS FIRST, sirna#18 ASC NULLS FIRST, well_type#19 ASC NULLS FIRST, image_idx#20 ASC NULLS FIRST, object_idx#21 ASC NULLS FIRST, cells_areashape_area#1432 ASC NULLS FIRST, cells_areashape_eccentricity#1433 ASC NULLS FIRST, cells_areashape_extent#1434 ASC NULLS FIRST, cells_areashape_formfactor#1435 ASC NULLS FIRST, cells_areashape_majoraxislength#1436 ASC NULLS FIRST, cells_areashape_minoraxislength#1437 ASC NULLS FIRST, cells_areashape_perimeter#1438 ASC NULLS FIRST, cells_children_bacteria_count#1439 ASC NULLS FIRST, cells_children_invasomes_count#1440 ASC NULLS FIRST, cells_location_center_x#1441 ASC NULLS FIRST, cells_location_center_y#1442 ASC NULLS FIRST, cells_neighbors_anglebetweenneighbors_2#1443 ASC NULLS FIRST, ... 33 more fields], false\\n               +- Project [study#10, pathogen#11, library#12, design#13, replicate#14, plate#15, well#16, gene#17, sirna#18, well_type#19, image_idx#20, object_idx#21, cells_areashape_area#1432, cells_areashape_eccentricity#1433, cells_areashape_extent#1434, cells_areashape_formfactor#1435, cells_areashape_majoraxislength#1436, cells_areashape_minoraxislength#1437, cells_areashape_perimeter#1438, cells_children_bacteria_count#1439, cells_children_invasomes_count#1440, cells_location_center_x#1441, cells_location_center_y#1442, cells_neighbors_anglebetweenneighbors_2#1443, ... 33 more fields]\\n                  +- Project [study#10, pathogen#11, library#12, design#13, replicate#14, plate#15, well#16, gene#17, sirna#18, well_type#19, image_idx#20, object_idx#21, coalesce(nanvl(cells_areashape_area#179, cast(null as double)), cast(0.0 as double)) AS cells_areashape_area#1432, coalesce(nanvl(cells_areashape_eccentricity#236, cast(null as double)), cast(0.0 as double)) AS cells_areashape_eccentricity#1433, coalesce(nanvl(cells_areashape_extent#293, cast(null as double)), cast(0.0 as double)) AS cells_areashape_extent#1434, coalesce(nanvl(cells_areashape_formfactor#350, cast(null as double)), cast(0.0 as double)) AS cells_areashape_formfactor#1435, coalesce(nanvl(cells_areashape_majoraxislength#407, cast(null as double)), cast(0.0 as double)) AS cells_areashape_majoraxislength#1436, coalesce(nanvl(cells_areashape_minoraxislength#464, cast(null as double)), cast(0.0 as double)) AS cells_areashape_minoraxislength#1437, coalesce(nanvl(cells_areashape_perimeter#521, cast(null as double)), cast(0.0 as double)) AS cells_areashape_perimeter#1438, coalesce(nanvl(cells_children_bacteria_count#578, cast(null as double)), cast(0.0 as double)) AS cells_children_bacteria_count#1439, coalesce(nanvl(cells_children_invasomes_count#635, cast(null as double)), cast(0.0 as double)) AS cells_children_invasomes_count#1440, coalesce(nanvl(cells_location_center_x#692, cast(null as double)), cast(0.0 as double)) AS cells_location_center_x#1441, coalesce(nanvl(cells_location_center_y#749, cast(null as double)), cast(0.0 as double)) AS cells_location_center_y#1442, coalesce(nanvl(cells_neighbors_anglebetweenneighbors_2#806, cast(null as double)), cast(0.0 as double)) AS cells_neighbors_anglebetweenneighbors_2#1443, ... 32 more fields]\\n                     +- Project [study#10, pathogen#11, library#12, design#13, replicate#14, plate#15, well#16, gene#17, sirna#18, well_type#19, image_idx#20, object_idx#21, cells_areashape_area#179, cells_areashape_eccentricity#236, cells_areashape_extent#293, cells_areashape_formfactor#350, cells_areashape_majoraxislength#407, cells_areashape_minoraxislength#464, cells_areashape_perimeter#521, cells_children_bacteria_count#578, cells_children_invasomes_count#635, cells_location_center_x#692, cells_location_center_y#749, cells_neighbors_anglebetweenneighbors_2#806, ... 32 more fields]\\n                        +- Project [study#10, pathogen#11, library#12, design#13, replicate#14, plate#15, well#16, gene#17, sirna#18, well_type#19, image_idx#20, object_idx#21, cells_areashape_area#179, cells_areashape_eccentricity#236, cells_areashape_extent#293, cells_areashape_formfactor#350, cells_areashape_majoraxislength#407, cells_areashape_minoraxislength#464, cells_areashape_perimeter#521, cells_children_bacteria_count#578, cells_children_invasomes_count#635, cells_location_center_x#692, cells_location_center_y#749, cells_neighbors_anglebetweenneighbors_2#806, ... 32 more fields]\\n                           +- Project [study#10, pathogen#11, library#12, design#13, replicate#14, plate#15, well#16, gene#17, sirna#18, well_type#19, image_idx#20, object_idx#21, cells_areashape_area#179, cells_areashape_eccentricity#236, cells_areashape_extent#293, cells_areashape_formfactor#350, cells_areashape_majoraxislength#407, cells_areashape_minoraxislength#464, cells_areashape_perimeter#521, cells_children_bacteria_count#578, cells_children_invasomes_count#635, cells_location_center_x#692, cells_location_center_y#749, cells_neighbors_anglebetweenneighbors_2#806, ... 32 more fields]\\n                              +- Project [study#10, pathogen#11, library#12, design#13, replicate#14, plate#15, well#16, gene#17, sirna#18, well_type#19, image_idx#20, object_idx#21, cells_areashape_area#179, cells_areashape_eccentricity#236, cells_areashape_extent#293, cells_areashape_formfactor#350, cells_areashape_majoraxislength#407, cells_areashape_minoraxislength#464, cells_areashape_perimeter#521, cells_children_bacteria_count#578, cells_children_invasomes_count#635, cells_location_center_x#692, cells_location_center_y#749, cells_neighbors_anglebetweenneighbors_2#806, ... 32 more fields]\\n                                 +- Project [study#10, pathogen#11, library#12, design#13, replicate#14, plate#15, well#16, gene#17, sirna#18, well_type#19, image_idx#20, object_idx#21, cells_areashape_area#179, cells_areashape_eccentricity#236, cells_areashape_extent#293, cells_areashape_formfactor#350, cells_areashape_majoraxislength#407, cells_areashape_minoraxislength#464, cells_areashape_perimeter#521, cells_children_bacteria_count#578, cells_children_invasomes_count#635, cells_location_center_x#692, cells_location_center_y#749, cells_neighbors_anglebetweenneighbors_2#806, ... 32 more fields]\\n                                    +- Project [study#10, pathogen#11, library#12, design#13, replicate#14, plate#15, well#16, gene#17, sirna#18, well_type#19, image_idx#20, object_idx#21, cells_areashape_area#179, cells_areashape_eccentricity#236, cells_areashape_extent#293, cells_areashape_formfactor#350, cells_areashape_majoraxislength#407, cells_areashape_minoraxislength#464, cells_areashape_perimeter#521, cells_children_bacteria_count#578, cells_children_invasomes_count#635, cells_location_center_x#692, cells_location_center_y#749, cells_neighbors_anglebetweenneighbors_2#806, ... 32 more fields]\\n                                       +- Project [study#10, pathogen#11, library#12, design#13, replicate#14, plate#15, well#16, gene#17, sirna#18, well_type#19, image_idx#20, object_idx#21, cells_areashape_area#179, cells_areashape_eccentricity#236, cells_areashape_extent#293, cells_areashape_formfactor#350, cells_areashape_majoraxislength#407, cells_areashape_minoraxislength#464, cells_areashape_perimeter#521, cells_children_bacteria_count#578, cells_children_invasomes_count#635, cells_location_center_x#692, cells_location_center_y#749, cells_neighbors_anglebetweenneighbors_2#806, ... 32 more fields]\\n                                          +- Project [study#10, pathogen#11, library#12, design#13, replicate#14, plate#15, well#16, gene#17, sirna#18, well_type#19, image_idx#20, object_idx#21, cells_areashape_area#179, cells_areashape_eccentricity#236, cells_areashape_extent#293, cells_areashape_formfactor#350, cells_areashape_majoraxislength#407, cells_areashape_minoraxislength#464, cells_areashape_perimeter#521, cells_children_bacteria_count#578, cells_children_invasomes_count#635, cells_location_center_x#692, cells_location_center_y#749, cells_neighbors_anglebetweenneighbors_2#806, ... 32 more fields]\\n                                             +- Project [study#10, pathogen#11, library#12, design#13, replicate#14, plate#15, well#16, gene#17, sirna#18, well_type#19, image_idx#20, object_idx#21, cells_areashape_area#179, cells_areashape_eccentricity#236, cells_areashape_extent#293, cells_areashape_formfactor#350, cells_areashape_majoraxislength#407, cells_areashape_minoraxislength#464, cells_areashape_perimeter#521, cells_children_bacteria_count#578, cells_children_invasomes_count#635, cells_location_center_x#692, cells_location_center_y#749, cells_neighbors_anglebetweenneighbors_2#806, ... 32 more fields]\\n                                                +- Project [study#10, pathogen#11, library#12, design#13, replicate#14, plate#15, well#16, gene#17, sirna#18, well_type#19, image_idx#20, object_idx#21, cells_areashape_area#179, cells_areashape_eccentricity#236, cells_areashape_extent#293, cells_areashape_formfactor#350, cells_areashape_majoraxislength#407, cells_areashape_minoraxislength#464, cells_areashape_perimeter#521, cells_children_bacteria_count#578, cells_children_invasomes_count#635, cells_location_center_x#692, cells_location_center_y#749, cast(cells_neighbors_anglebetweenneighbors_2#33 as double) AS cells_neighbors_anglebetweenneighbors_2#806, ... 32 more fields]\\n                                                   +- Project [study#10, pathogen#11, library#12, design#13, replicate#14, plate#15, well#16, gene#17, sirna#18, well_type#19, image_idx#20, object_idx#21, cells_areashape_area#179, cells_areashape_eccentricity#236, cells_areashape_extent#293, cells_areashape_formfactor#350, cells_areashape_majoraxislength#407, cells_areashape_minoraxislength#464, cells_areashape_perimeter#521, cells_children_bacteria_count#578, cells_children_invasomes_count#635, cells_location_center_x#692, cast(cells_location_center_y#32 as double) AS cells_location_center_y#749, cells_neighbors_anglebetweenneighbors_2#33, ... 32 more fields]\\n                                                      +- Project [study#10, pathogen#11, library#12, design#13, replicate#14, plate#15, well#16, gene#17, sirna#18, well_type#19, image_idx#20, object_idx#21, cells_areashape_area#179, cells_areashape_eccentricity#236, cells_areashape_extent#293, cells_areashape_formfactor#350, cells_areashape_majoraxislength#407, cells_areashape_minoraxislength#464, cells_areashape_perimeter#521, cells_children_bacteria_count#578, cells_children_invasomes_count#635, cast(cells_location_center_x#31 as double) AS cells_location_center_x#692, cells_location_center_y#32, cells_neighbors_anglebetweenneighbors_2#33, ... 32 more fields]\\n                                                         +- Project [study#10, pathogen#11, library#12, design#13, replicate#14, plate#15, well#16, gene#17, sirna#18, well_type#19, image_idx#20, object_idx#21, cells_areashape_area#179, cells_areashape_eccentricity#236, cells_areashape_extent#293, cells_areashape_formfactor#350, cells_areashape_majoraxislength#407, cells_areashape_minoraxislength#464, cells_areashape_perimeter#521, cells_children_bacteria_count#578, cast(cells_children_invasomes_count#30 as double) AS cells_children_invasomes_count#635, cells_location_center_x#31, cells_location_center_y#32, cells_neighbors_anglebetweenneighbors_2#33, ... 32 more fields]\\n                                                            +- Project [study#10, pathogen#11, library#12, design#13, replicate#14, plate#15, well#16, gene#17, sirna#18, well_type#19, image_idx#20, object_idx#21, cells_areashape_area#179, cells_areashape_eccentricity#236, cells_areashape_extent#293, cells_areashape_formfactor#350, cells_areashape_majoraxislength#407, cells_areashape_minoraxislength#464, cells_areashape_perimeter#521, cast(cells_children_bacteria_count#29 as double) AS cells_children_bacteria_count#578, cells_children_invasomes_count#30, cells_location_center_x#31, cells_location_center_y#32, cells_neighbors_anglebetweenneighbors_2#33, ... 32 more fields]\\n                                                               +- Project [study#10, pathogen#11, library#12, design#13, replicate#14, plate#15, well#16, gene#17, sirna#18, well_type#19, image_idx#20, object_idx#21, cells_areashape_area#179, cells_areashape_eccentricity#236, cells_areashape_extent#293, cells_areashape_formfactor#350, cells_areashape_majoraxislength#407, cells_areashape_minoraxislength#464, cast(cells_areashape_perimeter#28 as double) AS cells_areashape_perimeter#521, cells_children_bacteria_count#29, cells_children_invasomes_count#30, cells_location_center_x#31, cells_location_center_y#32, cells_neighbors_anglebetweenneighbors_2#33, ... 32 more fields]\\n                                                                  +- Project [study#10, pathogen#11, library#12, design#13, replicate#14, plate#15, well#16, gene#17, sirna#18, well_type#19, image_idx#20, object_idx#21, cells_areashape_area#179, cells_areashape_eccentricity#236, cells_areashape_extent#293, cells_areashape_formfactor#350, cells_areashape_majoraxislength#407, cast(cells_areashape_minoraxislength#27 as double) AS cells_areashape_minoraxislength#464, cells_areashape_perimeter#28, cells_children_bacteria_count#29, cells_children_invasomes_count#30, cells_location_center_x#31, cells_location_center_y#32, cells_neighbors_anglebetweenneighbors_2#33, ... 32 more fields]\\n                                                                     +- Project [study#10, pathogen#11, library#12, design#13, replicate#14, plate#15, well#16, gene#17, sirna#18, well_type#19, image_idx#20, object_idx#21, cells_areashape_area#179, cells_areashape_eccentricity#236, cells_areashape_extent#293, cells_areashape_formfactor#350, cast(cells_areashape_majoraxislength#26 as double) AS cells_areashape_majoraxislength#407, cells_areashape_minoraxislength#27, cells_areashape_perimeter#28, cells_children_bacteria_count#29, cells_children_invasomes_count#30, cells_location_center_x#31, cells_location_center_y#32, cells_neighbors_anglebetweenneighbors_2#33, ... 32 more fields]\\n                                                                        +- Project [study#10, pathogen#11, library#12, design#13, replicate#14, plate#15, well#16, gene#17, sirna#18, well_type#19, image_idx#20, object_idx#21, cells_areashape_area#179, cells_areashape_eccentricity#236, cells_areashape_extent#293, cast(cells_areashape_formfactor#25 as double) AS cells_areashape_formfactor#350, cells_areashape_majoraxislength#26, cells_areashape_minoraxislength#27, cells_areashape_perimeter#28, cells_children_bacteria_count#29, cells_children_invasomes_count#30, cells_location_center_x#31, cells_location_center_y#32, cells_neighbors_anglebetweenneighbors_2#33, ... 32 more fields]\\n                                                                           +- Project [study#10, pathogen#11, library#12, design#13, replicate#14, plate#15, well#16, gene#17, sirna#18, well_type#19, image_idx#20, object_idx#21, cells_areashape_area#179, cells_areashape_eccentricity#236, cast(cells_areashape_extent#24 as double) AS cells_areashape_extent#293, cells_areashape_formfactor#25, cells_areashape_majoraxislength#26, cells_areashape_minoraxislength#27, cells_areashape_perimeter#28, cells_children_bacteria_count#29, cells_children_invasomes_count#30, cells_location_center_x#31, cells_location_center_y#32, cells_neighbors_anglebetweenneighbors_2#33, ... 32 more fields]\\n                                                                              +- Project [study#10, pathogen#11, library#12, design#13, replicate#14, plate#15, well#16, gene#17, sirna#18, well_type#19, image_idx#20, object_idx#21, cells_areashape_area#179, cast(cells_areashape_eccentricity#23 as double) AS cells_areashape_eccentricity#236, cells_areashape_extent#24, cells_areashape_formfactor#25, cells_areashape_majoraxislength#26, cells_areashape_minoraxislength#27, cells_areashape_perimeter#28, cells_children_bacteria_count#29, cells_children_invasomes_count#30, cells_location_center_x#31, cells_location_center_y#32, cells_neighbors_anglebetweenneighbors_2#33, ... 32 more fields]\\n                                                                                 +- Project [study#10, pathogen#11, library#12, design#13, replicate#14, plate#15, well#16, gene#17, sirna#18, well_type#19, image_idx#20, object_idx#21, cast(cells_areashape_area#22 as double) AS cells_areashape_area#179, cells_areashape_eccentricity#23, cells_areashape_extent#24, cells_areashape_formfactor#25, cells_areashape_majoraxislength#26, cells_areashape_minoraxislength#27, cells_areashape_perimeter#28, cells_children_bacteria_count#29, cells_children_invasomes_count#30, cells_location_center_x#31, cells_location_center_y#32, cells_neighbors_anglebetweenneighbors_2#33, ... 32 more fields]\\n                                                                                    +- Relation[study#10,pathogen#11,library#12,design#13,replicate#14,plate#15,well#16,gene#17,sirna#18,well_type#19,image_idx#20,object_idx#21,cells_areashape_area#22,cells_areashape_eccentricity#23,cells_areashape_extent#24,cells_areashape_formfactor#25,cells_areashape_majoraxislength#26,cells_areashape_minoraxislength#27,cells_areashape_perimeter#28,cells_children_bacteria_count#29,cells_children_invasomes_count#30,cells_location_center_x#31,cells_location_center_y#32,cells_neighbors_anglebetweenneighbors_2#33,... 32 more fields] csv\\n\"",
     "output_type": "error",
     "traceback": [
      "\u001b[0;31m---------------------------------------------------------------------------\u001b[0m",
      "\u001b[0;31mPy4JJavaError\u001b[0m                             Traceback (most recent call last)",
      "\u001b[0;32m/usr/local/spark/spark/python/pyspark/sql/utils.py\u001b[0m in \u001b[0;36mdeco\u001b[0;34m(*a, **kw)\u001b[0m\n\u001b[1;32m     62\u001b[0m         \u001b[0;32mtry\u001b[0m\u001b[0;34m:\u001b[0m\u001b[0;34m\u001b[0m\u001b[0;34m\u001b[0m\u001b[0m\n\u001b[0;32m---> 63\u001b[0;31m             \u001b[0;32mreturn\u001b[0m \u001b[0mf\u001b[0m\u001b[0;34m(\u001b[0m\u001b[0;34m*\u001b[0m\u001b[0ma\u001b[0m\u001b[0;34m,\u001b[0m \u001b[0;34m**\u001b[0m\u001b[0mkw\u001b[0m\u001b[0;34m)\u001b[0m\u001b[0;34m\u001b[0m\u001b[0;34m\u001b[0m\u001b[0m\n\u001b[0m\u001b[1;32m     64\u001b[0m         \u001b[0;32mexcept\u001b[0m \u001b[0mpy4j\u001b[0m\u001b[0;34m.\u001b[0m\u001b[0mprotocol\u001b[0m\u001b[0;34m.\u001b[0m\u001b[0mPy4JJavaError\u001b[0m \u001b[0;32mas\u001b[0m \u001b[0me\u001b[0m\u001b[0;34m:\u001b[0m\u001b[0;34m\u001b[0m\u001b[0;34m\u001b[0m\u001b[0m\n",
      "\u001b[0;32m/usr/local/spark/spark/python/lib/py4j-0.10.6-src.zip/py4j/protocol.py\u001b[0m in \u001b[0;36mget_return_value\u001b[0;34m(answer, gateway_client, target_id, name)\u001b[0m\n\u001b[1;32m    319\u001b[0m                     \u001b[0;34m\"An error occurred while calling {0}{1}{2}.\\n\"\u001b[0m\u001b[0;34m.\u001b[0m\u001b[0;34m\u001b[0m\u001b[0;34m\u001b[0m\u001b[0m\n\u001b[0;32m--> 320\u001b[0;31m                     format(target_id, \".\", name), value)\n\u001b[0m\u001b[1;32m    321\u001b[0m             \u001b[0;32melse\u001b[0m\u001b[0;34m:\u001b[0m\u001b[0;34m\u001b[0m\u001b[0;34m\u001b[0m\u001b[0m\n",
      "\u001b[0;31mPy4JJavaError\u001b[0m: An error occurred while calling o1709.select.\n: org.apache.spark.sql.AnalysisException: cannot resolve '`rawPrediction`' given input columns: [replicate, object_idx, is_infected, cells_areashape_formfactor, nuclei_children_perinuclei_count, library, cells_neighbors_secondclosestxvector_2, perinuclei_areashape_minoraxislength, nuclei_areashape_orientation, nuclei_location_center_y, cells_parent_nuclei, plate, perinuclei_areashape_orientation, perinuclei_parent_expandednuclei, design, nuclei_areashape_majoraxislength, perinuclei_areashape_majoraxislength, perinuclei_parent_nuclei, nuclei_areashape_formfactor, study, nuclei_areashape_minoraxislength, nuclei_children_cells_count, gene, prediction, cells_neighbors_firstclosestobjectnumber_2, cells_neighbors_anglebetweenneighbors_2, perinuclei_location_center_y, perinuclei_areashape_formfactor, nuclei_location_center_x, nuclei_areashape_area, cells_areashape_majoraxislength, perinuclei_areashape_perimeter, features, cells_neighbors_secondclosestobjectnumber_2, cells_location_center_x, sirna, cells_areashape_extent, cells_areashape_eccentricity, cells_areashape_minoraxislength, cells_areashape_perimeter, cells_children_invasomes_count, perinuclei_areashape_area, cells_areashape_area, perinuclei_location_center_x, cells_neighbors_secondclosestyvector_2, cells_children_bacteria_count, nuclei_areashape_extent, cells_neighbors_numberofneighbors_2, nuclei_areashape_perimeter, well_type, pathogen, cells_location_center_y, perinuclei_areashape_eccentricity, cells_neighbors_firstclosestyvector_2, image_idx, cells_neighbors_firstclosestxvector_2, nuclei_areashape_eccentricity, well];;\n'Project [is_infected#1452, prediction#6487, 'rawPrediction, 'probability]\n+- AnalysisBarrier\n      +- Project [study#10, pathogen#11, library#12, design#13, replicate#14, plate#15, well#16, gene#17, sirna#18, well_type#19, image_idx#20, object_idx#21, cells_areashape_area#1432, cells_areashape_eccentricity#1433, cells_areashape_extent#1434, cells_areashape_formfactor#1435, cells_areashape_majoraxislength#1436, cells_areashape_minoraxislength#1437, cells_areashape_perimeter#1438, cells_children_bacteria_count#1439, cells_children_invasomes_count#1440, cells_location_center_x#1441, cells_location_center_y#1442, cells_neighbors_anglebetweenneighbors_2#1443, ... 34 more fields]\n         +- Sample 0.9, 1.0, false, 23\n            +- Sort [study#10 ASC NULLS FIRST, pathogen#11 ASC NULLS FIRST, library#12 ASC NULLS FIRST, design#13 ASC NULLS FIRST, replicate#14 ASC NULLS FIRST, plate#15 ASC NULLS FIRST, well#16 ASC NULLS FIRST, gene#17 ASC NULLS FIRST, sirna#18 ASC NULLS FIRST, well_type#19 ASC NULLS FIRST, image_idx#20 ASC NULLS FIRST, object_idx#21 ASC NULLS FIRST, cells_areashape_area#1432 ASC NULLS FIRST, cells_areashape_eccentricity#1433 ASC NULLS FIRST, cells_areashape_extent#1434 ASC NULLS FIRST, cells_areashape_formfactor#1435 ASC NULLS FIRST, cells_areashape_majoraxislength#1436 ASC NULLS FIRST, cells_areashape_minoraxislength#1437 ASC NULLS FIRST, cells_areashape_perimeter#1438 ASC NULLS FIRST, cells_children_bacteria_count#1439 ASC NULLS FIRST, cells_children_invasomes_count#1440 ASC NULLS FIRST, cells_location_center_x#1441 ASC NULLS FIRST, cells_location_center_y#1442 ASC NULLS FIRST, cells_neighbors_anglebetweenneighbors_2#1443 ASC NULLS FIRST, ... 33 more fields], false\n               +- Project [study#10, pathogen#11, library#12, design#13, replicate#14, plate#15, well#16, gene#17, sirna#18, well_type#19, image_idx#20, object_idx#21, cells_areashape_area#1432, cells_areashape_eccentricity#1433, cells_areashape_extent#1434, cells_areashape_formfactor#1435, cells_areashape_majoraxislength#1436, cells_areashape_minoraxislength#1437, cells_areashape_perimeter#1438, cells_children_bacteria_count#1439, cells_children_invasomes_count#1440, cells_location_center_x#1441, cells_location_center_y#1442, cells_neighbors_anglebetweenneighbors_2#1443, ... 33 more fields]\n                  +- Project [study#10, pathogen#11, library#12, design#13, replicate#14, plate#15, well#16, gene#17, sirna#18, well_type#19, image_idx#20, object_idx#21, coalesce(nanvl(cells_areashape_area#179, cast(null as double)), cast(0.0 as double)) AS cells_areashape_area#1432, coalesce(nanvl(cells_areashape_eccentricity#236, cast(null as double)), cast(0.0 as double)) AS cells_areashape_eccentricity#1433, coalesce(nanvl(cells_areashape_extent#293, cast(null as double)), cast(0.0 as double)) AS cells_areashape_extent#1434, coalesce(nanvl(cells_areashape_formfactor#350, cast(null as double)), cast(0.0 as double)) AS cells_areashape_formfactor#1435, coalesce(nanvl(cells_areashape_majoraxislength#407, cast(null as double)), cast(0.0 as double)) AS cells_areashape_majoraxislength#1436, coalesce(nanvl(cells_areashape_minoraxislength#464, cast(null as double)), cast(0.0 as double)) AS cells_areashape_minoraxislength#1437, coalesce(nanvl(cells_areashape_perimeter#521, cast(null as double)), cast(0.0 as double)) AS cells_areashape_perimeter#1438, coalesce(nanvl(cells_children_bacteria_count#578, cast(null as double)), cast(0.0 as double)) AS cells_children_bacteria_count#1439, coalesce(nanvl(cells_children_invasomes_count#635, cast(null as double)), cast(0.0 as double)) AS cells_children_invasomes_count#1440, coalesce(nanvl(cells_location_center_x#692, cast(null as double)), cast(0.0 as double)) AS cells_location_center_x#1441, coalesce(nanvl(cells_location_center_y#749, cast(null as double)), cast(0.0 as double)) AS cells_location_center_y#1442, coalesce(nanvl(cells_neighbors_anglebetweenneighbors_2#806, cast(null as double)), cast(0.0 as double)) AS cells_neighbors_anglebetweenneighbors_2#1443, ... 32 more fields]\n                     +- Project [study#10, pathogen#11, library#12, design#13, replicate#14, plate#15, well#16, gene#17, sirna#18, well_type#19, image_idx#20, object_idx#21, cells_areashape_area#179, cells_areashape_eccentricity#236, cells_areashape_extent#293, cells_areashape_formfactor#350, cells_areashape_majoraxislength#407, cells_areashape_minoraxislength#464, cells_areashape_perimeter#521, cells_children_bacteria_count#578, cells_children_invasomes_count#635, cells_location_center_x#692, cells_location_center_y#749, cells_neighbors_anglebetweenneighbors_2#806, ... 32 more fields]\n                        +- Project [study#10, pathogen#11, library#12, design#13, replicate#14, plate#15, well#16, gene#17, sirna#18, well_type#19, image_idx#20, object_idx#21, cells_areashape_area#179, cells_areashape_eccentricity#236, cells_areashape_extent#293, cells_areashape_formfactor#350, cells_areashape_majoraxislength#407, cells_areashape_minoraxislength#464, cells_areashape_perimeter#521, cells_children_bacteria_count#578, cells_children_invasomes_count#635, cells_location_center_x#692, cells_location_center_y#749, cells_neighbors_anglebetweenneighbors_2#806, ... 32 more fields]\n                           +- Project [study#10, pathogen#11, library#12, design#13, replicate#14, plate#15, well#16, gene#17, sirna#18, well_type#19, image_idx#20, object_idx#21, cells_areashape_area#179, cells_areashape_eccentricity#236, cells_areashape_extent#293, cells_areashape_formfactor#350, cells_areashape_majoraxislength#407, cells_areashape_minoraxislength#464, cells_areashape_perimeter#521, cells_children_bacteria_count#578, cells_children_invasomes_count#635, cells_location_center_x#692, cells_location_center_y#749, cells_neighbors_anglebetweenneighbors_2#806, ... 32 more fields]\n                              +- Project [study#10, pathogen#11, library#12, design#13, replicate#14, plate#15, well#16, gene#17, sirna#18, well_type#19, image_idx#20, object_idx#21, cells_areashape_area#179, cells_areashape_eccentricity#236, cells_areashape_extent#293, cells_areashape_formfactor#350, cells_areashape_majoraxislength#407, cells_areashape_minoraxislength#464, cells_areashape_perimeter#521, cells_children_bacteria_count#578, cells_children_invasomes_count#635, cells_location_center_x#692, cells_location_center_y#749, cells_neighbors_anglebetweenneighbors_2#806, ... 32 more fields]\n                                 +- Project [study#10, pathogen#11, library#12, design#13, replicate#14, plate#15, well#16, gene#17, sirna#18, well_type#19, image_idx#20, object_idx#21, cells_areashape_area#179, cells_areashape_eccentricity#236, cells_areashape_extent#293, cells_areashape_formfactor#350, cells_areashape_majoraxislength#407, cells_areashape_minoraxislength#464, cells_areashape_perimeter#521, cells_children_bacteria_count#578, cells_children_invasomes_count#635, cells_location_center_x#692, cells_location_center_y#749, cells_neighbors_anglebetweenneighbors_2#806, ... 32 more fields]\n                                    +- Project [study#10, pathogen#11, library#12, design#13, replicate#14, plate#15, well#16, gene#17, sirna#18, well_type#19, image_idx#20, object_idx#21, cells_areashape_area#179, cells_areashape_eccentricity#236, cells_areashape_extent#293, cells_areashape_formfactor#350, cells_areashape_majoraxislength#407, cells_areashape_minoraxislength#464, cells_areashape_perimeter#521, cells_children_bacteria_count#578, cells_children_invasomes_count#635, cells_location_center_x#692, cells_location_center_y#749, cells_neighbors_anglebetweenneighbors_2#806, ... 32 more fields]\n                                       +- Project [study#10, pathogen#11, library#12, design#13, replicate#14, plate#15, well#16, gene#17, sirna#18, well_type#19, image_idx#20, object_idx#21, cells_areashape_area#179, cells_areashape_eccentricity#236, cells_areashape_extent#293, cells_areashape_formfactor#350, cells_areashape_majoraxislength#407, cells_areashape_minoraxislength#464, cells_areashape_perimeter#521, cells_children_bacteria_count#578, cells_children_invasomes_count#635, cells_location_center_x#692, cells_location_center_y#749, cells_neighbors_anglebetweenneighbors_2#806, ... 32 more fields]\n                                          +- Project [study#10, pathogen#11, library#12, design#13, replicate#14, plate#15, well#16, gene#17, sirna#18, well_type#19, image_idx#20, object_idx#21, cells_areashape_area#179, cells_areashape_eccentricity#236, cells_areashape_extent#293, cells_areashape_formfactor#350, cells_areashape_majoraxislength#407, cells_areashape_minoraxislength#464, cells_areashape_perimeter#521, cells_children_bacteria_count#578, cells_children_invasomes_count#635, cells_location_center_x#692, cells_location_center_y#749, cells_neighbors_anglebetweenneighbors_2#806, ... 32 more fields]\n                                             +- Project [study#10, pathogen#11, library#12, design#13, replicate#14, plate#15, well#16, gene#17, sirna#18, well_type#19, image_idx#20, object_idx#21, cells_areashape_area#179, cells_areashape_eccentricity#236, cells_areashape_extent#293, cells_areashape_formfactor#350, cells_areashape_majoraxislength#407, cells_areashape_minoraxislength#464, cells_areashape_perimeter#521, cells_children_bacteria_count#578, cells_children_invasomes_count#635, cells_location_center_x#692, cells_location_center_y#749, cells_neighbors_anglebetweenneighbors_2#806, ... 32 more fields]\n                                                +- Project [study#10, pathogen#11, library#12, design#13, replicate#14, plate#15, well#16, gene#17, sirna#18, well_type#19, image_idx#20, object_idx#21, cells_areashape_area#179, cells_areashape_eccentricity#236, cells_areashape_extent#293, cells_areashape_formfactor#350, cells_areashape_majoraxislength#407, cells_areashape_minoraxislength#464, cells_areashape_perimeter#521, cells_children_bacteria_count#578, cells_children_invasomes_count#635, cells_location_center_x#692, cells_location_center_y#749, cast(cells_neighbors_anglebetweenneighbors_2#33 as double) AS cells_neighbors_anglebetweenneighbors_2#806, ... 32 more fields]\n                                                   +- Project [study#10, pathogen#11, library#12, design#13, replicate#14, plate#15, well#16, gene#17, sirna#18, well_type#19, image_idx#20, object_idx#21, cells_areashape_area#179, cells_areashape_eccentricity#236, cells_areashape_extent#293, cells_areashape_formfactor#350, cells_areashape_majoraxislength#407, cells_areashape_minoraxislength#464, cells_areashape_perimeter#521, cells_children_bacteria_count#578, cells_children_invasomes_count#635, cells_location_center_x#692, cast(cells_location_center_y#32 as double) AS cells_location_center_y#749, cells_neighbors_anglebetweenneighbors_2#33, ... 32 more fields]\n                                                      +- Project [study#10, pathogen#11, library#12, design#13, replicate#14, plate#15, well#16, gene#17, sirna#18, well_type#19, image_idx#20, object_idx#21, cells_areashape_area#179, cells_areashape_eccentricity#236, cells_areashape_extent#293, cells_areashape_formfactor#350, cells_areashape_majoraxislength#407, cells_areashape_minoraxislength#464, cells_areashape_perimeter#521, cells_children_bacteria_count#578, cells_children_invasomes_count#635, cast(cells_location_center_x#31 as double) AS cells_location_center_x#692, cells_location_center_y#32, cells_neighbors_anglebetweenneighbors_2#33, ... 32 more fields]\n                                                         +- Project [study#10, pathogen#11, library#12, design#13, replicate#14, plate#15, well#16, gene#17, sirna#18, well_type#19, image_idx#20, object_idx#21, cells_areashape_area#179, cells_areashape_eccentricity#236, cells_areashape_extent#293, cells_areashape_formfactor#350, cells_areashape_majoraxislength#407, cells_areashape_minoraxislength#464, cells_areashape_perimeter#521, cells_children_bacteria_count#578, cast(cells_children_invasomes_count#30 as double) AS cells_children_invasomes_count#635, cells_location_center_x#31, cells_location_center_y#32, cells_neighbors_anglebetweenneighbors_2#33, ... 32 more fields]\n                                                            +- Project [study#10, pathogen#11, library#12, design#13, replicate#14, plate#15, well#16, gene#17, sirna#18, well_type#19, image_idx#20, object_idx#21, cells_areashape_area#179, cells_areashape_eccentricity#236, cells_areashape_extent#293, cells_areashape_formfactor#350, cells_areashape_majoraxislength#407, cells_areashape_minoraxislength#464, cells_areashape_perimeter#521, cast(cells_children_bacteria_count#29 as double) AS cells_children_bacteria_count#578, cells_children_invasomes_count#30, cells_location_center_x#31, cells_location_center_y#32, cells_neighbors_anglebetweenneighbors_2#33, ... 32 more fields]\n                                                               +- Project [study#10, pathogen#11, library#12, design#13, replicate#14, plate#15, well#16, gene#17, sirna#18, well_type#19, image_idx#20, object_idx#21, cells_areashape_area#179, cells_areashape_eccentricity#236, cells_areashape_extent#293, cells_areashape_formfactor#350, cells_areashape_majoraxislength#407, cells_areashape_minoraxislength#464, cast(cells_areashape_perimeter#28 as double) AS cells_areashape_perimeter#521, cells_children_bacteria_count#29, cells_children_invasomes_count#30, cells_location_center_x#31, cells_location_center_y#32, cells_neighbors_anglebetweenneighbors_2#33, ... 32 more fields]\n                                                                  +- Project [study#10, pathogen#11, library#12, design#13, replicate#14, plate#15, well#16, gene#17, sirna#18, well_type#19, image_idx#20, object_idx#21, cells_areashape_area#179, cells_areashape_eccentricity#236, cells_areashape_extent#293, cells_areashape_formfactor#350, cells_areashape_majoraxislength#407, cast(cells_areashape_minoraxislength#27 as double) AS cells_areashape_minoraxislength#464, cells_areashape_perimeter#28, cells_children_bacteria_count#29, cells_children_invasomes_count#30, cells_location_center_x#31, cells_location_center_y#32, cells_neighbors_anglebetweenneighbors_2#33, ... 32 more fields]\n                                                                     +- Project [study#10, pathogen#11, library#12, design#13, replicate#14, plate#15, well#16, gene#17, sirna#18, well_type#19, image_idx#20, object_idx#21, cells_areashape_area#179, cells_areashape_eccentricity#236, cells_areashape_extent#293, cells_areashape_formfactor#350, cast(cells_areashape_majoraxislength#26 as double) AS cells_areashape_majoraxislength#407, cells_areashape_minoraxislength#27, cells_areashape_perimeter#28, cells_children_bacteria_count#29, cells_children_invasomes_count#30, cells_location_center_x#31, cells_location_center_y#32, cells_neighbors_anglebetweenneighbors_2#33, ... 32 more fields]\n                                                                        +- Project [study#10, pathogen#11, library#12, design#13, replicate#14, plate#15, well#16, gene#17, sirna#18, well_type#19, image_idx#20, object_idx#21, cells_areashape_area#179, cells_areashape_eccentricity#236, cells_areashape_extent#293, cast(cells_areashape_formfactor#25 as double) AS cells_areashape_formfactor#350, cells_areashape_majoraxislength#26, cells_areashape_minoraxislength#27, cells_areashape_perimeter#28, cells_children_bacteria_count#29, cells_children_invasomes_count#30, cells_location_center_x#31, cells_location_center_y#32, cells_neighbors_anglebetweenneighbors_2#33, ... 32 more fields]\n                                                                           +- Project [study#10, pathogen#11, library#12, design#13, replicate#14, plate#15, well#16, gene#17, sirna#18, well_type#19, image_idx#20, object_idx#21, cells_areashape_area#179, cells_areashape_eccentricity#236, cast(cells_areashape_extent#24 as double) AS cells_areashape_extent#293, cells_areashape_formfactor#25, cells_areashape_majoraxislength#26, cells_areashape_minoraxislength#27, cells_areashape_perimeter#28, cells_children_bacteria_count#29, cells_children_invasomes_count#30, cells_location_center_x#31, cells_location_center_y#32, cells_neighbors_anglebetweenneighbors_2#33, ... 32 more fields]\n                                                                              +- Project [study#10, pathogen#11, library#12, design#13, replicate#14, plate#15, well#16, gene#17, sirna#18, well_type#19, image_idx#20, object_idx#21, cells_areashape_area#179, cast(cells_areashape_eccentricity#23 as double) AS cells_areashape_eccentricity#236, cells_areashape_extent#24, cells_areashape_formfactor#25, cells_areashape_majoraxislength#26, cells_areashape_minoraxislength#27, cells_areashape_perimeter#28, cells_children_bacteria_count#29, cells_children_invasomes_count#30, cells_location_center_x#31, cells_location_center_y#32, cells_neighbors_anglebetweenneighbors_2#33, ... 32 more fields]\n                                                                                 +- Project [study#10, pathogen#11, library#12, design#13, replicate#14, plate#15, well#16, gene#17, sirna#18, well_type#19, image_idx#20, object_idx#21, cast(cells_areashape_area#22 as double) AS cells_areashape_area#179, cells_areashape_eccentricity#23, cells_areashape_extent#24, cells_areashape_formfactor#25, cells_areashape_majoraxislength#26, cells_areashape_minoraxislength#27, cells_areashape_perimeter#28, cells_children_bacteria_count#29, cells_children_invasomes_count#30, cells_location_center_x#31, cells_location_center_y#32, cells_neighbors_anglebetweenneighbors_2#33, ... 32 more fields]\n                                                                                    +- Relation[study#10,pathogen#11,library#12,design#13,replicate#14,plate#15,well#16,gene#17,sirna#18,well_type#19,image_idx#20,object_idx#21,cells_areashape_area#22,cells_areashape_eccentricity#23,cells_areashape_extent#24,cells_areashape_formfactor#25,cells_areashape_majoraxislength#26,cells_areashape_minoraxislength#27,cells_areashape_perimeter#28,cells_children_bacteria_count#29,cells_children_invasomes_count#30,cells_location_center_x#31,cells_location_center_y#32,cells_neighbors_anglebetweenneighbors_2#33,... 32 more fields] csv\n\n\tat org.apache.spark.sql.catalyst.analysis.package$AnalysisErrorAt.failAnalysis(package.scala:42)\n\tat org.apache.spark.sql.catalyst.analysis.CheckAnalysis$$anonfun$checkAnalysis$1$$anonfun$apply$2.applyOrElse(CheckAnalysis.scala:88)\n\tat org.apache.spark.sql.catalyst.analysis.CheckAnalysis$$anonfun$checkAnalysis$1$$anonfun$apply$2.applyOrElse(CheckAnalysis.scala:85)\n\tat org.apache.spark.sql.catalyst.trees.TreeNode$$anonfun$transformUp$1.apply(TreeNode.scala:289)\n\tat org.apache.spark.sql.catalyst.trees.TreeNode$$anonfun$transformUp$1.apply(TreeNode.scala:289)\n\tat org.apache.spark.sql.catalyst.trees.CurrentOrigin$.withOrigin(TreeNode.scala:70)\n\tat org.apache.spark.sql.catalyst.trees.TreeNode.transformUp(TreeNode.scala:288)\n\tat org.apache.spark.sql.catalyst.plans.QueryPlan$$anonfun$transformExpressionsUp$1.apply(QueryPlan.scala:95)\n\tat org.apache.spark.sql.catalyst.plans.QueryPlan$$anonfun$transformExpressionsUp$1.apply(QueryPlan.scala:95)\n\tat org.apache.spark.sql.catalyst.plans.QueryPlan.transformExpression$1(QueryPlan.scala:106)\n\tat org.apache.spark.sql.catalyst.plans.QueryPlan.org$apache$spark$sql$catalyst$plans$QueryPlan$$recursiveTransform$1(QueryPlan.scala:116)\n\tat org.apache.spark.sql.catalyst.plans.QueryPlan$$anonfun$org$apache$spark$sql$catalyst$plans$QueryPlan$$recursiveTransform$1$1.apply(QueryPlan.scala:120)\n\tat scala.collection.TraversableLike$$anonfun$map$1.apply(TraversableLike.scala:234)\n\tat scala.collection.TraversableLike$$anonfun$map$1.apply(TraversableLike.scala:234)\n\tat scala.collection.mutable.ResizableArray$class.foreach(ResizableArray.scala:59)\n\tat scala.collection.mutable.ArrayBuffer.foreach(ArrayBuffer.scala:48)\n\tat scala.collection.TraversableLike$class.map(TraversableLike.scala:234)\n\tat scala.collection.AbstractTraversable.map(Traversable.scala:104)\n\tat org.apache.spark.sql.catalyst.plans.QueryPlan.org$apache$spark$sql$catalyst$plans$QueryPlan$$recursiveTransform$1(QueryPlan.scala:120)\n\tat org.apache.spark.sql.catalyst.plans.QueryPlan$$anonfun$1.apply(QueryPlan.scala:125)\n\tat org.apache.spark.sql.catalyst.trees.TreeNode.mapProductIterator(TreeNode.scala:187)\n\tat org.apache.spark.sql.catalyst.plans.QueryPlan.mapExpressions(QueryPlan.scala:125)\n\tat org.apache.spark.sql.catalyst.plans.QueryPlan.transformExpressionsUp(QueryPlan.scala:95)\n\tat org.apache.spark.sql.catalyst.analysis.CheckAnalysis$$anonfun$checkAnalysis$1.apply(CheckAnalysis.scala:85)\n\tat org.apache.spark.sql.catalyst.analysis.CheckAnalysis$$anonfun$checkAnalysis$1.apply(CheckAnalysis.scala:80)\n\tat org.apache.spark.sql.catalyst.trees.TreeNode.foreachUp(TreeNode.scala:127)\n\tat org.apache.spark.sql.catalyst.analysis.CheckAnalysis$class.checkAnalysis(CheckAnalysis.scala:80)\n\tat org.apache.spark.sql.catalyst.analysis.Analyzer.checkAnalysis(Analyzer.scala:91)\n\tat org.apache.spark.sql.catalyst.analysis.Analyzer.executeAndCheck(Analyzer.scala:104)\n\tat org.apache.spark.sql.execution.QueryExecution.analyzed$lzycompute(QueryExecution.scala:57)\n\tat org.apache.spark.sql.execution.QueryExecution.analyzed(QueryExecution.scala:55)\n\tat org.apache.spark.sql.execution.QueryExecution.assertAnalyzed(QueryExecution.scala:47)\n\tat org.apache.spark.sql.Dataset$.ofRows(Dataset.scala:74)\n\tat org.apache.spark.sql.Dataset.org$apache$spark$sql$Dataset$$withPlan(Dataset.scala:3295)\n\tat org.apache.spark.sql.Dataset.select(Dataset.scala:1307)\n\tat sun.reflect.GeneratedMethodAccessor76.invoke(Unknown Source)\n\tat sun.reflect.DelegatingMethodAccessorImpl.invoke(DelegatingMethodAccessorImpl.java:43)\n\tat java.lang.reflect.Method.invoke(Method.java:497)\n\tat py4j.reflection.MethodInvoker.invoke(MethodInvoker.java:244)\n\tat py4j.reflection.ReflectionEngine.invoke(ReflectionEngine.java:357)\n\tat py4j.Gateway.invoke(Gateway.java:282)\n\tat py4j.commands.AbstractCommand.invokeMethod(AbstractCommand.java:132)\n\tat py4j.commands.CallCommand.execute(CallCommand.java:79)\n\tat py4j.GatewayConnection.run(GatewayConnection.java:214)\n\tat java.lang.Thread.run(Thread.java:745)\n",
      "\nDuring handling of the above exception, another exception occurred:\n",
      "\u001b[0;31mAnalysisException\u001b[0m                         Traceback (most recent call last)",
      "\u001b[0;32m<ipython-input-151-582d06316656>\u001b[0m in \u001b[0;36m<module>\u001b[0;34m\u001b[0m\n\u001b[0;32m----> 1\u001b[0;31m \u001b[0mmodel\u001b[0m\u001b[0;34m.\u001b[0m\u001b[0mtransform\u001b[0m\u001b[0;34m(\u001b[0m\u001b[0mtest\u001b[0m\u001b[0;34m)\u001b[0m\u001b[0;34m.\u001b[0m\u001b[0mselect\u001b[0m\u001b[0;34m(\u001b[0m\u001b[0;34m[\u001b[0m\u001b[0;34m\"is_infected\"\u001b[0m\u001b[0;34m,\u001b[0m\u001b[0;34m\"prediction\"\u001b[0m\u001b[0;34m,\u001b[0m \u001b[0;34m\"rawPrediction\"\u001b[0m\u001b[0;34m,\u001b[0m \u001b[0;34m\"probability\"\u001b[0m\u001b[0;34m]\u001b[0m\u001b[0;34m)\u001b[0m\u001b[0;34m.\u001b[0m\u001b[0mtake\u001b[0m\u001b[0;34m(\u001b[0m\u001b[0;36m5\u001b[0m\u001b[0;34m)\u001b[0m\u001b[0;34m\u001b[0m\u001b[0;34m\u001b[0m\u001b[0m\n\u001b[0m",
      "\u001b[0;32m/usr/local/spark/spark/python/pyspark/sql/dataframe.py\u001b[0m in \u001b[0;36mselect\u001b[0;34m(self, *cols)\u001b[0m\n\u001b[1;32m   1200\u001b[0m         \u001b[0;34m[\u001b[0m\u001b[0mRow\u001b[0m\u001b[0;34m(\u001b[0m\u001b[0mname\u001b[0m\u001b[0;34m=\u001b[0m\u001b[0;34mu'Alice'\u001b[0m\u001b[0;34m,\u001b[0m \u001b[0mage\u001b[0m\u001b[0;34m=\u001b[0m\u001b[0;36m12\u001b[0m\u001b[0;34m)\u001b[0m\u001b[0;34m,\u001b[0m \u001b[0mRow\u001b[0m\u001b[0;34m(\u001b[0m\u001b[0mname\u001b[0m\u001b[0;34m=\u001b[0m\u001b[0;34mu'Bob'\u001b[0m\u001b[0;34m,\u001b[0m \u001b[0mage\u001b[0m\u001b[0;34m=\u001b[0m\u001b[0;36m15\u001b[0m\u001b[0;34m)\u001b[0m\u001b[0;34m]\u001b[0m\u001b[0;34m\u001b[0m\u001b[0;34m\u001b[0m\u001b[0m\n\u001b[1;32m   1201\u001b[0m         \"\"\"\n\u001b[0;32m-> 1202\u001b[0;31m         \u001b[0mjdf\u001b[0m \u001b[0;34m=\u001b[0m \u001b[0mself\u001b[0m\u001b[0;34m.\u001b[0m\u001b[0m_jdf\u001b[0m\u001b[0;34m.\u001b[0m\u001b[0mselect\u001b[0m\u001b[0;34m(\u001b[0m\u001b[0mself\u001b[0m\u001b[0;34m.\u001b[0m\u001b[0m_jcols\u001b[0m\u001b[0;34m(\u001b[0m\u001b[0;34m*\u001b[0m\u001b[0mcols\u001b[0m\u001b[0;34m)\u001b[0m\u001b[0;34m)\u001b[0m\u001b[0;34m\u001b[0m\u001b[0;34m\u001b[0m\u001b[0m\n\u001b[0m\u001b[1;32m   1203\u001b[0m         \u001b[0;32mreturn\u001b[0m \u001b[0mDataFrame\u001b[0m\u001b[0;34m(\u001b[0m\u001b[0mjdf\u001b[0m\u001b[0;34m,\u001b[0m \u001b[0mself\u001b[0m\u001b[0;34m.\u001b[0m\u001b[0msql_ctx\u001b[0m\u001b[0;34m)\u001b[0m\u001b[0;34m\u001b[0m\u001b[0;34m\u001b[0m\u001b[0m\n\u001b[1;32m   1204\u001b[0m \u001b[0;34m\u001b[0m\u001b[0m\n",
      "\u001b[0;32m/usr/local/spark/spark/python/lib/py4j-0.10.6-src.zip/py4j/java_gateway.py\u001b[0m in \u001b[0;36m__call__\u001b[0;34m(self, *args)\u001b[0m\n\u001b[1;32m   1158\u001b[0m         \u001b[0manswer\u001b[0m \u001b[0;34m=\u001b[0m \u001b[0mself\u001b[0m\u001b[0;34m.\u001b[0m\u001b[0mgateway_client\u001b[0m\u001b[0;34m.\u001b[0m\u001b[0msend_command\u001b[0m\u001b[0;34m(\u001b[0m\u001b[0mcommand\u001b[0m\u001b[0;34m)\u001b[0m\u001b[0;34m\u001b[0m\u001b[0;34m\u001b[0m\u001b[0m\n\u001b[1;32m   1159\u001b[0m         return_value = get_return_value(\n\u001b[0;32m-> 1160\u001b[0;31m             answer, self.gateway_client, self.target_id, self.name)\n\u001b[0m\u001b[1;32m   1161\u001b[0m \u001b[0;34m\u001b[0m\u001b[0m\n\u001b[1;32m   1162\u001b[0m         \u001b[0;32mfor\u001b[0m \u001b[0mtemp_arg\u001b[0m \u001b[0;32min\u001b[0m \u001b[0mtemp_args\u001b[0m\u001b[0;34m:\u001b[0m\u001b[0;34m\u001b[0m\u001b[0;34m\u001b[0m\u001b[0m\n",
      "\u001b[0;32m/usr/local/spark/spark/python/pyspark/sql/utils.py\u001b[0m in \u001b[0;36mdeco\u001b[0;34m(*a, **kw)\u001b[0m\n\u001b[1;32m     67\u001b[0m                                              e.java_exception.getStackTrace()))\n\u001b[1;32m     68\u001b[0m             \u001b[0;32mif\u001b[0m \u001b[0ms\u001b[0m\u001b[0;34m.\u001b[0m\u001b[0mstartswith\u001b[0m\u001b[0;34m(\u001b[0m\u001b[0;34m'org.apache.spark.sql.AnalysisException: '\u001b[0m\u001b[0;34m)\u001b[0m\u001b[0;34m:\u001b[0m\u001b[0;34m\u001b[0m\u001b[0;34m\u001b[0m\u001b[0m\n\u001b[0;32m---> 69\u001b[0;31m                 \u001b[0;32mraise\u001b[0m \u001b[0mAnalysisException\u001b[0m\u001b[0;34m(\u001b[0m\u001b[0ms\u001b[0m\u001b[0;34m.\u001b[0m\u001b[0msplit\u001b[0m\u001b[0;34m(\u001b[0m\u001b[0;34m': '\u001b[0m\u001b[0;34m,\u001b[0m \u001b[0;36m1\u001b[0m\u001b[0;34m)\u001b[0m\u001b[0;34m[\u001b[0m\u001b[0;36m1\u001b[0m\u001b[0;34m]\u001b[0m\u001b[0;34m,\u001b[0m \u001b[0mstackTrace\u001b[0m\u001b[0;34m)\u001b[0m\u001b[0;34m\u001b[0m\u001b[0;34m\u001b[0m\u001b[0m\n\u001b[0m\u001b[1;32m     70\u001b[0m             \u001b[0;32mif\u001b[0m \u001b[0ms\u001b[0m\u001b[0;34m.\u001b[0m\u001b[0mstartswith\u001b[0m\u001b[0;34m(\u001b[0m\u001b[0;34m'org.apache.spark.sql.catalyst.analysis'\u001b[0m\u001b[0;34m)\u001b[0m\u001b[0;34m:\u001b[0m\u001b[0;34m\u001b[0m\u001b[0;34m\u001b[0m\u001b[0m\n\u001b[1;32m     71\u001b[0m                 \u001b[0;32mraise\u001b[0m \u001b[0mAnalysisException\u001b[0m\u001b[0;34m(\u001b[0m\u001b[0ms\u001b[0m\u001b[0;34m.\u001b[0m\u001b[0msplit\u001b[0m\u001b[0;34m(\u001b[0m\u001b[0;34m': '\u001b[0m\u001b[0;34m,\u001b[0m \u001b[0;36m1\u001b[0m\u001b[0;34m)\u001b[0m\u001b[0;34m[\u001b[0m\u001b[0;36m1\u001b[0m\u001b[0;34m]\u001b[0m\u001b[0;34m,\u001b[0m \u001b[0mstackTrace\u001b[0m\u001b[0;34m)\u001b[0m\u001b[0;34m\u001b[0m\u001b[0;34m\u001b[0m\u001b[0m\n",
      "\u001b[0;31mAnalysisException\u001b[0m: \"cannot resolve '`rawPrediction`' given input columns: [replicate, object_idx, is_infected, cells_areashape_formfactor, nuclei_children_perinuclei_count, library, cells_neighbors_secondclosestxvector_2, perinuclei_areashape_minoraxislength, nuclei_areashape_orientation, nuclei_location_center_y, cells_parent_nuclei, plate, perinuclei_areashape_orientation, perinuclei_parent_expandednuclei, design, nuclei_areashape_majoraxislength, perinuclei_areashape_majoraxislength, perinuclei_parent_nuclei, nuclei_areashape_formfactor, study, nuclei_areashape_minoraxislength, nuclei_children_cells_count, gene, prediction, cells_neighbors_firstclosestobjectnumber_2, cells_neighbors_anglebetweenneighbors_2, perinuclei_location_center_y, perinuclei_areashape_formfactor, nuclei_location_center_x, nuclei_areashape_area, cells_areashape_majoraxislength, perinuclei_areashape_perimeter, features, cells_neighbors_secondclosestobjectnumber_2, cells_location_center_x, sirna, cells_areashape_extent, cells_areashape_eccentricity, cells_areashape_minoraxislength, cells_areashape_perimeter, cells_children_invasomes_count, perinuclei_areashape_area, cells_areashape_area, perinuclei_location_center_x, cells_neighbors_secondclosestyvector_2, cells_children_bacteria_count, nuclei_areashape_extent, cells_neighbors_numberofneighbors_2, nuclei_areashape_perimeter, well_type, pathogen, cells_location_center_y, perinuclei_areashape_eccentricity, cells_neighbors_firstclosestyvector_2, image_idx, cells_neighbors_firstclosestxvector_2, nuclei_areashape_eccentricity, well];;\\n'Project [is_infected#1452, prediction#6487, 'rawPrediction, 'probability]\\n+- AnalysisBarrier\\n      +- Project [study#10, pathogen#11, library#12, design#13, replicate#14, plate#15, well#16, gene#17, sirna#18, well_type#19, image_idx#20, object_idx#21, cells_areashape_area#1432, cells_areashape_eccentricity#1433, cells_areashape_extent#1434, cells_areashape_formfactor#1435, cells_areashape_majoraxislength#1436, cells_areashape_minoraxislength#1437, cells_areashape_perimeter#1438, cells_children_bacteria_count#1439, cells_children_invasomes_count#1440, cells_location_center_x#1441, cells_location_center_y#1442, cells_neighbors_anglebetweenneighbors_2#1443, ... 34 more fields]\\n         +- Sample 0.9, 1.0, false, 23\\n            +- Sort [study#10 ASC NULLS FIRST, pathogen#11 ASC NULLS FIRST, library#12 ASC NULLS FIRST, design#13 ASC NULLS FIRST, replicate#14 ASC NULLS FIRST, plate#15 ASC NULLS FIRST, well#16 ASC NULLS FIRST, gene#17 ASC NULLS FIRST, sirna#18 ASC NULLS FIRST, well_type#19 ASC NULLS FIRST, image_idx#20 ASC NULLS FIRST, object_idx#21 ASC NULLS FIRST, cells_areashape_area#1432 ASC NULLS FIRST, cells_areashape_eccentricity#1433 ASC NULLS FIRST, cells_areashape_extent#1434 ASC NULLS FIRST, cells_areashape_formfactor#1435 ASC NULLS FIRST, cells_areashape_majoraxislength#1436 ASC NULLS FIRST, cells_areashape_minoraxislength#1437 ASC NULLS FIRST, cells_areashape_perimeter#1438 ASC NULLS FIRST, cells_children_bacteria_count#1439 ASC NULLS FIRST, cells_children_invasomes_count#1440 ASC NULLS FIRST, cells_location_center_x#1441 ASC NULLS FIRST, cells_location_center_y#1442 ASC NULLS FIRST, cells_neighbors_anglebetweenneighbors_2#1443 ASC NULLS FIRST, ... 33 more fields], false\\n               +- Project [study#10, pathogen#11, library#12, design#13, replicate#14, plate#15, well#16, gene#17, sirna#18, well_type#19, image_idx#20, object_idx#21, cells_areashape_area#1432, cells_areashape_eccentricity#1433, cells_areashape_extent#1434, cells_areashape_formfactor#1435, cells_areashape_majoraxislength#1436, cells_areashape_minoraxislength#1437, cells_areashape_perimeter#1438, cells_children_bacteria_count#1439, cells_children_invasomes_count#1440, cells_location_center_x#1441, cells_location_center_y#1442, cells_neighbors_anglebetweenneighbors_2#1443, ... 33 more fields]\\n                  +- Project [study#10, pathogen#11, library#12, design#13, replicate#14, plate#15, well#16, gene#17, sirna#18, well_type#19, image_idx#20, object_idx#21, coalesce(nanvl(cells_areashape_area#179, cast(null as double)), cast(0.0 as double)) AS cells_areashape_area#1432, coalesce(nanvl(cells_areashape_eccentricity#236, cast(null as double)), cast(0.0 as double)) AS cells_areashape_eccentricity#1433, coalesce(nanvl(cells_areashape_extent#293, cast(null as double)), cast(0.0 as double)) AS cells_areashape_extent#1434, coalesce(nanvl(cells_areashape_formfactor#350, cast(null as double)), cast(0.0 as double)) AS cells_areashape_formfactor#1435, coalesce(nanvl(cells_areashape_majoraxislength#407, cast(null as double)), cast(0.0 as double)) AS cells_areashape_majoraxislength#1436, coalesce(nanvl(cells_areashape_minoraxislength#464, cast(null as double)), cast(0.0 as double)) AS cells_areashape_minoraxislength#1437, coalesce(nanvl(cells_areashape_perimeter#521, cast(null as double)), cast(0.0 as double)) AS cells_areashape_perimeter#1438, coalesce(nanvl(cells_children_bacteria_count#578, cast(null as double)), cast(0.0 as double)) AS cells_children_bacteria_count#1439, coalesce(nanvl(cells_children_invasomes_count#635, cast(null as double)), cast(0.0 as double)) AS cells_children_invasomes_count#1440, coalesce(nanvl(cells_location_center_x#692, cast(null as double)), cast(0.0 as double)) AS cells_location_center_x#1441, coalesce(nanvl(cells_location_center_y#749, cast(null as double)), cast(0.0 as double)) AS cells_location_center_y#1442, coalesce(nanvl(cells_neighbors_anglebetweenneighbors_2#806, cast(null as double)), cast(0.0 as double)) AS cells_neighbors_anglebetweenneighbors_2#1443, ... 32 more fields]\\n                     +- Project [study#10, pathogen#11, library#12, design#13, replicate#14, plate#15, well#16, gene#17, sirna#18, well_type#19, image_idx#20, object_idx#21, cells_areashape_area#179, cells_areashape_eccentricity#236, cells_areashape_extent#293, cells_areashape_formfactor#350, cells_areashape_majoraxislength#407, cells_areashape_minoraxislength#464, cells_areashape_perimeter#521, cells_children_bacteria_count#578, cells_children_invasomes_count#635, cells_location_center_x#692, cells_location_center_y#749, cells_neighbors_anglebetweenneighbors_2#806, ... 32 more fields]\\n                        +- Project [study#10, pathogen#11, library#12, design#13, replicate#14, plate#15, well#16, gene#17, sirna#18, well_type#19, image_idx#20, object_idx#21, cells_areashape_area#179, cells_areashape_eccentricity#236, cells_areashape_extent#293, cells_areashape_formfactor#350, cells_areashape_majoraxislength#407, cells_areashape_minoraxislength#464, cells_areashape_perimeter#521, cells_children_bacteria_count#578, cells_children_invasomes_count#635, cells_location_center_x#692, cells_location_center_y#749, cells_neighbors_anglebetweenneighbors_2#806, ... 32 more fields]\\n                           +- Project [study#10, pathogen#11, library#12, design#13, replicate#14, plate#15, well#16, gene#17, sirna#18, well_type#19, image_idx#20, object_idx#21, cells_areashape_area#179, cells_areashape_eccentricity#236, cells_areashape_extent#293, cells_areashape_formfactor#350, cells_areashape_majoraxislength#407, cells_areashape_minoraxislength#464, cells_areashape_perimeter#521, cells_children_bacteria_count#578, cells_children_invasomes_count#635, cells_location_center_x#692, cells_location_center_y#749, cells_neighbors_anglebetweenneighbors_2#806, ... 32 more fields]\\n                              +- Project [study#10, pathogen#11, library#12, design#13, replicate#14, plate#15, well#16, gene#17, sirna#18, well_type#19, image_idx#20, object_idx#21, cells_areashape_area#179, cells_areashape_eccentricity#236, cells_areashape_extent#293, cells_areashape_formfactor#350, cells_areashape_majoraxislength#407, cells_areashape_minoraxislength#464, cells_areashape_perimeter#521, cells_children_bacteria_count#578, cells_children_invasomes_count#635, cells_location_center_x#692, cells_location_center_y#749, cells_neighbors_anglebetweenneighbors_2#806, ... 32 more fields]\\n                                 +- Project [study#10, pathogen#11, library#12, design#13, replicate#14, plate#15, well#16, gene#17, sirna#18, well_type#19, image_idx#20, object_idx#21, cells_areashape_area#179, cells_areashape_eccentricity#236, cells_areashape_extent#293, cells_areashape_formfactor#350, cells_areashape_majoraxislength#407, cells_areashape_minoraxislength#464, cells_areashape_perimeter#521, cells_children_bacteria_count#578, cells_children_invasomes_count#635, cells_location_center_x#692, cells_location_center_y#749, cells_neighbors_anglebetweenneighbors_2#806, ... 32 more fields]\\n                                    +- Project [study#10, pathogen#11, library#12, design#13, replicate#14, plate#15, well#16, gene#17, sirna#18, well_type#19, image_idx#20, object_idx#21, cells_areashape_area#179, cells_areashape_eccentricity#236, cells_areashape_extent#293, cells_areashape_formfactor#350, cells_areashape_majoraxislength#407, cells_areashape_minoraxislength#464, cells_areashape_perimeter#521, cells_children_bacteria_count#578, cells_children_invasomes_count#635, cells_location_center_x#692, cells_location_center_y#749, cells_neighbors_anglebetweenneighbors_2#806, ... 32 more fields]\\n                                       +- Project [study#10, pathogen#11, library#12, design#13, replicate#14, plate#15, well#16, gene#17, sirna#18, well_type#19, image_idx#20, object_idx#21, cells_areashape_area#179, cells_areashape_eccentricity#236, cells_areashape_extent#293, cells_areashape_formfactor#350, cells_areashape_majoraxislength#407, cells_areashape_minoraxislength#464, cells_areashape_perimeter#521, cells_children_bacteria_count#578, cells_children_invasomes_count#635, cells_location_center_x#692, cells_location_center_y#749, cells_neighbors_anglebetweenneighbors_2#806, ... 32 more fields]\\n                                          +- Project [study#10, pathogen#11, library#12, design#13, replicate#14, plate#15, well#16, gene#17, sirna#18, well_type#19, image_idx#20, object_idx#21, cells_areashape_area#179, cells_areashape_eccentricity#236, cells_areashape_extent#293, cells_areashape_formfactor#350, cells_areashape_majoraxislength#407, cells_areashape_minoraxislength#464, cells_areashape_perimeter#521, cells_children_bacteria_count#578, cells_children_invasomes_count#635, cells_location_center_x#692, cells_location_center_y#749, cells_neighbors_anglebetweenneighbors_2#806, ... 32 more fields]\\n                                             +- Project [study#10, pathogen#11, library#12, design#13, replicate#14, plate#15, well#16, gene#17, sirna#18, well_type#19, image_idx#20, object_idx#21, cells_areashape_area#179, cells_areashape_eccentricity#236, cells_areashape_extent#293, cells_areashape_formfactor#350, cells_areashape_majoraxislength#407, cells_areashape_minoraxislength#464, cells_areashape_perimeter#521, cells_children_bacteria_count#578, cells_children_invasomes_count#635, cells_location_center_x#692, cells_location_center_y#749, cells_neighbors_anglebetweenneighbors_2#806, ... 32 more fields]\\n                                                +- Project [study#10, pathogen#11, library#12, design#13, replicate#14, plate#15, well#16, gene#17, sirna#18, well_type#19, image_idx#20, object_idx#21, cells_areashape_area#179, cells_areashape_eccentricity#236, cells_areashape_extent#293, cells_areashape_formfactor#350, cells_areashape_majoraxislength#407, cells_areashape_minoraxislength#464, cells_areashape_perimeter#521, cells_children_bacteria_count#578, cells_children_invasomes_count#635, cells_location_center_x#692, cells_location_center_y#749, cast(cells_neighbors_anglebetweenneighbors_2#33 as double) AS cells_neighbors_anglebetweenneighbors_2#806, ... 32 more fields]\\n                                                   +- Project [study#10, pathogen#11, library#12, design#13, replicate#14, plate#15, well#16, gene#17, sirna#18, well_type#19, image_idx#20, object_idx#21, cells_areashape_area#179, cells_areashape_eccentricity#236, cells_areashape_extent#293, cells_areashape_formfactor#350, cells_areashape_majoraxislength#407, cells_areashape_minoraxislength#464, cells_areashape_perimeter#521, cells_children_bacteria_count#578, cells_children_invasomes_count#635, cells_location_center_x#692, cast(cells_location_center_y#32 as double) AS cells_location_center_y#749, cells_neighbors_anglebetweenneighbors_2#33, ... 32 more fields]\\n                                                      +- Project [study#10, pathogen#11, library#12, design#13, replicate#14, plate#15, well#16, gene#17, sirna#18, well_type#19, image_idx#20, object_idx#21, cells_areashape_area#179, cells_areashape_eccentricity#236, cells_areashape_extent#293, cells_areashape_formfactor#350, cells_areashape_majoraxislength#407, cells_areashape_minoraxislength#464, cells_areashape_perimeter#521, cells_children_bacteria_count#578, cells_children_invasomes_count#635, cast(cells_location_center_x#31 as double) AS cells_location_center_x#692, cells_location_center_y#32, cells_neighbors_anglebetweenneighbors_2#33, ... 32 more fields]\\n                                                         +- Project [study#10, pathogen#11, library#12, design#13, replicate#14, plate#15, well#16, gene#17, sirna#18, well_type#19, image_idx#20, object_idx#21, cells_areashape_area#179, cells_areashape_eccentricity#236, cells_areashape_extent#293, cells_areashape_formfactor#350, cells_areashape_majoraxislength#407, cells_areashape_minoraxislength#464, cells_areashape_perimeter#521, cells_children_bacteria_count#578, cast(cells_children_invasomes_count#30 as double) AS cells_children_invasomes_count#635, cells_location_center_x#31, cells_location_center_y#32, cells_neighbors_anglebetweenneighbors_2#33, ... 32 more fields]\\n                                                            +- Project [study#10, pathogen#11, library#12, design#13, replicate#14, plate#15, well#16, gene#17, sirna#18, well_type#19, image_idx#20, object_idx#21, cells_areashape_area#179, cells_areashape_eccentricity#236, cells_areashape_extent#293, cells_areashape_formfactor#350, cells_areashape_majoraxislength#407, cells_areashape_minoraxislength#464, cells_areashape_perimeter#521, cast(cells_children_bacteria_count#29 as double) AS cells_children_bacteria_count#578, cells_children_invasomes_count#30, cells_location_center_x#31, cells_location_center_y#32, cells_neighbors_anglebetweenneighbors_2#33, ... 32 more fields]\\n                                                               +- Project [study#10, pathogen#11, library#12, design#13, replicate#14, plate#15, well#16, gene#17, sirna#18, well_type#19, image_idx#20, object_idx#21, cells_areashape_area#179, cells_areashape_eccentricity#236, cells_areashape_extent#293, cells_areashape_formfactor#350, cells_areashape_majoraxislength#407, cells_areashape_minoraxislength#464, cast(cells_areashape_perimeter#28 as double) AS cells_areashape_perimeter#521, cells_children_bacteria_count#29, cells_children_invasomes_count#30, cells_location_center_x#31, cells_location_center_y#32, cells_neighbors_anglebetweenneighbors_2#33, ... 32 more fields]\\n                                                                  +- Project [study#10, pathogen#11, library#12, design#13, replicate#14, plate#15, well#16, gene#17, sirna#18, well_type#19, image_idx#20, object_idx#21, cells_areashape_area#179, cells_areashape_eccentricity#236, cells_areashape_extent#293, cells_areashape_formfactor#350, cells_areashape_majoraxislength#407, cast(cells_areashape_minoraxislength#27 as double) AS cells_areashape_minoraxislength#464, cells_areashape_perimeter#28, cells_children_bacteria_count#29, cells_children_invasomes_count#30, cells_location_center_x#31, cells_location_center_y#32, cells_neighbors_anglebetweenneighbors_2#33, ... 32 more fields]\\n                                                                     +- Project [study#10, pathogen#11, library#12, design#13, replicate#14, plate#15, well#16, gene#17, sirna#18, well_type#19, image_idx#20, object_idx#21, cells_areashape_area#179, cells_areashape_eccentricity#236, cells_areashape_extent#293, cells_areashape_formfactor#350, cast(cells_areashape_majoraxislength#26 as double) AS cells_areashape_majoraxislength#407, cells_areashape_minoraxislength#27, cells_areashape_perimeter#28, cells_children_bacteria_count#29, cells_children_invasomes_count#30, cells_location_center_x#31, cells_location_center_y#32, cells_neighbors_anglebetweenneighbors_2#33, ... 32 more fields]\\n                                                                        +- Project [study#10, pathogen#11, library#12, design#13, replicate#14, plate#15, well#16, gene#17, sirna#18, well_type#19, image_idx#20, object_idx#21, cells_areashape_area#179, cells_areashape_eccentricity#236, cells_areashape_extent#293, cast(cells_areashape_formfactor#25 as double) AS cells_areashape_formfactor#350, cells_areashape_majoraxislength#26, cells_areashape_minoraxislength#27, cells_areashape_perimeter#28, cells_children_bacteria_count#29, cells_children_invasomes_count#30, cells_location_center_x#31, cells_location_center_y#32, cells_neighbors_anglebetweenneighbors_2#33, ... 32 more fields]\\n                                                                           +- Project [study#10, pathogen#11, library#12, design#13, replicate#14, plate#15, well#16, gene#17, sirna#18, well_type#19, image_idx#20, object_idx#21, cells_areashape_area#179, cells_areashape_eccentricity#236, cast(cells_areashape_extent#24 as double) AS cells_areashape_extent#293, cells_areashape_formfactor#25, cells_areashape_majoraxislength#26, cells_areashape_minoraxislength#27, cells_areashape_perimeter#28, cells_children_bacteria_count#29, cells_children_invasomes_count#30, cells_location_center_x#31, cells_location_center_y#32, cells_neighbors_anglebetweenneighbors_2#33, ... 32 more fields]\\n                                                                              +- Project [study#10, pathogen#11, library#12, design#13, replicate#14, plate#15, well#16, gene#17, sirna#18, well_type#19, image_idx#20, object_idx#21, cells_areashape_area#179, cast(cells_areashape_eccentricity#23 as double) AS cells_areashape_eccentricity#236, cells_areashape_extent#24, cells_areashape_formfactor#25, cells_areashape_majoraxislength#26, cells_areashape_minoraxislength#27, cells_areashape_perimeter#28, cells_children_bacteria_count#29, cells_children_invasomes_count#30, cells_location_center_x#31, cells_location_center_y#32, cells_neighbors_anglebetweenneighbors_2#33, ... 32 more fields]\\n                                                                                 +- Project [study#10, pathogen#11, library#12, design#13, replicate#14, plate#15, well#16, gene#17, sirna#18, well_type#19, image_idx#20, object_idx#21, cast(cells_areashape_area#22 as double) AS cells_areashape_area#179, cells_areashape_eccentricity#23, cells_areashape_extent#24, cells_areashape_formfactor#25, cells_areashape_majoraxislength#26, cells_areashape_minoraxislength#27, cells_areashape_perimeter#28, cells_children_bacteria_count#29, cells_children_invasomes_count#30, cells_location_center_x#31, cells_location_center_y#32, cells_neighbors_anglebetweenneighbors_2#33, ... 32 more fields]\\n                                                                                    +- Relation[study#10,pathogen#11,library#12,design#13,replicate#14,plate#15,well#16,gene#17,sirna#18,well_type#19,image_idx#20,object_idx#21,cells_areashape_area#22,cells_areashape_eccentricity#23,cells_areashape_extent#24,cells_areashape_formfactor#25,cells_areashape_majoraxislength#26,cells_areashape_minoraxislength#27,cells_areashape_perimeter#28,cells_children_bacteria_count#29,cells_children_invasomes_count#30,cells_location_center_x#31,cells_location_center_y#32,cells_neighbors_anglebetweenneighbors_2#33,... 32 more fields] csv\\n\""
     ]
    }
   ],
   "source": [
    "model.transform(test).select([\"is_infected\",\"prediction\", \"rawPrediction\", \"probability\"]).take(5)"
   ]
  },
  {
   "cell_type": "code",
   "execution_count": 41,
   "metadata": {},
   "outputs": [
    {
     "data": {
      "text/plain": [
       "array([ -40.58522438,  -18.09379892,   49.98335339,   -8.53411228,\n",
       "          5.78628766,  -91.76619448,  139.77918   ,   11.78750353,\n",
       "         47.38566867,    0.        , -155.22540079,  -47.64358771,\n",
       "          0.61939133,   20.95393594,  -30.7513961 ,   -3.94608597,\n",
       "          7.78275043,   38.46303947,  -41.13395916,  -22.45524179,\n",
       "         76.49301044])"
      ]
     },
     "execution_count": 41,
     "metadata": {},
     "output_type": "execute_result"
    }
   ],
   "source": [
    "beta = scipy.append(scipy.array(model.intercept), scipy.array(model.coefficients))\n",
    "beta"
   ]
  },
  {
   "cell_type": "code",
   "execution_count": 42,
   "metadata": {},
   "outputs": [],
   "source": [
    "pred = model.transform(test)"
   ]
  },
  {
   "cell_type": "code",
   "execution_count": 95,
   "metadata": {},
   "outputs": [],
   "source": [
    "s = model.summary"
   ]
  },
  {
   "cell_type": "code",
   "execution_count": 89,
   "metadata": {},
   "outputs": [
    {
     "data": {
      "text/plain": [
       "[Row(prediction=1.0, rawPrediction=DenseVector([-19.7205, 19.7205]), probability=DenseVector([0.0, 1.0])),\n",
       " Row(prediction=1.0, rawPrediction=DenseVector([-720.2587, 720.2587]), probability=DenseVector([0.0, 1.0])),\n",
       " Row(prediction=0.0, rawPrediction=DenseVector([348.458, -348.458]), probability=DenseVector([1.0, 0.0])),\n",
       " Row(prediction=0.0, rawPrediction=DenseVector([14.9133, -14.9133]), probability=DenseVector([1.0, 0.0])),\n",
       " Row(prediction=1.0, rawPrediction=DenseVector([-2148.484, 2148.484]), probability=DenseVector([0.0, 1.0])),\n",
       " Row(prediction=1.0, rawPrediction=DenseVector([-47.7827, 47.7827]), probability=DenseVector([0.0, 1.0])),\n",
       " Row(prediction=1.0, rawPrediction=DenseVector([-83.4945, 83.4945]), probability=DenseVector([0.0, 1.0])),\n",
       " Row(prediction=0.0, rawPrediction=DenseVector([66.3773, -66.3773]), probability=DenseVector([1.0, 0.0])),\n",
       " Row(prediction=1.0, rawPrediction=DenseVector([-456.6449, 456.6449]), probability=DenseVector([0.0, 1.0])),\n",
       " Row(prediction=1.0, rawPrediction=DenseVector([-23.3931, 23.3931]), probability=DenseVector([0.0, 1.0]))]"
      ]
     },
     "execution_count": 89,
     "metadata": {},
     "output_type": "execute_result"
    }
   ],
   "source": [
    "s.predictions.select(\"prediction\", \"rawPrediction\", \"probability\").take(10)"
   ]
  },
  {
   "cell_type": "code",
   "execution_count": 133,
   "metadata": {},
   "outputs": [],
   "source": [
    "pred = s.predictions.select(\"probability\")\n",
    "pred = pred.rdd.map(lambda x: x[0][1])"
   ]
  },
  {
   "cell_type": "code",
   "execution_count": 135,
   "metadata": {},
   "outputs": [],
   "source": [
    "pred = pred.map(lambda x: x * (1 - x))"
   ]
  },
  {
   "cell_type": "code",
   "execution_count": 110,
   "metadata": {},
   "outputs": [
    {
     "data": {
      "text/plain": [
       "[0.9999999972742135,\n",
       " 1.0,\n",
       " 4.641162548908174e-152,\n",
       " 3.3362159533567064e-07,\n",
       " 1.0,\n",
       " 1.0,\n",
       " 1.0,\n",
       " 1.4883962383560773e-29,\n",
       " 1.0,\n",
       " 0.9999999999307396]"
      ]
     },
     "execution_count": 110,
     "metadata": {},
     "output_type": "execute_result"
    }
   ],
   "source": []
  },
  {
   "cell_type": "code",
   "execution_count": 85,
   "metadata": {},
   "outputs": [
    {
     "data": {
      "text/plain": [
       "array([1., 1., 0., 0., 1., 1., 1., 0., 1., 1., 1., 1., 1., 0., 1., 1., 1.,\n",
       "       1., 0., 1., 1., 1., 0., 1., 1., 0., 0., 1., 1., 1., 1., 1., 1., 0.,\n",
       "       1., 1., 1., 1., 1., 1., 1., 0., 1., 0., 1., 0., 1., 1., 1., 1., 1.,\n",
       "       1., 0., 0., 1., 0., 1., 1., 1., 1., 1., 1., 1., 1., 0., 1., 1., 1.,\n",
       "       0., 0., 1., 1., 1., 1., 0., 1., 0., 0., 0., 1., 1., 1.])"
      ]
     },
     "execution_count": 85,
     "metadata": {},
     "output_type": "execute_result"
    }
   ],
   "source": [
    "s.preadictions.select(\"prediction\").toPandas().values[:,0]"
   ]
  },
  {
   "cell_type": "code",
   "execution_count": 63,
   "metadata": {},
   "outputs": [],
   "source": [
    "preds = RowMatrix(s.predictions.select(\"prediction\").rdd)"
   ]
  },
  {
   "cell_type": "code",
   "execution_count": 73,
   "metadata": {},
   "outputs": [],
   "source": [
    "w = preds.rows.map(lambda x: x * (1 -  x))"
   ]
  },
  {
   "cell_type": "code",
   "execution_count": 79,
   "metadata": {},
   "outputs": [
    {
     "ename": "Py4JJavaError",
     "evalue": "An error occurred while calling z:org.apache.spark.api.python.PythonRDD.runJob.\n: org.apache.spark.SparkException: Job aborted due to stage failure: Task 0 in stage 54.0 failed 1 times, most recent failure: Lost task 0.0 in stage 54.0 (TID 54, localhost, executor driver): org.apache.spark.api.python.PythonException: Traceback (most recent call last):\n  File \"/usr/local/spark/spark/python/lib/pyspark.zip/pyspark/worker.py\", line 229, in main\n    process()\n  File \"/usr/local/spark/spark/python/lib/pyspark.zip/pyspark/worker.py\", line 224, in process\n    serializer.dump_stream(func(split_index, iterator), outfile)\n  File \"/usr/local/spark/spark/python/lib/pyspark.zip/pyspark/serializers.py\", line 372, in dump_stream\n    vs = list(itertools.islice(iterator, batch))\n  File \"/usr/local/spark/spark/python/lib/pyspark.zip/pyspark/mllib/linalg/__init__.py\", line 83, in _convert_to_vector\n    raise TypeError(\"Cannot convert type %s into Vector\" % type(l))\nTypeError: Cannot convert type <class 'pyspark.sql.types.Row'> into Vector\n\n\tat org.apache.spark.api.python.BasePythonRunner$ReaderIterator.handlePythonException(PythonRunner.scala:298)\n\tat org.apache.spark.api.python.PythonRunner$$anon$1.read(PythonRunner.scala:438)\n\tat org.apache.spark.api.python.PythonRunner$$anon$1.read(PythonRunner.scala:421)\n\tat org.apache.spark.api.python.BasePythonRunner$ReaderIterator.hasNext(PythonRunner.scala:252)\n\tat org.apache.spark.InterruptibleIterator.hasNext(InterruptibleIterator.scala:37)\n\tat scala.collection.Iterator$$anon$12.hasNext(Iterator.scala:439)\n\tat org.apache.spark.api.python.SerDeUtil$AutoBatchedPickler.hasNext(SerDeUtil.scala:153)\n\tat scala.collection.Iterator$class.foreach(Iterator.scala:893)\n\tat org.apache.spark.api.python.SerDeUtil$AutoBatchedPickler.foreach(SerDeUtil.scala:148)\n\tat org.apache.spark.api.python.PythonRDD$.writeIteratorToStream(PythonRDD.scala:204)\n\tat org.apache.spark.api.python.PythonRunner$$anon$2.writeIteratorToStream(PythonRunner.scala:407)\n\tat org.apache.spark.api.python.BasePythonRunner$WriterThread$$anonfun$run$1.apply(PythonRunner.scala:215)\n\tat org.apache.spark.util.Utils$.logUncaughtExceptions(Utils.scala:1988)\n\tat org.apache.spark.api.python.BasePythonRunner$WriterThread.run(PythonRunner.scala:170)\n\nDriver stacktrace:\n\tat org.apache.spark.scheduler.DAGScheduler.org$apache$spark$scheduler$DAGScheduler$$failJobAndIndependentStages(DAGScheduler.scala:1599)\n\tat org.apache.spark.scheduler.DAGScheduler$$anonfun$abortStage$1.apply(DAGScheduler.scala:1587)\n\tat org.apache.spark.scheduler.DAGScheduler$$anonfun$abortStage$1.apply(DAGScheduler.scala:1586)\n\tat scala.collection.mutable.ResizableArray$class.foreach(ResizableArray.scala:59)\n\tat scala.collection.mutable.ArrayBuffer.foreach(ArrayBuffer.scala:48)\n\tat org.apache.spark.scheduler.DAGScheduler.abortStage(DAGScheduler.scala:1586)\n\tat org.apache.spark.scheduler.DAGScheduler$$anonfun$handleTaskSetFailed$1.apply(DAGScheduler.scala:831)\n\tat org.apache.spark.scheduler.DAGScheduler$$anonfun$handleTaskSetFailed$1.apply(DAGScheduler.scala:831)\n\tat scala.Option.foreach(Option.scala:257)\n\tat org.apache.spark.scheduler.DAGScheduler.handleTaskSetFailed(DAGScheduler.scala:831)\n\tat org.apache.spark.scheduler.DAGSchedulerEventProcessLoop.doOnReceive(DAGScheduler.scala:1820)\n\tat org.apache.spark.scheduler.DAGSchedulerEventProcessLoop.onReceive(DAGScheduler.scala:1769)\n\tat org.apache.spark.scheduler.DAGSchedulerEventProcessLoop.onReceive(DAGScheduler.scala:1758)\n\tat org.apache.spark.util.EventLoop$$anon$1.run(EventLoop.scala:48)\n\tat org.apache.spark.scheduler.DAGScheduler.runJob(DAGScheduler.scala:642)\n\tat org.apache.spark.SparkContext.runJob(SparkContext.scala:2027)\n\tat org.apache.spark.SparkContext.runJob(SparkContext.scala:2048)\n\tat org.apache.spark.SparkContext.runJob(SparkContext.scala:2067)\n\tat org.apache.spark.api.python.PythonRDD$.runJob(PythonRDD.scala:141)\n\tat org.apache.spark.api.python.PythonRDD.runJob(PythonRDD.scala)\n\tat sun.reflect.NativeMethodAccessorImpl.invoke0(Native Method)\n\tat sun.reflect.NativeMethodAccessorImpl.invoke(NativeMethodAccessorImpl.java:62)\n\tat sun.reflect.DelegatingMethodAccessorImpl.invoke(DelegatingMethodAccessorImpl.java:43)\n\tat java.lang.reflect.Method.invoke(Method.java:497)\n\tat py4j.reflection.MethodInvoker.invoke(MethodInvoker.java:244)\n\tat py4j.reflection.ReflectionEngine.invoke(ReflectionEngine.java:357)\n\tat py4j.Gateway.invoke(Gateway.java:282)\n\tat py4j.commands.AbstractCommand.invokeMethod(AbstractCommand.java:132)\n\tat py4j.commands.CallCommand.execute(CallCommand.java:79)\n\tat py4j.GatewayConnection.run(GatewayConnection.java:214)\n\tat java.lang.Thread.run(Thread.java:745)\nCaused by: org.apache.spark.api.python.PythonException: Traceback (most recent call last):\n  File \"/usr/local/spark/spark/python/lib/pyspark.zip/pyspark/worker.py\", line 229, in main\n    process()\n  File \"/usr/local/spark/spark/python/lib/pyspark.zip/pyspark/worker.py\", line 224, in process\n    serializer.dump_stream(func(split_index, iterator), outfile)\n  File \"/usr/local/spark/spark/python/lib/pyspark.zip/pyspark/serializers.py\", line 372, in dump_stream\n    vs = list(itertools.islice(iterator, batch))\n  File \"/usr/local/spark/spark/python/lib/pyspark.zip/pyspark/mllib/linalg/__init__.py\", line 83, in _convert_to_vector\n    raise TypeError(\"Cannot convert type %s into Vector\" % type(l))\nTypeError: Cannot convert type <class 'pyspark.sql.types.Row'> into Vector\n\n\tat org.apache.spark.api.python.BasePythonRunner$ReaderIterator.handlePythonException(PythonRunner.scala:298)\n\tat org.apache.spark.api.python.PythonRunner$$anon$1.read(PythonRunner.scala:438)\n\tat org.apache.spark.api.python.PythonRunner$$anon$1.read(PythonRunner.scala:421)\n\tat org.apache.spark.api.python.BasePythonRunner$ReaderIterator.hasNext(PythonRunner.scala:252)\n\tat org.apache.spark.InterruptibleIterator.hasNext(InterruptibleIterator.scala:37)\n\tat scala.collection.Iterator$$anon$12.hasNext(Iterator.scala:439)\n\tat org.apache.spark.api.python.SerDeUtil$AutoBatchedPickler.hasNext(SerDeUtil.scala:153)\n\tat scala.collection.Iterator$class.foreach(Iterator.scala:893)\n\tat org.apache.spark.api.python.SerDeUtil$AutoBatchedPickler.foreach(SerDeUtil.scala:148)\n\tat org.apache.spark.api.python.PythonRDD$.writeIteratorToStream(PythonRDD.scala:204)\n\tat org.apache.spark.api.python.PythonRunner$$anon$2.writeIteratorToStream(PythonRunner.scala:407)\n\tat org.apache.spark.api.python.BasePythonRunner$WriterThread$$anonfun$run$1.apply(PythonRunner.scala:215)\n\tat org.apache.spark.util.Utils$.logUncaughtExceptions(Utils.scala:1988)\n\tat org.apache.spark.api.python.BasePythonRunner$WriterThread.run(PythonRunner.scala:170)\n",
     "output_type": "error",
     "traceback": [
      "\u001b[0;31m---------------------------------------------------------------------------\u001b[0m",
      "\u001b[0;31mPy4JJavaError\u001b[0m                             Traceback (most recent call last)",
      "\u001b[0;32m<ipython-input-79-3c9ec1ec0562>\u001b[0m in \u001b[0;36m<module>\u001b[0;34m\u001b[0m\n\u001b[0;32m----> 1\u001b[0;31m \u001b[0mw\u001b[0m\u001b[0;34m.\u001b[0m\u001b[0mtake\u001b[0m\u001b[0;34m(\u001b[0m\u001b[0;36m1\u001b[0m\u001b[0;34m)\u001b[0m\u001b[0;34m\u001b[0m\u001b[0;34m\u001b[0m\u001b[0m\n\u001b[0m",
      "\u001b[0;32m/usr/local/spark/spark/python/pyspark/rdd.py\u001b[0m in \u001b[0;36mtake\u001b[0;34m(self, num)\u001b[0m\n\u001b[1;32m   1356\u001b[0m \u001b[0;34m\u001b[0m\u001b[0m\n\u001b[1;32m   1357\u001b[0m             \u001b[0mp\u001b[0m \u001b[0;34m=\u001b[0m \u001b[0mrange\u001b[0m\u001b[0;34m(\u001b[0m\u001b[0mpartsScanned\u001b[0m\u001b[0;34m,\u001b[0m \u001b[0mmin\u001b[0m\u001b[0;34m(\u001b[0m\u001b[0mpartsScanned\u001b[0m \u001b[0;34m+\u001b[0m \u001b[0mnumPartsToTry\u001b[0m\u001b[0;34m,\u001b[0m \u001b[0mtotalParts\u001b[0m\u001b[0;34m)\u001b[0m\u001b[0;34m)\u001b[0m\u001b[0;34m\u001b[0m\u001b[0;34m\u001b[0m\u001b[0m\n\u001b[0;32m-> 1358\u001b[0;31m             \u001b[0mres\u001b[0m \u001b[0;34m=\u001b[0m \u001b[0mself\u001b[0m\u001b[0;34m.\u001b[0m\u001b[0mcontext\u001b[0m\u001b[0;34m.\u001b[0m\u001b[0mrunJob\u001b[0m\u001b[0;34m(\u001b[0m\u001b[0mself\u001b[0m\u001b[0;34m,\u001b[0m \u001b[0mtakeUpToNumLeft\u001b[0m\u001b[0;34m,\u001b[0m \u001b[0mp\u001b[0m\u001b[0;34m)\u001b[0m\u001b[0;34m\u001b[0m\u001b[0;34m\u001b[0m\u001b[0m\n\u001b[0m\u001b[1;32m   1359\u001b[0m \u001b[0;34m\u001b[0m\u001b[0m\n\u001b[1;32m   1360\u001b[0m             \u001b[0mitems\u001b[0m \u001b[0;34m+=\u001b[0m \u001b[0mres\u001b[0m\u001b[0;34m\u001b[0m\u001b[0;34m\u001b[0m\u001b[0m\n",
      "\u001b[0;32m/usr/local/spark/spark/python/pyspark/context.py\u001b[0m in \u001b[0;36mrunJob\u001b[0;34m(self, rdd, partitionFunc, partitions, allowLocal)\u001b[0m\n\u001b[1;32m    999\u001b[0m         \u001b[0;31m# SparkContext#runJob.\u001b[0m\u001b[0;34m\u001b[0m\u001b[0;34m\u001b[0m\u001b[0;34m\u001b[0m\u001b[0m\n\u001b[1;32m   1000\u001b[0m         \u001b[0mmappedRDD\u001b[0m \u001b[0;34m=\u001b[0m \u001b[0mrdd\u001b[0m\u001b[0;34m.\u001b[0m\u001b[0mmapPartitions\u001b[0m\u001b[0;34m(\u001b[0m\u001b[0mpartitionFunc\u001b[0m\u001b[0;34m)\u001b[0m\u001b[0;34m\u001b[0m\u001b[0;34m\u001b[0m\u001b[0m\n\u001b[0;32m-> 1001\u001b[0;31m         \u001b[0mport\u001b[0m \u001b[0;34m=\u001b[0m \u001b[0mself\u001b[0m\u001b[0;34m.\u001b[0m\u001b[0m_jvm\u001b[0m\u001b[0;34m.\u001b[0m\u001b[0mPythonRDD\u001b[0m\u001b[0;34m.\u001b[0m\u001b[0mrunJob\u001b[0m\u001b[0;34m(\u001b[0m\u001b[0mself\u001b[0m\u001b[0;34m.\u001b[0m\u001b[0m_jsc\u001b[0m\u001b[0;34m.\u001b[0m\u001b[0msc\u001b[0m\u001b[0;34m(\u001b[0m\u001b[0;34m)\u001b[0m\u001b[0;34m,\u001b[0m \u001b[0mmappedRDD\u001b[0m\u001b[0;34m.\u001b[0m\u001b[0m_jrdd\u001b[0m\u001b[0;34m,\u001b[0m \u001b[0mpartitions\u001b[0m\u001b[0;34m)\u001b[0m\u001b[0;34m\u001b[0m\u001b[0;34m\u001b[0m\u001b[0m\n\u001b[0m\u001b[1;32m   1002\u001b[0m         \u001b[0;32mreturn\u001b[0m \u001b[0mlist\u001b[0m\u001b[0;34m(\u001b[0m\u001b[0m_load_from_socket\u001b[0m\u001b[0;34m(\u001b[0m\u001b[0mport\u001b[0m\u001b[0;34m,\u001b[0m \u001b[0mmappedRDD\u001b[0m\u001b[0;34m.\u001b[0m\u001b[0m_jrdd_deserializer\u001b[0m\u001b[0;34m)\u001b[0m\u001b[0;34m)\u001b[0m\u001b[0;34m\u001b[0m\u001b[0;34m\u001b[0m\u001b[0m\n\u001b[1;32m   1003\u001b[0m \u001b[0;34m\u001b[0m\u001b[0m\n",
      "\u001b[0;32m/usr/local/spark/spark/python/lib/py4j-0.10.6-src.zip/py4j/java_gateway.py\u001b[0m in \u001b[0;36m__call__\u001b[0;34m(self, *args)\u001b[0m\n\u001b[1;32m   1158\u001b[0m         \u001b[0manswer\u001b[0m \u001b[0;34m=\u001b[0m \u001b[0mself\u001b[0m\u001b[0;34m.\u001b[0m\u001b[0mgateway_client\u001b[0m\u001b[0;34m.\u001b[0m\u001b[0msend_command\u001b[0m\u001b[0;34m(\u001b[0m\u001b[0mcommand\u001b[0m\u001b[0;34m)\u001b[0m\u001b[0;34m\u001b[0m\u001b[0;34m\u001b[0m\u001b[0m\n\u001b[1;32m   1159\u001b[0m         return_value = get_return_value(\n\u001b[0;32m-> 1160\u001b[0;31m             answer, self.gateway_client, self.target_id, self.name)\n\u001b[0m\u001b[1;32m   1161\u001b[0m \u001b[0;34m\u001b[0m\u001b[0m\n\u001b[1;32m   1162\u001b[0m         \u001b[0;32mfor\u001b[0m \u001b[0mtemp_arg\u001b[0m \u001b[0;32min\u001b[0m \u001b[0mtemp_args\u001b[0m\u001b[0;34m:\u001b[0m\u001b[0;34m\u001b[0m\u001b[0;34m\u001b[0m\u001b[0m\n",
      "\u001b[0;32m/usr/local/spark/spark/python/pyspark/sql/utils.py\u001b[0m in \u001b[0;36mdeco\u001b[0;34m(*a, **kw)\u001b[0m\n\u001b[1;32m     61\u001b[0m     \u001b[0;32mdef\u001b[0m \u001b[0mdeco\u001b[0m\u001b[0;34m(\u001b[0m\u001b[0;34m*\u001b[0m\u001b[0ma\u001b[0m\u001b[0;34m,\u001b[0m \u001b[0;34m**\u001b[0m\u001b[0mkw\u001b[0m\u001b[0;34m)\u001b[0m\u001b[0;34m:\u001b[0m\u001b[0;34m\u001b[0m\u001b[0;34m\u001b[0m\u001b[0m\n\u001b[1;32m     62\u001b[0m         \u001b[0;32mtry\u001b[0m\u001b[0;34m:\u001b[0m\u001b[0;34m\u001b[0m\u001b[0;34m\u001b[0m\u001b[0m\n\u001b[0;32m---> 63\u001b[0;31m             \u001b[0;32mreturn\u001b[0m \u001b[0mf\u001b[0m\u001b[0;34m(\u001b[0m\u001b[0;34m*\u001b[0m\u001b[0ma\u001b[0m\u001b[0;34m,\u001b[0m \u001b[0;34m**\u001b[0m\u001b[0mkw\u001b[0m\u001b[0;34m)\u001b[0m\u001b[0;34m\u001b[0m\u001b[0;34m\u001b[0m\u001b[0m\n\u001b[0m\u001b[1;32m     64\u001b[0m         \u001b[0;32mexcept\u001b[0m \u001b[0mpy4j\u001b[0m\u001b[0;34m.\u001b[0m\u001b[0mprotocol\u001b[0m\u001b[0;34m.\u001b[0m\u001b[0mPy4JJavaError\u001b[0m \u001b[0;32mas\u001b[0m \u001b[0me\u001b[0m\u001b[0;34m:\u001b[0m\u001b[0;34m\u001b[0m\u001b[0;34m\u001b[0m\u001b[0m\n\u001b[1;32m     65\u001b[0m             \u001b[0ms\u001b[0m \u001b[0;34m=\u001b[0m \u001b[0me\u001b[0m\u001b[0;34m.\u001b[0m\u001b[0mjava_exception\u001b[0m\u001b[0;34m.\u001b[0m\u001b[0mtoString\u001b[0m\u001b[0;34m(\u001b[0m\u001b[0;34m)\u001b[0m\u001b[0;34m\u001b[0m\u001b[0;34m\u001b[0m\u001b[0m\n",
      "\u001b[0;32m/usr/local/spark/spark/python/lib/py4j-0.10.6-src.zip/py4j/protocol.py\u001b[0m in \u001b[0;36mget_return_value\u001b[0;34m(answer, gateway_client, target_id, name)\u001b[0m\n\u001b[1;32m    318\u001b[0m                 raise Py4JJavaError(\n\u001b[1;32m    319\u001b[0m                     \u001b[0;34m\"An error occurred while calling {0}{1}{2}.\\n\"\u001b[0m\u001b[0;34m.\u001b[0m\u001b[0;34m\u001b[0m\u001b[0;34m\u001b[0m\u001b[0m\n\u001b[0;32m--> 320\u001b[0;31m                     format(target_id, \".\", name), value)\n\u001b[0m\u001b[1;32m    321\u001b[0m             \u001b[0;32melse\u001b[0m\u001b[0;34m:\u001b[0m\u001b[0;34m\u001b[0m\u001b[0;34m\u001b[0m\u001b[0m\n\u001b[1;32m    322\u001b[0m                 raise Py4JError(\n",
      "\u001b[0;31mPy4JJavaError\u001b[0m: An error occurred while calling z:org.apache.spark.api.python.PythonRDD.runJob.\n: org.apache.spark.SparkException: Job aborted due to stage failure: Task 0 in stage 54.0 failed 1 times, most recent failure: Lost task 0.0 in stage 54.0 (TID 54, localhost, executor driver): org.apache.spark.api.python.PythonException: Traceback (most recent call last):\n  File \"/usr/local/spark/spark/python/lib/pyspark.zip/pyspark/worker.py\", line 229, in main\n    process()\n  File \"/usr/local/spark/spark/python/lib/pyspark.zip/pyspark/worker.py\", line 224, in process\n    serializer.dump_stream(func(split_index, iterator), outfile)\n  File \"/usr/local/spark/spark/python/lib/pyspark.zip/pyspark/serializers.py\", line 372, in dump_stream\n    vs = list(itertools.islice(iterator, batch))\n  File \"/usr/local/spark/spark/python/lib/pyspark.zip/pyspark/mllib/linalg/__init__.py\", line 83, in _convert_to_vector\n    raise TypeError(\"Cannot convert type %s into Vector\" % type(l))\nTypeError: Cannot convert type <class 'pyspark.sql.types.Row'> into Vector\n\n\tat org.apache.spark.api.python.BasePythonRunner$ReaderIterator.handlePythonException(PythonRunner.scala:298)\n\tat org.apache.spark.api.python.PythonRunner$$anon$1.read(PythonRunner.scala:438)\n\tat org.apache.spark.api.python.PythonRunner$$anon$1.read(PythonRunner.scala:421)\n\tat org.apache.spark.api.python.BasePythonRunner$ReaderIterator.hasNext(PythonRunner.scala:252)\n\tat org.apache.spark.InterruptibleIterator.hasNext(InterruptibleIterator.scala:37)\n\tat scala.collection.Iterator$$anon$12.hasNext(Iterator.scala:439)\n\tat org.apache.spark.api.python.SerDeUtil$AutoBatchedPickler.hasNext(SerDeUtil.scala:153)\n\tat scala.collection.Iterator$class.foreach(Iterator.scala:893)\n\tat org.apache.spark.api.python.SerDeUtil$AutoBatchedPickler.foreach(SerDeUtil.scala:148)\n\tat org.apache.spark.api.python.PythonRDD$.writeIteratorToStream(PythonRDD.scala:204)\n\tat org.apache.spark.api.python.PythonRunner$$anon$2.writeIteratorToStream(PythonRunner.scala:407)\n\tat org.apache.spark.api.python.BasePythonRunner$WriterThread$$anonfun$run$1.apply(PythonRunner.scala:215)\n\tat org.apache.spark.util.Utils$.logUncaughtExceptions(Utils.scala:1988)\n\tat org.apache.spark.api.python.BasePythonRunner$WriterThread.run(PythonRunner.scala:170)\n\nDriver stacktrace:\n\tat org.apache.spark.scheduler.DAGScheduler.org$apache$spark$scheduler$DAGScheduler$$failJobAndIndependentStages(DAGScheduler.scala:1599)\n\tat org.apache.spark.scheduler.DAGScheduler$$anonfun$abortStage$1.apply(DAGScheduler.scala:1587)\n\tat org.apache.spark.scheduler.DAGScheduler$$anonfun$abortStage$1.apply(DAGScheduler.scala:1586)\n\tat scala.collection.mutable.ResizableArray$class.foreach(ResizableArray.scala:59)\n\tat scala.collection.mutable.ArrayBuffer.foreach(ArrayBuffer.scala:48)\n\tat org.apache.spark.scheduler.DAGScheduler.abortStage(DAGScheduler.scala:1586)\n\tat org.apache.spark.scheduler.DAGScheduler$$anonfun$handleTaskSetFailed$1.apply(DAGScheduler.scala:831)\n\tat org.apache.spark.scheduler.DAGScheduler$$anonfun$handleTaskSetFailed$1.apply(DAGScheduler.scala:831)\n\tat scala.Option.foreach(Option.scala:257)\n\tat org.apache.spark.scheduler.DAGScheduler.handleTaskSetFailed(DAGScheduler.scala:831)\n\tat org.apache.spark.scheduler.DAGSchedulerEventProcessLoop.doOnReceive(DAGScheduler.scala:1820)\n\tat org.apache.spark.scheduler.DAGSchedulerEventProcessLoop.onReceive(DAGScheduler.scala:1769)\n\tat org.apache.spark.scheduler.DAGSchedulerEventProcessLoop.onReceive(DAGScheduler.scala:1758)\n\tat org.apache.spark.util.EventLoop$$anon$1.run(EventLoop.scala:48)\n\tat org.apache.spark.scheduler.DAGScheduler.runJob(DAGScheduler.scala:642)\n\tat org.apache.spark.SparkContext.runJob(SparkContext.scala:2027)\n\tat org.apache.spark.SparkContext.runJob(SparkContext.scala:2048)\n\tat org.apache.spark.SparkContext.runJob(SparkContext.scala:2067)\n\tat org.apache.spark.api.python.PythonRDD$.runJob(PythonRDD.scala:141)\n\tat org.apache.spark.api.python.PythonRDD.runJob(PythonRDD.scala)\n\tat sun.reflect.NativeMethodAccessorImpl.invoke0(Native Method)\n\tat sun.reflect.NativeMethodAccessorImpl.invoke(NativeMethodAccessorImpl.java:62)\n\tat sun.reflect.DelegatingMethodAccessorImpl.invoke(DelegatingMethodAccessorImpl.java:43)\n\tat java.lang.reflect.Method.invoke(Method.java:497)\n\tat py4j.reflection.MethodInvoker.invoke(MethodInvoker.java:244)\n\tat py4j.reflection.ReflectionEngine.invoke(ReflectionEngine.java:357)\n\tat py4j.Gateway.invoke(Gateway.java:282)\n\tat py4j.commands.AbstractCommand.invokeMethod(AbstractCommand.java:132)\n\tat py4j.commands.CallCommand.execute(CallCommand.java:79)\n\tat py4j.GatewayConnection.run(GatewayConnection.java:214)\n\tat java.lang.Thread.run(Thread.java:745)\nCaused by: org.apache.spark.api.python.PythonException: Traceback (most recent call last):\n  File \"/usr/local/spark/spark/python/lib/pyspark.zip/pyspark/worker.py\", line 229, in main\n    process()\n  File \"/usr/local/spark/spark/python/lib/pyspark.zip/pyspark/worker.py\", line 224, in process\n    serializer.dump_stream(func(split_index, iterator), outfile)\n  File \"/usr/local/spark/spark/python/lib/pyspark.zip/pyspark/serializers.py\", line 372, in dump_stream\n    vs = list(itertools.islice(iterator, batch))\n  File \"/usr/local/spark/spark/python/lib/pyspark.zip/pyspark/mllib/linalg/__init__.py\", line 83, in _convert_to_vector\n    raise TypeError(\"Cannot convert type %s into Vector\" % type(l))\nTypeError: Cannot convert type <class 'pyspark.sql.types.Row'> into Vector\n\n\tat org.apache.spark.api.python.BasePythonRunner$ReaderIterator.handlePythonException(PythonRunner.scala:298)\n\tat org.apache.spark.api.python.PythonRunner$$anon$1.read(PythonRunner.scala:438)\n\tat org.apache.spark.api.python.PythonRunner$$anon$1.read(PythonRunner.scala:421)\n\tat org.apache.spark.api.python.BasePythonRunner$ReaderIterator.hasNext(PythonRunner.scala:252)\n\tat org.apache.spark.InterruptibleIterator.hasNext(InterruptibleIterator.scala:37)\n\tat scala.collection.Iterator$$anon$12.hasNext(Iterator.scala:439)\n\tat org.apache.spark.api.python.SerDeUtil$AutoBatchedPickler.hasNext(SerDeUtil.scala:153)\n\tat scala.collection.Iterator$class.foreach(Iterator.scala:893)\n\tat org.apache.spark.api.python.SerDeUtil$AutoBatchedPickler.foreach(SerDeUtil.scala:148)\n\tat org.apache.spark.api.python.PythonRDD$.writeIteratorToStream(PythonRDD.scala:204)\n\tat org.apache.spark.api.python.PythonRunner$$anon$2.writeIteratorToStream(PythonRunner.scala:407)\n\tat org.apache.spark.api.python.BasePythonRunner$WriterThread$$anonfun$run$1.apply(PythonRunner.scala:215)\n\tat org.apache.spark.util.Utils$.logUncaughtExceptions(Utils.scala:1988)\n\tat org.apache.spark.api.python.BasePythonRunner$WriterThread.run(PythonRunner.scala:170)\n"
     ]
    }
   ],
   "source": [
    "w.take(1)"
   ]
  },
  {
   "cell_type": "code",
   "execution_count": 156,
   "metadata": {},
   "outputs": [],
   "source": [
    "dataset = spark.read.format(\"libsvm\").load(\"/usr/local/spark/spark/data/mllib/sample_libsvm_data.txt\")"
   ]
  },
  {
   "cell_type": "code",
   "execution_count": 159,
   "metadata": {},
   "outputs": [
    {
     "data": {
      "text/plain": [
       "[Row(label=0.0, features=SparseVector(692, {127: 51.0, 128: 159.0, 129: 253.0, 130: 159.0, 131: 50.0, 154: 48.0, 155: 238.0, 156: 252.0, 157: 252.0, 158: 252.0, 159: 237.0, 181: 54.0, 182: 227.0, 183: 253.0, 184: 252.0, 185: 239.0, 186: 233.0, 187: 252.0, 188: 57.0, 189: 6.0, 207: 10.0, 208: 60.0, 209: 224.0, 210: 252.0, 211: 253.0, 212: 252.0, 213: 202.0, 214: 84.0, 215: 252.0, 216: 253.0, 217: 122.0, 235: 163.0, 236: 252.0, 237: 252.0, 238: 252.0, 239: 253.0, 240: 252.0, 241: 252.0, 242: 96.0, 243: 189.0, 244: 253.0, 245: 167.0, 262: 51.0, 263: 238.0, 264: 253.0, 265: 253.0, 266: 190.0, 267: 114.0, 268: 253.0, 269: 228.0, 270: 47.0, 271: 79.0, 272: 255.0, 273: 168.0, 289: 48.0, 290: 238.0, 291: 252.0, 292: 252.0, 293: 179.0, 294: 12.0, 295: 75.0, 296: 121.0, 297: 21.0, 300: 253.0, 301: 243.0, 302: 50.0, 316: 38.0, 317: 165.0, 318: 253.0, 319: 233.0, 320: 208.0, 321: 84.0, 328: 253.0, 329: 252.0, 330: 165.0, 343: 7.0, 344: 178.0, 345: 252.0, 346: 240.0, 347: 71.0, 348: 19.0, 349: 28.0, 356: 253.0, 357: 252.0, 358: 195.0, 371: 57.0, 372: 252.0, 373: 252.0, 374: 63.0, 384: 253.0, 385: 252.0, 386: 195.0, 399: 198.0, 400: 253.0, 401: 190.0, 412: 255.0, 413: 253.0, 414: 196.0, 426: 76.0, 427: 246.0, 428: 252.0, 429: 112.0, 440: 253.0, 441: 252.0, 442: 148.0, 454: 85.0, 455: 252.0, 456: 230.0, 457: 25.0, 466: 7.0, 467: 135.0, 468: 253.0, 469: 186.0, 470: 12.0, 482: 85.0, 483: 252.0, 484: 223.0, 493: 7.0, 494: 131.0, 495: 252.0, 496: 225.0, 497: 71.0, 510: 85.0, 511: 252.0, 512: 145.0, 520: 48.0, 521: 165.0, 522: 252.0, 523: 173.0, 538: 86.0, 539: 253.0, 540: 225.0, 547: 114.0, 548: 238.0, 549: 253.0, 550: 162.0, 566: 85.0, 567: 252.0, 568: 249.0, 569: 146.0, 570: 48.0, 571: 29.0, 572: 85.0, 573: 178.0, 574: 225.0, 575: 253.0, 576: 223.0, 577: 167.0, 578: 56.0, 594: 85.0, 595: 252.0, 596: 252.0, 597: 252.0, 598: 229.0, 599: 215.0, 600: 252.0, 601: 252.0, 602: 252.0, 603: 196.0, 604: 130.0, 622: 28.0, 623: 199.0, 624: 252.0, 625: 252.0, 626: 253.0, 627: 252.0, 628: 252.0, 629: 233.0, 630: 145.0, 651: 25.0, 652: 128.0, 653: 252.0, 654: 253.0, 655: 252.0, 656: 141.0, 657: 37.0})),\n",
       " Row(label=1.0, features=SparseVector(692, {158: 124.0, 159: 253.0, 160: 255.0, 161: 63.0, 185: 96.0, 186: 244.0, 187: 251.0, 188: 253.0, 189: 62.0, 213: 127.0, 214: 251.0, 215: 251.0, 216: 253.0, 217: 62.0, 240: 68.0, 241: 236.0, 242: 251.0, 243: 211.0, 244: 31.0, 245: 8.0, 267: 60.0, 268: 228.0, 269: 251.0, 270: 251.0, 271: 94.0, 295: 155.0, 296: 253.0, 297: 253.0, 298: 189.0, 322: 20.0, 323: 253.0, 324: 251.0, 325: 235.0, 326: 66.0, 349: 32.0, 350: 205.0, 351: 253.0, 352: 251.0, 353: 126.0, 377: 104.0, 378: 251.0, 379: 253.0, 380: 184.0, 381: 15.0, 404: 80.0, 405: 240.0, 406: 251.0, 407: 193.0, 408: 23.0, 431: 32.0, 432: 253.0, 433: 253.0, 434: 253.0, 435: 159.0, 459: 151.0, 460: 251.0, 461: 251.0, 462: 251.0, 463: 39.0, 486: 48.0, 487: 221.0, 488: 251.0, 489: 251.0, 490: 172.0, 514: 234.0, 515: 251.0, 516: 251.0, 517: 196.0, 518: 12.0, 542: 253.0, 543: 251.0, 544: 251.0, 545: 89.0, 569: 159.0, 570: 255.0, 571: 253.0, 572: 253.0, 573: 31.0, 596: 48.0, 597: 228.0, 598: 253.0, 599: 247.0, 600: 140.0, 601: 8.0, 624: 64.0, 625: 251.0, 626: 253.0, 627: 220.0, 652: 64.0, 653: 251.0, 654: 253.0, 655: 220.0, 680: 24.0, 681: 193.0, 682: 253.0, 683: 220.0})),\n",
       " Row(label=1.0, features=SparseVector(692, {124: 145.0, 125: 255.0, 126: 211.0, 127: 31.0, 151: 32.0, 152: 237.0, 153: 253.0, 154: 252.0, 155: 71.0, 179: 11.0, 180: 175.0, 181: 253.0, 182: 252.0, 183: 71.0, 208: 144.0, 209: 253.0, 210: 252.0, 211: 71.0, 235: 16.0, 236: 191.0, 237: 253.0, 238: 252.0, 239: 71.0, 263: 26.0, 264: 221.0, 265: 253.0, 266: 252.0, 267: 124.0, 268: 31.0, 292: 125.0, 293: 253.0, 294: 252.0, 295: 252.0, 296: 108.0, 321: 253.0, 322: 252.0, 323: 252.0, 324: 108.0, 349: 255.0, 350: 253.0, 351: 253.0, 352: 108.0, 377: 253.0, 378: 252.0, 379: 252.0, 380: 108.0, 405: 253.0, 406: 252.0, 407: 252.0, 408: 108.0, 433: 253.0, 434: 252.0, 435: 252.0, 436: 108.0, 461: 255.0, 462: 253.0, 463: 253.0, 464: 170.0, 489: 253.0, 490: 252.0, 491: 252.0, 492: 252.0, 493: 42.0, 517: 149.0, 518: 252.0, 519: 252.0, 520: 252.0, 521: 144.0, 545: 109.0, 546: 252.0, 547: 252.0, 548: 252.0, 549: 144.0, 574: 218.0, 575: 253.0, 576: 253.0, 577: 255.0, 578: 35.0, 602: 175.0, 603: 252.0, 604: 252.0, 605: 253.0, 606: 35.0, 630: 73.0, 631: 252.0, 632: 252.0, 633: 253.0, 634: 35.0, 658: 31.0, 659: 211.0, 660: 252.0, 661: 253.0, 662: 35.0})),\n",
       " Row(label=1.0, features=SparseVector(692, {152: 5.0, 153: 63.0, 154: 197.0, 180: 20.0, 181: 254.0, 182: 230.0, 183: 24.0, 208: 20.0, 209: 254.0, 210: 254.0, 211: 48.0, 236: 20.0, 237: 254.0, 238: 255.0, 239: 48.0, 264: 20.0, 265: 254.0, 266: 254.0, 267: 57.0, 292: 20.0, 293: 254.0, 294: 254.0, 295: 108.0, 320: 16.0, 321: 239.0, 322: 254.0, 323: 143.0, 349: 178.0, 350: 254.0, 351: 143.0, 377: 178.0, 378: 254.0, 379: 143.0, 405: 178.0, 406: 254.0, 407: 162.0, 433: 178.0, 434: 254.0, 435: 240.0, 461: 113.0, 462: 254.0, 463: 240.0, 489: 83.0, 490: 254.0, 491: 245.0, 492: 31.0, 517: 79.0, 518: 254.0, 519: 246.0, 520: 38.0, 546: 214.0, 547: 254.0, 548: 150.0, 574: 144.0, 575: 241.0, 576: 8.0, 602: 144.0, 603: 240.0, 604: 2.0, 630: 144.0, 631: 254.0, 632: 82.0, 658: 230.0, 659: 247.0, 660: 40.0, 686: 168.0, 687: 209.0, 688: 31.0})),\n",
       " Row(label=1.0, features=SparseVector(692, {151: 1.0, 152: 168.0, 153: 242.0, 154: 28.0, 179: 10.0, 180: 228.0, 181: 254.0, 182: 100.0, 208: 190.0, 209: 254.0, 210: 122.0, 236: 83.0, 237: 254.0, 238: 162.0, 264: 29.0, 265: 254.0, 266: 248.0, 267: 25.0, 292: 29.0, 293: 255.0, 294: 254.0, 295: 103.0, 320: 29.0, 321: 254.0, 322: 254.0, 323: 109.0, 348: 29.0, 349: 254.0, 350: 254.0, 351: 109.0, 376: 29.0, 377: 254.0, 378: 254.0, 379: 109.0, 404: 29.0, 405: 255.0, 406: 254.0, 407: 109.0, 432: 29.0, 433: 254.0, 434: 254.0, 435: 109.0, 460: 29.0, 461: 254.0, 462: 254.0, 463: 63.0, 488: 29.0, 489: 254.0, 490: 254.0, 491: 28.0, 516: 29.0, 517: 254.0, 518: 254.0, 519: 28.0, 544: 29.0, 545: 254.0, 546: 254.0, 547: 35.0, 572: 29.0, 573: 254.0, 574: 254.0, 575: 109.0, 600: 6.0, 601: 212.0, 602: 254.0, 603: 109.0, 629: 203.0, 630: 254.0, 631: 178.0, 657: 155.0, 658: 254.0, 659: 190.0, 685: 32.0, 686: 199.0, 687: 104.0}))]"
      ]
     },
     "execution_count": 159,
     "metadata": {},
     "output_type": "execute_result"
    }
   ],
   "source": [
    "dataset.take(5)"
   ]
  },
  {
   "cell_type": "code",
   "execution_count": 163,
   "metadata": {},
   "outputs": [],
   "source": [
    "dmodel = pyspark.ml.regression.GeneralizedLinearRegression(\n",
    "    maxIter=100, family=\"binomial\", link=\"logit\", regParam=0.0).fit(dataset)"
   ]
  },
  {
   "cell_type": "code",
   "execution_count": 164,
   "metadata": {},
   "outputs": [
    {
     "ename": "Py4JJavaError",
     "evalue": "An error occurred while calling o2079.toString.\n: java.lang.UnsupportedOperationException: No summary available for this GeneralizedLinearRegressionModel\n\tat org.apache.spark.ml.regression.GeneralizedLinearRegressionTrainingSummary.toString(GeneralizedLinearRegression.scala:1566)\n\tat sun.reflect.NativeMethodAccessorImpl.invoke0(Native Method)\n\tat sun.reflect.NativeMethodAccessorImpl.invoke(NativeMethodAccessorImpl.java:62)\n\tat sun.reflect.DelegatingMethodAccessorImpl.invoke(DelegatingMethodAccessorImpl.java:43)\n\tat java.lang.reflect.Method.invoke(Method.java:497)\n\tat py4j.reflection.MethodInvoker.invoke(MethodInvoker.java:244)\n\tat py4j.reflection.ReflectionEngine.invoke(ReflectionEngine.java:357)\n\tat py4j.Gateway.invoke(Gateway.java:282)\n\tat py4j.commands.AbstractCommand.invokeMethod(AbstractCommand.java:132)\n\tat py4j.commands.CallCommand.execute(CallCommand.java:79)\n\tat py4j.GatewayConnection.run(GatewayConnection.java:214)\n\tat java.lang.Thread.run(Thread.java:745)\n",
     "output_type": "error",
     "traceback": [
      "\u001b[0;31m---------------------------------------------------------------------------\u001b[0m",
      "\u001b[0;31mPy4JJavaError\u001b[0m                             Traceback (most recent call last)",
      "\u001b[0;32m~/miniconda3/envs/tix/lib/python3.6/site-packages/IPython/core/formatters.py\u001b[0m in \u001b[0;36m__call__\u001b[0;34m(self, obj)\u001b[0m\n\u001b[1;32m    700\u001b[0m                 \u001b[0mtype_pprinters\u001b[0m\u001b[0;34m=\u001b[0m\u001b[0mself\u001b[0m\u001b[0;34m.\u001b[0m\u001b[0mtype_printers\u001b[0m\u001b[0;34m,\u001b[0m\u001b[0;34m\u001b[0m\u001b[0;34m\u001b[0m\u001b[0m\n\u001b[1;32m    701\u001b[0m                 deferred_pprinters=self.deferred_printers)\n\u001b[0;32m--> 702\u001b[0;31m             \u001b[0mprinter\u001b[0m\u001b[0;34m.\u001b[0m\u001b[0mpretty\u001b[0m\u001b[0;34m(\u001b[0m\u001b[0mobj\u001b[0m\u001b[0;34m)\u001b[0m\u001b[0;34m\u001b[0m\u001b[0;34m\u001b[0m\u001b[0m\n\u001b[0m\u001b[1;32m    703\u001b[0m             \u001b[0mprinter\u001b[0m\u001b[0;34m.\u001b[0m\u001b[0mflush\u001b[0m\u001b[0;34m(\u001b[0m\u001b[0;34m)\u001b[0m\u001b[0;34m\u001b[0m\u001b[0;34m\u001b[0m\u001b[0m\n\u001b[1;32m    704\u001b[0m             \u001b[0;32mreturn\u001b[0m \u001b[0mstream\u001b[0m\u001b[0;34m.\u001b[0m\u001b[0mgetvalue\u001b[0m\u001b[0;34m(\u001b[0m\u001b[0;34m)\u001b[0m\u001b[0;34m\u001b[0m\u001b[0;34m\u001b[0m\u001b[0m\n",
      "\u001b[0;32m~/miniconda3/envs/tix/lib/python3.6/site-packages/IPython/lib/pretty.py\u001b[0m in \u001b[0;36mpretty\u001b[0;34m(self, obj)\u001b[0m\n\u001b[1;32m    400\u001b[0m                         \u001b[0;32mif\u001b[0m \u001b[0mcls\u001b[0m \u001b[0;32mis\u001b[0m \u001b[0;32mnot\u001b[0m \u001b[0mobject\u001b[0m\u001b[0;31m \u001b[0m\u001b[0;31m\\\u001b[0m\u001b[0;34m\u001b[0m\u001b[0;34m\u001b[0m\u001b[0m\n\u001b[1;32m    401\u001b[0m                                 \u001b[0;32mand\u001b[0m \u001b[0mcallable\u001b[0m\u001b[0;34m(\u001b[0m\u001b[0mcls\u001b[0m\u001b[0;34m.\u001b[0m\u001b[0m__dict__\u001b[0m\u001b[0;34m.\u001b[0m\u001b[0mget\u001b[0m\u001b[0;34m(\u001b[0m\u001b[0;34m'__repr__'\u001b[0m\u001b[0;34m)\u001b[0m\u001b[0;34m)\u001b[0m\u001b[0;34m:\u001b[0m\u001b[0;34m\u001b[0m\u001b[0;34m\u001b[0m\u001b[0m\n\u001b[0;32m--> 402\u001b[0;31m                             \u001b[0;32mreturn\u001b[0m \u001b[0m_repr_pprint\u001b[0m\u001b[0;34m(\u001b[0m\u001b[0mobj\u001b[0m\u001b[0;34m,\u001b[0m \u001b[0mself\u001b[0m\u001b[0;34m,\u001b[0m \u001b[0mcycle\u001b[0m\u001b[0;34m)\u001b[0m\u001b[0;34m\u001b[0m\u001b[0;34m\u001b[0m\u001b[0m\n\u001b[0m\u001b[1;32m    403\u001b[0m \u001b[0;34m\u001b[0m\u001b[0m\n\u001b[1;32m    404\u001b[0m             \u001b[0;32mreturn\u001b[0m \u001b[0m_default_pprint\u001b[0m\u001b[0;34m(\u001b[0m\u001b[0mobj\u001b[0m\u001b[0;34m,\u001b[0m \u001b[0mself\u001b[0m\u001b[0;34m,\u001b[0m \u001b[0mcycle\u001b[0m\u001b[0;34m)\u001b[0m\u001b[0;34m\u001b[0m\u001b[0;34m\u001b[0m\u001b[0m\n",
      "\u001b[0;32m~/miniconda3/envs/tix/lib/python3.6/site-packages/IPython/lib/pretty.py\u001b[0m in \u001b[0;36m_repr_pprint\u001b[0;34m(obj, p, cycle)\u001b[0m\n\u001b[1;32m    695\u001b[0m     \u001b[0;34m\"\"\"A pprint that just redirects to the normal repr function.\"\"\"\u001b[0m\u001b[0;34m\u001b[0m\u001b[0;34m\u001b[0m\u001b[0m\n\u001b[1;32m    696\u001b[0m     \u001b[0;31m# Find newlines and replace them with p.break_()\u001b[0m\u001b[0;34m\u001b[0m\u001b[0;34m\u001b[0m\u001b[0;34m\u001b[0m\u001b[0m\n\u001b[0;32m--> 697\u001b[0;31m     \u001b[0moutput\u001b[0m \u001b[0;34m=\u001b[0m \u001b[0mrepr\u001b[0m\u001b[0;34m(\u001b[0m\u001b[0mobj\u001b[0m\u001b[0;34m)\u001b[0m\u001b[0;34m\u001b[0m\u001b[0;34m\u001b[0m\u001b[0m\n\u001b[0m\u001b[1;32m    698\u001b[0m     \u001b[0;32mfor\u001b[0m \u001b[0midx\u001b[0m\u001b[0;34m,\u001b[0m\u001b[0moutput_line\u001b[0m \u001b[0;32min\u001b[0m \u001b[0menumerate\u001b[0m\u001b[0;34m(\u001b[0m\u001b[0moutput\u001b[0m\u001b[0;34m.\u001b[0m\u001b[0msplitlines\u001b[0m\u001b[0;34m(\u001b[0m\u001b[0;34m)\u001b[0m\u001b[0;34m)\u001b[0m\u001b[0;34m:\u001b[0m\u001b[0;34m\u001b[0m\u001b[0;34m\u001b[0m\u001b[0m\n\u001b[1;32m    699\u001b[0m         \u001b[0;32mif\u001b[0m \u001b[0midx\u001b[0m\u001b[0;34m:\u001b[0m\u001b[0;34m\u001b[0m\u001b[0;34m\u001b[0m\u001b[0m\n",
      "\u001b[0;32m/usr/local/spark/spark/python/pyspark/ml/regression.py\u001b[0m in \u001b[0;36m__repr__\u001b[0;34m(self)\u001b[0m\n\u001b[1;32m   1783\u001b[0m \u001b[0;34m\u001b[0m\u001b[0m\n\u001b[1;32m   1784\u001b[0m     \u001b[0;32mdef\u001b[0m \u001b[0m__repr__\u001b[0m\u001b[0;34m(\u001b[0m\u001b[0mself\u001b[0m\u001b[0;34m)\u001b[0m\u001b[0;34m:\u001b[0m\u001b[0;34m\u001b[0m\u001b[0;34m\u001b[0m\u001b[0m\n\u001b[0;32m-> 1785\u001b[0;31m         \u001b[0;32mreturn\u001b[0m \u001b[0mself\u001b[0m\u001b[0;34m.\u001b[0m\u001b[0m_call_java\u001b[0m\u001b[0;34m(\u001b[0m\u001b[0;34m\"toString\"\u001b[0m\u001b[0;34m)\u001b[0m\u001b[0;34m\u001b[0m\u001b[0;34m\u001b[0m\u001b[0m\n\u001b[0m\u001b[1;32m   1786\u001b[0m \u001b[0;34m\u001b[0m\u001b[0m\n\u001b[1;32m   1787\u001b[0m \u001b[0;34m\u001b[0m\u001b[0m\n",
      "\u001b[0;32m/usr/local/spark/spark/python/pyspark/ml/wrapper.py\u001b[0m in \u001b[0;36m_call_java\u001b[0;34m(self, name, *args)\u001b[0m\n\u001b[1;32m     49\u001b[0m         \u001b[0msc\u001b[0m \u001b[0;34m=\u001b[0m \u001b[0mSparkContext\u001b[0m\u001b[0;34m.\u001b[0m\u001b[0m_active_spark_context\u001b[0m\u001b[0;34m\u001b[0m\u001b[0;34m\u001b[0m\u001b[0m\n\u001b[1;32m     50\u001b[0m         \u001b[0mjava_args\u001b[0m \u001b[0;34m=\u001b[0m \u001b[0;34m[\u001b[0m\u001b[0m_py2java\u001b[0m\u001b[0;34m(\u001b[0m\u001b[0msc\u001b[0m\u001b[0;34m,\u001b[0m \u001b[0marg\u001b[0m\u001b[0;34m)\u001b[0m \u001b[0;32mfor\u001b[0m \u001b[0marg\u001b[0m \u001b[0;32min\u001b[0m \u001b[0margs\u001b[0m\u001b[0;34m]\u001b[0m\u001b[0;34m\u001b[0m\u001b[0;34m\u001b[0m\u001b[0m\n\u001b[0;32m---> 51\u001b[0;31m         \u001b[0;32mreturn\u001b[0m \u001b[0m_java2py\u001b[0m\u001b[0;34m(\u001b[0m\u001b[0msc\u001b[0m\u001b[0;34m,\u001b[0m \u001b[0mm\u001b[0m\u001b[0;34m(\u001b[0m\u001b[0;34m*\u001b[0m\u001b[0mjava_args\u001b[0m\u001b[0;34m)\u001b[0m\u001b[0;34m)\u001b[0m\u001b[0;34m\u001b[0m\u001b[0;34m\u001b[0m\u001b[0m\n\u001b[0m\u001b[1;32m     52\u001b[0m \u001b[0;34m\u001b[0m\u001b[0m\n\u001b[1;32m     53\u001b[0m     \u001b[0;34m@\u001b[0m\u001b[0mstaticmethod\u001b[0m\u001b[0;34m\u001b[0m\u001b[0;34m\u001b[0m\u001b[0m\n",
      "\u001b[0;32m/usr/local/spark/spark/python/lib/py4j-0.10.6-src.zip/py4j/java_gateway.py\u001b[0m in \u001b[0;36m__call__\u001b[0;34m(self, *args)\u001b[0m\n\u001b[1;32m   1158\u001b[0m         \u001b[0manswer\u001b[0m \u001b[0;34m=\u001b[0m \u001b[0mself\u001b[0m\u001b[0;34m.\u001b[0m\u001b[0mgateway_client\u001b[0m\u001b[0;34m.\u001b[0m\u001b[0msend_command\u001b[0m\u001b[0;34m(\u001b[0m\u001b[0mcommand\u001b[0m\u001b[0;34m)\u001b[0m\u001b[0;34m\u001b[0m\u001b[0;34m\u001b[0m\u001b[0m\n\u001b[1;32m   1159\u001b[0m         return_value = get_return_value(\n\u001b[0;32m-> 1160\u001b[0;31m             answer, self.gateway_client, self.target_id, self.name)\n\u001b[0m\u001b[1;32m   1161\u001b[0m \u001b[0;34m\u001b[0m\u001b[0m\n\u001b[1;32m   1162\u001b[0m         \u001b[0;32mfor\u001b[0m \u001b[0mtemp_arg\u001b[0m \u001b[0;32min\u001b[0m \u001b[0mtemp_args\u001b[0m\u001b[0;34m:\u001b[0m\u001b[0;34m\u001b[0m\u001b[0;34m\u001b[0m\u001b[0m\n",
      "\u001b[0;32m/usr/local/spark/spark/python/pyspark/sql/utils.py\u001b[0m in \u001b[0;36mdeco\u001b[0;34m(*a, **kw)\u001b[0m\n\u001b[1;32m     61\u001b[0m     \u001b[0;32mdef\u001b[0m \u001b[0mdeco\u001b[0m\u001b[0;34m(\u001b[0m\u001b[0;34m*\u001b[0m\u001b[0ma\u001b[0m\u001b[0;34m,\u001b[0m \u001b[0;34m**\u001b[0m\u001b[0mkw\u001b[0m\u001b[0;34m)\u001b[0m\u001b[0;34m:\u001b[0m\u001b[0;34m\u001b[0m\u001b[0;34m\u001b[0m\u001b[0m\n\u001b[1;32m     62\u001b[0m         \u001b[0;32mtry\u001b[0m\u001b[0;34m:\u001b[0m\u001b[0;34m\u001b[0m\u001b[0;34m\u001b[0m\u001b[0m\n\u001b[0;32m---> 63\u001b[0;31m             \u001b[0;32mreturn\u001b[0m \u001b[0mf\u001b[0m\u001b[0;34m(\u001b[0m\u001b[0;34m*\u001b[0m\u001b[0ma\u001b[0m\u001b[0;34m,\u001b[0m \u001b[0;34m**\u001b[0m\u001b[0mkw\u001b[0m\u001b[0;34m)\u001b[0m\u001b[0;34m\u001b[0m\u001b[0;34m\u001b[0m\u001b[0m\n\u001b[0m\u001b[1;32m     64\u001b[0m         \u001b[0;32mexcept\u001b[0m \u001b[0mpy4j\u001b[0m\u001b[0;34m.\u001b[0m\u001b[0mprotocol\u001b[0m\u001b[0;34m.\u001b[0m\u001b[0mPy4JJavaError\u001b[0m \u001b[0;32mas\u001b[0m \u001b[0me\u001b[0m\u001b[0;34m:\u001b[0m\u001b[0;34m\u001b[0m\u001b[0;34m\u001b[0m\u001b[0m\n\u001b[1;32m     65\u001b[0m             \u001b[0ms\u001b[0m \u001b[0;34m=\u001b[0m \u001b[0me\u001b[0m\u001b[0;34m.\u001b[0m\u001b[0mjava_exception\u001b[0m\u001b[0;34m.\u001b[0m\u001b[0mtoString\u001b[0m\u001b[0;34m(\u001b[0m\u001b[0;34m)\u001b[0m\u001b[0;34m\u001b[0m\u001b[0;34m\u001b[0m\u001b[0m\n",
      "\u001b[0;32m/usr/local/spark/spark/python/lib/py4j-0.10.6-src.zip/py4j/protocol.py\u001b[0m in \u001b[0;36mget_return_value\u001b[0;34m(answer, gateway_client, target_id, name)\u001b[0m\n\u001b[1;32m    318\u001b[0m                 raise Py4JJavaError(\n\u001b[1;32m    319\u001b[0m                     \u001b[0;34m\"An error occurred while calling {0}{1}{2}.\\n\"\u001b[0m\u001b[0;34m.\u001b[0m\u001b[0;34m\u001b[0m\u001b[0;34m\u001b[0m\u001b[0m\n\u001b[0;32m--> 320\u001b[0;31m                     format(target_id, \".\", name), value)\n\u001b[0m\u001b[1;32m    321\u001b[0m             \u001b[0;32melse\u001b[0m\u001b[0;34m:\u001b[0m\u001b[0;34m\u001b[0m\u001b[0;34m\u001b[0m\u001b[0m\n\u001b[1;32m    322\u001b[0m                 raise Py4JError(\n",
      "\u001b[0;31mPy4JJavaError\u001b[0m: An error occurred while calling o2079.toString.\n: java.lang.UnsupportedOperationException: No summary available for this GeneralizedLinearRegressionModel\n\tat org.apache.spark.ml.regression.GeneralizedLinearRegressionTrainingSummary.toString(GeneralizedLinearRegression.scala:1566)\n\tat sun.reflect.NativeMethodAccessorImpl.invoke0(Native Method)\n\tat sun.reflect.NativeMethodAccessorImpl.invoke(NativeMethodAccessorImpl.java:62)\n\tat sun.reflect.DelegatingMethodAccessorImpl.invoke(DelegatingMethodAccessorImpl.java:43)\n\tat java.lang.reflect.Method.invoke(Method.java:497)\n\tat py4j.reflection.MethodInvoker.invoke(MethodInvoker.java:244)\n\tat py4j.reflection.ReflectionEngine.invoke(ReflectionEngine.java:357)\n\tat py4j.Gateway.invoke(Gateway.java:282)\n\tat py4j.commands.AbstractCommand.invokeMethod(AbstractCommand.java:132)\n\tat py4j.commands.CallCommand.execute(CallCommand.java:79)\n\tat py4j.GatewayConnection.run(GatewayConnection.java:214)\n\tat java.lang.Thread.run(Thread.java:745)\n"
     ]
    }
   ],
   "source": [
    "dmodel.summary"
   ]
  },
  {
   "cell_type": "code",
   "execution_count": 165,
   "metadata": {},
   "outputs": [],
   "source": [
    "import pandas as pd"
   ]
  },
  {
   "cell_type": "code",
   "execution_count": 166,
   "metadata": {},
   "outputs": [],
   "source": [
    "df = pd.read_csv('https://stats.idre.ucla.edu/stat/data/binary.csv')"
   ]
  },
  {
   "cell_type": "code",
   "execution_count": 167,
   "metadata": {},
   "outputs": [],
   "source": [
    "df[['admit']] = df[['admit']].astype(float)"
   ]
  },
  {
   "cell_type": "code",
   "execution_count": 168,
   "metadata": {},
   "outputs": [],
   "source": [
    "df = spark.createDataFrame(df)"
   ]
  },
  {
   "cell_type": "code",
   "execution_count": 169,
   "metadata": {},
   "outputs": [],
   "source": [
    "from pyspark.ml.feature import StringIndexer, OneHotEncoder, VectorAssembler\n",
    "\n",
    "# indexer for categorical features\n",
    "rank_indexer = StringIndexer(inputCol = 'rank', outputCol = 'rank_ind', handleInvalid=\"skip\")\n",
    "# encoder for categorical features\n",
    "rank_encoder = OneHotEncoder(inputCol = 'rank_ind', outputCol = 'rank_enc')\n",
    "\n",
    "assembler = VectorAssembler(inputCols=['gre','gpa','rank_enc'], outputCol=\"features\")\n",
    "\n",
    "from pyspark.ml.regression import GeneralizedLinearRegression\n",
    "glr = GeneralizedLinearRegression(family=\"binomial\", link = 'logit', maxIter=10, labelCol=\"admit\", featuresCol=\"features\")\n",
    "\n",
    "stages = [rank_indexer] + [rank_encoder] + [assembler] + [glr]\n",
    "\n",
    "from pyspark.ml import Pipeline\n",
    "final_pipeline = Pipeline(\n",
    "    stages = stages\n",
    ")"
   ]
  },
  {
   "cell_type": "code",
   "execution_count": 170,
   "metadata": {},
   "outputs": [],
   "source": [
    "pipelineModel = final_pipeline.fit(df)\n",
    "glr = pipelineModel.stages[3]\n",
    "transformed_data = pipelineModel.transform(df)"
   ]
  },
  {
   "cell_type": "code",
   "execution_count": 171,
   "metadata": {},
   "outputs": [
    {
     "name": "stdout",
     "output_type": "stream",
     "text": [
      "Coefficient Standard Errors: [0.001093997657943606, 0.33181930455911257, 0.3164896632645171, 0.3453064233586901, 0.4178316374514488, 1.1399509620259067]\n",
      "T Values: [2.069863467930696, 2.423118661973567, -2.1341705792110597, -3.8812018132536563, -3.713131170203293, -3.5001322041435223]\n",
      "P Values: [0.038465131844473976, 0.015387899399717408, 0.032828820088079746, 0.00010394154054749194, 0.00020471071816796638, 0.00046502746691134966]\n",
      "Dispersion: 1.0\n",
      "Null Deviance: 499.9765175549154\n",
      "Residual Degree Of Freedom Null: 399\n",
      "Deviance: 458.51749247589913\n",
      "Residual Degree Of Freedom: 394\n",
      "AIC: 470.51749247589913\n"
     ]
    }
   ],
   "source": [
    "summary = glr.summary\n",
    "print(\"Coefficient Standard Errors: \" + str(summary.coefficientStandardErrors))\n",
    "print(\"T Values: \" + str(summary.tValues))\n",
    "print(\"P Values: \" + str(summary.pValues))\n",
    "print(\"Dispersion: \" + str(summary.dispersion))\n",
    "print(\"Null Deviance: \" + str(summary.nullDeviance))\n",
    "print(\"Residual Degree Of Freedom Null: \" + str(summary.residualDegreeOfFreedomNull))\n",
    "print(\"Deviance: \" + str(summary.deviance))\n",
    "print(\"Residual Degree Of Freedom: \" + str(summary.residualDegreeOfFreedom))\n",
    "print(\"AIC: \" + str(summary.aic))"
   ]
  },
  {
   "cell_type": "code",
   "execution_count": 207,
   "metadata": {},
   "outputs": [],
   "source": [
    "spark.stop()"
   ]
  },
  {
   "cell_type": "code",
   "execution_count": null,
   "metadata": {},
   "outputs": [],
   "source": []
  }
 ],
 "metadata": {
  "kernelspec": {
   "display_name": "Python 3 (Tix)",
   "language": "python",
   "name": "tix"
  },
  "language_info": {
   "codemirror_mode": {
    "name": "ipython",
    "version": 3
   },
   "file_extension": ".py",
   "mimetype": "text/x-python",
   "name": "python",
   "nbconvert_exporter": "python",
   "pygments_lexer": "ipython3",
   "version": "3.6.7"
  }
 },
 "nbformat": 4,
 "nbformat_minor": 1
}
