{
 "cells": [
  {
   "cell_type": "code",
   "execution_count": 1,
   "metadata": {},
   "outputs": [],
   "source": [
    "import os\n",
    "import sys\n",
    "import pandas\n",
    "import numpy\n",
    "\n",
    "import findspark\n",
    "findspark.init(\"/usr/local/spark/spark\")\n",
    "\n",
    "import pyspark\n",
    "from pyspark.sql.window import Window\n",
    "import pyspark.sql.functions as func\n",
    "\n",
    "from pyspark.rdd import reduce\n",
    "from pyspark.sql.types import DoubleType\n",
    "from pyspark.ml.feature import VectorAssembler\n",
    "from pyspark.ml.clustering import GaussianMixture, KMeansModel, KMeans\n",
    "from pyspark.ml.linalg import SparseVector, VectorUDT, Vector, Vectors"
   ]
  },
  {
   "cell_type": "code",
   "execution_count": 2,
   "metadata": {},
   "outputs": [],
   "source": [
    "from pyspark.sql.functions import udf, col, struct\n",
    "from pyspark.sql.types import ArrayType, DoubleType, StringType\n",
    "from pyspark.mllib.linalg.distributed import RowMatrix, DenseMatrix"
   ]
  },
  {
   "cell_type": "code",
   "execution_count": 5,
   "metadata": {},
   "outputs": [],
   "source": [
    "cluster_files =  \"/Users/simondi/PROJECTS/target_infect_x_project/src/tix-analysis/data/outlier-removal\""
   ]
  },
  {
   "cell_type": "code",
   "execution_count": 6,
   "metadata": {},
   "outputs": [],
   "source": [
    "conf = pyspark.SparkConf().setMaster(\"local[*]\").set(\"spark.driver.memory\", \"4G\").set(\"spark.executor.memory\", \"4G\")\n",
    "sc = pyspark.SparkContext(conf=conf)\n",
    "spark = pyspark.sql.SparkSession(sc)"
   ]
  },
  {
   "cell_type": "code",
   "execution_count": 7,
   "metadata": {},
   "outputs": [
    {
     "data": {
      "text/plain": [
       "'2.3.0'"
      ]
     },
     "execution_count": 7,
     "metadata": {},
     "output_type": "execute_result"
    }
   ],
   "source": [
    "spark.version"
   ]
  },
  {
   "cell_type": "code",
   "execution_count": 8,
   "metadata": {},
   "outputs": [],
   "source": [
    "df = spark.read.parquet(cluster_files)"
   ]
  },
  {
   "cell_type": "code",
   "execution_count": 11,
   "metadata": {},
   "outputs": [
    {
     "name": "stdout",
     "output_type": "stream",
     "text": [
      "2 -197.37840366469706\n",
      "3 -129.9873125875771\n",
      "4 252.8549915622858\n",
      "5 58.1048541332123\n",
      "6 102.06188799318035\n",
      "7 -438.69872950609897\n",
      "8 -521.9157414797645\n",
      "9 684.722370691125\n",
      "10 -596.7165760632951\n"
     ]
    }
   ],
   "source": [
    "for i in range(2, 10 + 1):\n",
    "    km = GaussianMixture(tol=0.00001, maxIter=1000, k=i, seed=23)\n",
    "    model = km.fit(df)\n",
    "    print(i,model.summary.logLikelihood)"
   ]
  },
  {
   "cell_type": "code",
   "execution_count": null,
   "metadata": {},
   "outputs": [],
   "source": []
  },
  {
   "cell_type": "code",
   "execution_count": 29,
   "metadata": {},
   "outputs": [
    {
     "data": {
      "text/plain": [
       "56"
      ]
     },
     "execution_count": 29,
     "metadata": {},
     "output_type": "execute_result"
    }
   ],
   "source": [
    "import sys\n",
    "sys.getsizeof(model)"
   ]
  },
  {
   "cell_type": "code",
   "execution_count": 12,
   "metadata": {
    "scrolled": true
   },
   "outputs": [
    {
     "name": "stdout",
     "output_type": "stream",
     "text": [
      "2 -237.64532675881767\n",
      "3 193.67630923218914\n",
      "4 222.81110424615136\n",
      "5 201.28821833083882\n",
      "6 73.9360480300353\n",
      "7 -540.8607659051879\n",
      "8 144.837051544231\n",
      "9 -507.4826093274928\n",
      "10 -568.7749749017225\n"
     ]
    }
   ],
   "source": [
    "for i in range(2, 10 + 1):\n",
    "    km = GaussianMixture(tol=0.00001, maxIter=1000, k=i, seed=5)\n",
    "    model = km.fit(df)\n",
    "    print(i,model.summary.logLikelihood)"
   ]
  },
  {
   "cell_type": "code",
   "execution_count": 19,
   "metadata": {},
   "outputs": [
    {
     "name": "stdout",
     "output_type": "stream",
     "text": [
      "2 -213.6537695049224\n",
      "3 -71.86251278183717\n",
      "4 142.93181411246334\n",
      "5 388.3518448467852\n",
      "6 -156.84572015261676\n",
      "7 -51.72492494182088\n",
      "8 -543.3264383276892\n",
      "9 -433.059131636611\n",
      "10 -290.0020575493953\n"
     ]
    }
   ],
   "source": [
    "for i in range(2, 10 + 1):\n",
    "    km = GaussianMixture().setK(i).setSeed(5)\n",
    "    model = km.fit(df)\n",
    "    print(i,model.summary.logLikelihood)"
   ]
  },
  {
   "cell_type": "code",
   "execution_count": 13,
   "metadata": {},
   "outputs": [
    {
     "ename": "AttributeError",
     "evalue": "'KMeansSummary' object has no attribute 'logLikelihood'",
     "output_type": "error",
     "traceback": [
      "\u001b[0;31m---------------------------------------------------------------------------\u001b[0m",
      "\u001b[0;31mAttributeError\u001b[0m                            Traceback (most recent call last)",
      "\u001b[0;32m<ipython-input-13-caef92823a78>\u001b[0m in \u001b[0;36m<module>\u001b[0;34m()\u001b[0m\n\u001b[1;32m      2\u001b[0m     \u001b[0mkm\u001b[0m \u001b[0;34m=\u001b[0m \u001b[0mKMeans\u001b[0m\u001b[0;34m(\u001b[0m\u001b[0mtol\u001b[0m\u001b[0;34m=\u001b[0m\u001b[0;36m0.00001\u001b[0m\u001b[0;34m,\u001b[0m \u001b[0mmaxIter\u001b[0m\u001b[0;34m=\u001b[0m\u001b[0;36m1000\u001b[0m\u001b[0;34m)\u001b[0m\u001b[0;34m.\u001b[0m\u001b[0msetK\u001b[0m\u001b[0;34m(\u001b[0m\u001b[0mi\u001b[0m\u001b[0;34m)\u001b[0m\u001b[0;34m.\u001b[0m\u001b[0msetSeed\u001b[0m\u001b[0;34m(\u001b[0m\u001b[0;36m23\u001b[0m\u001b[0;34m)\u001b[0m\u001b[0;34m\u001b[0m\u001b[0m\n\u001b[1;32m      3\u001b[0m     \u001b[0mmodel\u001b[0m \u001b[0;34m=\u001b[0m \u001b[0mkm\u001b[0m\u001b[0;34m.\u001b[0m\u001b[0mfit\u001b[0m\u001b[0;34m(\u001b[0m\u001b[0mdf\u001b[0m\u001b[0;34m)\u001b[0m\u001b[0;34m\u001b[0m\u001b[0m\n\u001b[0;32m----> 4\u001b[0;31m     \u001b[0mprint\u001b[0m\u001b[0;34m(\u001b[0m\u001b[0mi\u001b[0m\u001b[0;34m,\u001b[0m \u001b[0mmodel\u001b[0m\u001b[0;34m.\u001b[0m\u001b[0msummary\u001b[0m\u001b[0;34m.\u001b[0m\u001b[0mlogLikelihood\u001b[0m\u001b[0;34m)\u001b[0m\u001b[0;34m\u001b[0m\u001b[0m\n\u001b[0m",
      "\u001b[0;31mAttributeError\u001b[0m: 'KMeansSummary' object has no attribute 'logLikelihood'"
     ]
    }
   ],
   "source": [
    "for i in range(2, 10 + 1):\n",
    "    km = KMeans(tol=0.00001, maxIter=1000).setK(i).setSeed(23)\n",
    "    model = km.fit(df)\n",
    "    print(i, model.summary.logLikelihood)"
   ]
  },
  {
   "cell_type": "code",
   "execution_count": 25,
   "metadata": {},
   "outputs": [
    {
     "name": "stdout",
     "output_type": "stream",
     "text": [
      "2 822.0990981180995\n",
      "3 641.0346086861204\n",
      "4 560.9449406720297\n",
      "5 514.2137552766253\n",
      "6 491.491509651465\n",
      "7 462.29631674589825\n",
      "8 433.29780454473996\n",
      "9 411.678292747365\n",
      "10 391.4865081335379\n"
     ]
    }
   ],
   "source": [
    "for i in range(2, 10 + 1):\n",
    "    km = KMeans().setK(i).setSeed(23)\n",
    "    model = km.fit(df)\n",
    "    print(i, model.computeCost(df))"
   ]
  },
  {
   "cell_type": "code",
   "execution_count": 26,
   "metadata": {},
   "outputs": [
    {
     "name": "stdout",
     "output_type": "stream",
     "text": [
      "2 810.0128162664852\n",
      "3 676.9414245646284\n",
      "4 550.5300945156876\n",
      "5 516.2605188186652\n",
      "6 486.90125896082196\n",
      "7 492.8494924014178\n",
      "8 478.907555334699\n",
      "9 430.9293125715537\n",
      "10 390.6911177866515\n"
     ]
    }
   ],
   "source": [
    "for i in range(2, 10 + 1):\n",
    "    km = KMeans().setK(i).setSeed(2)\n",
    "    model = km.fit(df)\n",
    "    print(i, model.computeCost(df))"
   ]
  },
  {
   "cell_type": "code",
   "execution_count": 27,
   "metadata": {},
   "outputs": [
    {
     "name": "stdout",
     "output_type": "stream",
     "text": [
      "2 786.8837213284758\n",
      "3 629.8876276372729\n",
      "4 566.9283039950677\n",
      "5 518.4964089818976\n",
      "6 480.9845333016365\n",
      "7 458.5278698446237\n",
      "8 438.5096785018395\n",
      "9 407.57614624010097\n",
      "10 381.34761579730394\n"
     ]
    }
   ],
   "source": [
    "for i in range(2, 10 + 1):\n",
    "    km = KMeans().setK(i).setSeed(5)\n",
    "    model = km.fit(df)\n",
    "    print(i, model.computeCost(df))"
   ]
  },
  {
   "cell_type": "code",
   "execution_count": null,
   "metadata": {},
   "outputs": [],
   "source": []
  }
 ],
 "metadata": {
  "kernelspec": {
   "display_name": "Python 3",
   "language": "python",
   "name": "python3"
  },
  "language_info": {
   "codemirror_mode": {
    "name": "ipython",
    "version": 3
   },
   "file_extension": ".py",
   "mimetype": "text/x-python",
   "name": "python",
   "nbconvert_exporter": "python",
   "pygments_lexer": "ipython3",
   "version": "3.6.4"
  }
 },
 "nbformat": 4,
 "nbformat_minor": 2
}
