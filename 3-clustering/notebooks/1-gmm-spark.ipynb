{
 "cells": [
  {
   "cell_type": "code",
   "execution_count": 1,
   "metadata": {},
   "outputs": [],
   "source": [
    "import os\n",
    "import sys\n",
    "import pandas\n",
    "import numpy\n",
    "\n",
    "import findspark\n",
    "findspark.init(\"/usr/local/spark/spark\")\n",
    "\n",
    "import pyspark\n",
    "from pyspark.sql.window import Window\n",
    "import pyspark.sql.functions as func\n",
    "\n",
    "from pyspark.rdd import reduce\n",
    "from pyspark.sql.types import DoubleType\n",
    "from pyspark.ml.feature import VectorAssembler\n",
    "from pyspark.ml.clustering import GaussianMixture, KMeansModel, KMeans\n",
    "from pyspark.ml.linalg import SparseVector, VectorUDT, Vector, Vectors"
   ]
  },
  {
   "cell_type": "code",
   "execution_count": 2,
   "metadata": {},
   "outputs": [],
   "source": [
    "from pyspark.sql.functions import udf, col, struct\n",
    "from pyspark.sql.types import ArrayType, DoubleType, StringType\n",
    "from pyspark.mllib.linalg.distributed import RowMatrix, DenseMatrix"
   ]
  },
  {
   "cell_type": "code",
   "execution_count": 5,
   "metadata": {},
   "outputs": [],
   "source": [
    "cluster_files =  \"/Users/simondi/PROJECTS/target_infect_x_project/src/tix-analysis/data/outlier-removal\""
   ]
  },
  {
   "cell_type": "code",
   "execution_count": 3,
   "metadata": {},
   "outputs": [],
   "source": [
    "conf = pyspark.SparkConf().setMaster(\"local[*]\").set(\"spark.driver.memory\", \"4G\").set(\"spark.executor.memory\", \"4G\")\n",
    "sc = pyspark.SparkContext(conf=conf)\n",
    "spark = pyspark.sql.SparkSession(sc)"
   ]
  },
  {
   "cell_type": "code",
   "execution_count": 4,
   "metadata": {},
   "outputs": [
    {
     "data": {
      "text/plain": [
       "'2.3.0'"
      ]
     },
     "execution_count": 4,
     "metadata": {},
     "output_type": "execute_result"
    }
   ],
   "source": [
    "spark.version"
   ]
  },
  {
   "cell_type": "code",
   "execution_count": 8,
   "metadata": {},
   "outputs": [],
   "source": [
    "from scipy.stats import multivariate_normal"
   ]
  },
  {
   "cell_type": "code",
   "execution_count": 28,
   "metadata": {},
   "outputs": [],
   "source": [
    "k = 15\n",
    "svd = multivariate_normal.rvs(mean=scipy.ones(k), size=1000)"
   ]
  },
  {
   "cell_type": "code",
   "execution_count": 29,
   "metadata": {},
   "outputs": [],
   "source": [
    "dff = map(lambda x: (int(x[0]), Vectors.dense(x[1:])), svd)\n",
    "df = spark.createDataFrame(dff, schema=[\"label\", \"features\"])"
   ]
  },
  {
   "cell_type": "code",
   "execution_count": 30,
   "metadata": {},
   "outputs": [
    {
     "data": {
      "text/plain": [
       "[Row(label=0, features=DenseVector([0.4278, -0.3326, -0.3999, 0.1951, 0.3811, 1.4089, 2.3809, 2.0592, -0.9867, 1.1771, 1.9071, 2.0989, -0.803, 2.8963]))]"
      ]
     },
     "execution_count": 30,
     "metadata": {},
     "output_type": "execute_result"
    }
   ],
   "source": [
    "df.take(1)"
   ]
  },
  {
   "cell_type": "code",
   "execution_count": 8,
   "metadata": {},
   "outputs": [],
   "source": [
    "#df = spark.read.parquet(cluster_files)"
   ]
  },
  {
   "cell_type": "code",
   "execution_count": null,
   "metadata": {},
   "outputs": [],
   "source": []
  },
  {
   "cell_type": "code",
   "execution_count": 31,
   "metadata": {},
   "outputs": [
    {
     "name": "stdout",
     "output_type": "stream",
     "text": [
      "2 -19816.073891894677\n",
      "3 -19682.772876083287\n",
      "4 -19498.082966786795\n",
      "5 -19443.46778128294\n",
      "6 -19303.165846228523\n",
      "7 -19249.610923261447\n",
      "8 -19124.65523571511\n",
      "9 -19013.29310991837\n",
      "10 -18827.701278437075\n"
     ]
    }
   ],
   "source": [
    "for i in range(2, 10 + 1):\n",
    "    km = GaussianMixture(tol=0.00001, maxIter=1000, k=i, seed=23)\n",
    "    model = km.fit(df)\n",
    "    print(i,model.summary.logLikelihood)"
   ]
  },
  {
   "cell_type": "code",
   "execution_count": 32,
   "metadata": {
    "scrolled": true
   },
   "outputs": [
    {
     "name": "stdout",
     "output_type": "stream",
     "text": [
      "2 -19808.771329181203\n",
      "3 -19690.176802673996\n",
      "4 -19529.340382725568\n",
      "5 -19436.789805891458\n",
      "6 -19287.601381893295\n",
      "7 -19138.61159520357\n",
      "8 -19091.268505196804\n",
      "9 -18948.655596724093\n",
      "10 -18862.27562835071\n"
     ]
    }
   ],
   "source": [
    "for i in range(2, 10 + 1):\n",
    "    km = GaussianMixture(tol=0.00001, maxIter=1000, k=i, seed=5)\n",
    "    model = km.fit(df)\n",
    "    print(i,model.summary.logLikelihood)"
   ]
  },
  {
   "cell_type": "code",
   "execution_count": 40,
   "metadata": {},
   "outputs": [
    {
     "name": "stdout",
     "output_type": "stream",
     "text": [
      "2 -19816.701476302806 0.005852937698364258\n",
      "3 -19709.27278902305 0.004249095916748047\n",
      "4 -19550.868034687748 0.004106998443603516\n",
      "5 -19475.526374945814 0.004667997360229492\n",
      "6 -19348.387133210228 0.0044231414794921875\n",
      "7 -19277.555667578006 0.00424504280090332\n",
      "8 -19146.82639203569 0.003815174102783203\n",
      "9 -19026.400889437427 0.00701904296875\n",
      "10 -18887.77810016395 0.004141092300415039\n"
     ]
    }
   ],
   "source": [
    "for i in range(2, 10 + 1):\n",
    "    time1 = time.time()\n",
    "    km = GaussianMixture().setK(i).setSeed(23)\n",
    "    time2 = time.time()\n",
    "    model = km.fit(df)\n",
    "    print(i,model.summary.logLikelihood,time2-time1)"
   ]
  },
  {
   "cell_type": "code",
   "execution_count": 35,
   "metadata": {},
   "outputs": [],
   "source": [
    "import time"
   ]
  },
  {
   "cell_type": "code",
   "execution_count": 39,
   "metadata": {},
   "outputs": [
    {
     "name": "stdout",
     "output_type": "stream",
     "text": [
      "2 13448.40277863639 0.01022481918334961\n",
      "3 12922.971721264897 0.00826406478881836\n",
      "4 12465.260625112052 0.006598234176635742\n",
      "5 12158.078162664491 0.008065223693847656\n",
      "6 11872.465213187645 0.006394863128662109\n",
      "7 11619.028960170446 0.05138707160949707\n",
      "8 11405.521654965158 0.009996891021728516\n",
      "9 11243.015674958395 0.0074541568756103516\n",
      "10 11021.385014091764 0.004087209701538086\n"
     ]
    }
   ],
   "source": [
    "for i in range(2, 10 + 1):\n",
    "    time1 = time.time()\n",
    "    km = KMeans().setK(i).setSeed(5)\n",
    "    time2 = time.time()\n",
    "    model = km.fit(df)\n",
    "    print(i, model.computeCost(df), time2-time1)"
   ]
  },
  {
   "cell_type": "code",
   "execution_count": 26,
   "metadata": {},
   "outputs": [
    {
     "name": "stdout",
     "output_type": "stream",
     "text": [
      "2 810.0128162664852\n",
      "3 676.9414245646284\n",
      "4 550.5300945156876\n",
      "5 516.2605188186652\n",
      "6 486.90125896082196\n",
      "7 492.8494924014178\n",
      "8 478.907555334699\n",
      "9 430.9293125715537\n",
      "10 390.6911177866515\n"
     ]
    }
   ],
   "source": [
    "for i in range(2, 10 + 1):\n",
    "    km = KMeans().setK(i).setSeed(2)\n",
    "    model = km.fit(df)\n",
    "    print(i, model.computeCost(df))"
   ]
  },
  {
   "cell_type": "code",
   "execution_count": 27,
   "metadata": {},
   "outputs": [
    {
     "name": "stdout",
     "output_type": "stream",
     "text": [
      "2 786.8837213284758\n",
      "3 629.8876276372729\n",
      "4 566.9283039950677\n",
      "5 518.4964089818976\n",
      "6 480.9845333016365\n",
      "7 458.5278698446237\n",
      "8 438.5096785018395\n",
      "9 407.57614624010097\n",
      "10 381.34761579730394\n"
     ]
    }
   ],
   "source": [
    "for i in range(2, 10 + 1):\n",
    "    km = KMeans().setK(i).setSeed(5)\n",
    "    model = km.fit(df)\n",
    "    print(i, model.computeCost(df))"
   ]
  },
  {
   "cell_type": "code",
   "execution_count": null,
   "metadata": {},
   "outputs": [],
   "source": []
  }
 ],
 "metadata": {
  "kernelspec": {
   "display_name": "Python 3",
   "language": "python",
   "name": "python3"
  },
  "language_info": {
   "codemirror_mode": {
    "name": "ipython",
    "version": 3
   },
   "file_extension": ".py",
   "mimetype": "text/x-python",
   "name": "python",
   "nbconvert_exporter": "python",
   "pygments_lexer": "ipython3",
   "version": "3.6.4"
  }
 },
 "nbformat": 4,
 "nbformat_minor": 2
}
