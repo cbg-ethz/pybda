{
 "cells": [
  {
   "cell_type": "code",
   "execution_count": 3,
   "metadata": {},
   "outputs": [
    {
     "name": "stderr",
     "output_type": "stream",
     "text": [
      "\n",
      "Attaching package: ‘dplyr’\n",
      "\n",
      "The following objects are masked from ‘package:stats’:\n",
      "\n",
      "    filter, lag\n",
      "\n",
      "The following objects are masked from ‘package:base’:\n",
      "\n",
      "    intersect, setdiff, setequal, union\n",
      "\n",
      "\n",
      "Attaching package: ‘data.table’\n",
      "\n",
      "The following objects are masked from ‘package:dplyr’:\n",
      "\n",
      "    between, first, last\n",
      "\n",
      "\n",
      "Attaching package: ‘ggplot2’\n",
      "\n",
      "The following object is masked from ‘package:dplyr’:\n",
      "\n",
      "    vars\n",
      "\n",
      "Loading required package: viridisLite\n",
      "\n",
      "Attaching package: ‘cowplot’\n",
      "\n",
      "The following object is masked from ‘package:ggplot2’:\n",
      "\n",
      "    ggsave\n",
      "\n"
     ]
    }
   ],
   "source": [
    "library(dplyr)\n",
    "library(dtplyr)\n",
    "library(tidyr)\n",
    "library(data.table)\n",
    "library(tibble)\n",
    "library(ggplot2)\n",
    "library(hrbrthemes)\n",
    "library(ggthemr)\n",
    "library(viridis)\n",
    "library(cowplot)\n"
   ]
  },
  {
   "cell_type": "code",
   "execution_count": 2,
   "metadata": {},
   "outputs": [],
   "source": [
    "fl = \"~/PROJECTS/target_infect_x_project/src/tix-analysis/data/kmeans-transformed-bic.tsv\""
   ]
  },
  {
   "cell_type": "code",
   "execution_count": 5,
   "metadata": {},
   "outputs": [
    {
     "name": "stderr",
     "output_type": "stream",
     "text": [
      "Parsed with column specification:\n",
      "cols(\n",
      "  index = col_integer(),\n",
      "  stat = col_double()\n",
      ")\n"
     ]
    }
   ],
   "source": [
    "fl <- readr::read_tsv(fl, col_names=TRUE)"
   ]
  },
  {
   "cell_type": "code",
   "execution_count": 6,
   "metadata": {},
   "outputs": [
    {
     "data": {
      "text/html": [
       "<table>\n",
       "<thead><tr><th scope=col>index</th><th scope=col>stat</th></tr></thead>\n",
       "<tbody>\n",
       "\t<tr><td>2       </td><td>958.3979</td></tr>\n",
       "\t<tr><td>5       </td><td>854.9609</td></tr>\n",
       "</tbody>\n",
       "</table>\n"
      ],
      "text/latex": [
       "\\begin{tabular}{r|ll}\n",
       " index & stat\\\\\n",
       "\\hline\n",
       "\t 2        & 958.3979\\\\\n",
       "\t 5        & 854.9609\\\\\n",
       "\\end{tabular}\n"
      ],
      "text/markdown": [
       "\n",
       "index | stat | \n",
       "|---|---|\n",
       "| 2        | 958.3979 | \n",
       "| 5        | 854.9609 | \n",
       "\n",
       "\n"
      ],
      "text/plain": [
       "  index stat    \n",
       "1 2     958.3979\n",
       "2 5     854.9609"
      ]
     },
     "metadata": {},
     "output_type": "display_data"
    }
   ],
   "source": [
    "fl"
   ]
  },
  {
   "cell_type": "code",
   "execution_count": 9,
   "metadata": {},
   "outputs": [
    {
     "data": {},
     "metadata": {},
     "output_type": "display_data"
    },
    {
     "data": {
      "image/png": "[encoded data removed]",
      "text/plain": [
       "plot without title"
      ]
     },
     "metadata": {},
     "output_type": "display_data"
    }
   ],
   "source": [
    "ggplot(fl, aes(x=index, y=stat)) +\n",
    "    geom_line(lwd=1, color=\"black\") +\n",
    "    geom_point(size=3, color=\"black\") +\n",
    "    #hrbrthemes::theme_ipsum_rc() +\n",
    "    scale_y_log10(breaks=scales::pretty_breaks(n=4)) +\n",
    "    scale_x_continuous(limits=c(0, 21000)) +\n",
    "    ylab(\"BIC\") + xlab(\"Cluster centers\") +\n",
    "    ggplot2::theme(axis.text.x  = ggplot2::element_text( size=18),\n",
    "                   axis.text.y  = ggplot2::element_text(size=18),\n",
    "                   axis.title.x   = ggplot2::element_text(size=20),\n",
    "                   axis.title.y   = ggplot2::element_text(size=20),\n",
    "                   panel.grid.major.x = element_line(colour = 'black', linetype = 'dotted'))"
   ]
  },
  {
   "cell_type": "code",
   "execution_count": null,
   "metadata": {},
   "outputs": [],
   "source": []
  }
 ],
 "metadata": {
  "kernelspec": {
   "display_name": "R",
   "language": "R",
   "name": "ir"
  },
  "language_info": {
   "codemirror_mode": "r",
   "file_extension": ".r",
   "mimetype": "text/x-r-source",
   "name": "R",
   "pygments_lexer": "r",
   "version": "3.5.0"
  }
 },
 "nbformat": 4,
 "nbformat_minor": 2
}
