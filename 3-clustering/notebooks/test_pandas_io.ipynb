{
 "cells": [
  {
   "cell_type": "code",
   "execution_count": 1,
   "metadata": {},
   "outputs": [],
   "source": [
    "import pandas"
   ]
  },
  {
   "cell_type": "code",
   "execution_count": 59,
   "metadata": {},
   "outputs": [],
   "source": [
    "import pathlib"
   ]
  },
  {
   "cell_type": "code",
   "execution_count": 5,
   "metadata": {},
   "outputs": [],
   "source": [
    "import numpy\n",
    "import glob"
   ]
  },
  {
   "cell_type": "code",
   "execution_count": 22,
   "metadata": {},
   "outputs": [],
   "source": [
    "fl = \"/Users/simondi/PROJECTS/target_infect_x_project/src/tix-analysis/data/kmeans-transformed-recursive-clusters-parquet//\""
   ]
  },
  {
   "cell_type": "code",
   "execution_count": 23,
   "metadata": {},
   "outputs": [],
   "source": [
    "files = [x for x in glob.glob(fl + \"*\") if x.endswith(\".csv\")]"
   ]
  },
  {
   "cell_type": "code",
   "execution_count": 24,
   "metadata": {},
   "outputs": [
    {
     "data": {
      "text/plain": [
       "['/Users/simondi/PROJECTS/target_infect_x_project/src/tix-analysis/data/kmeans-transformed-recursive-clusters-parquet/part-00005-b3b3403d-8398-45b2-bfad-f5d1e3f53877-c000.csv',\n",
       " '/Users/simondi/PROJECTS/target_infect_x_project/src/tix-analysis/data/kmeans-transformed-recursive-clusters-parquet/part-00004-b3b3403d-8398-45b2-bfad-f5d1e3f53877-c000.csv',\n",
       " '/Users/simondi/PROJECTS/target_infect_x_project/src/tix-analysis/data/kmeans-transformed-recursive-clusters-parquet/part-00008-b3b3403d-8398-45b2-bfad-f5d1e3f53877-c000.csv',\n",
       " '/Users/simondi/PROJECTS/target_infect_x_project/src/tix-analysis/data/kmeans-transformed-recursive-clusters-parquet/part-00007-b3b3403d-8398-45b2-bfad-f5d1e3f53877-c000.csv',\n",
       " '/Users/simondi/PROJECTS/target_infect_x_project/src/tix-analysis/data/kmeans-transformed-recursive-clusters-parquet/part-00006-b3b3403d-8398-45b2-bfad-f5d1e3f53877-c000.csv',\n",
       " '/Users/simondi/PROJECTS/target_infect_x_project/src/tix-analysis/data/kmeans-transformed-recursive-clusters-parquet/part-00001-b3b3403d-8398-45b2-bfad-f5d1e3f53877-c000.csv',\n",
       " '/Users/simondi/PROJECTS/target_infect_x_project/src/tix-analysis/data/kmeans-transformed-recursive-clusters-parquet/part-00000-b3b3403d-8398-45b2-bfad-f5d1e3f53877-c000.csv',\n",
       " '/Users/simondi/PROJECTS/target_infect_x_project/src/tix-analysis/data/kmeans-transformed-recursive-clusters-parquet/part-00003-b3b3403d-8398-45b2-bfad-f5d1e3f53877-c000.csv',\n",
       " '/Users/simondi/PROJECTS/target_infect_x_project/src/tix-analysis/data/kmeans-transformed-recursive-clusters-parquet/part-00002-b3b3403d-8398-45b2-bfad-f5d1e3f53877-c000.csv']"
      ]
     },
     "execution_count": 24,
     "metadata": {},
     "output_type": "execute_result"
    }
   ],
   "source": [
    "files"
   ]
  },
  {
   "cell_type": "code",
   "execution_count": 45,
   "metadata": {},
   "outputs": [
    {
     "data": {
      "text/plain": [
       "'/Users/simondi/PROJECTS/target_infect_x_project/src/tix-analysis/data/kmeans-transformed-recursive-clusters-parquet/part-00005-b3b3403d-8398-45b2-bfad-f5d1e3f53877-c000.csv'"
      ]
     },
     "execution_count": 45,
     "metadata": {},
     "output_type": "execute_result"
    }
   ],
   "source": [
    "files[0]"
   ]
  },
  {
   "cell_type": "code",
   "execution_count": 26,
   "metadata": {},
   "outputs": [],
   "source": [
    " df = pandas.read_csv(files[0], sep=\"\\t\", nrows=1000)"
   ]
  },
  {
   "cell_type": "code",
   "execution_count": 58,
   "metadata": {},
   "outputs": [
    {
     "data": {
      "text/html": [
       "<div>\n",
       "<style scoped>\n",
       "    .dataframe tbody tr th:only-of-type {\n",
       "        vertical-align: middle;\n",
       "    }\n",
       "\n",
       "    .dataframe tbody tr th {\n",
       "        vertical-align: top;\n",
       "    }\n",
       "\n",
       "    .dataframe thead th {\n",
       "        text-align: right;\n",
       "    }\n",
       "</style>\n",
       "<table border=\"1\" class=\"dataframe\">\n",
       "  <thead>\n",
       "    <tr style=\"text-align: right;\">\n",
       "      <th></th>\n",
       "      <th>study</th>\n",
       "      <th>pathogen</th>\n",
       "      <th>library</th>\n",
       "      <th>design</th>\n",
       "      <th>replicate</th>\n",
       "      <th>plate</th>\n",
       "      <th>well</th>\n",
       "      <th>gene</th>\n",
       "      <th>sirna</th>\n",
       "      <th>well_type</th>\n",
       "      <th>...</th>\n",
       "      <th>f_5</th>\n",
       "      <th>f_6</th>\n",
       "      <th>f_7</th>\n",
       "      <th>f_8</th>\n",
       "      <th>f_9</th>\n",
       "      <th>f_10</th>\n",
       "      <th>f_11</th>\n",
       "      <th>f_12</th>\n",
       "      <th>f_13</th>\n",
       "      <th>f_14</th>\n",
       "    </tr>\n",
       "  </thead>\n",
       "  <tbody>\n",
       "  </tbody>\n",
       "</table>\n",
       "<p>0 rows × 28 columns</p>\n",
       "</div>"
      ],
      "text/plain": [
       "Empty DataFrame\n",
       "Columns: [study, pathogen, library, design, replicate, plate, well, gene, sirna, well_type, image_idx, object_idx, prediction, f_0, f_1, f_2, f_3, f_4, f_5, f_6, f_7, f_8, f_9, f_10, f_11, f_12, f_13, f_14]\n",
       "Index: []\n",
       "\n",
       "[0 rows x 28 columns]"
      ]
     },
     "execution_count": 58,
     "metadata": {},
     "output_type": "execute_result"
    }
   ],
   "source": [
    "df[df.prediction == 1]"
   ]
  },
  {
   "cell_type": "code",
   "execution_count": 73,
   "metadata": {},
   "outputs": [
    {
     "name": "stdout",
     "output_type": "stream",
     "text": [
      "old\n",
      "old\n",
      "old\n",
      "old\n",
      "old\n",
      "old\n",
      "old\n",
      "old\n",
      "old\n"
     ]
    }
   ],
   "source": [
    "for fl in files:\n",
    "    df = pandas.read_csv(fl, sep=\"\\t\", nrows=1000)\n",
    "    for i in df[\"prediction\"].unique():\n",
    "        sub  = df[df.prediction == i]\n",
    "        out = fl + \"cluster_\" + str(i) + \".tsv\"\n",
    "        if not pathlib.Path(out).exists():\n",
    "            print(\"new\")\n",
    "            sub.to_csv(out, sep=\"\\t\", header=True, index=False)\n",
    "        else:\n",
    "            print(\"old\")\n",
    "            sub.to_csv(out, sep=\"\\t\", mode=\"a\", header=False, index=False)"
   ]
  },
  {
   "cell_type": "code",
   "execution_count": 16,
   "metadata": {},
   "outputs": [
    {
     "data": {
      "text/plain": [
       "[]"
      ]
     },
     "execution_count": 16,
     "metadata": {},
     "output_type": "execute_result"
    }
   ],
   "source": [
    "for f in files:\n",
    "    df = return pandas.read_csv(fl, sep=\"\\t\", nrows=1000,\n",
    "                           usecols=lambda x: x.startswith(\"f_\"))"
   ]
  },
  {
   "cell_type": "code",
   "execution_count": null,
   "metadata": {},
   "outputs": [],
   "source": []
  },
  {
   "cell_type": "code",
   "execution_count": null,
   "metadata": {},
   "outputs": [],
   "source": []
  }
 ],
 "metadata": {
  "kernelspec": {
   "display_name": "Python (ml)",
   "language": "python",
   "name": "ml"
  },
  "language_info": {
   "codemirror_mode": {
    "name": "ipython",
    "version": 3
   },
   "file_extension": ".py",
   "mimetype": "text/x-python",
   "name": "python",
   "nbconvert_exporter": "python",
   "pygments_lexer": "ipython3",
   "version": "3.6.5"
  }
 },
 "nbformat": 4,
 "nbformat_minor": 2
}
