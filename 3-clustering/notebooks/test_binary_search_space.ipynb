{
 "cells": [
  {
   "cell_type": "code",
   "execution_count": 1,
   "metadata": {},
   "outputs": [],
   "source": [
    "import os\n",
    "import sys\n",
    "import pandas\n",
    "import numpy\n",
    "\n",
    "import findspark\n",
    "findspark.init(\"/usr/local/spark/spark\")\n",
    "\n",
    "import pyspark\n",
    "from pyspark.sql.window import Window\n",
    "import pyspark.sql.functions as func\n",
    "\n",
    "from pyspark.rdd import reduce\n",
    "from pyspark.sql.types import DoubleType\n",
    "from pyspark.ml.feature import VectorAssembler\n",
    "from pyspark.ml.clustering import GaussianMixture, KMeansModel, KMeans\n",
    "from pyspark.ml.linalg import SparseVector, VectorUDT, Vector, Vectors"
   ]
  },
  {
   "cell_type": "code",
   "execution_count": 2,
   "metadata": {},
   "outputs": [],
   "source": [
    "from pyspark.sql.functions import udf, col, struct\n",
    "from pyspark.sql.types import ArrayType, DoubleType, StringType\n",
    "from pyspark.mllib.linalg.distributed import RowMatrix, DenseMatrix"
   ]
  },
  {
   "cell_type": "code",
   "execution_count": 3,
   "metadata": {},
   "outputs": [],
   "source": [
    "conf = pyspark.SparkConf().setMaster(\"local[*]\").set(\"spark.driver.memory\", \"4G\").set(\"spark.executor.memory\", \"4G\")\n",
    "sc = pyspark.SparkContext(conf=conf)\n",
    "spark = pyspark.sql.SparkSession(sc)"
   ]
  },
  {
   "cell_type": "code",
   "execution_count": 4,
   "metadata": {},
   "outputs": [],
   "source": [
    "cluster_files =  \"/Users/simondi/PROJECTS/target_infect_x_project/src/tix-analysis/data/outlier-removal\""
   ]
  },
  {
   "cell_type": "code",
   "execution_count": 33,
   "metadata": {},
   "outputs": [],
   "source": [
    "df = spark.read.parquet(cluster_files)"
   ]
  },
  {
   "cell_type": "code",
   "execution_count": 19,
   "metadata": {},
   "outputs": [],
   "source": [
    "n = df.count()\n",
    "p = len(df.select(\"features\").take(1)[0][0])"
   ]
  },
  {
   "cell_type": "code",
   "execution_count": 22,
   "metadata": {},
   "outputs": [],
   "source": [
    "import scipy\n",
    "from scipy import stats"
   ]
  },
  {
   "cell_type": "code",
   "execution_count": 14,
   "metadata": {},
   "outputs": [],
   "source": [
    "def n_param(k, p, n):\n",
    "    n_mean = k * p\n",
    "    n_var = k * p*(p + 1) / 2\n",
    "    n_mix = k - 1\n",
    "    return n_mean + n_var + n_mix"
   ]
  },
  {
   "cell_type": "code",
   "execution_count": 23,
   "metadata": {},
   "outputs": [],
   "source": [
    "m_max = GaussianMixture(k=50, seed=23).fit(df)\n",
    "n_par_k50 = n_param(50, p, n)"
   ]
  },
  {
   "cell_type": "code",
   "execution_count": 35,
   "metadata": {},
   "outputs": [],
   "source": [
    "p_vals = []"
   ]
  },
  {
   "cell_type": "code",
   "execution_count": 40,
   "metadata": {},
   "outputs": [
    {
     "name": "stdout",
     "output_type": "stream",
     "text": [
      "2 0.0 9752.082137066103 4660.878851065225 -215.16221746782648\n",
      "3 0.0 9598.132896988493 4660.878851065225 -138.18759742902137\n",
      "4 0.0 9245.63946074466 4660.878851065225 38.05912069289517\n",
      "5 0.0 8702.272638826007 4660.878851065225 309.7425316522213\n",
      "6 0.0 8679.253963897298 4660.878851065225 321.2518691165761\n",
      "7 0.0 10472.683401106478 4660.878851065225 -575.4628494880142\n",
      "8 0.0 10334.049124003232 4660.878851065225 -506.1457109363907\n",
      "9 0.0 10758.786732964702 4660.878851065225 -718.5145154171264\n",
      "10 nan 10633.886047374566 4660.878851065225 -656.0641726220582\n",
      "11 nan 11383.616124921653 4660.878851065225 -1030.929211395602\n",
      "12 nan 9791.135239570185 4660.878851065225 -234.6887687198678\n",
      "13 nan -1131.7343193595243 4660.878851065225 5226.746010744987\n",
      "14 nan 10193.354102886826 4660.878851065225 -435.7982003781883\n",
      "15 nan 85.56076537355875 4660.878851065225 4618.098468378445\n",
      "16 nan 11283.957620350597 4660.878851065225 -981.0999591100733\n",
      "17 nan 10801.039434503511 4660.878851065225 -739.6408661865306\n",
      "18 nan 1102.0457774107072 4660.878851065225 4109.855962359871\n",
      "19 nan -1215.724611862126 4660.878851065225 5268.741156996288\n",
      "20 nan 10929.044324313527 4660.878851065225 -803.643311091539\n"
     ]
    }
   ],
   "source": [
    "for i in range(2, 20 + 1):\n",
    "    km = GaussianMixture(k=i, seed=3)\n",
    "    model = km.fit(df)\n",
    "    t = 2 * (m_max.summary.logLikelihood - model.summary.logLikelihood)\n",
    "    d = n_par_k10 - n_param(i, p, n)\n",
    "    p_val = 1 - scipy.stats.chi2.cdf(t, df=d)\n",
    "    p_vals.append(p_val)\n",
    "    print(i, p_val, t, m_max.summary.logLikelihood, model.summary.logLikelihood)"
   ]
  },
  {
   "cell_type": "code",
   "execution_count": 209,
   "metadata": {},
   "outputs": [],
   "source": [
    "def split_features(data):\n",
    "    def to_array(col):\n",
    "        def to_array_(v):\n",
    "            return v.toArray().tolist()\n",
    "\n",
    "        return udf(to_array_, ArrayType(DoubleType()))(col)\n",
    "\n",
    "    len_vec = len(data.select(\"features\").take(1)[0][0])\n",
    "    data = (data.withColumn(\"f\", to_array(col(\"features\")))\n",
    "            .select([\"prediction\"]+  [col(\"f\")[i] for i in range(len_vec)]))\n",
    "\n",
    "    for i, x in enumerate(data.columns):\n",
    "        if x.startswith(\"f[\"):\n",
    "            data = data.withColumnRenamed(\n",
    "                x, x.replace(\"[\", \"_\").replace(\"]\", \"\"))\n",
    "\n",
    "    return data"
   ]
  },
  {
   "cell_type": "code",
   "execution_count": 211,
   "metadata": {},
   "outputs": [],
   "source": [
    "K = 5\n",
    "gm_k = KMeans(k=K, seed=23).fit(df)\n",
    "df = gm_k.transform(df)"
   ]
  },
  {
   "cell_type": "code",
   "execution_count": 212,
   "metadata": {},
   "outputs": [],
   "source": [
    "d_k = split_features(df)"
   ]
  },
  {
   "cell_type": "code",
   "execution_count": 213,
   "metadata": {},
   "outputs": [
    {
     "data": {
      "text/plain": [
       "[Row(prediction=3, f_0=0.983076443174413, f_1=0.40052619964395375, f_2=0.059322697068162594, f_3=0.8912970547151504, f_4=0.6459296915260802, f_5=-1.6407744126709187, f_6=0.0779898194213411, f_7=0.6963730444812934, f_8=0.20419738806418344, f_9=-0.6405384795826222, f_10=-1.2687766832708212, f_11=-0.5029967514166027, f_12=0.4632598970025907, f_13=-1.3307274422272615, f_14=-0.44745668769115393)]"
      ]
     },
     "execution_count": 213,
     "metadata": {},
     "output_type": "execute_result"
    }
   ],
   "source": [
    "d_k.take(1)"
   ]
  },
  {
   "cell_type": "code",
   "execution_count": 248,
   "metadata": {},
   "outputs": [],
   "source": [
    "from scipy.spatial import distance"
   ]
  },
  {
   "cell_type": "code",
   "execution_count": 236,
   "metadata": {},
   "outputs": [
    {
     "data": {
      "text/plain": [
       "0.986145035240654"
      ]
     },
     "execution_count": 236,
     "metadata": {},
     "output_type": "execute_result"
    }
   ],
   "source": [
    "d_k_p.values.var()"
   ]
  },
  {
   "cell_type": "code",
   "execution_count": 257,
   "metadata": {},
   "outputs": [
    {
     "data": {
      "text/plain": [
       "array([ 55.4781129])"
      ]
     },
     "execution_count": 257,
     "metadata": {},
     "output_type": "execute_result"
    }
   ],
   "source": [
    "cvar = sum(distance.cdist(d_k_p, [means], \"sqeuclidean\")) / \n",
    "cvar"
   ]
  },
  {
   "cell_type": "code",
   "execution_count": null,
   "metadata": {},
   "outputs": [],
   "source": []
  },
  {
   "cell_type": "code",
   "execution_count": 274,
   "metadata": {},
   "outputs": [],
   "source": [
    "total_var = 0\n",
    "for i in range(K):\n",
    "    d_k_c = d_k.filter(\"prediction==\" + str(i)).drop(\"prediction\")\n",
    "    rdd = d_k_c.rdd.map(list)\n",
    "    means = gm_k.clusterCenters()[i]\n",
    "    var = (RowMatrix(rdd).rows\n",
    "               .map(lambda x: (x - means))\n",
    "               .map(lambda x: x.T.dot(x))\n",
    "               .reduce(lambda x, y: x + y))\n",
    "    total_var += var\n",
    "total_var /= (d_k.count() - K)"
   ]
  },
  {
   "cell_type": "code",
   "execution_count": 275,
   "metadata": {},
   "outputs": [
    {
     "data": {
      "text/plain": [
       "5.7776826435575863"
      ]
     },
     "execution_count": 275,
     "metadata": {},
     "output_type": "execute_result"
    }
   ],
   "source": [
    "ll =  0\n",
    "for i in range(K):\n",
    "    ll += "
   ]
  },
  {
   "cell_type": "code",
   "execution_count": 55,
   "metadata": {},
   "outputs": [],
   "source": [
    "data = split_features(df)"
   ]
  },
  {
   "cell_type": "code",
   "execution_count": 57,
   "metadata": {},
   "outputs": [],
   "source": [
    "data = data.toPandas().values"
   ]
  },
  {
   "cell_type": "code",
   "execution_count": 41,
   "metadata": {},
   "outputs": [],
   "source": [
    "import sklearn.mixturea"
   ]
  },
  {
   "cell_type": "code",
   "execution_count": 197,
   "metadata": {},
   "outputs": [
    {
     "data": {
      "text/plain": [
       "94"
      ]
     },
     "execution_count": 197,
     "metadata": {},
     "output_type": "execute_result"
    }
   ],
   "source": [
    "df2 = split_features(df)\n",
    "df2.count()"
   ]
  },
  {
   "cell_type": "code",
   "execution_count": 198,
   "metadata": {},
   "outputs": [
    {
     "data": {
      "text/plain": [
       "[Row(f_0=0.983076443174413, f_1=0.40052619964395375, f_2=0.059322697068162594, f_3=0.8912970547151504, f_4=0.6459296915260802, f_5=-1.6407744126709187, f_6=0.0779898194213411, f_7=0.6963730444812934, f_8=0.20419738806418344, f_9=-0.6405384795826222, f_10=-1.2687766832708212, f_11=-0.5029967514166027, f_12=0.4632598970025907, f_13=-1.3307274422272615, f_14=-0.44745668769115393)]"
      ]
     },
     "execution_count": 198,
     "metadata": {},
     "output_type": "execute_result"
    }
   ],
   "source": [
    "df2.take(1)"
   ]
  },
  {
   "cell_type": "code",
   "execution_count": 155,
   "metadata": {},
   "outputs": [],
   "source": [
    "from pyspark.mllib.stat import Statistics"
   ]
  },
  {
   "cell_type": "code",
   "execution_count": 199,
   "metadata": {},
   "outputs": [],
   "source": [
    "rdd = df2.rdd.map(list)\n",
    "means = Statistics.colStats(rdd).mean()\n",
    "X = RowMatrix(rdd).rows.map(lambda x: (x - means))"
   ]
  },
  {
   "cell_type": "code",
   "execution_count": 225,
   "metadata": {},
   "outputs": [],
   "source": [
    "X = RowMatrix(X).rows.map(lambda x: x.T.dot(x)).reduce(lambda x, y: x + y)"
   ]
  },
  {
   "cell_type": "code",
   "execution_count": 203,
   "metadata": {},
   "outputs": [
    {
     "data": {
      "text/plain": [
       "DenseVector([0.7589, 1.2618, 0.2354, 0.5254, 0.6426, 0.8631, 0.0176, 1.3929, 0.4221, 1.1192, 0.962, 0.5552, 0.5694, 1.1023, 0.6413])"
      ]
     },
     "execution_count": 203,
     "metadata": {},
     "output_type": "execute_result"
    }
   ],
   "source": [
    "1 / df2.count()  * X"
   ]
  },
  {
   "cell_type": "code",
   "execution_count": 204,
   "metadata": {},
   "outputs": [
    {
     "data": {
      "text/plain": [
       "array([ 0.75889718,  1.26182452,  0.23535596,  0.52543821,  0.64257824,\n",
       "        0.86314728,  0.017615  ,  1.39287155,  0.42214697,  1.11919899,\n",
       "        0.96200105,  0.55520918,  0.56942264,  1.10234209,  0.64131112])"
      ]
     },
     "execution_count": 204,
     "metadata": {},
     "output_type": "execute_result"
    }
   ],
   "source": [
    "data.var(axis=0)"
   ]
  },
  {
   "cell_type": "code",
   "execution_count": null,
   "metadata": {},
   "outputs": [],
   "source": []
  },
  {
   "cell_type": "code",
   "execution_count": null,
   "metadata": {},
   "outputs": [],
   "source": []
  },
  {
   "cell_type": "code",
   "execution_count": null,
   "metadata": {},
   "outputs": [],
   "source": []
  },
  {
   "cell_type": "code",
   "execution_count": null,
   "metadata": {},
   "outputs": [],
   "source": []
  },
  {
   "cell_type": "code",
   "execution_count": null,
   "metadata": {},
   "outputs": [],
   "source": [
    "spark.stop()"
   ]
  }
 ],
 "metadata": {
  "kernelspec": {
   "display_name": "Python 3",
   "language": "python",
   "name": "python3"
  },
  "language_info": {
   "codemirror_mode": {
    "name": "ipython",
    "version": 3
   },
   "file_extension": ".py",
   "mimetype": "text/x-python",
   "name": "python",
   "nbconvert_exporter": "python",
   "pygments_lexer": "ipython3",
   "version": "3.6.4"
  }
 },
 "nbformat": 4,
 "nbformat_minor": 2
}
