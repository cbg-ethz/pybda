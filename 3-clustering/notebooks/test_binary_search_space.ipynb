{
 "cells": [
  {
   "cell_type": "code",
   "execution_count": 1,
   "metadata": {},
   "outputs": [],
   "source": [
    "import os\n",
    "import sys\n",
    "import pandas\n",
    "import numpy\n",
    "\n",
    "import findspark\n",
    "findspark.init(\"/usr/local/spark/spark\")\n",
    "\n",
    "import pyspark\n",
    "from pyspark.sql.window import Window\n",
    "import pyspark.sql.functions as func\n",
    "\n",
    "from pyspark.rdd import reduce\n",
    "from pyspark.sql.types import DoubleType\n",
    "from pyspark.ml.feature import VectorAssembler\n",
    "from pyspark.ml.clustering import GaussianMixture, KMeansModel, KMeans\n",
    "from pyspark.ml.linalg import SparseVector, VectorUDT, Vector, Vectors"
   ]
  },
  {
   "cell_type": "code",
   "execution_count": 2,
   "metadata": {},
   "outputs": [],
   "source": [
    "from pyspark.sql.functions import udf, col, struct\n",
    "from pyspark.sql.types import ArrayType, DoubleType, StringType\n",
    "from pyspark.mllib.linalg.distributed import RowMatrix, DenseMatrix"
   ]
  },
  {
   "cell_type": "code",
   "execution_count": 3,
   "metadata": {},
   "outputs": [],
   "source": [
    "conf = pyspark.SparkConf().setMaster(\"local[*]\").set(\"spark.driver.memory\", \"4G\").set(\"spark.executor.memory\", \"4G\")\n",
    "sc = pyspark.SparkContext(conf=conf)\n",
    "spark = pyspark.sql.SparkSession(sc)"
   ]
  },
  {
   "cell_type": "code",
   "execution_count": 4,
   "metadata": {},
   "outputs": [],
   "source": [
    "cluster_files =  \"/Users/simondi/PROJECTS/target_infect_x_project/src/tix-analysis/data/outlier-removal\""
   ]
  },
  {
   "cell_type": "code",
   "execution_count": 258,
   "metadata": {},
   "outputs": [],
   "source": [
    "df = spark.read.parquet(cluster_files)"
   ]
  },
  {
   "cell_type": "code",
   "execution_count": 259,
   "metadata": {},
   "outputs": [],
   "source": [
    "def n_param_gmm(k, p, n):\n",
    "    n_mean = k * p\n",
    "    n_var = k * p*(p + 1) / 2\n",
    "    n_mix = k - 1\n",
    "    return n_mean + n_var + n_mix"
   ]
  },
  {
   "cell_type": "code",
   "execution_count": 260,
   "metadata": {},
   "outputs": [],
   "source": [
    "def split_features(data):\n",
    "    def to_array(col):\n",
    "        def to_array_(v):\n",
    "            return v.toArray().tolist()\n",
    "\n",
    "        return udf(to_array_, ArrayType(DoubleType()))(col)\n",
    "\n",
    "    len_vec = len(data.select(\"features\").take(1)[0][0])\n",
    "    data = (data.withColumn(\"f\", to_array(col(\"features\")))\n",
    "            .select([\"prediction\"]+  [col(\"f\")[i] for i in range(len_vec)]))\n",
    "\n",
    "    for i, x in enumerate(data.columns):\n",
    "        if x.startswith(\"f[\"):\n",
    "            data = data.withColumnRenamed(\n",
    "                x, x.replace(\"[\", \"_\").replace(\"]\", \"\"))\n",
    "\n",
    "    return data"
   ]
  },
  {
   "cell_type": "code",
   "execution_count": 261,
   "metadata": {},
   "outputs": [],
   "source": [
    "def n_param_kmm(k, p):\n",
    "    n_mean = k * p\n",
    "    n_var = 1\n",
    "    return n_mean + v_var"
   ]
  },
  {
   "cell_type": "code",
   "execution_count": 273,
   "metadata": {},
   "outputs": [],
   "source": [
    "n = d_k.count()\n",
    "p = len(d_k.take(1)[0]) - 1"
   ]
  },
  {
   "cell_type": "code",
   "execution_count": 275,
   "metadata": {},
   "outputs": [],
   "source": [
    "max_k_model = KMeans(k=10, seed=1).fit(df)\n",
    "transformed_data = split_features(max_k_model.transform(df))"
   ]
  },
  {
   "cell_type": "code",
   "execution_count": 293,
   "metadata": {},
   "outputs": [],
   "source": [
    "def compute_variance(K, data, model, p):\n",
    "    total_var = 0\n",
    "    ni = scipy.zeros(K)\n",
    "    p = len(data.take(1)[0]) - 1\n",
    "\n",
    "    for i in range(K):\n",
    "        data_cluster = data.filter(\"prediction==\" + str(i)).drop(\"prediction\")\n",
    "        ni[i] =  data_cluster.count()\n",
    "        rdd = data_cluster.rdd.map(list)\n",
    "        means = model.clusterCenters()[i]\n",
    "        var = (RowMatrix(rdd).rows\n",
    "                   .map(lambda x: (x - means).T.dot(x - means))\n",
    "                   .reduce(lambda x, y: x + y))\n",
    "        total_var += var\n",
    "    total_var /= ((data.count() - K) * p)\n",
    "\n",
    "    return total_var, ni"
   ]
  },
  {
   "cell_type": "code",
   "execution_count": 294,
   "metadata": {},
   "outputs": [],
   "source": [
    "max_k_var, ni = compute_variance(K, transformed_data, max_k_model, p)"
   ]
  },
  {
   "cell_type": "code",
   "execution_count": 295,
   "metadata": {},
   "outputs": [],
   "source": [
    "def loglik(data, K, n, model):\n",
    "    p = len(data.take(1)[0]) - 1\n",
    "    total_var, ni = compute_variance(K, data, model, p)\n",
    "    ll = 0\n",
    "    \n",
    "    for i in range(K):\n",
    "        l = ni[i] * scipy.log(ni[i])\n",
    "        l -= ni[i] * scipy.log(n) \n",
    "        l -= .5 * ni[i] * p * scipy.log(2 * scipy.pi * total_var) \n",
    "        l -= .5 * (ni[i] - 1) * p\n",
    "        ll += l\n",
    "    ll -= .5 * scipy.log(n) * (p + 1) * K\n",
    "    \n",
    "    return ll"
   ]
  },
  {
   "cell_type": "code",
   "execution_count": 292,
   "metadata": {},
   "outputs": [
    {
     "name": "stdout",
     "output_type": "stream",
     "text": [
      "P 15\n"
     ]
    }
   ],
   "source": [
    "max_loglik = loglik(transformed_data, 10, n, max_k_model)"
   ]
  },
  {
   "cell_type": "code",
   "execution_count": 272,
   "metadata": {},
   "outputs": [],
   "source": [
    "def lrt(max_loglik, loglik, max_params, params):\n",
    "    t = 2 * (max_loglik - loglik)\n",
    "    df = max_params - params    \n",
    "    p_val = 1 - scipy.stats.chi2.cdf(t, df=df)\n",
    "    print(max_loglik, loglik, t, df, p_val)\n",
    "    return p_val"
   ]
  },
  {
   "cell_type": "code",
   "execution_count": 157,
   "metadata": {},
   "outputs": [
    {
     "name": "stdout",
     "output_type": "stream",
     "text": [
      "0 22 45 0.175\n",
      "22 33 45 0.0583157894737\n",
      "33 39 45 0.0270526315789\n",
      "33 36 39 0.0426842105263\n",
      "33 34 36 0.0531052631579\n",
      "34 35 36 0.0478947368421\n",
      "34 34 35 0.0531052631579\n",
      "35 0.0478947368421\n",
      "0 17 35 0.071125\n",
      "17 26 35 0.034\n",
      "17 21 26 0.054625\n",
      "21 23 26 0.046375\n",
      "21 22 23 0.0505\n",
      "22 22 23 0.0505\n",
      "23 0.046375\n"
     ]
    }
   ],
   "source": [
    "def bs(arr, p):\n",
    "    lefts, rights, mids = [], [], []\n",
    "    left, right = 0, len(arr)\n",
    "    mid = int((left + right) / 2)\n",
    "    \n",
    "    while True:\n",
    "        mids.append(mid)\n",
    "        lefts.append(left)\n",
    "        rights.append(right)\n",
    "        print(left, mid, right, arr[mid])\n",
    "        if arr[mid] < p:\n",
    "            mid, right= int((left + mid) / 2), mid\n",
    "        elif arr[mid] > p:\n",
    "            mid, left = int((right + mid) / 2), mid\n",
    "        if left == lefts[-1] and right == rights[-1]:\n",
    "            break\n",
    "    return right\n",
    "\n",
    "i = bs(li, .05)\n",
    "print(i, li[i])\n",
    "\n",
    "i = bs(li2, .05)\n",
    "print(i, li2[i])"
   ]
  },
  {
   "cell_type": "code",
   "execution_count": null,
   "metadata": {},
   "outputs": [],
   "source": []
  }
 ],
 "metadata": {
  "kernelspec": {
   "display_name": "Python 3",
   "language": "python",
   "name": "python3"
  },
  "language_info": {
   "codemirror_mode": {
    "name": "ipython",
    "version": 3
   },
   "file_extension": ".py",
   "mimetype": "text/x-python",
   "name": "python",
   "nbconvert_exporter": "python",
   "pygments_lexer": "ipython3",
   "version": "3.6.4"
  }
 },
 "nbformat": 4,
 "nbformat_minor": 2
}
