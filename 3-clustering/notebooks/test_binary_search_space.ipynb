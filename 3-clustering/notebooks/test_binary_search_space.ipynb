{
 "cells": [
  {
   "cell_type": "code",
   "execution_count": 1,
   "metadata": {},
   "outputs": [],
   "source": [
    "import os\n",
    "import sys\n",
    "import pandas\n",
    "import numpy\n",
    "\n",
    "import findspark\n",
    "findspark.init(\"/usr/local/spark/spark\")\n",
    "\n",
    "import pyspark\n",
    "from pyspark.sql.window import Window\n",
    "import pyspark.sql.functions as func\n",
    "\n",
    "from pyspark.rdd import reduce\n",
    "from pyspark.sql.types import DoubleType\n",
    "from pyspark.ml.feature import VectorAssembler\n",
    "from pyspark.ml.clustering import GaussianMixture, KMeansModel, KMeans\n",
    "from pyspark.ml.linalg import SparseVector, VectorUDT, Vector, Vectors"
   ]
  },
  {
   "cell_type": "code",
   "execution_count": 2,
   "metadata": {},
   "outputs": [],
   "source": [
    "from pyspark.sql.functions import udf, col, struct\n",
    "from pyspark.sql.types import ArrayType, DoubleType, StringType\n",
    "from pyspark.mllib.linalg.distributed import RowMatrix, DenseMatrix"
   ]
  },
  {
   "cell_type": "code",
   "execution_count": 3,
   "metadata": {},
   "outputs": [],
   "source": [
    "conf = pyspark.SparkConf().setMaster(\"local[*]\").set(\"spark.driver.memory\", \"4G\").set(\"spark.executor.memory\", \"4G\")\n",
    "sc = pyspark.SparkContext(conf=conf)\n",
    "spark = pyspark.sql.SparkSession(sc)"
   ]
  },
  {
   "cell_type": "code",
   "execution_count": 4,
   "metadata": {},
   "outputs": [],
   "source": [
    "cluster_files =  \"/Users/simondi/PROJECTS/target_infect_x_project/src/tix-analysis/data/outlier-removal\""
   ]
  },
  {
   "cell_type": "code",
   "execution_count": 258,
   "metadata": {},
   "outputs": [],
   "source": [
    "df = spark.read.parquet(cluster_files)"
   ]
  },
  {
   "cell_type": "code",
   "execution_count": 259,
   "metadata": {},
   "outputs": [],
   "source": [
    "def n_param_gmm(k, p, n):\n",
    "    n_mean = k * p\n",
    "    n_var = k * p*(p + 1) / 2\n",
    "    n_mix = k - 1\n",
    "    return n_mean + n_var + n_mix"
   ]
  },
  {
   "cell_type": "code",
   "execution_count": 260,
   "metadata": {},
   "outputs": [],
   "source": [
    "def split_features(data):\n",
    "    def to_array(col):\n",
    "        def to_array_(v):\n",
    "            return v.toArray().tolist()\n",
    "\n",
    "        return udf(to_array_, ArrayType(DoubleType()))(col)\n",
    "\n",
    "    len_vec = len(data.select(\"features\").take(1)[0][0])\n",
    "    data = (data.withColumn(\"f\", to_array(col(\"features\")))\n",
    "            .select([\"prediction\"]+  [col(\"f\")[i] for i in range(len_vec)]))\n",
    "\n",
    "    for i, x in enumerate(data.columns):\n",
    "        if x.startswith(\"f[\"):\n",
    "            data = data.withColumnRenamed(\n",
    "                x, x.replace(\"[\", \"_\").replace(\"]\", \"\"))\n",
    "\n",
    "    return data"
   ]
  },
  {
   "cell_type": "code",
   "execution_count": 303,
   "metadata": {},
   "outputs": [],
   "source": [
    "def n_param_kmm(k, p):\n",
    "    n_mean = k * p\n",
    "    n_var = 1\n",
    "    return n_mean + n_var"
   ]
  },
  {
   "cell_type": "code",
   "execution_count": 273,
   "metadata": {},
   "outputs": [],
   "source": [
    "n = d_k.count()\n",
    "p = len(d_k.take(1)[0]) - 1"
   ]
  },
  {
   "cell_type": "code",
   "execution_count": 307,
   "metadata": {},
   "outputs": [],
   "source": [
    "max_k_model = KMeans(k=50, seed=1).fit(df)\n",
    "transformed_data = split_features(max_k_model.transform(df))"
   ]
  },
  {
   "cell_type": "code",
   "execution_count": 308,
   "metadata": {},
   "outputs": [
    {
     "data": {
      "text/plain": [
       "[Row(prediction=13, f_0=0.983076443174413, f_1=0.40052619964395375, f_2=0.059322697068162594, f_3=0.8912970547151504, f_4=0.6459296915260802, f_5=-1.6407744126709187, f_6=0.0779898194213411, f_7=0.6963730444812934, f_8=0.20419738806418344, f_9=-0.6405384795826222, f_10=-1.2687766832708212, f_11=-0.5029967514166027, f_12=0.4632598970025907, f_13=-1.3307274422272615, f_14=-0.44745668769115393)]"
      ]
     },
     "execution_count": 308,
     "metadata": {},
     "output_type": "execute_result"
    }
   ],
   "source": [
    "transformed_data.take(1)"
   ]
  },
  {
   "cell_type": "code",
   "execution_count": 293,
   "metadata": {},
   "outputs": [],
   "source": [
    "def compute_variance(K, data, model, p):\n",
    "    total_var = 0\n",
    "    ni = scipy.zeros(K)\n",
    "    p = len(data.take(1)[0]) - 1\n",
    "\n",
    "    for i in range(K):\n",
    "        data_cluster = data.filter(\"prediction==\" + str(i)).drop(\"prediction\")\n",
    "        ni[i] =  data_cluster.count()\n",
    "        rdd = data_cluster.rdd.map(list)\n",
    "        means = model.clusterCenters()[i]\n",
    "        var = (RowMatrix(rdd).rows\n",
    "                   .map(lambda x: (x - means).T.dot(x - means))\n",
    "                   .reduce(lambda x, y: x + y))\n",
    "        total_var += var\n",
    "    total_var /= ((data.count() - K) * p)\n",
    "\n",
    "    return total_var, ni"
   ]
  },
  {
   "cell_type": "code",
   "execution_count": 310,
   "metadata": {},
   "outputs": [
    {
     "data": {
      "text/plain": [
       "(0.17133309276888586,\n",
       " array([ 2.,  1.,  1.,  7.,  4.,  1.,  1.,  1.,  1.,  3.,  1.,  3.,  1.,\n",
       "         1.,  1.,  2.,  3.,  1.,  1.,  2.,  3.,  2.,  1.,  2.,  1.,  2.,\n",
       "         1.,  1.,  2.,  1.,  2.,  1.,  2.,  5.,  1.,  3.,  4.,  2.,  2.,\n",
       "         1.,  1.,  2.,  1.,  1.,  2.,  1.,  3.,  3.,  2.,  1.]))"
      ]
     },
     "execution_count": 310,
     "metadata": {},
     "output_type": "execute_result"
    }
   ],
   "source": [
    "compute_variance(50, transformed_data, max_k_model, p)"
   ]
  },
  {
   "cell_type": "code",
   "execution_count": 316,
   "metadata": {},
   "outputs": [],
   "source": [
    "def loglik(data, K, model):\n",
    "    n = data.count()\n",
    "    p = len(data.take(1)[0]) - 1\n",
    "    total_var, ni = compute_variance(K, data, model, p)\n",
    "    ll = 0\n",
    "    \n",
    "    for i in range(K):\n",
    "        l = ni[i] * scipy.log(ni[i])\n",
    "        l -= ni[i] * scipy.log(n) \n",
    "        l -= .5 * ni[i] * p * scipy.log(2 * scipy.pi * total_var) \n",
    "        l -= .5 * (ni[i] - 1) * p\n",
    "        ll += l\n",
    "    bic = ll - .5 * scipy.log(n) * (p + 1) * K\n",
    "    \n",
    "    return ll, bic, total_var, ni"
   ]
  },
  {
   "cell_type": "code",
   "execution_count": 292,
   "metadata": {},
   "outputs": [
    {
     "name": "stdout",
     "output_type": "stream",
     "text": [
      "P 15\n"
     ]
    }
   ],
   "source": [
    "max_loglik = loglik(transformed_data, 10, n, max_k_model)"
   ]
  },
  {
   "cell_type": "code",
   "execution_count": 356,
   "metadata": {},
   "outputs": [],
   "source": [
    "def lrt(max_loglik, loglik, max_params, params):\n",
    "    t = 2 * (max_loglik - loglik)\n",
    "    df = max_params - params    \n",
    "    if df == 0:\n",
    "        return 1\n",
    "    p_val = 1 - scipy.stats.chi2.cdf(t, df=df)\n",
    "    return p_val"
   ]
  },
  {
   "cell_type": "code",
   "execution_count": 326,
   "metadata": {},
   "outputs": [],
   "source": [
    "def get_model(k, data):\n",
    "    mod = KMeans(k=k, seed=23).fit(data)\n",
    "    transformed_data = split_features(mod.transform(data))\n",
    "    ll, bic, var, ni = loglik(transformed_data, k, mod)\n",
    "    n_params = n_param_kmm(k, p)\n",
    "    return (ll, bic, var, ni, n_params)"
   ]
  },
  {
   "cell_type": "code",
   "execution_count": 360,
   "metadata": {},
   "outputs": [
    {
     "name": "stdout",
     "output_type": "stream",
     "text": [
      "2 -982.280166978 -1683.95070031 451 31 0.0\n",
      "3 -982.280166978 -1543.70976091 451 46 0.0\n",
      "4 -982.280166978 -1478.75699244 451 61 0.0\n",
      "5 -982.280166978 -1437.0254444 451 76 0.0\n",
      "6 -982.280166978 -1414.98059385 451 91 0.0\n",
      "7 -982.280166978 -1390.12382265 451 106 0.0\n",
      "8 -982.280166978 -1359.26309058 451 121 0.0\n",
      "9 -982.280166978 -1334.94689332 451 136 0.0\n",
      "10 -982.280166978 -1302.32049625 451 151 0.0\n",
      "11 -982.280166978 -1269.4160301 451 166 0.0\n",
      "12 -982.280166978 -1258.85717206 451 181 0.0\n",
      "13 -982.280166978 -1234.42234948 451 196 0.0\n",
      "14 -982.280166978 -1202.19684998 451 211 6.41708908233e-14\n",
      "15 -982.280166978 -1208.42803672 451 226 0.0\n",
      "16 -982.280166978 -1211.75472954 451 241 0.0\n",
      "17 -982.280166978 -1154.21972143 451 256 2.5294932815e-10\n",
      "18 -982.280166978 -1180.1557268 451 271 0.0\n",
      "19 -982.280166978 -1115.92464953 451 286 7.96985200058e-07\n",
      "20 -982.280166978 -1096.67007164 451 301 3.60716691906e-05\n",
      "21 -982.280166978 -1134.87842255 451 316 3.44169137634e-15\n",
      "22 -982.280166978 -1083.12357993 451 331 4.43004821038e-06\n",
      "23 -982.280166978 -1113.4627652 451 346 1.88737914186e-15\n",
      "24 -982.280166978 -1041.3099272 451 361 0.0252792674286\n",
      "25 -982.280166978 -1030.89797998 451 376 0.0431592051202\n",
      "26 -982.280166978 -1034.77334483 451 391 0.00029440380176\n",
      "27 -982.280166978 -1010.68615375 451 406 0.111380825565\n",
      "28 -982.280166978 -975.854110772 451 421 1.0\n",
      "29 -982.280166978 -956.493007369 451 436 1.0\n",
      "30 -982.280166978 -982.280166978 451 451 1\n"
     ]
    }
   ],
   "source": [
    "Kmod = get_model(30, df)\n",
    "for i in range(2, 30 + 1):\n",
    "    smmod = get_model(i, df)\n",
    "    l_rt = lrt(Kmod[0], smmod[0], Kmod[-1], smmod[-1])\n",
    "    print(i, Kmod[0], smmod[0], Kmod[-1], smmod[-1], l_rt)"
   ]
  },
  {
   "cell_type": "code",
   "execution_count": 358,
   "metadata": {},
   "outputs": [
    {
     "name": "stdout",
     "output_type": "stream",
     "text": [
      "16 30 -982.280166978 -1211.75472954 451 241 0.0\n",
      "23 30 -982.280166978 -1113.4627652 451 346 1.88737914186e-15\n",
      "26 30 -982.280166978 -1034.77334483 451 391 0.00029440380176\n",
      "28 30 -982.280166978 -975.854110772 451 421 1.0\n",
      "27 28 -982.280166978 -1010.68615375 451 406 0.111380825565\n",
      "26 27 -982.280166978 -1034.77334483 451 391 0.00029440380176\n"
     ]
    }
   ],
   "source": [
    "def bs(p):\n",
    "    lefts, rights, mids = [], [], []\n",
    "    left, right = 2, 30\n",
    "    mid = int((left + right) / 2)\n",
    "    lrts = []\n",
    "    \n",
    "    K_model = get_model(right, df)\n",
    "    while True:\n",
    "        mids.append(mid)\n",
    "        lefts.append(left)\n",
    "        rights.append(right)\n",
    "        \n",
    "        m_model = get_model(mid, df)    \n",
    "    \n",
    "        l_rt = lrt(K_model[0], m_model[0], K_model[-1], m_model[-1])\n",
    "        print(mid, right, K_model[0], m_model[0], K_model[-1], m_model[-1], l_rt)\n",
    "        lrts.append(l_rt)\n",
    "        \n",
    "        if l_rt > p:\n",
    "            mid, right= int((left + mid) / 2), mid\n",
    "        elif l_rt < p:\n",
    "            mid, left = int((right + mid) / 2), mid\n",
    "        if left == lefts[-1] and right == rights[-1]:\n",
    "            break\n",
    "            \n",
    "    return right\n",
    "\n",
    "i = bs(.05)"
   ]
  },
  {
   "cell_type": "code",
   "execution_count": null,
   "metadata": {},
   "outputs": [],
   "source": []
  }
 ],
 "metadata": {
  "kernelspec": {
   "display_name": "Python 3",
   "language": "python",
   "name": "python3"
  },
  "language_info": {
   "codemirror_mode": {
    "name": "ipython",
    "version": 3
   },
   "file_extension": ".py",
   "mimetype": "text/x-python",
   "name": "python",
   "nbconvert_exporter": "python",
   "pygments_lexer": "ipython3",
   "version": "3.6.4"
  }
 },
 "nbformat": 4,
 "nbformat_minor": 2
}
