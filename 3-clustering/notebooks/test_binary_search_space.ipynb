{
 "cells": [
  {
   "cell_type": "code",
   "execution_count": 1,
   "metadata": {},
   "outputs": [],
   "source": [
    "import os\n",
    "import sys\n",
    "import pandas\n",
    "import numpy\n",
    "\n",
    "import findspark\n",
    "findspark.init(\"/usr/local/spark/spark\")\n",
    "\n",
    "import pyspark\n",
    "from pyspark.sql.window import Window\n",
    "import pyspark.sql.functions as func\n",
    "\n",
    "from pyspark.rdd import reduce\n",
    "from pyspark.sql.types import DoubleType\n",
    "from pyspark.ml.feature import VectorAssembler\n",
    "from pyspark.ml.clustering import GaussianMixture, KMeansModel, KMeans\n",
    "from pyspark.ml.linalg import SparseVector, VectorUDT, Vector, Vectors"
   ]
  },
  {
   "cell_type": "code",
   "execution_count": 2,
   "metadata": {},
   "outputs": [],
   "source": [
    "from pyspark.sql.functions import udf, col, struct\n",
    "from pyspark.sql.types import ArrayType, DoubleType, StringType\n",
    "from pyspark.mllib.linalg.distributed import RowMatrix, DenseMatrix"
   ]
  },
  {
   "cell_type": "code",
   "execution_count": 3,
   "metadata": {},
   "outputs": [],
   "source": [
    "conf = pyspark.SparkConf().setMaster(\"local[*]\").set(\"spark.driver.memory\", \"4G\").set(\"spark.executor.memory\", \"4G\")\n",
    "sc = pyspark.SparkContext(conf=conf)\n",
    "spark = pyspark.sql.SparkSession(sc)"
   ]
  },
  {
   "cell_type": "code",
   "execution_count": 4,
   "metadata": {},
   "outputs": [],
   "source": [
    "cluster_files =  \"/Users/simondi/PROJECTS/target_infect_x_project/src/tix-analysis/data/outlier-removal\""
   ]
  },
  {
   "cell_type": "code",
   "execution_count": 5,
   "metadata": {},
   "outputs": [],
   "source": [
    "df = spark.read.parquet(cluster_files)"
   ]
  },
  {
   "cell_type": "code",
   "execution_count": 232,
   "metadata": {},
   "outputs": [],
   "source": [
    "n = df.count()\n",
    "p = len(df.select(\"features\").take(1)[0][0])"
   ]
  },
  {
   "cell_type": "code",
   "execution_count": 233,
   "metadata": {},
   "outputs": [],
   "source": [
    "import scipy\n",
    "from scipy import stats"
   ]
  },
  {
   "cell_type": "code",
   "execution_count": 234,
   "metadata": {},
   "outputs": [],
   "source": [
    "def n_param_gmm(k, p, n):\n",
    "    n_mean = k * p\n",
    "    n_var = k * p*(p + 1) / 2\n",
    "    n_mix = k - 1\n",
    "    return n_mean + n_var + n_mix"
   ]
  },
  {
   "cell_type": "code",
   "execution_count": 9,
   "metadata": {},
   "outputs": [],
   "source": [
    "def split_features(data):\n",
    "    def to_array(col):\n",
    "        def to_array_(v):\n",
    "            return v.toArray().tolist()\n",
    "\n",
    "        return udf(to_array_, ArrayType(DoubleType()))(col)\n",
    "\n",
    "    len_vec = len(data.select(\"features\").take(1)[0][0])\n",
    "    data = (data.withColumn(\"f\", to_array(col(\"features\")))\n",
    "            .select([\"prediction\"]+  [col(\"f\")[i] for i in range(len_vec)]))\n",
    "\n",
    "    for i, x in enumerate(data.columns):\n",
    "        if x.startswith(\"f[\"):\n",
    "            data = data.withColumnRenamed(\n",
    "                x, x.replace(\"[\", \"_\").replace(\"]\", \"\"))\n",
    "\n",
    "    return data"
   ]
  },
  {
   "cell_type": "code",
   "execution_count": 236,
   "metadata": {},
   "outputs": [],
   "source": [
    "def n_param_kmm(k, p):\n",
    "    n_mean = k * p\n",
    "    n_var = 1\n",
    "    return n_mean + v_var"
   ]
  },
  {
   "cell_type": "code",
   "execution_count": 11,
   "metadata": {},
   "outputs": [],
   "source": [
    "d_k = split_features(df)"
   ]
  },
  {
   "cell_type": "code",
   "execution_count": 14,
   "metadata": {},
   "outputs": [
    {
     "data": {
      "text/plain": [
       "[Row(prediction=3, f_0=0.983076443174413, f_1=0.40052619964395375, f_2=0.059322697068162594, f_3=0.8912970547151504, f_4=0.6459296915260802, f_5=-1.6407744126709187, f_6=0.0779898194213411, f_7=0.6963730444812934, f_8=0.20419738806418344, f_9=-0.6405384795826222, f_10=-1.2687766832708212, f_11=-0.5029967514166027, f_12=0.4632598970025907, f_13=-1.3307274422272615, f_14=-0.44745668769115393)]"
      ]
     },
     "execution_count": 14,
     "metadata": {},
     "output_type": "execute_result"
    }
   ],
   "source": [
    "d_k.take(1)"
   ]
  },
  {
   "cell_type": "code",
   "execution_count": 17,
   "metadata": {},
   "outputs": [],
   "source": [
    "n = d_k.count()\n",
    "p = 15"
   ]
  },
  {
   "cell_type": "code",
   "execution_count": 25,
   "metadata": {},
   "outputs": [],
   "source": [
    "def compute_variance(K, d_k, gm_k):\n",
    "    total_var = 0\n",
    "    ni = scipy.zeros(K)\n",
    "    for i in range(K):\n",
    "        d_k_c = d_k.filter(\"prediction==\" + str(i)).drop(\"prediction\")\n",
    "        ni[i] =  d_k_c.count()\n",
    "        rdd = d_k_c.rdd.map(list)\n",
    "        means = gm_k.clusterCenters()[i]\n",
    "        var = (RowMatrix(rdd).rows\n",
    "                   .map(lambda x: (x - means).T.dot(x - means))\n",
    "                   .reduce(lambda x, y: x + y))\n",
    "        total_var += var\n",
    "    total_var /= ((d_k.count() - K) * p)\n",
    "\n",
    "    return total_var, ni"
   ]
  },
  {
   "cell_type": "code",
   "execution_count": 30,
   "metadata": {},
   "outputs": [],
   "source": [
    "def loglik(K, n, p):\n",
    "    total_var, ni = compute_variance(K, d_k, gm_k)\n",
    "    ll = 0\n",
    "    for i in range(K):\n",
    "        l = ni[i] * scipy.log(ni[i])\n",
    "        l -= ni[i] * scipy.log(n) \n",
    "        l -= .5 * ni[i] * p * scipy.log(2 * scipy.pi * total_var) \n",
    "        l -= .5 * (ni[i] - 1) * p\n",
    "        ll += l\n",
    "    l -= .5 * scipy.log(n) * (p + 1) * K\n",
    "    return l"
   ]
  },
  {
   "cell_type": "code",
   "execution_count": 163,
   "metadata": {},
   "outputs": [],
   "source": [
    "sk_data = split_features(df).drop(\"prediction\").toPandas().values"
   ]
  },
  {
   "cell_type": "code",
   "execution_count": 218,
   "metadata": {},
   "outputs": [],
   "source": [
    "def n_param(k, p):\n",
    "    n_mean = k * p\n",
    "    n_var = k * p *(p + 1) / 2\n",
    "    n_mix = k - 1\n",
    "    n = n_mean + n_var + n_mix\n",
    "    return n"
   ]
  },
  {
   "cell_type": "code",
   "execution_count": 230,
   "metadata": {},
   "outputs": [],
   "source": [
    "def lrt(max_loglik, loglik, max_params, params):\n",
    "    t = 2 * (max_loglik - loglik)\n",
    "    df = max_params - params    \n",
    "    p_val = 1 - scipy.stats.chi2.cdf(t, df=df)\n",
    "    print(max_loglik, loglik, t, df, p_val)\n",
    "    return p_val"
   ]
  },
  {
   "cell_type": "code",
   "execution_count": null,
   "metadata": {},
   "outputs": [],
   "source": [
    "max_loglik = KMeans(n_components=10, random_state=1).fit(sk_data).score(sk_data)\n",
    "max_loglik"
   ]
  },
  {
   "cell_type": "code",
   "execution_count": 231,
   "metadata": {},
   "outputs": [
    {
     "name": "stdout",
     "output_type": "stream",
     "text": [
      "30.7422376887 -2.70322219207 66.8909197615 1088.0 1.0\n",
      "30.7422376887 -1.08740728374 63.6592899449 952.0 1.0\n",
      "30.7422376887 1.85300687149 57.7784616344 816.0 1.0\n",
      "30.7422376887 6.18142342046 49.1216285365 680.0 1.0\n",
      "30.7422376887 7.4806207988 46.5232337798 544.0 1.0\n",
      "30.7422376887 11.3468823079 38.7907107616 408.0 1.0\n",
      "30.7422376887 17.5078401205 26.4687951364 272.0 1.0\n",
      "30.7422376887 23.9919068681 13.5006616413 136.0 1.0\n",
      "30.7422376887 30.7422376887 0.0 0.0 nan\n"
     ]
    }
   ],
   "source": [
    "for i in range(2, 10 + 1):\n",
    "    gmm = KMeans(k=i, seed=1)\n",
    "    pred = gmm.fit(sk_data)\n",
    "    p_val = lrt(max_loglik, pred.score(sk_data), max_par, n_param(i, 15))"
   ]
  },
  {
   "cell_type": "code",
   "execution_count": 31,
   "metadata": {},
   "outputs": [
    {
     "data": {
      "text/plain": [
       "-368.47710755966489"
      ]
     },
     "execution_count": 31,
     "metadata": {},
     "output_type": "execute_result"
    }
   ],
   "source": [
    "loglik(K, n, p)"
   ]
  },
  {
   "cell_type": "code",
   "execution_count": 136,
   "metadata": {},
   "outputs": [],
   "source": [
    "li = scipy.concatenate([scipy.linspace(1, 0.1, 25), scipy.linspace(.1, 0.001, 20)])\n",
    "li2 = scipy.concatenate([scipy.linspace(1, 0.1, 10), scipy.linspace(.1, 0.001, 25)])"
   ]
  },
  {
   "cell_type": "code",
   "execution_count": 153,
   "metadata": {},
   "outputs": [
    {
     "data": {
      "text/plain": [
       "35"
      ]
     },
     "execution_count": 153,
     "metadata": {},
     "output_type": "execute_result"
    }
   ],
   "source": [
    "scipy.argmax(li < .05)"
   ]
  },
  {
   "cell_type": "code",
   "execution_count": 154,
   "metadata": {},
   "outputs": [
    {
     "data": {
      "text/plain": [
       "23"
      ]
     },
     "execution_count": 154,
     "metadata": {},
     "output_type": "execute_result"
    }
   ],
   "source": [
    "scipy.argmax(li2 < .05)"
   ]
  },
  {
   "cell_type": "code",
   "execution_count": 155,
   "metadata": {},
   "outputs": [
    {
     "name": "stdout",
     "output_type": "stream",
     "text": [
      "[ 1.          0.9625      0.925       0.8875      0.85        0.8125      0.775\n",
      "  0.7375      0.7         0.6625      0.625       0.5875      0.55        0.5125\n",
      "  0.475       0.4375      0.4         0.3625      0.325       0.2875      0.25\n",
      "  0.2125      0.175       0.1375      0.1         0.1         0.09478947\n",
      "  0.08957895  0.08436842  0.07915789  0.07394737  0.06873684  0.06352632\n",
      "  0.05831579  0.05310526  0.04789474  0.04268421  0.03747368  0.03226316\n",
      "  0.02705263  0.02184211  0.01663158  0.01142105  0.00621053  0.001     ]\n",
      "[ 1.        0.9       0.8       0.7       0.6       0.5       0.4       0.3\n",
      "  0.2       0.1       0.1       0.095875  0.09175   0.087625  0.0835\n",
      "  0.079375  0.07525   0.071125  0.067     0.062875  0.05875   0.054625\n",
      "  0.0505    0.046375  0.04225   0.038125  0.034     0.029875  0.02575\n",
      "  0.021625  0.0175    0.013375  0.00925   0.005125  0.001   ]\n"
     ]
    }
   ],
   "source": [
    "print(li)\n",
    "print(li2)"
   ]
  },
  {
   "cell_type": "code",
   "execution_count": 156,
   "metadata": {},
   "outputs": [
    {
     "name": "stdout",
     "output_type": "stream",
     "text": [
      "0.0478947368421 0.046375\n"
     ]
    }
   ],
   "source": [
    "print(li[35], li2[23])"
   ]
  },
  {
   "cell_type": "code",
   "execution_count": 157,
   "metadata": {},
   "outputs": [
    {
     "name": "stdout",
     "output_type": "stream",
     "text": [
      "0 22 45 0.175\n",
      "22 33 45 0.0583157894737\n",
      "33 39 45 0.0270526315789\n",
      "33 36 39 0.0426842105263\n",
      "33 34 36 0.0531052631579\n",
      "34 35 36 0.0478947368421\n",
      "34 34 35 0.0531052631579\n",
      "35 0.0478947368421\n",
      "0 17 35 0.071125\n",
      "17 26 35 0.034\n",
      "17 21 26 0.054625\n",
      "21 23 26 0.046375\n",
      "21 22 23 0.0505\n",
      "22 22 23 0.0505\n",
      "23 0.046375\n"
     ]
    }
   ],
   "source": [
    "def bs(arr, p):\n",
    "    lefts, rights, mids = [], [], []\n",
    "    left, right = 0, len(arr)\n",
    "    mid = int((left + right) / 2)\n",
    "    \n",
    "    while True:\n",
    "        mids.append(mid)\n",
    "        lefts.append(left)\n",
    "        rights.append(right)\n",
    "        print(left, mid, right, arr[mid])\n",
    "        if arr[mid] < p:\n",
    "            mid, right= int((left + mid) / 2), mid\n",
    "        elif arr[mid] > p:\n",
    "            mid, left = int((right + mid) / 2), mid\n",
    "        if left == lefts[-1] and right == rights[-1]:\n",
    "            break\n",
    "    return right\n",
    "\n",
    "i = bs(li, .05)\n",
    "print(i, li[i])\n",
    "\n",
    "i = bs(li2, .05)\n",
    "print(i, li2[i])"
   ]
  },
  {
   "cell_type": "code",
   "execution_count": null,
   "metadata": {},
   "outputs": [],
   "source": []
  }
 ],
 "metadata": {
  "kernelspec": {
   "display_name": "Python 3",
   "language": "python",
   "name": "python3"
  },
  "language_info": {
   "codemirror_mode": {
    "name": "ipython",
    "version": 3
   },
   "file_extension": ".py",
   "mimetype": "text/x-python",
   "name": "python",
   "nbconvert_exporter": "python",
   "pygments_lexer": "ipython3",
   "version": "3.6.4"
  }
 },
 "nbformat": 4,
 "nbformat_minor": 2
}
