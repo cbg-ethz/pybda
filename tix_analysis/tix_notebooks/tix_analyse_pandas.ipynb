{
 "cells": [
  {
   "cell_type": "code",
   "execution_count": 2,
   "metadata": {
    "collapsed": true
   },
   "outputs": [],
   "source": [
    "import pandas"
   ]
  },
  {
   "cell_type": "code",
   "execution_count": 3,
   "metadata": {
    "collapsed": true
   },
   "outputs": [],
   "source": [
    "filename = \"/Users/simondi/PHD/data/data/target_infect_x/screening_data_subset/cells_sample_10_normalized.tsv\""
   ]
  },
  {
   "cell_type": "code",
   "execution_count": 4,
   "metadata": {
    "collapsed": false
   },
   "outputs": [],
   "source": [
    "data = pandas.read_csv(filename, sep=\"\\t\", header=0)"
   ]
  },
  {
   "cell_type": "code",
   "execution_count": 5,
   "metadata": {
    "collapsed": false
   },
   "outputs": [],
   "source": [
    "feature_cols = [(i, x) for i, x in enumerate(data.columns.values) if x.startswith(\"cells\")]\n",
    "for i, c in feature_cols:\n",
    "    data.loc[:, c] = data.loc[:, c].astype('float64')"
   ]
  },
  {
   "cell_type": "code",
   "execution_count": 8,
   "metadata": {
    "collapsed": true
   },
   "outputs": [],
   "source": [
    "grops = ['pathogen', 'library', 'design', 'replicate', 'gene']"
   ]
  },
  {
   "cell_type": "code",
   "execution_count": 24,
   "metadata": {
    "collapsed": false,
    "scrolled": false
   },
   "outputs": [],
   "source": [
    "grop_cnt = data.query(\"design=='p' and library=='d' and replicate==1 and study=='infectx'\").groupby(\"gene\").size()"
   ]
  },
  {
   "cell_type": "code",
   "execution_count": 29,
   "metadata": {
    "collapsed": false
   },
   "outputs": [
    {
     "data": {
      "text/plain": [
       "gene\n",
       "abcc1          40\n",
       "abcc2          40\n",
       "acad8          40\n",
       "acsl4          40\n",
       "adh1c          40\n",
       "agxt2          40\n",
       "aipl1          40\n",
       "akap7          40\n",
       "aldh1l2        40\n",
       "aldh3b1        40\n",
       "aldh4a1        40\n",
       "allc           40\n",
       "alx3           40\n",
       "ankh           40\n",
       "apex2          40\n",
       "aqp3           40\n",
       "aqpep          60\n",
       "arpc3        6890\n",
       "arsi           40\n",
       "atl1           40\n",
       "atn1           40\n",
       "atp13a1        40\n",
       "atp1b3         40\n",
       "atp5g3         40\n",
       "atp6v0d2       40\n",
       "atp6v1a      6890\n",
       "atp8b2         40\n",
       "b3gntl1        40\n",
       "b4galt2        40\n",
       "bcam           40\n",
       "             ... \n",
       "thrb           40\n",
       "thumpd2        40\n",
       "tkt            40\n",
       "tln1         4568\n",
       "tlr4           40\n",
       "tnfrsf13b      40\n",
       "tnfrsf9        40\n",
       "tp63           40\n",
       "tp73           40\n",
       "trap1          40\n",
       "tsc2           40\n",
       "tsen2          40\n",
       "ttl            40\n",
       "tub            40\n",
       "tubal3         40\n",
       "tube1          40\n",
       "uap1           40\n",
       "ubash3b        40\n",
       "ugdh           40\n",
       "ugt3a1         40\n",
       "unkl           60\n",
       "unknown      6630\n",
       "vat1           40\n",
       "vat1l          40\n",
       "vav3           40\n",
       "vezf1          40\n",
       "wdr31          40\n",
       "wwp1           60\n",
       "ywhag          40\n",
       "zcchc11        40\n",
       "Length: 329, dtype: int64"
      ]
     },
     "execution_count": 29,
     "metadata": {},
     "output_type": "execute_result"
    }
   ],
   "source": [
    "data.query(\"design=='p' and library=='d' and replicate==1 and study=='infectx'\").groupby(\"gene\").filter(lambda x: len(x) >= 40).groupby(\"gene\").size()"
   ]
  },
  {
   "cell_type": "code",
   "execution_count": 56,
   "metadata": {
    "collapsed": false
   },
   "outputs": [],
   "source": [
    "data_new = data.query(\"library=='d' and design=='p' and replicate==1 and (pathogen=='brucella' or pathogen=='listeria' or pathogen=='adeno' or pathogen=='bartonella')\").groupby([\"gene\"]).filter(lambda x: len(x) == 40)"
   ]
  },
  {
   "cell_type": "code",
   "execution_count": null,
   "metadata": {
    "collapsed": true
   },
   "outputs": [],
   "source": [
    "data-new"
   ]
  }
 ],
 "metadata": {
  "kernelspec": {
   "display_name": "Python 3",
   "language": "python",
   "name": "python3"
  },
  "language_info": {
   "codemirror_mode": {
    "name": "ipython",
    "version": 3
   },
   "file_extension": ".py",
   "mimetype": "text/x-python",
   "name": "python",
   "nbconvert_exporter": "python",
   "pygments_lexer": "ipython3",
   "version": "3.5.2"
  }
 },
 "nbformat": 4,
 "nbformat_minor": 2
}
