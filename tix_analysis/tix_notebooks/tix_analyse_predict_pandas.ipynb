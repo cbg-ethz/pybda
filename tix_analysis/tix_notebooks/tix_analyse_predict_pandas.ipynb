{
 "cells": [
  {
   "cell_type": "code",
   "execution_count": 1,
   "metadata": {
    "collapsed": true
   },
   "outputs": [],
   "source": [
    "import uuid\n",
    "import pandas\n",
    "import numpy\n",
    "from random import shuffle\n",
    "\n",
    "import sklearn\n",
    "import sklearn.ensemble\n",
    "\n",
    "from sklearn.ensemble import RandomForestRegressor\n",
    "\n",
    "import matplotlib\n",
    "from mpl_toolkits.mplot3d import Axes3D\n",
    "import matplotlib.pyplot as plt\n",
    "import matplotlib.colors as colors\n",
    "import matplotlib.cm as cmx\n",
    "\n",
    "import os"
   ]
  },
  {
   "cell_type": "code",
   "execution_count": 2,
   "metadata": {
    "collapsed": false
   },
   "outputs": [],
   "source": [
    "from sklearn import preprocessing\n",
    "import numpy"
   ]
  },
  {
   "cell_type": "code",
   "execution_count": 3,
   "metadata": {
    "collapsed": true
   },
   "outputs": [],
   "source": [
    "def load_data():\n",
    "    \n",
    "    filename = \"/Users/simondi/PHD/data/data/target_infect_x/screening_data_subset/cells_sample_10_normalized_cut.tsv\"\n",
    "\n",
    "    data = pandas.read_csv(filename, sep=\"\\t\", header=0)\n",
    "\n",
    "    feature_cols = [(i, x) for i, x in enumerate(data.columns.values) if\n",
    "                    x.startswith(\"cells\")]\n",
    "    for i, c in feature_cols:\n",
    "        data.loc[:, c] = data.loc[:, c].astype('float64')\n",
    "\n",
    "    X = data.dropna(subset=[\"cells.children_invasomes_count\", \"cells.children_bacteria_count\"], how='all')\n",
    "    X[\"cells.children_invasomes_count\"] =  X[\"cells.children_invasomes_count\"].fillna(0)\n",
    "    X[\"cells.children_bacteria_count\"] =  X[\"cells.children_bacteria_count\"].fillna(0)\n",
    "    X = X.dropna()\n",
    "    X[\"infection\"] = X[\"cells.children_invasomes_count\"] + X[\"cells.children_bacteria_count\"] \n",
    "    del X[\"cells.children_invasomes_count\"]\n",
    "    del X[\"cells.children_bacteria_count\"]\n",
    "    return X"
   ]
  },
  {
   "cell_type": "code",
   "execution_count": 21,
   "metadata": {
    "collapsed": false
   },
   "outputs": [
    {
     "name": "stderr",
     "output_type": "stream",
     "text": [
      "/Users/simondi/anaconda3/envs/py35/lib/python3.5/site-packages/ipykernel/__main__.py:13: SettingWithCopyWarning: \n",
      "A value is trying to be set on a copy of a slice from a DataFrame.\n",
      "Try using .loc[row_indexer,col_indexer] = value instead\n",
      "\n",
      "See the caveats in the documentation: http://pandas.pydata.org/pandas-docs/stable/indexing.html#indexing-view-versus-copy\n",
      "/Users/simondi/anaconda3/envs/py35/lib/python3.5/site-packages/ipykernel/__main__.py:14: SettingWithCopyWarning: \n",
      "A value is trying to be set on a copy of a slice from a DataFrame.\n",
      "Try using .loc[row_indexer,col_indexer] = value instead\n",
      "\n",
      "See the caveats in the documentation: http://pandas.pydata.org/pandas-docs/stable/indexing.html#indexing-view-versus-copy\n"
     ]
    }
   ],
   "source": [
    "data = load_data()"
   ]
  },
  {
   "cell_type": "code",
   "execution_count": 23,
   "metadata": {
    "collapsed": false
   },
   "outputs": [
    {
     "data": {
      "text/plain": [
       "pathogen    gene    \n",
       "bartonella  a1bg         20\n",
       "            a1cf         60\n",
       "            a2ld1        60\n",
       "            a2m          60\n",
       "            a2ml1        30\n",
       "            a4galt       50\n",
       "            a4gnt        60\n",
       "            aaa1         40\n",
       "            aaas         60\n",
       "            aacs         50\n",
       "            aacsp1       30\n",
       "            aadac        60\n",
       "            aadacl2      50\n",
       "            aadacl4      40\n",
       "            aadat        60\n",
       "            aagab        60\n",
       "            aak1        160\n",
       "            aamp         60\n",
       "            aanat        60\n",
       "            aars         60\n",
       "            aars2        60\n",
       "            aasdh        60\n",
       "            aasdhppt     60\n",
       "            aass         60\n",
       "            aatf         50\n",
       "            aatk        120\n",
       "            aatk-as1     40\n",
       "            abat         60\n",
       "            abca1        60\n",
       "            abca10       40\n",
       "                       ... \n",
       "salmonella  zpld1        30\n",
       "            zranb1       30\n",
       "            zranb2       30\n",
       "            zranb3       30\n",
       "            zscan1       30\n",
       "            zscan10      30\n",
       "            zscan16      30\n",
       "            zscan18      30\n",
       "            zscan20      30\n",
       "            zscan22      30\n",
       "            zscan23      30\n",
       "            zscan29      30\n",
       "            zscan4       30\n",
       "            zscan5a      30\n",
       "            zscan5b      30\n",
       "            zswim1       30\n",
       "            zswim2       30\n",
       "            zswim3       30\n",
       "            zswim4       30\n",
       "            zswim7       30\n",
       "            zufsp        30\n",
       "            zw10         30\n",
       "            zwilch       30\n",
       "            zwint        30\n",
       "            zxdb         30\n",
       "            zxdc         30\n",
       "            zyg11b       30\n",
       "            zyx          30\n",
       "            zzef1        30\n",
       "            zzz3         30\n",
       "Length: 69516, dtype: int64"
      ]
     },
     "execution_count": 23,
     "metadata": {},
     "output_type": "execute_result"
    }
   ],
   "source": [
    "data.groupby([\"pathogen\", \"gene\"]).size()"
   ]
  },
  {
   "cell_type": "code",
   "execution_count": 24,
   "metadata": {
    "collapsed": false
   },
   "outputs": [],
   "source": [
    "df = data.groupby([\"pathogen\", \"gene\"]).apply(lambda x: x.sample(frac=0.1))"
   ]
  },
  {
   "cell_type": "code",
   "execution_count": 25,
   "metadata": {
    "collapsed": false
   },
   "outputs": [
    {
     "name": "stderr",
     "output_type": "stream",
     "text": [
      "/Users/simondi/anaconda3/envs/py35/lib/python3.5/site-packages/ipykernel/__main__.py:1: FutureWarning: 'pathogen' is both a column name and an index level.\n",
      "Defaulting to column but this will raise an ambiguity error in a future version\n",
      "  if __name__ == '__main__':\n",
      "/Users/simondi/anaconda3/envs/py35/lib/python3.5/site-packages/ipykernel/__main__.py:1: FutureWarning: 'gene' is both a column name and an index level.\n",
      "Defaulting to column but this will raise an ambiguity error in a future version\n",
      "  if __name__ == '__main__':\n"
     ]
    },
    {
     "data": {
      "text/plain": [
       "pathogen    gene    \n",
       "bartonella  a1bg         2\n",
       "            a1cf         6\n",
       "            a2ld1        6\n",
       "            a2m          6\n",
       "            a2ml1        3\n",
       "            a4galt       5\n",
       "            a4gnt        6\n",
       "            aaa1         4\n",
       "            aaas         6\n",
       "            aacs         5\n",
       "            aacsp1       3\n",
       "            aadac        6\n",
       "            aadacl2      5\n",
       "            aadacl4      4\n",
       "            aadat        6\n",
       "            aagab        6\n",
       "            aak1        16\n",
       "            aamp         6\n",
       "            aanat        6\n",
       "            aars         6\n",
       "            aars2        6\n",
       "            aasdh        6\n",
       "            aasdhppt     6\n",
       "            aass         6\n",
       "            aatf         5\n",
       "            aatk        12\n",
       "            aatk-as1     4\n",
       "            abat         6\n",
       "            abca1        6\n",
       "            abca10       4\n",
       "                        ..\n",
       "salmonella  zpld1        3\n",
       "            zranb1       3\n",
       "            zranb2       3\n",
       "            zranb3       3\n",
       "            zscan1       3\n",
       "            zscan10      3\n",
       "            zscan16      3\n",
       "            zscan18      3\n",
       "            zscan20      3\n",
       "            zscan22      3\n",
       "            zscan23      3\n",
       "            zscan29      3\n",
       "            zscan4       3\n",
       "            zscan5a      3\n",
       "            zscan5b      3\n",
       "            zswim1       3\n",
       "            zswim2       3\n",
       "            zswim3       3\n",
       "            zswim4       3\n",
       "            zswim7       3\n",
       "            zufsp        3\n",
       "            zw10         3\n",
       "            zwilch       3\n",
       "            zwint        3\n",
       "            zxdb         3\n",
       "            zxdc         3\n",
       "            zyg11b       3\n",
       "            zyx          3\n",
       "            zzef1        3\n",
       "            zzz3         3\n",
       "Length: 69516, dtype: int64"
      ]
     },
     "execution_count": 25,
     "metadata": {},
     "output_type": "execute_result"
    }
   ],
   "source": [
    "df.groupby([\"pathogen\", \"gene\"]).size()"
   ]
  },
  {
   "cell_type": "code",
   "execution_count": 26,
   "metadata": {
    "collapsed": false
   },
   "outputs": [],
   "source": [
    "n = 11\n",
    "rf = RandomForestRegressor(n_estimators=n, max_features='sqrt')"
   ]
  },
  {
   "cell_type": "code",
   "execution_count": 27,
   "metadata": {
    "collapsed": false
   },
   "outputs": [],
   "source": [
    "feature_cols = [x for x in df.columns.values if x.startswith(\"cells\")]\n",
    "trees=rf.fit(X=df.loc[:,feature_cols], y=df.loc[:,\"infection\"])"
   ]
  },
  {
   "cell_type": "code",
   "execution_count": 28,
   "metadata": {
    "collapsed": false
   },
   "outputs": [
    {
     "data": {
      "text/plain": [
       "0.83353090460555201"
      ]
     },
     "execution_count": 28,
     "metadata": {},
     "output_type": "execute_result"
    }
   ],
   "source": [
    "trees.score(X=df.loc[:,feature_cols], y=df.loc[:,\"infection\"])"
   ]
  },
  {
   "cell_type": "code",
   "execution_count": 30,
   "metadata": {
    "collapsed": false
   },
   "outputs": [
    {
     "data": {
      "text/plain": [
       "0.13709412625453066"
      ]
     },
     "execution_count": 30,
     "metadata": {},
     "output_type": "execute_result"
    }
   ],
   "source": [
    "df_tet = data.groupby([\"pathogen\", \"gene\"]).apply(lambda x: x.sample(frac=0.01))\n",
    "trees.score(X=df_tet.loc[:,feature_cols], y=df_tet.loc[:,\"infection\"])"
   ]
  },
  {
   "cell_type": "code",
   "execution_count": 11,
   "metadata": {
    "collapsed": false
   },
   "outputs": [],
   "source": [
    "zippedf = [(x,y) for x, y in zip(feature_cols, trees.feature_importances_)]"
   ]
  },
  {
   "cell_type": "code",
   "execution_count": 18,
   "metadata": {
    "collapsed": false
   },
   "outputs": [],
   "source": [
    "zippedf = sorted(zippedf, key=lambda x: -x[1]) "
   ]
  },
  {
   "cell_type": "code",
   "execution_count": 19,
   "metadata": {
    "collapsed": false
   },
   "outputs": [
    {
     "data": {
      "text/plain": [
       "[('cells.areashape_area', 0.097864321068438884),\n",
       " ('cells.areashape_majoraxislength', 0.088423111784056804),\n",
       " ('cells.areashape_perimeter', 0.082355533746508947),\n",
       " ('cells.areashape_minoraxislength', 0.072936919991272359),\n",
       " ('cells.areashape_extent', 0.057534282248412942),\n",
       " ('cells.neighbors_secondclosestxvector_2', 0.056293865425443651),\n",
       " ('cells.neighbors_secondclosestyvector_2', 0.050153754949301209),\n",
       " ('cells.neighbors_numberofneighbors_2', 0.049989290523752006),\n",
       " ('cells.neighbors_firstclosestyvector_2', 0.049014556008228564),\n",
       " ('cells.areashape_formfactor', 0.047766145405209411),\n",
       " ('cells.neighbors_anglebetweenneighbors_2', 0.047738924780533806),\n",
       " ('cells.neighbors_firstclosestxvector_2', 0.045506902534460276),\n",
       " ('cells.areashape_eccentricity', 0.04511720739735206),\n",
       " ('cells.location_center_x', 0.043952101681158692),\n",
       " ('cells.location_center_y', 0.043693306026592556),\n",
       " ('cells.parent_nuclei', 0.042436404911890088),\n",
       " ('cells.neighbors_firstclosestobjectnumber_2', 0.041494806615221466),\n",
       " ('cells.neighbors_secondclosestobjectnumber_2', 0.037728564902166292)]"
      ]
     },
     "execution_count": 19,
     "metadata": {},
     "output_type": "execute_result"
    }
   ],
   "source": [
    "zippedf"
   ]
  },
  {
   "cell_type": "code",
   "execution_count": 15,
   "metadata": {
    "collapsed": true
   },
   "outputs": [],
   "source": [
    "uid = str(uuid.uuid1())\n",
    "flout= \"/Users/simondi/PROJECTS/target_infect_x_project/src/tix_util/tix_analysis/results/importance\""
   ]
  },
  {
   "cell_type": "code",
   "execution_count": 24,
   "metadata": {
    "collapsed": false
   },
   "outputs": [],
   "source": [
    "flout = flout + \"_trees_\" + str(n)+ \"_\" + uid + \".txt\""
   ]
  },
  {
   "cell_type": "code",
   "execution_count": 27,
   "metadata": {
    "collapsed": false
   },
   "outputs": [],
   "source": [
    "with open(flout, 'w') as fh:\n",
    "    for z in zippedf:\n",
    "        fh.write(z[0] +\"\\t\"  + \"{0:.2f}\".format(z[1]) + \"\\n\")"
   ]
  },
  {
   "cell_type": "code",
   "execution_count": null,
   "metadata": {
    "collapsed": true
   },
   "outputs": [],
   "source": []
  },
  {
   "cell_type": "code",
   "execution_count": null,
   "metadata": {
    "collapsed": true
   },
   "outputs": [],
   "source": []
  }
 ],
 "metadata": {
  "kernelspec": {
   "display_name": "Python 3",
   "language": "python",
   "name": "python3"
  },
  "language_info": {
   "codemirror_mode": {
    "name": "ipython",
    "version": 3
   },
   "file_extension": ".py",
   "mimetype": "text/x-python",
   "name": "python",
   "nbconvert_exporter": "python",
   "pygments_lexer": "ipython3",
   "version": "3.5.2"
  }
 },
 "nbformat": 4,
 "nbformat_minor": 2
}
