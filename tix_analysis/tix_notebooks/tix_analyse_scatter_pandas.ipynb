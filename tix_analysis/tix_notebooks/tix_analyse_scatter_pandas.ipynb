{
 "cells": [
  {
   "cell_type": "code",
   "execution_count": 151,
   "metadata": {
    "collapsed": false
   },
   "outputs": [],
   "source": [
    "import uuid\n",
    "import pandas\n",
    "import numpy\n",
    "from random import shuffle\n",
    "\n",
    "import sklearn\n",
    "from sklearn.decomposition import PCA\n",
    "from sklearn.discriminant_analysis import LinearDiscriminantAnalysis\n",
    "import sklearn.manifold\n",
    "\n",
    "import matplotlib\n",
    "from mpl_toolkits.mplot3d import Axes3D\n",
    "import matplotlib.pyplot as plt\n",
    "import matplotlib.colors as colors\n",
    "import matplotlib.cm as cmx\n",
    "\n",
    "import os"
   ]
  },
  {
   "cell_type": "code",
   "execution_count": 177,
   "metadata": {
    "collapsed": false
   },
   "outputs": [],
   "source": [
    "def load_data():\n",
    "    if os.path.isdir(\"/cluster/home/simondi/spark/\"):\n",
    "        filename = \"/cluster/home/simondi/simondi/tix/data/screening_data/cells_sample_10_normalized.tsv\"\n",
    "    else:\n",
    "        filename = \"/Users/simondi/PHD/data/data/target_infect_x/screening_data_subset/cells_sample_10_normalized.tsv\"\n",
    "\n",
    "    data = pandas.read_csv(filename, sep=\"\\t\", header=0)\n",
    "\n",
    "    feature_cols = [(i, x) for i, x in enumerate(data.columns.values) if\n",
    "                    x.startswith(\"cells\")]\n",
    "    for i, c in feature_cols:\n",
    "        data.loc[:, c] = data.loc[:, c].astype('float64')\n",
    "\n",
    "    data_new = data.query(\n",
    "      \"library=='d' and design=='p' and replicate==1 and (pathogen=='brucella' or pathogen=='listeria' or pathogen=='adeno' or pathogen=='bartonella')\").groupby(\n",
    "      [\"gene\"]).filter(lambda x: len(x) == 40)\n",
    "\n",
    "    del data_new[\"cells.children_invasomes_count\"]\n",
    "    del data_new[\"cells.children_bacteria_count\"]\n",
    "\n",
    "    X = data_new.dropna()\n",
    "    return X"
   ]
  },
  {
   "cell_type": "code",
   "execution_count": 178,
   "metadata": {
    "collapsed": false
   },
   "outputs": [],
   "source": [
    "data = load_data()"
   ]
  },
  {
   "cell_type": "code",
   "execution_count": 179,
   "metadata": {
    "collapsed": false
   },
   "outputs": [
    {
     "data": {
      "text/plain": [
       "pathogen\n",
       "adeno         140850\n",
       "bartonella    155620\n",
       "brucella      155620\n",
       "listeria      155620\n",
       "dtype: int64"
      ]
     },
     "execution_count": 179,
     "metadata": {},
     "output_type": "execute_result"
    }
   ],
   "source": [
    "data.groupby(\"pathogen\").size()"
   ]
  },
  {
   "cell_type": "code",
   "execution_count": 197,
   "metadata": {
    "collapsed": false
   },
   "outputs": [],
   "source": [
    "def plot(X2, X, method):\n",
    "    markers = [    'o', 'v','8',   's', 'p', '*', 'h', 'H', 'D', 'd', 'P', 'X' ]\n",
    "    pathogens = list(set(X[\"pathogen\"]))\n",
    "    path_map = {}\n",
    "    print(pathogens)\n",
    "    for i, p in enumerate(pathogens):\n",
    "        path_map[p] = markers[i]\n",
    "    \n",
    "    uniq = list(set(X[\"gene\"]))\n",
    "    \n",
    "    hot = plt.get_cmap('hot')\n",
    "    cNorm = colors.Normalize(vmin=0, vmax=len(uniq))\n",
    "    scalarMap = cmx.ScalarMappable(norm=cNorm, cmap=hot)\n",
    "    alpha = 0.5\n",
    "    \n",
    "    plt.figure()\n",
    "    for i in range(len(uniq)):\n",
    "        indx = X[\"gene\"] == uniq[i]\n",
    "        XG = X.loc[indx,:]\n",
    "        XP = X2[indx,:]\n",
    "        unip = list(set(XG[\"pathogen\"]))\n",
    "        for j in range(len(unip)):\n",
    "            indx = XG[\"pathogen\"] == unip[j]\n",
    "            plt.scatter(XP[indx, 1], XP[indx, 0], \n",
    "                        color=scalarMap.to_rgba(i),\n",
    "                        label=unip[j].capitalize() + \": \"+ uniq[i].upper(),\n",
    "                        marker=path_map[ unip[j]  ], alpha=alpha)\n",
    "    if len(uniq) <= 5:     \n",
    "        plt.legend( fontsize=\"xx-small\")    \n",
    "    uid = str(uuid.uuid1())\n",
    "    \n",
    "    plt.savefig(\n",
    "      \"/Users/simondi/PROJECTS/target_infect_x_project/src/tix_util/tix_analysis/plots/scatter_\" + method + \"_2d\" +uid+ \".png\",\n",
    "      dpi=720)\n",
    "    plt.close()"
   ]
  },
  {
   "cell_type": "code",
   "execution_count": 182,
   "metadata": {
    "collapsed": false
   },
   "outputs": [],
   "source": [
    "gene_list = list(set(data[\"gene\"]))"
   ]
  },
  {
   "cell_type": "code",
   "execution_count": 183,
   "metadata": {
    "collapsed": true
   },
   "outputs": [],
   "source": [
    "feature_cols_idxs = [x for x in data.columns.values if x.startswith(\"cells\")]"
   ]
  },
  {
   "cell_type": "code",
   "execution_count": 188,
   "metadata": {
    "collapsed": false
   },
   "outputs": [],
   "source": [
    "def tsne(data, genes_list, cnt):\n",
    "    uid = str(uuid.uuid1())\n",
    "    shuffle(gene_list)\n",
    "    used_genes = gene_list[1:cnt]\n",
    "    X = data[ data[\"gene\"].isin(used_genes)]\n",
    "    for x in [1, 5, 10, 30, 50, 100]:\n",
    "        ts2 = sklearn.manifold.TSNE(n_components=2, perplexity=x, n_iter=5000)\n",
    "        X2 = ts2.fit_transform(X.loc[:, feature_cols_idxs])\n",
    "        plot(X2, X, \"tsne_\" + str(x))"
   ]
  },
  {
   "cell_type": "code",
   "execution_count": 189,
   "metadata": {
    "collapsed": true
   },
   "outputs": [],
   "source": [
    "def lle(data, genes_list, cnt):\n",
    "    uid = str(uuid.uuid1())\n",
    "    shuffle(gene_list)\n",
    "    used_genes = gene_list[1:cnt]\n",
    "    X = data[ data[\"gene\"].isin(used_genes)]\n",
    "    for x in [5, 10, 30]:\n",
    "        ts2 = sklearn.manifold.LocallyLinearEmbedding(n_components=2,method=\"standard\",n_neighbors=x)\n",
    "        X2 = ts2.fit_transform(X.loc[:, feature_cols_idxs])\n",
    "        plot(X2, X, \"lle_\"+ str(x))"
   ]
  },
  {
   "cell_type": "code",
   "execution_count": 190,
   "metadata": {
    "collapsed": false
   },
   "outputs": [],
   "source": [
    "def kpca(data, genes_list, cnt):\n",
    "    uid = str(uuid.uuid1())\n",
    "    shuffle(gene_list)\n",
    "    used_genes = gene_list[1:cnt]\n",
    "    X = data[ data[\"gene\"].isin(used_genes)]\n",
    "    for x in [\"rbf\", \"poly\", \"rbf\"]:\n",
    "        ts2 = sklearn.decomposition.KernelPCA(n_components=2, kernel=x)\n",
    "        X2 = ts2.fit_transform(X.loc[:, feature_cols_idxs])\n",
    "        plot(X2, X, \"kpca_\" + x)"
   ]
  },
  {
   "cell_type": "code",
   "execution_count": 191,
   "metadata": {
    "collapsed": true
   },
   "outputs": [],
   "source": [
    "def pca(data, genes_list, cnt):\n",
    "    uid = str(uuid.uuid1())\n",
    "    shuffle(gene_list)\n",
    "    used_genes = gene_list[1:cnt]\n",
    "    X = data[ data[\"gene\"].isin(used_genes)]\n",
    "    ts2 = sklearn.decomposition.PCA(n_components=2, )\n",
    "    X2 = ts2.fit_transform(X.loc[:, feature_cols_idxs])\n",
    "    plot(X2, X, \"pca\")"
   ]
  },
  {
   "cell_type": "code",
   "execution_count": null,
   "metadata": {
    "collapsed": false
   },
   "outputs": [
    {
     "name": "stdout",
     "output_type": "stream",
     "text": [
      "['adeno', 'brucella', 'bartonella', 'listeria']\n",
      "['bartonella', 'listeria', 'brucella', 'adeno']\n",
      "['bartonella', 'listeria', 'brucella', 'adeno']\n",
      "['bartonella', 'listeria', 'brucella', 'adeno']\n",
      "['bartonella', 'listeria', 'brucella', 'adeno']\n",
      "['bartonella', 'listeria', 'brucella', 'adeno']\n",
      "['bartonella', 'listeria', 'brucella', 'adeno']\n",
      "['brucella', 'listeria', 'bartonella', 'adeno']\n",
      "['brucella', 'listeria', 'bartonella', 'adeno']\n",
      "['brucella', 'listeria', 'bartonella', 'adeno']\n",
      "['adeno', 'brucella', 'bartonella', 'listeria']\n",
      "['adeno', 'brucella', 'bartonella', 'listeria']\n",
      "['adeno', 'brucella', 'bartonella', 'listeria']\n",
      "['brucella', 'listeria', 'bartonella', 'adeno']\n",
      "['adeno', 'brucella', 'bartonella', 'listeria']\n",
      "['adeno', 'brucella', 'bartonella', 'listeria']\n",
      "['adeno', 'brucella', 'bartonella', 'listeria']\n",
      "['adeno', 'brucella', 'bartonella', 'listeria']\n",
      "['adeno', 'brucella', 'bartonella', 'listeria']\n",
      "['adeno', 'brucella', 'bartonella', 'listeria']\n",
      "['adeno', 'brucella', 'bartonella', 'listeria']\n",
      "['adeno', 'brucella', 'bartonella', 'listeria']\n",
      "['adeno', 'brucella', 'bartonella', 'listeria']\n",
      "['adeno', 'bartonella', 'brucella', 'listeria']\n",
      "['adeno', 'bartonella', 'brucella', 'listeria']\n",
      "['adeno', 'bartonella', 'brucella', 'listeria']\n",
      "['bartonella', 'listeria', 'brucella', 'adeno']\n",
      "['bartonella', 'adeno', 'brucella', 'listeria']\n",
      "['bartonella', 'adeno', 'brucella', 'listeria']\n",
      "['bartonella', 'adeno', 'brucella', 'listeria']\n",
      "['bartonella', 'adeno', 'brucella', 'listeria']\n",
      "['bartonella', 'adeno', 'brucella', 'listeria']\n",
      "['bartonella', 'adeno', 'brucella', 'listeria']\n",
      "['adeno', 'brucella', 'bartonella', 'listeria']\n",
      "['adeno', 'brucella', 'bartonella', 'listeria']\n",
      "['adeno', 'brucella', 'bartonella', 'listeria']\n",
      "['bartonella', 'adeno', 'brucella', 'listeria']\n",
      "['bartonella', 'adeno', 'brucella', 'listeria']\n",
      "['bartonella', 'adeno', 'brucella', 'listeria']\n",
      "['bartonella', 'adeno', 'brucella', 'listeria']\n",
      "['brucella', 'listeria', 'bartonella', 'adeno']\n",
      "['brucella', 'listeria', 'bartonella', 'adeno']\n",
      "['brucella', 'listeria', 'bartonella', 'adeno']\n",
      "['brucella', 'listeria', 'bartonella', 'adeno']\n",
      "['brucella', 'listeria', 'bartonella', 'adeno']\n",
      "['brucella', 'listeria', 'bartonella', 'adeno']\n",
      "['adeno', 'brucella', 'bartonella', 'listeria']\n",
      "['adeno', 'brucella', 'bartonella', 'listeria']\n",
      "['adeno', 'brucella', 'bartonella', 'listeria']\n",
      "['brucella', 'listeria', 'bartonella', 'adeno']\n",
      "['brucella', 'listeria', 'bartonella', 'adeno']\n",
      "['brucella', 'listeria', 'bartonella', 'adeno']\n",
      "['adeno', 'brucella', 'bartonella', 'listeria']\n",
      "['bartonella', 'listeria', 'brucella', 'adeno']\n",
      "['bartonella', 'listeria', 'brucella', 'adeno']\n",
      "['bartonella', 'listeria', 'brucella', 'adeno']\n",
      "['bartonella', 'listeria', 'brucella', 'adeno']\n",
      "['bartonella', 'listeria', 'brucella', 'adeno']\n",
      "['bartonella', 'listeria', 'brucella', 'adeno']\n",
      "['adeno', 'brucella', 'bartonella', 'listeria']\n",
      "['adeno', 'brucella', 'bartonella', 'listeria']\n",
      "['adeno', 'brucella', 'bartonella', 'listeria']\n",
      "['brucella', 'listeria', 'bartonella', 'adeno']\n",
      "['brucella', 'listeria', 'bartonella', 'adeno']\n",
      "['brucella', 'listeria', 'bartonella', 'adeno']\n",
      "['bartonella', 'adeno', 'brucella', 'listeria']\n",
      "['brucella', 'listeria', 'bartonella', 'adeno']\n"
     ]
    }
   ],
   "source": [
    "for i in range(10):\n",
    "    pca(data, gene_list, 5)\n",
    "    tsne(data, gene_list, 5)\n",
    "    lle(data, gene_list, 5)\n",
    "    kpca(data, gene_list, 5)\n",
    "    pca(data, gene_list, 10)\n",
    "    tsne(data, gene_list, 10)\n",
    "    lle(data, gene_list, 10)\n",
    "    kpca(data, gene_list, 10)\n",
    "    \n",
    "pca(data, gene_list, 100)\n",
    "tsne(data, gene_list, 100)\n",
    "lle(data, gene_list, 100)\n",
    "kpca(data, gene_list, 100)"
   ]
  },
  {
   "cell_type": "code",
   "execution_count": null,
   "metadata": {
    "collapsed": true
   },
   "outputs": [],
   "source": []
  }
 ],
 "metadata": {
  "kernelspec": {
   "display_name": "Python 3",
   "language": "python",
   "name": "python3"
  },
  "language_info": {
   "codemirror_mode": {
    "name": "ipython",
    "version": 3
   },
   "file_extension": ".py",
   "mimetype": "text/x-python",
   "name": "python",
   "nbconvert_exporter": "python",
   "pygments_lexer": "ipython3",
   "version": "3.5.2"
  }
 },
 "nbformat": 4,
 "nbformat_minor": 0
}
