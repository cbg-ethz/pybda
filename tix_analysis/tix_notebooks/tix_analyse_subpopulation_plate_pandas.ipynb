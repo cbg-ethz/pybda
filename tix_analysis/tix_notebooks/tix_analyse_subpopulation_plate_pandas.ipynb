{
 "cells": [
  {
   "cell_type": "code",
   "execution_count": 1,
   "metadata": {
    "collapsed": true
   },
   "outputs": [],
   "source": [
    "import uuid\n",
    "import pandas\n",
    "import numpy\n",
    "from random import shuffle\n",
    "\n",
    "import sklearn\n",
    "from sklearn.decomposition import PCA\n",
    "from sklearn.discriminant_analysis import LinearDiscriminantAnalysis\n",
    "import sklearn.manifold\n",
    "\n",
    "import matplotlib\n",
    "from mpl_toolkits.mplot3d import Axes3D\n",
    "import matplotlib.pyplot as plt\n",
    "import matplotlib.colors as colors\n",
    "import matplotlib.cm as cmx\n",
    "\n",
    "import os"
   ]
  },
  {
   "cell_type": "code",
   "execution_count": 20,
   "metadata": {
    "collapsed": false
   },
   "outputs": [],
   "source": [
    "def load_data():\n",
    "    \n",
    "    filename = \"/Users/simondi/PHD/data/data/target_infect_x/screening_data/infectx-bartonella-d-p-g-1-dz14-2a_cells_data.tsv\"\n",
    "\n",
    "    data = pandas.read_csv(filename, sep=\"\\t\", header=0)\n",
    "\n",
    "    feature_cols = [(i, x) for i, x in enumerate(data.columns.values) if\n",
    "                    x.startswith(\"cells\")]\n",
    "    for i, c in feature_cols:\n",
    "        data.loc[:, c] = data.loc[:, c].astype('float64')\n",
    "\n",
    "    X = data.dropna(subset=[\"cells.children_invasomes_count\"], how='all')\n",
    "    X[\"cells.children_invasomes_count\"] =  X[\"cells.children_invasomes_count\"].fillna(0)\n",
    "    X = X.dropna()\n",
    "    X[\"infection\"] = X[\"cells.children_invasomes_count\"]\n",
    "    del X[\"cells.children_invasomes_count\"]\n",
    "    \n",
    "    return X"
   ]
  },
  {
   "cell_type": "code",
   "execution_count": null,
   "metadata": {
    "collapsed": true
   },
   "outputs": [],
   "source": [
    "def plot(data, gene_list, cnt):\n",
    "\n",
    "    shuffle(gene_list)\n",
    "    used_genes = gene_list[1:cnt]\n",
    "    X = data[ data[\"gene\"].isin(used_genes)]\n",
    "     \n",
    "    uniq = list(set(X[\"gene\"]))\n",
    "\n",
    "    hot = plt.get_cmap('hot')\n",
    "    cNorm = colors.Normalize(vmin=0, vmax=len(uniq))\n",
    "    scalarMap = cmx.ScalarMappable(norm=cNorm, cmap=hot)\n",
    "    alpha = 0.5\n",
    "\n",
    "    plt.figure()\n",
    "    for i in range(len(uniq)):\n",
    "        indx = X[\"gene\"] == uniq[i]\n",
    "        plt.scatter(X.loc[indx, \"cells.location_center_x\"], X.loc[indx, \"cells.location_center_x\"],\n",
    "                    color=scalarMap.to_rgba(i),\n",
    "                    label=uniq[i], marker=\".\", alpha=alpha)\n",
    "    if len(uniq) < 20:     \n",
    "        plt.legend()    \n",
    "    \n",
    "    uid = str(uuid.uuid1())\n",
    "    plt.show()"
   ]
  },
  {
   "cell_type": "code",
   "execution_count": 21,
   "metadata": {
    "collapsed": false
   },
   "outputs": [],
   "source": [
    "X = load_data()"
   ]
  },
  {
   "cell_type": "code",
   "execution_count": 22,
   "metadata": {
    "collapsed": false
   },
   "outputs": [],
   "source": [
    "gene_list = list(set(X[\"gene\"]))"
   ]
  },
  {
   "cell_type": "code",
   "execution_count": 23,
   "metadata": {
    "collapsed": true
   },
   "outputs": [],
   "source": [
    "cnt  = 10"
   ]
  },
  {
   "cell_type": "code",
   "execution_count": 35,
   "metadata": {
    "collapsed": false
   },
   "outputs": [],
   "source": [
    "shuffle(gene_list)\n",
    "used_genes = gene_list[1:cnt]\n",
    "Y = X.groupby(\"gene\").apply(lambda x: x.sample(10))\n",
    "Y = Y[ Y[\"gene\"].isin(used_genes)]"
   ]
  },
  {
   "cell_type": "code",
   "execution_count": 36,
   "metadata": {
    "collapsed": false
   },
   "outputs": [
    {
     "data": {
      "text/plain": [
       "9"
      ]
     },
     "execution_count": 36,
     "metadata": {},
     "output_type": "execute_result"
    }
   ],
   "source": [
    "uniq = list(set(Y[\"gene\"]))\n",
    "len(uniq)"
   ]
  },
  {
   "cell_type": "code",
   "execution_count": 39,
   "metadata": {
    "collapsed": false
   },
   "outputs": [
    {
     "data": {
      "image/png": "[encoded data removed]",
      "text/plain": [
       "<matplotlib.figure.Figure at 0x11d16b588>"
      ]
     },
     "metadata": {},
     "output_type": "display_data"
    }
   ],
   "source": [
    "hot = plt.get_cmap('hot')\n",
    "cNorm = colors.Normalize(vmin=0, vmax=len(uniq))\n",
    "scalarMap = cmx.ScalarMappable(norm=cNorm, cmap=hot)\n",
    "alpha = 0.5\n",
    "\n",
    "plt.figure()\n",
    "for i in range(len(uniq)):\n",
    "    indx = Y[\"gene\"] == uniq[i]\n",
    "    plt.scatter(Y.loc[indx, \"cells.location_center_x\"], Y.loc[indx, \"cells.location_center_y\"],\n",
    "                color=scalarMap.to_rgba(i),\n",
    "                label=uniq[i], marker=\".\", alpha=alpha)\n",
    "if len(uniq) < 20:     \n",
    "    plt.legend()    \n",
    "\n",
    "uid = str(uuid.uuid1())\n",
    "plt.show()"
   ]
  },
  {
   "cell_type": "code",
   "execution_count": 45,
   "metadata": {
    "collapsed": true
   },
   "outputs": [],
   "source": [
    "def plot_tsna(X2, X):\n",
    "    uniq = list(set(X[\"gene\"]))\n",
    "    \n",
    "    hot = plt.get_cmap('hot')\n",
    "    cNorm = colors.Normalize(vmin=0, vmax=len(uniq))\n",
    "    scalarMap = cmx.ScalarMappable(norm=cNorm, cmap=hot)\n",
    "    alpha = 0.5\n",
    "    \n",
    "    plt.figure()\n",
    "    for i in range(len(uniq)):\n",
    "        indx = X[\"gene\"] == uniq[i]\n",
    "        plt.scatter(X2[indx, 1], X2[indx, 0], color=scalarMap.to_rgba(i),\n",
    "                    label=uniq[i], marker=\".\", alpha=alpha)\n",
    "    if len(uniq) < 20:     \n",
    "        plt.legend()    \n",
    "    uid = str(uuid.uuid1())\n",
    "#     plt.savefig(\n",
    "#       \"/Users/simondi/PROJECTS/target_infect_x_project/src/tix_util/tix_analysis/plots/scatter_\" + method + \"_2d\" +uid+ \".png\",\n",
    "#       dpi=720)\n",
    "#     plt.close()\n",
    "    plt.show()"
   ]
  },
  {
   "cell_type": "code",
   "execution_count": null,
   "metadata": {
    "collapsed": false
   },
   "outputs": [],
   "source": [
    "feature_cols_idxs = [x for x in X.columns.values if x.startswith(\"cells\")]\n",
    "x = 30\n",
    "ts2 = sklearn.manifold.TSNE(n_components=2, perplexity=x, n_iter=5000)\n",
    "X2 = ts2.fit_transform(X.loc[:, feature_cols_idxs])\n",
    "\n",
    "plot_tsna(X2, X, \"tsne_\" + str(x))"
   ]
  },
  {
   "cell_type": "code",
   "execution_count": null,
   "metadata": {
    "collapsed": true
   },
   "outputs": [],
   "source": []
  }
 ],
 "metadata": {
  "kernelspec": {
   "display_name": "Python 3",
   "language": "python",
   "name": "python3"
  },
  "language_info": {
   "codemirror_mode": {
    "name": "ipython",
    "version": 3
   },
   "file_extension": ".py",
   "mimetype": "text/x-python",
   "name": "python",
   "nbconvert_exporter": "python",
   "pygments_lexer": "ipython3",
   "version": "3.5.2"
  }
 },
 "nbformat": 4,
 "nbformat_minor": 2
}
