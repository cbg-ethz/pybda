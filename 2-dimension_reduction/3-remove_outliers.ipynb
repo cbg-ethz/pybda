{
 "cells": [
  {
   "cell_type": "code",
   "execution_count": 1,
   "metadata": {},
   "outputs": [],
   "source": [
    "import os\n",
    "import sys\n",
    "import pandas\n",
    "import numpy, scipy, sklearn\n",
    "\n",
    "import findspark\n",
    "findspark.init(\"/usr/local/spark/spark\")\n",
    "\n",
    "import pyspark\n",
    "from pyspark.sql.window import Window\n",
    "import pyspark.sql.functions as func\n",
    "\n",
    "from pyspark.rdd import reduce\n",
    "from pyspark.sql.types import DoubleType\n",
    "from pyspark.ml.feature import VectorAssembler\n",
    "from pyspark.ml.clustering import KMeansModel, KMeans\n",
    "from pyspark.ml.linalg import SparseVector, VectorUDT, Vector, Vectors"
   ]
  },
  {
   "cell_type": "code",
   "execution_count": 2,
   "metadata": {},
   "outputs": [],
   "source": [
    "from pyspark.sql.functions import udf, col, struct\n",
    "from pyspark.sql.types import ArrayType, DoubleType, StringType\n",
    "from pyspark.mllib.linalg.distributed import RowMatrix, DenseMatrix\n",
    "\n",
    "from pyspark.mllib.stat import Statistics"
   ]
  },
  {
   "cell_type": "code",
   "execution_count": 3,
   "metadata": {},
   "outputs": [],
   "source": [
    "from numpy import linalg\n",
    "from scipy import stats"
   ]
  },
  {
   "cell_type": "code",
   "execution_count": 4,
   "metadata": {},
   "outputs": [],
   "source": [
    "conf = pyspark.SparkConf().setMaster(\"local[*]\").set(\"spark.driver.memory\", \"4G\").set(\"spark.executor.memory\", \"4G\")\n",
    "sc = pyspark.SparkContext(conf=conf)\n",
    "spark = pyspark.sql.SparkSession(sc)"
   ]
  },
  {
   "cell_type": "code",
   "execution_count": 5,
   "metadata": {},
   "outputs": [],
   "source": [
    "file_name = \"/Users/simondi/PROJECTS/target_infect_x_project/data/target_infect_x/query_data/cells_sample_10_normalized_cut_100_factors/\""
   ]
  },
  {
   "cell_type": "code",
   "execution_count": 7,
   "metadata": {},
   "outputs": [],
   "source": [
    "file_name_red = \"/Users/simondi/PROJECTS/target_infect_x_project/data/target_infect_x/query_data/cells_sample_10_normalized_cut_100_factors_red/\""
   ]
  },
  {
   "cell_type": "code",
   "execution_count": 9,
   "metadata": {},
   "outputs": [],
   "source": [
    "df = spark.read.parquet(file_name)\n",
    "df2 = spark.read.parquet(file_name_red)"
   ]
  },
  {
   "cell_type": "code",
   "execution_count": 11,
   "metadata": {},
   "outputs": [
    {
     "data": {
      "text/plain": [
       "[Row(study='infectx_published', pathogen='listeria', library='a', design='u', replicate='1', plate='kb2-02-1x', well='a01', gene='chka', sirna='s3008', well_type='sirna', image_idx='4', object_idx='144', cells_areashape_area=-0.8044235519947214, cells_areashape_eccentricity=0.01210726352227413, cells_areashape_extent=1.1159023326616404, cells_areashape_formfactor=1.4749286136850854, cells_areashape_majoraxislength=-0.9368530225439791, cells_areashape_minoraxislength=-0.7485320762193192, cells_areashape_perimeter=-1.0209269921587854, cells_children_bacteria_count=-0.7030171063989196, cells_children_invasomes_count=0.0, cells_location_center_x=0.44758084788204255, cells_location_center_y=1.2808903222918113, cells_neighbors_anglebetweenneighbors_2=1.3915760955745562, cells_neighbors_firstclosestobjectnumber_2=0.14886791955020456, cells_neighbors_firstclosestxvector_2=0.6694456185473984, cells_neighbors_firstclosestyvector_2=-1.233468444008488, cells_neighbors_numberofneighbors_2=-0.08251849113020833, cells_neighbors_secondclosestobjectnumber_2=0.010590200221473884, cells_neighbors_secondclosestxvector_2=-0.5078296335206587, cells_neighbors_secondclosestyvector_2=1.2455372476249023, cells_parent_nuclei=0.13572336470424068, features=DenseVector([0.7496, -0.4258, 1.5657, -0.3073, 0.3223, 0.5355, -1.9055, 0.1969, 1.099, -0.0041]))]"
      ]
     },
     "execution_count": 11,
     "metadata": {},
     "output_type": "execute_result"
    }
   ],
   "source": [
    "df.take(1)"
   ]
  },
  {
   "cell_type": "code",
   "execution_count": 12,
   "metadata": {},
   "outputs": [
    {
     "data": {
      "text/plain": [
       "[Row(study='infectx_published', pathogen='listeria', library='a', design='u', replicate='1', plate='kb2-02-1x', well='a01', gene='chka', sirna='s3008', well_type='sirna', image_idx='4', object_idx='144', cells_areashape_area=-0.8044235519947214, cells_areashape_eccentricity=0.01210726352227413, cells_areashape_extent=1.1159023326616404, cells_areashape_formfactor=1.4749286136850854, cells_areashape_majoraxislength=-0.9368530225439791, cells_areashape_minoraxislength=-0.7485320762193192, cells_areashape_perimeter=-1.0209269921587854, cells_children_bacteria_count=-0.7030171063989196, cells_children_invasomes_count=0.0, cells_location_center_x=0.44758084788204255, cells_location_center_y=1.2808903222918113, cells_neighbors_anglebetweenneighbors_2=1.3915760955745562, cells_neighbors_firstclosestobjectnumber_2=0.14886791955020456, cells_neighbors_firstclosestxvector_2=0.6694456185473984, cells_neighbors_firstclosestyvector_2=-1.233468444008488, cells_neighbors_numberofneighbors_2=-0.08251849113020833, cells_neighbors_secondclosestobjectnumber_2=0.010590200221473884, cells_neighbors_secondclosestxvector_2=-0.5078296335206587, cells_neighbors_secondclosestyvector_2=1.2455372476249023, cells_parent_nuclei=0.13572336470424068, features=DenseVector([0.7496, -0.4258, 1.5657, -0.3073, 0.3223, 0.5355, -1.9055, 0.1969, 1.099, -0.0041]), maha=7.679653985417163)]"
      ]
     },
     "execution_count": 12,
     "metadata": {},
     "output_type": "execute_result"
    }
   ],
   "source": [
    "df2.take(1)"
   ]
  },
  {
   "cell_type": "code",
   "execution_count": 7,
   "metadata": {},
   "outputs": [
    {
     "data": {
      "text/plain": [
       "['study',\n",
       " 'pathogen',\n",
       " 'library',\n",
       " 'design',\n",
       " 'replicate',\n",
       " 'plate',\n",
       " 'well',\n",
       " 'gene',\n",
       " 'sirna',\n",
       " 'well_type',\n",
       " 'image_idx',\n",
       " 'object_idx']"
      ]
     },
     "execution_count": 7,
     "metadata": {},
     "output_type": "execute_result"
    }
   ],
   "source": [
    "desc_columns = [x for x in df.columns if (not x.startswith(\"cells\") and not x.startswith(\"perin\") and not x.startswith(\"nucl\")) and not x.startswith(\"cells_children_invasomes_count\") and not x.startswith(\"features\")]\n",
    "desc_columns"
   ]
  },
  {
   "cell_type": "code",
   "execution_count": 59,
   "metadata": {},
   "outputs": [],
   "source": [
    "def to_array(col):\n",
    "    def to_array_(v):\n",
    "        return v.toArray().tolist()\n",
    "    return udf(to_array_, ArrayType(DoubleType()))(col)\n",
    "\n",
    "len_vec = len(df.select(\"features\").take(1)[0][0])\n",
    "\n",
    "df2 =(df.withColumn(\"f\", to_array(col(\"features\")))\n",
    "    .select(df.columns + [col(\"f\")[i] for i in range(len_vec)]))\n",
    "\n",
    "for i, x in enumerate(df2.columns):\n",
    "    if x.startswith(\"f[\"):\n",
    "        df2 = df2.withColumnRenamed(x, x.replace(\"[\", \"_\").replace(\"]\", \"\"))\n"
   ]
  },
  {
   "cell_type": "code",
   "execution_count": 60,
   "metadata": {},
   "outputs": [
    {
     "data": {
      "text/plain": [
       "['f_0', 'f_1', 'f_2', 'f_3', 'f_4', 'f_5', 'f_6', 'f_7', 'f_8', 'f_9']"
      ]
     },
     "execution_count": 60,
     "metadata": {},
     "output_type": "execute_result"
    }
   ],
   "source": [
    "[x for x in df2.columns if x.startswith(\"f_\")]"
   ]
  },
  {
   "cell_type": "code",
   "execution_count": 61,
   "metadata": {},
   "outputs": [],
   "source": [
    "f_cols = []\n",
    "for _, x in enumerate(df2.columns):\n",
    "    if x.startswith(\"f_\"):\n",
    "        f_cols.append(x)"
   ]
  },
  {
   "cell_type": "code",
   "execution_count": 62,
   "metadata": {},
   "outputs": [],
   "source": [
    "rdd = df2.select(f_cols).rdd.map(list)\n",
    "summary = Statistics.colStats(rdd)\n",
    "means = summary.mean()"
   ]
  },
  {
   "cell_type": "code",
   "execution_count": 63,
   "metadata": {},
   "outputs": [],
   "source": [
    "X = RowMatrix(RowMatrix(rdd).rows.map(lambda x: x - means))"
   ]
  },
  {
   "cell_type": "code",
   "execution_count": 64,
   "metadata": {},
   "outputs": [],
   "source": [
    "Cov = X.computeCovariance() "
   ]
  },
  {
   "cell_type": "code",
   "execution_count": 65,
   "metadata": {},
   "outputs": [
    {
     "data": {
      "text/plain": [
       "array([[  4.61483837,  -1.21970939,  -2.03988054,   1.57684704,\n",
       "         -8.78183355,   2.48015193,  -0.33176774,   1.42871069,\n",
       "          0.29384616,   3.26571233],\n",
       "       [ -1.21970939,   4.66383626,   1.26470071,  -1.63242464,\n",
       "         -3.49082448,  -0.66449692,  -1.68349341,  -4.21262924,\n",
       "         -0.79365823,  -0.88271342],\n",
       "       [ -2.03988054,   1.26470071,   3.41135463,  -0.80188545,\n",
       "          6.57393891,  -6.20878519,   0.18442818,  -1.7231523 ,\n",
       "         -0.4211366 ,  -2.9122063 ],\n",
       "       [  1.57684704,  -1.63242464,  -0.80188545,   5.83111469,\n",
       "         -5.46323645,   7.88573214,  -0.07247254,  -0.41022297,\n",
       "          0.14981177,   2.13959539],\n",
       "       [ -8.78183355,  -3.49082448,   6.57393891,  -5.46323645,\n",
       "         54.82855389, -19.59359531,   6.49964727,  10.98076842,\n",
       "          1.83822807, -10.1653187 ],\n",
       "       [  2.48015193,  -0.66449692,  -6.20878519,   7.88573214,\n",
       "        -19.59359531,  33.33047657,  -0.06396646,  -1.96622908,\n",
       "         -0.48827882,   9.63678612],\n",
       "       [ -0.33176774,  -1.68349341,   0.18442818,  -0.07247254,\n",
       "          6.49964727,  -0.06396646,   1.96691982,   2.49703932,\n",
       "         -0.11976892,  -0.44862564],\n",
       "       [  1.42871069,  -4.21262924,  -1.7231523 ,  -0.41022297,\n",
       "         10.98076842,  -1.96622908,   2.49703932,   8.69421598,\n",
       "          1.12162022,   0.56401662],\n",
       "       [  0.29384616,  -0.79365823,  -0.4211366 ,   0.14981177,\n",
       "          1.83822807,  -0.48827882,  -0.11976892,   1.12162022,\n",
       "          1.60567386,   0.84699763],\n",
       "       [  3.26571233,  -0.88271342,  -2.9122063 ,   2.13959539,\n",
       "        -10.1653187 ,   9.63678612,  -0.44862564,   0.56401662,\n",
       "          0.84699763,   9.45394971]])"
      ]
     },
     "execution_count": 65,
     "metadata": {},
     "output_type": "execute_result"
    }
   ],
   "source": [
    "Precision = numpy.linalg.inv(Cov.toArray())\n",
    "Precision"
   ]
  },
  {
   "cell_type": "code",
   "execution_count": 67,
   "metadata": {},
   "outputs": [
    {
     "data": {
      "text/plain": [
       "(10, 10)"
      ]
     },
     "execution_count": 67,
     "metadata": {},
     "output_type": "execute_result"
    }
   ],
   "source": [
    "Precision.shape"
   ]
  },
  {
   "cell_type": "code",
   "execution_count": 14,
   "metadata": {},
   "outputs": [],
   "source": [
    "def to_array(col):\n",
    "    def to_array_(v):\n",
    "        arr = v.toArray()\n",
    "        arr = arr.dot(Precision).dot(arr)\n",
    "        return float(arr)\n",
    "    return udf(to_array_, DoubleType())(col)"
   ]
  },
  {
   "cell_type": "code",
   "execution_count": 15,
   "metadata": {},
   "outputs": [],
   "source": [
    "df = df.withColumn(\"maha\", to_array(col(\"features\")))"
   ]
  },
  {
   "cell_type": "code",
   "execution_count": 16,
   "metadata": {},
   "outputs": [],
   "source": [
    "rdd = df.select(\"maha\").rdd.map(list)\n",
    "summary = Statistics.colStats(rdd)\n",
    "means, var  = summary.mean(), summary.variance()"
   ]
  },
  {
   "cell_type": "code",
   "execution_count": 68,
   "metadata": {},
   "outputs": [],
   "source": [
    "quant = scipy.stats.chi2.ppf(q=.975, df=Precision.shape[0])"
   ]
  },
  {
   "cell_type": "code",
   "execution_count": 69,
   "metadata": {},
   "outputs": [
    {
     "data": {
      "text/plain": [
       "20.48317735080739"
      ]
     },
     "execution_count": 69,
     "metadata": {},
     "output_type": "execute_result"
    }
   ],
   "source": [
    "quant"
   ]
  },
  {
   "cell_type": "code",
   "execution_count": 23,
   "metadata": {},
   "outputs": [
    {
     "data": {
      "text/plain": [
       "97"
      ]
     },
     "execution_count": 23,
     "metadata": {},
     "output_type": "execute_result"
    }
   ],
   "source": [
    "df.filter(df.maha < quant).count()"
   ]
  },
  {
   "cell_type": "code",
   "execution_count": 24,
   "metadata": {},
   "outputs": [],
   "source": [
    "spark.stop()\n"
   ]
  },
  {
   "cell_type": "code",
   "execution_count": null,
   "metadata": {},
   "outputs": [],
   "source": []
  }
 ],
 "metadata": {
  "kernelspec": {
   "display_name": "py36-test",
   "language": "python",
   "name": "py36-test"
  },
  "language_info": {
   "codemirror_mode": {
    "name": "ipython",
    "version": 3
   },
   "file_extension": ".py",
   "mimetype": "text/x-python",
   "name": "python",
   "nbconvert_exporter": "python",
   "pygments_lexer": "ipython3",
   "version": "3.6.4"
  }
 },
 "nbformat": 4,
 "nbformat_minor": 2
}
