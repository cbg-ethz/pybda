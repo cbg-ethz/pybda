{
 "cells": [
  {
   "cell_type": "code",
   "execution_count": 1,
   "metadata": {},
   "outputs": [],
   "source": [
    "import os\n",
    "import sys\n",
    "import pandas\n",
    "import numpy, scipy, sklearn\n",
    "\n",
    "import findspark\n",
    "findspark.init(\"/usr/local/spark/spark\")\n",
    "\n",
    "import pyspark\n",
    "from pyspark.sql.window import Window\n",
    "import pyspark.sql.functions as func\n",
    "\n",
    "from pyspark.rdd import reduce\n",
    "from pyspark.sql.types import DoubleType\n",
    "from pyspark.ml.feature import VectorAssembler\n",
    "from pyspark.ml.clustering import KMeansModel, KMeans\n",
    "from pyspark.ml.linalg import SparseVector, VectorUDT, Vector, Vectors"
   ]
  },
  {
   "cell_type": "code",
   "execution_count": 5,
   "metadata": {},
   "outputs": [],
   "source": [
    "file_name = \"/Users/simondi/PROJECTS/target_infect_x_project/results/2-analysis/1-fa/kmeans_fa/all_optimal_from_file_feature_dbq_250_cells_100\""
   ]
  },
  {
   "cell_type": "code",
   "execution_count": 3,
   "metadata": {},
   "outputs": [],
   "source": [
    "conf = pyspark.SparkConf().setMaster(\"local[*]\").set(\"spark.driver.memory\", \"4G\").set(\"spark.executor.memory\", \"4G\")\n",
    "sc = pyspark.SparkContext(conf=conf)\n",
    "spark = pyspark.sql.SparkSession(sc)"
   ]
  },
  {
   "cell_type": "code",
   "execution_count": 4,
   "metadata": {},
   "outputs": [
    {
     "data": {
      "text/plain": [
       "'2.2.0'"
      ]
     },
     "execution_count": 4,
     "metadata": {},
     "output_type": "execute_result"
    }
   ],
   "source": [
    "spark.version"
   ]
  },
  {
   "cell_type": "code",
   "execution_count": 13,
   "metadata": {},
   "outputs": [],
   "source": [
    "df = spark.read.csv(path=file_name, sep=\"\\t\", header='true')"
   ]
  },
  {
   "cell_type": "code",
   "execution_count": 16,
   "metadata": {},
   "outputs": [
    {
     "data": {
      "text/plain": [
       "[Row(study='group_cossart', pathogen='listeria', library='d', design='p', replicate='1', plate='dz01-1k', well='a01', gene='atp6v1a', sirna='l-017590-01', well_type='control', image_idx='3', object_idx='196', cells_children_bacteria_count=-0.6348524588490496, cells_children_invasomes_count=0.0, cells_parent_nuclei=1.637146964522227, nuclei_areashape_area=1.331986032373456, nuclei_areashape_eccentricity=0.6991364038587189, nuclei_areashape_extent=1.0779592159992262, nuclei_areashape_formfactor=0.5356999999952932, nuclei_areashape_majoraxislength=1.2761067493510043, nuclei_areashape_minoraxislength=0.6184093315089785, nuclei_areashape_orientation=1.5058170723130202, nuclei_areashape_perimeter=0.849385606533167, nuclei_children_perinuclei_count=0.0, nuclei_location_center_x=1.3666459116451455, nuclei_location_center_y=0.39182218594382734, perinuclei_areashape_area=1.2084589080433021, perinuclei_areashape_eccentricity=0.3005343851706547, perinuclei_areashape_formfactor=-0.16934123324327918, perinuclei_areashape_majoraxislength=1.2736345324662586, perinuclei_areashape_minoraxislength=1.0365800730830823, perinuclei_areashape_orientation=1.4694482284249206, perinuclei_areashape_perimeter=1.01730630362906, perinuclei_location_center_x=1.368058453986004, perinuclei_location_center_y=0.39108281120659266, perinuclei_parent_expandednuclei=1.637146964522227, perinuclei_parent_nuclei=1.637146964522227, features=DenseVector([-0.1088, -1.4905, 2.2339, -2.2076, -0.444, -1.2849, 0.6963, 1.8949, 0.5146, -0.5439]))]"
      ]
     },
     "execution_count": 16,
     "metadata": {},
     "output_type": "execute_result"
    }
   ],
   "source": [
    ""
   ]
  },
  {
   "cell_type": "code",
   "execution_count": 6,
   "metadata": {},
   "outputs": [],
   "source": [
    "data = df.toPandas()\n",
    "data = data.drop(columns=\"cells.children_invasomes_count\")"
   ]
  },
  {
   "cell_type": "code",
   "execution_count": 7,
   "metadata": {},
   "outputs": [],
   "source": [
    "fc = list(filter(lambda x: x.startswith(\"cells\"), data.columns))\n",
    "data = data[fc]"
   ]
  },
  {
   "cell_type": "code",
   "execution_count": 8,
   "metadata": {},
   "outputs": [],
   "source": [
    "data.to_csv(\"/Users/simondi/PHD/data/data/target_infect_x/query_data/cells_sample_10_normalized_cut_100_X.tsv\", sep=\"\\t\", header=False, index=False)"
   ]
  },
  {
   "cell_type": "code",
   "execution_count": 9,
   "metadata": {},
   "outputs": [],
   "source": [
    "data = data.as_matrix()\n",
    "data = data.astype(numpy.float64)"
   ]
  },
  {
   "cell_type": "code",
   "execution_count": 18,
   "metadata": {},
   "outputs": [],
   "source": [
    "# factor analysis\n",
    "means = numpy.mean(data, axis=0)\n",
    "std = numpy.nanstd(data, axis=0)\n",
    "X = (data )"
   ]
  },
  {
   "cell_type": "code",
   "execution_count": 11,
   "metadata": {},
   "outputs": [],
   "source": [
    "from sklearn import decomposition"
   ]
  },
  {
   "cell_type": "code",
   "execution_count": 24,
   "metadata": {},
   "outputs": [],
   "source": [
    "fa = sklearn.decomposition.FactorAnalysis(2, svd_method=\"lapack\")\n",
    "Fact = fa.fit(X)"
   ]
  },
  {
   "cell_type": "code",
   "execution_count": 19,
   "metadata": {},
   "outputs": [
    {
     "data": {
      "text/plain": [
       "array([[-0.80442355,  0.01210726,  1.11590233, ..., -0.50782963,\n",
       "         1.24553725,  0.13572336],\n",
       "       [-0.94741708, -0.03987198,  0.12623638, ..., -1.06214707,\n",
       "        -0.58986888,  0.42900039],\n",
       "       [-0.08386401,  1.12391128,  1.76111788, ...,  0.65419376,\n",
       "        -0.65290985,  0.94223519],\n",
       "       ..., \n",
       "       [-0.22605869, -0.02048565, -1.18489627, ...,  0.95339164,\n",
       "        -0.90274757,  1.69986752],\n",
       "       [-0.12180922,  0.98090367, -1.03566249, ..., -1.15072905,\n",
       "        -0.38057235, -1.35510153],\n",
       "       [-1.07563194,  1.32405374,  0.52578998, ..., -1.02782875,\n",
       "         0.09378172,  1.32105136]])"
      ]
     },
     "execution_count": 19,
     "metadata": {},
     "output_type": "execute_result"
    }
   ],
   "source": [
    "X"
   ]
  },
  {
   "cell_type": "code",
   "execution_count": 45,
   "metadata": {},
   "outputs": [
    {
     "data": {
      "text/plain": [
       "array([[-0.12770892, -0.9039069 ],\n",
       "       [-0.39663874, -1.03977064],\n",
       "       [-0.86838462, -0.01130043],\n",
       "       [-0.83457665, -0.27794946],\n",
       "       [-1.23926041, -0.24232402]])"
      ]
     },
     "execution_count": 45,
     "metadata": {},
     "output_type": "execute_result"
    }
   ],
   "source": [
    "Fact.transform(X)[:5, :]"
   ]
  },
  {
   "cell_type": "code",
   "execution_count": 34,
   "metadata": {},
   "outputs": [],
   "source": [
    "def my_svd(X, n_components):\n",
    "    _ , s, V = scipy.linalg.svd(X, full_matrices=True)\n",
    "    squared_norm = numpy.dot(s[n_components:], s[n_components:])\n",
    "    return (s[:n_components], V[:n_components], squared_norm)"
   ]
  },
  {
   "cell_type": "code",
   "execution_count": 33,
   "metadata": {},
   "outputs": [
    {
     "data": {
      "text/plain": [
       "(array([ 21.65266028,  18.2892159 ]),\n",
       " array([[ 0.0340333 ,  0.02268537,  0.04267166,  0.11936017,  0.03393101,\n",
       "          0.01474167, -0.01928034, -0.03671472, -0.47661886,  0.0439692 ,\n",
       "          0.00712674, -0.49919559,  0.01784548, -0.03531952, -0.03146012,\n",
       "         -0.49798872, -0.00225486,  0.01623744, -0.50000802],\n",
       "        [-0.44170891,  0.1068268 ,  0.12974732,  0.2699105 , -0.36552517,\n",
       "         -0.47879096, -0.42314363, -0.0395485 , -0.00887609,  0.05972258,\n",
       "          0.01474232,  0.01129729, -0.07094486, -0.08024128, -0.33947188,\n",
       "          0.03247905,  0.13474579, -0.09976371,  0.02152992]]),\n",
       " 982.15165778690869)"
      ]
     },
     "execution_count": 33,
     "metadata": {},
     "output_type": "execute_result"
    }
   ],
   "source": [
    "s, V, unexp_var = my_svd(X , 2)\n",
    "s, V, unexp_var"
   ]
  },
  {
   "cell_type": "code",
   "execution_count": 107,
   "metadata": {},
   "outputs": [
    {
     "name": "stdout",
     "output_type": "stream",
     "text": [
      "10.0\n"
     ]
    }
   ],
   "source": [
    "iter = 0\n",
    "SMALL = 1e-12\n",
    "ll = old_ll = -numpy.inf\n",
    "n_samples, n_features = X.shape\n",
    "psi = numpy.ones(n_features, dtype=X.dtype)\n",
    "var = numpy.var(X, axis=0)\n",
    "n_components = 2\n",
    "nsqrt = numpy.sqrt(n_samples)\n",
    "llconst = n_features * numpy.log(2. * numpy.pi) + n_components\n",
    "print(nsqrt)"
   ]
  },
  {
   "cell_type": "code",
   "execution_count": 108,
   "metadata": {},
   "outputs": [
    {
     "name": "stdout",
     "output_type": "stream",
     "text": [
      "0\n",
      "1\n",
      "2\n",
      "3\n",
      "4\n"
     ]
    }
   ],
   "source": [
    "for i in range(5):\n",
    "    print(i)\n",
    "    sqrt_psi = numpy.sqrt(psi) + SMALL\n",
    "    s, V, unexp_var = my_svd(X / (sqrt_psi * nsqrt), 2)\n",
    "    s **= 2\n",
    "    W = numpy.sqrt(numpy.maximum(s - 1., 0.))[:, numpy.newaxis] * V\n",
    "    W *= sqrt_psi    \n",
    "    ll = llconst + numpy.sum(numpy.log(s))\n",
    "    ll += unexp_var + numpy.sum(numpy.log(psi))\n",
    "    ll *= -n_samples / 2.    \n",
    "    psi = numpy.maximum(var - numpy.sum(W ** 2, axis=0), SMALL)\n",
    "    if numpy.abs(ll - old_ll) < 0.001:\n",
    "        break\n",
    "    old_ll = ll"
   ]
  },
  {
   "cell_type": "code",
   "execution_count": 109,
   "metadata": {},
   "outputs": [
    {
     "data": {
      "text/plain": [
       "array([[-0.08085689, -0.88416287],\n",
       "       [-0.32554325, -0.9936295 ],\n",
       "       [-0.85995564,  0.00164118],\n",
       "       [-0.80788002, -0.29778315],\n",
       "       [-1.21530389, -0.14961542]])"
      ]
     },
     "execution_count": 109,
     "metadata": {},
     "output_type": "execute_result"
    }
   ],
   "source": [
    "Ih = numpy.eye(len(W))\n",
    "X_transformed = X\n",
    "Wpsi = W / psi\n",
    "cov_z = scipy.linalg.inv(Ih + numpy.dot(Wpsi, W.T))\n",
    "tmp = numpy.dot(X_transformed, Wpsi.T)\n",
    "X_transformed = numpy.dot(tmp, cov_z)\n",
    "X_transformed[:5, :]"
   ]
  },
  {
   "cell_type": "code",
   "execution_count": 14,
   "metadata": {},
   "outputs": [],
   "source": [
    "spark.stop()"
   ]
  },
  {
   "cell_type": "code",
   "execution_count": null,
   "metadata": {},
   "outputs": [],
   "source": [
    ""
   ]
  }
 ],
 "metadata": {
  "kernelspec": {
   "display_name": "py36-test",
   "language": "python",
   "name": "py36-test"
  },
  "language_info": {
   "codemirror_mode": {
    "name": "ipython",
    "version": 3.0
   },
   "file_extension": ".py",
   "mimetype": "text/x-python",
   "name": "python",
   "nbconvert_exporter": "python",
   "pygments_lexer": "ipython3",
   "version": "3.6.3"
  }
 },
 "nbformat": 4,
 "nbformat_minor": 0
}