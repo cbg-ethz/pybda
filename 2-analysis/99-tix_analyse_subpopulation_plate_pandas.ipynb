{
 "cells": [
  {
   "cell_type": "code",
   "execution_count": 1,
   "metadata": {
    "collapsed": true
   },
   "outputs": [],
   "source": [
    "import uuid\n",
    "import pandas\n",
    "import numpy\n",
    "from random import shuffle\n",
    "\n",
    "import sklearn\n",
    "from sklearn.decomposition import PCA\n",
    "from sklearn.discriminant_analysis import LinearDiscriminantAnalysis\n",
    "import sklearn.manifold\n",
    "\n",
    "import matplotlib\n",
    "from mpl_toolkits.mplot3d import Axes3D\n",
    "import matplotlib.pyplot as plt\n",
    "import matplotlib.colors as colors\n",
    "import matplotlib.cm as cmx\n",
    "\n",
    "import os"
   ]
  },
  {
   "cell_type": "code",
   "execution_count": 2,
   "metadata": {
    "collapsed": false
   },
   "outputs": [],
   "source": [
    "def load_data():\n",
    "    \n",
    "    filename = \"/Users/simondi/PHD/data/data/target_infect_x/screening_data/infectx-bartonella-d-p-g-1-dz14-2a_cells_data.tsv\"\n",
    "\n",
    "    data = pandas.read_csv(filename, sep=\"\\t\", header=0)\n",
    "\n",
    "    feature_cols = [(i, x) for i, x in enumerate(data.columns.values) if\n",
    "                    x.startswith(\"cells\")]\n",
    "    for i, c in feature_cols:\n",
    "        data.loc[:, c] = data.loc[:, c].astype('float64')\n",
    "\n",
    "    X = data.dropna(subset=[\"cells.children_invasomes_count\"], how='all')\n",
    "    X[\"cells.children_invasomes_count\"] =  X[\"cells.children_invasomes_count\"].fillna(0)\n",
    "    X = X.dropna()\n",
    "    X[\"infection\"] = X[\"cells.children_invasomes_count\"]\n",
    "    del X[\"cells.children_invasomes_count\"]\n",
    "    \n",
    "    return X"
   ]
  },
  {
   "cell_type": "code",
   "execution_count": 3,
   "metadata": {
    "collapsed": true
   },
   "outputs": [],
   "source": [
    "def plot(data, gene_list, cnt):\n",
    "\n",
    "    shuffle(gene_list)\n",
    "    used_genes = gene_list[1:cnt]\n",
    "    X = data[ data[\"gene\"].isin(used_genes)]\n",
    "     \n",
    "    uniq = list(set(X[\"gene\"]))\n",
    "\n",
    "    hot = plt.get_cmap('hot')\n",
    "    cNorm = colors.Normalize(vmin=0, vmax=len(uniq))\n",
    "    scalarMap = cmx.ScalarMappable(norm=cNorm, cmap=hot)\n",
    "    alpha = 0.5\n",
    "\n",
    "    plt.figure()\n",
    "    for i in range(len(uniq)):\n",
    "        indx = X[\"gene\"] == uniq[i]\n",
    "        plt.scatter(X.loc[indx, \"cells.location_center_x\"], X.loc[indx, \"cells.location_center_x\"],\n",
    "                    color=scalarMap.to_rgba(i),\n",
    "                    label=uniq[i], marker=\".\", alpha=alpha)\n",
    "    if len(uniq) < 20:     \n",
    "        plt.legend()    \n",
    "    \n",
    "    uid = str(uuid.uuid1())\n",
    "    plt.show()"
   ]
  },
  {
   "cell_type": "code",
   "execution_count": 4,
   "metadata": {
    "collapsed": false
   },
   "outputs": [],
   "source": [
    "X = load_data()"
   ]
  },
  {
   "cell_type": "code",
   "execution_count": 5,
   "metadata": {
    "collapsed": false
   },
   "outputs": [],
   "source": [
    "feature_cols = [x for x in X.columns if x.startswith(\"cells\")]\n",
    "for c in feature_cols:\n",
    "    X.loc[:, c] = (X.loc[:, c] - numpy.mean(X.loc[:, c])) / numpy.std(X.loc[:, c])"
   ]
  },
  {
   "cell_type": "code",
   "execution_count": 6,
   "metadata": {
    "collapsed": false
   },
   "outputs": [
    {
     "data": {
      "text/plain": [
       "304"
      ]
     },
     "execution_count": 6,
     "metadata": {},
     "output_type": "execute_result"
    }
   ],
   "source": [
    "gene_list = list(set(X[\"gene\"]))\n",
    "len(gene_list)"
   ]
  },
  {
   "cell_type": "code",
   "execution_count": 7,
   "metadata": {
    "collapsed": false
   },
   "outputs": [
    {
     "data": {
      "text/plain": [
       "384"
      ]
     },
     "execution_count": 7,
     "metadata": {},
     "output_type": "execute_result"
    }
   ],
   "source": [
    "well_list = list(set(X[\"well\"]))\n",
    "len(well_list)"
   ]
  },
  {
   "cell_type": "code",
   "execution_count": 8,
   "metadata": {
    "collapsed": true
   },
   "outputs": [],
   "source": [
    "cnt  = 10"
   ]
  },
  {
   "cell_type": "code",
   "execution_count": 15,
   "metadata": {
    "collapsed": true
   },
   "outputs": [],
   "source": [
    "fl = \"/Users/simondi/PROJECTS/target_infect_x_project/plots/scatter_plate_bartonella-d-p-g-1-dz14-2a_\""
   ]
  },
  {
   "cell_type": "code",
   "execution_count": 10,
   "metadata": {
    "collapsed": false
   },
   "outputs": [],
   "source": [
    "shuffle(well_list)\n",
    "used_genes = well_list[0:cnt]\n",
    "used_genes = [\"slc43a1\", \"mock\", \"lcmt2\", \"rnmt\", \"pias3\"]\n",
    "# take mid images\n",
    "X_5well = X.loc[X.image_idx % 5 == 0,]\n",
    "\n",
    "X_5well_wells = list(set(X_5well.well))\n",
    "shuffle(X_5well_wells)\n",
    "\n",
    "# take random 5 genes/weels\n",
    "Xw = X_5well.loc[X_5well[\"well\"].isin(X_5well_wells[0:5]), :]"
   ]
  },
  {
   "cell_type": "code",
   "execution_count": 60,
   "metadata": {
    "collapsed": false
   },
   "outputs": [],
   "source": [
    "uid =str(uuid.uuid1())\n",
    "uniq = list(set(Xw.gene))\n",
    "\n",
    "hot = plt.get_cmap('hot')\n",
    "cNorm = colors.Normalize(vmin=0, vmax=len(uniq))\n",
    "scalarMap = cmx.ScalarMappable(norm=cNorm, cmap=hot)\n",
    "alpha = 0.5\n",
    "\n",
    "# # plot features pairwisely\n",
    "# for c1 in feature_cols:\n",
    "#     for c2 in feature_cols:\n",
    "c1 = \"cells.areashape_extent\"\n",
    "c2 = \"cells.intensity_integratedintensityedge_corrdna\"\n",
    "fig = plt.figure(0)\n",
    "ax = fig.add_subplot(111)\n",
    "for i in range(len(uniq)):\n",
    "    indx = Xw[\"gene\"] == uniq[i]\n",
    "\n",
    "    plt.scatter(Xw.loc[indx, c1],\n",
    "                Xw.loc[indx, c2],\n",
    "                color=scalarMap.to_rgba(i),\n",
    "                label=uniq[i], marker=\".\", alpha=alpha)\n",
    "    if len(uniq) < 20:     \n",
    "        plt.legend()    \n",
    "\n",
    "plt.xlabel(c1)\n",
    "plt.ylabel(c2)\n",
    "#plt.show()\n",
    "plt.savefig(  fl + c1 + \"_\"+c2 +\"_\" +uid+ \".png\", dpi=720)\n",
    "plt.close(fig)"
   ]
  },
  {
   "cell_type": "code",
   "execution_count": 12,
   "metadata": {
    "collapsed": true
   },
   "outputs": [],
   "source": [
    "def plot_dimred(X2, X, method):\n",
    "    uniq = list(set(X[\"gene\"]))\n",
    "    \n",
    "    hot = plt.get_cmap('hot')\n",
    "    cNorm = colors.Normalize(vmin=0, vmax=len(uniq))\n",
    "    scalarMap = cmx.ScalarMappable(norm=cNorm, cmap=hot)\n",
    "    alpha = 0.5\n",
    "    \n",
    "    fig = plt.figure()\n",
    "    for i in range(len(uniq)):\n",
    "        indx = X[\"gene\"] == uniq[i]\n",
    "        plt.scatter(X2[indx, 1], X2[indx, 0], color=scalarMap.to_rgba(i),\n",
    "                    label=uniq[i], marker=\".\", alpha=alpha)\n",
    "    if len(uniq) < 20:     \n",
    "        plt.legend()\n",
    "    plt.savefig(fl + \"_\" + method + \"_2d\" +uid+ \".png\", dpi=720)\n",
    "    plt.close(fig)"
   ]
  },
  {
   "cell_type": "code",
   "execution_count": 13,
   "metadata": {
    "collapsed": false
   },
   "outputs": [],
   "source": [
    "def plot_pca(Xtrans, X, method):\n",
    "    uniq = list(set(X[\"gene\"]))\n",
    "    \n",
    "    hot = plt.get_cmap('hot')\n",
    "    cNorm = colors.Normalize(vmin=0, vmax=len(uniq))\n",
    "    scalarMap = cmx.ScalarMappable(norm=cNorm, cmap=hot)\n",
    "    alpha = 0.5\n",
    "    \n",
    "    X2 = Xtrans.transform(X.loc[:, feature_cols_idx])\n",
    "    \n",
    "    fig = plt.figure()\n",
    "    for i in range(len(uniq)):\n",
    "        indx = X[\"gene\"] == uniq[i]\n",
    "        plt.scatter(X2[indx, 0], X2[indx, 1], color=scalarMap.to_rgba(i),\n",
    "                    label=uniq[i], marker=\".\", alpha=alpha)\n",
    "    if len(uniq) < 20:     \n",
    "        plt.legend()\n",
    "    plt.xlabel(\"Variance ratio:\" + \"{0:.2f}\".format(Xtrans.explained_variance_ratio_[0]))\n",
    "    plt.ylabel(\"Variance ratio:\" + \"{0:.2f}\".format(Xtrans.explained_variance_ratio_[1]))\n",
    "    plt.savefig(fl + \"_\" + method + \"_2d_pca\"+uid+\".png\", dpi=720)\n",
    "    plt.close(fig)\n",
    "    \n",
    "    fig, ax = plt.subplots()\n",
    "    ax.bar(list(numpy.array(range(10)) + 0.5),  Xtrans.explained_variance_ratio_[:10], width=0.5)\n",
    "\n",
    "    ax.set_ylabel('Variance ratio')\n",
    "    ax.set_xticks(list(numpy.array(range(10)) + 0.5))\n",
    "    ax.set_xticklabels([\"PCA\" + str(i+1) for i in range(10)])\n",
    "    plt.savefig(fl + \"_\" + method + \"_2d_scree\"+uid+\".png\", dpi=720)\n",
    "    plt.close(fig)"
   ]
  },
  {
   "cell_type": "code",
   "execution_count": 16,
   "metadata": {
    "collapsed": false
   },
   "outputs": [],
   "source": [
    "for i in range(2):\n",
    "    uid =str(uuid.uuid1())\n",
    "\n",
    "    shuffle(well_list)\n",
    "    used_genes = well_list[0:cnt]\n",
    "    used_genes = [\"slc43a1\", \"mock\", \"lcmt2\", \"rnmt\", \"pias3\"]\n",
    "\n",
    "    # take mid images\n",
    "    X_5well = X.loc[X.image_idx % 5 == 0,]\n",
    "\n",
    "    X_5well_wells = list(set(X_5well.well))\n",
    "    shuffle(X_5well_wells)\n",
    "\n",
    "    # take random 5 genes/weels\n",
    "    Xw = X_5well.loc[X_5well[\"well\"].isin(X_5well_wells[0:5]), :]\n",
    "\n",
    "    feature_cols_idx = [x for x in (Xw.columns.values) if x.startswith(\"cells\")]\n",
    "    perp = [2, 5, 10,30, 50]\n",
    "    for x in perp:\n",
    "        ts2 = sklearn.manifold.TSNE(n_components=2, perplexity=x, n_iter=5000)\n",
    "        X2 = ts2.fit_transform(Xw.loc[:, feature_cols_idx])\n",
    "        plot_dimred(X2, Xw, \"tsne_\" + str(x))\n",
    "\n",
    "#     for x in [\"rbf\", \"poly\", \"linear\"]:\n",
    "#         ts2 = sklearn.decomposition.KernelPCA(n_components=2, kernel=x)\n",
    "#         X2 = ts2.fit_transform(Xw.loc[:, feature_cols_idx])\n",
    "#         plot_dimred(X2, Xw, \"kpca_\" + x)    \n",
    "\n",
    "    ts2 = sklearn.decomposition.PCA(n_components=20)\n",
    "    Xtrans = ts2.fit(Xw.loc[:, feature_cols_idx])\n",
    "    plot_pca(Xtrans, Xw, \"pca_\")"
   ]
  },
  {
   "cell_type": "code",
   "execution_count": null,
   "metadata": {
    "collapsed": true
   },
   "outputs": [],
   "source": [
    ""
   ]
  },
  {
   "cell_type": "code",
   "execution_count": null,
   "metadata": {
    "collapsed": true
   },
   "outputs": [],
   "source": [
    ""
   ]
  }
 ],
 "metadata": {
  "kernelspec": {
   "display_name": "Python 3",
   "language": "python",
   "name": "python3"
  },
  "language_info": {
   "codemirror_mode": {
    "name": "ipython",
    "version": 3.0
   },
   "file_extension": ".py",
   "mimetype": "text/x-python",
   "name": "python",
   "nbconvert_exporter": "python",
   "pygments_lexer": "ipython3",
   "version": "3.5.2"
  }
 },
 "nbformat": 4,
 "nbformat_minor": 0
}