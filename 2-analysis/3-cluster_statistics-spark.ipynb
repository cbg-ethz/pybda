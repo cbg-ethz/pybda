{
 "cells": [
  {
   "cell_type": "code",
   "execution_count": 1,
   "metadata": {},
   "outputs": [],
   "source": [
    "import os\n",
    "import sys\n",
    "import pandas\n",
    "import numpy\n",
    "\n",
    "import findspark\n",
    "findspark.init(\"/usr/local/spark/spark\")\n",
    "\n",
    "import pyspark\n",
    "\n",
    "from pyspark.ml.feature import PCA\n",
    "from pyspark.ml.linalg import Vector, Vectors\n",
    "from pyspark.ml.feature import StandardScaler\n",
    "from pyspark.sql.window import Window\n",
    "from pyspark.sql.functions import row_number"
   ]
  },
  {
   "cell_type": "code",
   "execution_count": 2,
   "metadata": {},
   "outputs": [],
   "source": [
    "import matplotlib.pyplot as plt\n",
    "import matplotlib.cm as cm"
   ]
  },
  {
   "cell_type": "code",
   "execution_count": 3,
   "metadata": {},
   "outputs": [],
   "source": [
    "file_name = \"/Users/simondi/PROJECTS/target_infect_x_project/results/2-analysis/1-clustering/pca_transform-cells_sample_10_normalized_cut_100_K005\""
   ]
  },
  {
   "cell_type": "code",
   "execution_count": 4,
   "metadata": {},
   "outputs": [],
   "source": [
    "conf = pyspark.SparkConf().setMaster(\"local[*]\").set(\"spark.driver.memory\", \"4G\").set(\"spark.executor.memory\", \"4G\")\n",
    "sc = pyspark.SparkContext(conf=conf)\n",
    "spark = pyspark.sql.SparkSession(sc)"
   ]
  },
  {
   "cell_type": "code",
   "execution_count": 5,
   "metadata": {},
   "outputs": [],
   "source": [
    "data = spark.read.parquet(file_name)"
   ]
  },
  {
   "cell_type": "code",
   "execution_count": 6,
   "metadata": {},
   "outputs": [
    {
     "data": {
      "text/plain": [
       "[Row(study='infectx_published', pathogen='listeria', library='a', design='u', replicate='1', plate='kb2-02-1x', well='a01', gene='chka', sirna='s3008', well_type='sirna', image_idx='4', object_idx='144', prediction=0, features=DenseVector([-0.8044, 0.0121, 1.1159, 1.4749, -0.9369, -0.7485, -1.0209, -0.703, 0.0, 0.4476, 1.2809, 1.3916, 0.1489, 0.6694, -1.2335, -0.0825, 0.0106, -0.5078, 1.2455, 0.1357]), scaledFeatures=DenseVector([-0.8334, 0.1165, 1.0605, 1.3942, -0.9828, -0.7089, -1.0943, -0.8341, 0.0, 0.4385, 1.3451, 1.3012, 0.089, 0.7667, -1.357, -0.2354, -0.0203, -0.4495, 1.409, 0.085]), pcs=DenseVector([-0.2773, -2.0598]))]"
      ]
     },
     "execution_count": 6,
     "metadata": {},
     "output_type": "execute_result"
    }
   ],
   "source": [
    "data.take(1)"
   ]
  },
  {
   "cell_type": "code",
   "execution_count": 35,
   "metadata": {},
   "outputs": [
    {
     "data": {
      "text/plain": [
       "[Row(gene='chka', prediction=3),\n",
       " Row(gene='chka', prediction=0),\n",
       " Row(gene='ckm', prediction=2),\n",
       " Row(gene='mknk2', prediction=3),\n",
       " Row(gene='none', prediction=2)]"
      ]
     },
     "execution_count": 35,
     "metadata": {},
     "output_type": "execute_result"
    }
   ],
   "source": [
    "data.select([\"gene\", \"prediction\"]).dropDuplicates().take(5)"
   ]
  },
  {
   "cell_type": "code",
   "execution_count": 61,
   "metadata": {},
   "outputs": [],
   "source": [
    "filt_dat = data.groupby([\"gene\", \"prediction\"]).count()\n",
    "a = filt_dat.select([\"gene\", \"prediction\", \"count\"]).dropDuplicates().toPandas()"
   ]
  },
  {
   "cell_type": "code",
   "execution_count": 64,
   "metadata": {},
   "outputs": [],
   "source": [
    "a.to_csv(\"/Users/simondi/Desktop/pups.ts\")"
   ]
  },
  {
   "cell_type": "code",
   "execution_count": 10,
   "metadata": {},
   "outputs": [
    {
     "data": {
      "text/plain": [
       "[Row(study='infectx_published', pathogen='listeria', library='a', design='u', replicate='1', plate='kb2-02-1x', well='a01', gene='chka', sirna='s3008', well_type='sirna', image_idx='4', object_idx='144', prediction=0, features=DenseVector([-0.8044, 0.0121, 1.1159, 1.4749, -0.9369, -0.7485, -1.0209, -0.703, 0.0, 0.4476, 1.2809, 1.3916, 0.1489, 0.6694, -1.2335, -0.0825, 0.0106, -0.5078, 1.2455, 0.1357]), scaledFeatures=DenseVector([-0.8334, 0.1165, 1.0605, 1.3942, -0.9828, -0.7089, -1.0943, -0.8341, 0.0, 0.4385, 1.3451, 1.3012, 0.089, 0.7667, -1.357, -0.2354, -0.0203, -0.4495, 1.409, 0.085]), pcs=DenseVector([-0.2773, -2.0598])),\n",
       " Row(study='infectx_published', pathogen='listeria', library='a', design='u', replicate='1', plate='kb2-02-1x', well='a01', gene='chka', sirna='s3008', well_type='sirna', image_idx='5', object_idx='168', prediction=0, features=DenseVector([-0.9474, -0.0399, 0.1262, 0.6198, -1.0081, -0.7959, -0.9485, -0.6324, 0.0, 0.4263, -0.2104, -0.3939, 0.3941, -0.3786, 1.0053, -0.6748, 0.268, -1.0621, -0.5899, 0.429]), scaledFeatures=DenseVector([-0.9948, 0.0686, 0.0135, 0.5573, -1.0667, -0.7542, -1.0105, -0.7318, 0.0, 0.4187, -0.1479, -0.5329, 0.3132, -0.449, 0.9905, -0.8389, 0.215, -1.0324, -0.6781, 0.3534]), pcs=DenseVector([0.5369, -2.1032])),\n",
       " Row(study='infectx_published', pathogen='listeria', library='a', design='u', replicate='1', plate='kb2-02-1x', well='a01', gene='chka', sirna='s3008', well_type='sirna', image_idx='2', object_idx='210', prediction=2, features=DenseVector([-0.0839, 1.1239, 1.7611, 0.8489, 0.5572, -0.7291, -0.4751, 0.4974, 0.0, 0.8014, -1.1155, 0.6997, 0.9706, -0.1785, 1.0668, 1.6943, 1.1014, 0.6542, -0.6529, 0.9422]), scaledFeatures=DenseVector([-0.0198, 1.1411, 1.7431, 0.7815, 0.7757, -0.6904, -0.4619, 0.9058, 0.0, 0.7684, -1.0541, 0.5905, 0.84, -0.2169, 1.055, 1.5752, 0.9771, 0.7725, -0.7497, 0.8231]), pcs=DenseVector([1.6224, -0.3188])),\n",
       " Row(study='infectx_published', pathogen='listeria', library='a', design='u', replicate='1', plate='kb2-02-1x', well='a01', gene='chka', sirna='s3008', well_type='sirna', image_idx='6', object_idx='207', prediction=4, features=DenseVector([-0.3139, 0.7065, -0.0913, 0.843, -0.1054, -0.559, -0.5982, -0.0675, 0.0, 0.8441, 0.1633, 0.5388, 0.897, -0.2843, -1.2915, 0.5098, 0.9911, 1.0606, 0.7454, 0.9056]), scaledFeatures=DenseVector([-0.2795, 0.7564, -0.2166, 0.7758, -0.0042, -0.5275, -0.6045, 0.087, 0.0, 0.8081, 0.2262, 0.4252, 0.7727, -0.3396, -1.4178, 0.3682, 0.8762, 1.1998, 0.8403, 0.7896]), pcs=DenseVector([1.3856, -0.9668])),\n",
       " Row(study='infectx_published', pathogen='listeria', library='a', design='u', replicate='1', plate='kb2-02-1x', well='a01', gene='chka', sirna='s3008', well_type='sirna', image_idx='2', object_idx='243', prediction=2, features=DenseVector([-0.3299, -1.9916, 1.6817, 0.5631, -0.8296, 0.351, -0.5286, 0.2149, 0.0, 1.1669, -0.3471, 1.3786, 1.3262, -0.3182, 1.4663, 1.6943, 1.4691, 0.4237, -1.1827, 1.3455]), scaledFeatures=DenseVector([-0.2976, -1.7301, 1.6591, 0.5017, -0.8565, 0.3434, -0.5239, 0.4964, 0.0, 1.109, -0.2848, 1.2879, 1.165, -0.3789, 1.4738, 1.5752, 1.3132, 0.53, -1.3521, 1.1922]), pcs=DenseVector([2.3726, -0.73])),\n",
       " Row(study='infectx_published', pathogen='listeria', library='a', design='u', replicate='1', plate='kb2-02-1x', well='a01', gene='chka', sirna='s3008', well_type='sirna', image_idx='9', object_idx='209', prediction=4, features=DenseVector([0.2025, -1.0068, -0.2318, 0.3485, -0.1009, 0.9668, -0.1599, -0.5618, 0.0, 1.0812, 0.7346, -0.0207, 0.8602, -1.0216, -0.897, -0.6748, 1.0769, 1.1988, -0.6359, 0.93]), scaledFeatures=DenseVector([0.3036, -0.8225, -0.3652, 0.2917, 0.0011, 0.9327, -0.0967, -0.6294, 0.0, 1.0291, 0.7982, -0.1495, 0.7391, -1.195, -1.0042, -0.8389, 0.9546, 1.3452, -0.7304, 0.812]), pcs=DenseVector([1.5729, -0.4325])),\n",
       " Row(study='infectx_published', pathogen='listeria', library='a', design='u', replicate='1', plate='kb2-02-1x', well='a01', gene='chka', sirna='s3008', well_type='sirna', image_idx='5', object_idx='121', prediction=1, features=DenseVector([2.3922, -2.4032, -0.7861, -0.8906, 0.9943, 3.359, 1.8014, -0.6324, 0.0, -0.1288, 0.5319, -0.7787, -0.1577, -0.32, 1.511, 2.2866, 0.0841, 1.6184, 0.6613, -0.1453]), scaledFeatures=DenseVector([2.776, -2.1095, -0.9516, -0.921, 1.2901, 3.2222, 2.1757, -0.7318, 0.0, -0.0988, 0.5952, -0.9281, -0.1912, -0.381, 1.5207, 2.1788, 0.047, 1.7865, 0.7446, -0.1722]), pcs=DenseVector([0.1173, 5.0399])),\n",
       " Row(study='infectx_published', pathogen='listeria', library='a', design='u', replicate='1', plate='kb2-02-1x', well='a01', gene='chka', sirna='s3008', well_type='sirna', image_idx='2', object_idx='212', prediction=4, features=DenseVector([-1.1595, -0.1627, 0.7271, 0.743, -1.2828, -1.0449, -1.1397, 0.3562, 0.0, 0.7815, -0.966, -0.1872, 0.8479, -0.6635, 0.0801, -0.6748, 0.9421, 0.1207, -0.8765, 0.9667]), scaledFeatures=DenseVector([-1.2343, -0.0446, 0.6492, 0.6779, -1.3899, -0.9926, -1.2319, 0.7011, 0.0, 0.7497, -0.9045, -0.3205, 0.7279, -0.7796, 0.0203, -0.8389, 0.8314, 0.2115, -1.0039, 0.8455]), pcs=DenseVector([1.5047, -2.8823])),\n",
       " Row(study='infectx_published', pathogen='listeria', library='a', design='u', replicate='1', plate='kb2-02-1x', well='a01', gene='chka', sirna='s3008', well_type='sirna', image_idx='9', object_idx='21', prediction=3, features=DenseVector([0.0044, 1.2879, -1.2461, 0.153, 1.0851, -0.7991, -0.1919, -0.1381, 0.0, -1.5364, 1.3674, 1.301, -1.3351, 0.8185, -0.2596, -0.0825, -1.5827, -0.8847, 0.0879, -1.3673]), scaledFeatures=DenseVector([0.0799, 1.2922, -1.4382, 0.1004, 1.397, -0.7573, -0.1338, -0.0154, 0.0, -1.4109, 1.4317, 1.2081, -1.2672, 0.9397, -0.3358, -0.2354, -1.4771, -0.8458, 0.0926, -1.2906]), pcs=DenseVector([-2.7751, 0.6487])),\n",
       " Row(study='infectx_published', pathogen='listeria', library='a', design='u', replicate='1', plate='kb2-02-1x', well='a01', gene='chka', sirna='s3008', well_type='sirna', image_idx='3', object_idx='178', prediction=4, features=DenseVector([-1.2518, 0.4206, -1.0335, 0.6502, -1.2659, -1.3864, -1.2008, -0.703, 0.0, 0.3483, -0.9073, -0.496, 0.4555, -0.5975, -0.6452, -0.6748, 0.6111, 0.652, -0.6006, 0.5512]), scaledFeatures=DenseVector([-1.3385, 0.493, -1.2133, 0.5871, -1.3701, -1.3194, -1.3028, -0.8341, 0.0, 0.346, -0.8457, -0.6377, 0.3692, -0.7029, -0.7401, -0.8389, 0.5288, 0.7702, -0.6903, 0.4653]), pcs=DenseVector([0.7745, -2.9476]))]"
      ]
     },
     "execution_count": 10,
     "metadata": {},
     "output_type": "execute_result"
    }
   ],
   "source": [
    "data.filter(\"gene='chka'\").collect()\n"
   ]
  },
  {
   "cell_type": "code",
   "execution_count": null,
   "metadata": {},
   "outputs": [],
   "source": []
  }
 ],
 "metadata": {
  "kernelspec": {
   "display_name": "py36-test",
   "language": "python",
   "name": "py36-test"
  },
  "language_info": {
   "codemirror_mode": {
    "name": "ipython",
    "version": 3
   },
   "file_extension": ".py",
   "mimetype": "text/x-python",
   "name": "python",
   "nbconvert_exporter": "python",
   "pygments_lexer": "ipython3",
   "version": "3.6.3"
  }
 },
 "nbformat": 4,
 "nbformat_minor": 2
}
