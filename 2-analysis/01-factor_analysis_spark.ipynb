{
 "cells": [
  {
   "cell_type": "code",
   "execution_count": 1,
   "metadata": {},
   "outputs": [],
   "source": [
    "import os\n",
    "import sys\n",
    "import pandas\n",
    "import numpy, scipy, sklearn\n",
    "\n",
    "import findspark\n",
    "findspark.init(\"/usr/local/spark/spark\")\n",
    "\n",
    "import pyspark\n",
    "from pyspark.sql.window import Window\n",
    "import pyspark.sql.functions as func\n",
    "\n",
    "from pyspark.rdd import reduce\n",
    "from pyspark.sql.types import DoubleType\n",
    "from pyspark.ml.feature import VectorAssembler\n",
    "from pyspark.ml.clustering import KMeansModel, KMeans\n",
    "from pyspark.ml.linalg import SparseVector, VectorUDT, Vector, Vectors"
   ]
  },
  {
   "cell_type": "code",
   "execution_count": 2,
   "metadata": {},
   "outputs": [],
   "source": [
    "import matplotlib\n",
    "matplotlib.use('Agg')\n",
    "import matplotlib.pyplot as plt"
   ]
  },
  {
   "cell_type": "code",
   "execution_count": 3,
   "metadata": {},
   "outputs": [],
   "source": [
    "file_name = \"/Users/simondi/PHD/data/data/target_infect_x/query_data/cells_sample_10_normalized_cut_100.tsv\""
   ]
  },
  {
   "cell_type": "code",
   "execution_count": 4,
   "metadata": {},
   "outputs": [],
   "source": [
    "conf = pyspark.SparkConf().setMaster(\"local[*]\").set(\"spark.driver.memory\", \"4G\").set(\"spark.executor.memory\", \"4G\")\n",
    "sc = pyspark.SparkContext(conf=conf)\n",
    "spark = pyspark.sql.SparkSession(sc)"
   ]
  },
  {
   "cell_type": "code",
   "execution_count": 5,
   "metadata": {},
   "outputs": [],
   "source": [
    "df = spark.read.csv(path=file_name, sep=\"\\t\", header='true')"
   ]
  },
  {
   "cell_type": "code",
   "execution_count": 167,
   "metadata": {},
   "outputs": [],
   "source": [
    "data = df.toPandas()\n",
    "data = data.drop(columns=\"cells.children_invasomes_count\")"
   ]
  },
  {
   "cell_type": "code",
   "execution_count": 168,
   "metadata": {},
   "outputs": [],
   "source": [
    "fc = list(filter(lambda x: x.startswith(\"cells\"), data.columns))\n",
    "data = data[fc]"
   ]
  },
  {
   "cell_type": "code",
   "execution_count": 169,
   "metadata": {},
   "outputs": [],
   "source": [
    "data.to_csv(\"/Users/simondi/PHD/data/data/target_infect_x/query_data/cells_sample_10_normalized_cut_100_X.tsv\", sep=\"\\t\", header=False, index=False)"
   ]
  },
  {
   "cell_type": "code",
   "execution_count": 8,
   "metadata": {},
   "outputs": [],
   "source": [
    "data = data.as_matrix()\n",
    "data = data.astype(numpy.float64)\n"
   ]
  },
  {
   "cell_type": "code",
   "execution_count": 161,
   "metadata": {},
   "outputs": [],
   "source": [
    "# factor analysis\n",
    "means = numpy.nanmean(data, axis=0)\n",
    "std = numpy.nanstd(data, axis=0)\n",
    "X = (data - means)"
   ]
  },
  {
   "cell_type": "code",
   "execution_count": 12,
   "metadata": {},
   "outputs": [],
   "source": [
    "from sklearn import decomposition"
   ]
  },
  {
   "cell_type": "code",
   "execution_count": 162,
   "metadata": {},
   "outputs": [],
   "source": [
    "fa = sklearn.decomposition.FactorAnalysis(2, svd_method=\"lapack\")\n",
    "Fact = fa.fit(X)"
   ]
  },
  {
   "cell_type": "code",
   "execution_count": 163,
   "metadata": {},
   "outputs": [
    {
     "data": {
      "text/plain": [
       "array([[-0.08807901, -0.8333121 ],\n",
       "       [-0.35700883, -0.96917584],\n",
       "       [-0.82875471,  0.05929437],\n",
       "       [-0.79494674, -0.20735465],\n",
       "       [-1.1996305 , -0.17172922]])"
      ]
     },
     "execution_count": 163,
     "metadata": {},
     "output_type": "execute_result"
    }
   ],
   "source": [
    "Fact.transform(X)[:5, :]"
   ]
  },
  {
   "cell_type": "code",
   "execution_count": 146,
   "metadata": {},
   "outputs": [],
   "source": [
    "def my_svd(X, n_components):\n",
    "    _ , s, V = scipy.linalg.svd(X, full_matrices=False)\n",
    "    squared_norm = numpy.dot(s[n_components:], s[n_components:])\n",
    "    return (s[:n_components], V[:n_components], squared_norm)"
   ]
  },
  {
   "cell_type": "code",
   "execution_count": 150,
   "metadata": {},
   "outputs": [],
   "source": [
    "iter = 0\n",
    "SMALL = 1e-12\n",
    "loglik = old_ll = 0\n",
    "n_samples, n_features = X.shape\n",
    "psi = numpy.ones(P, dtype=X.dtype)\n",
    "var = numpy.var(X, axis=0)\n",
    "n_components = 2\n",
    "nsqrt = numpy.sqrt(n_samples)"
   ]
  },
  {
   "cell_type": "code",
   "execution_count": 152,
   "metadata": {},
   "outputs": [],
   "source": [
    "for i in range(1000):\n",
    "    sqrt_psi = numpy.sqrt(psi) + SMALL\n",
    "    s, V, unexp_var = my_svd(X / (sqrt_psi * nsqrt), 2)\n",
    "    s **= 2\n",
    "    W = numpy.sqrt(numpy.maximum(s - 1., 0.))[:, numpy.newaxis] * V\n",
    "    del V\n",
    "    W *= sqrt_psi\n",
    "    ll = numpy.sum(numpy.log(s))\n",
    "    ll += unexp_var + numpy.sum(numpy.log(psi))\n",
    "    ll *= -n_samples / 2.\n",
    "    if (ll - old_ll) < 1e-2:\n",
    "        break\n",
    "    old_ll = ll\n",
    "    psi = numpy.maximum(var - numpy.sum(W ** 2, axis=0), SMALL)"
   ]
  },
  {
   "cell_type": "code",
   "execution_count": 157,
   "metadata": {},
   "outputs": [
    {
     "data": {
      "text/plain": [
       "array([[ 0.01905461,  0.90476007],\n",
       "       [-0.28180853,  0.82604855],\n",
       "       [-0.72927048,  0.17711718],\n",
       "       [-0.65352372,  0.47391855],\n",
       "       [-1.07675214,  0.06966787]])"
      ]
     },
     "execution_count": 157,
     "metadata": {},
     "output_type": "execute_result"
    }
   ],
   "source": [
    "Ih = numpy.eye(len(W))\n",
    "X_transformed = X\n",
    "Wpsi = W / psi\n",
    "cov_z = scipy.linalg.inv(Ih + numpy.dot(Wpsi, W.T))\n",
    "tmp = numpy.dot(X_transformed, Wpsi.T)\n",
    "X_transformed = numpy.dot(tmp, cov_z)\n",
    "X_transformed[:5, :]"
   ]
  },
  {
   "cell_type": "code",
   "execution_count": 166,
   "metadata": {},
   "outputs": [
    {
     "data": {
      "text/plain": [
       "array([[  8.84579042e-02,   4.48903753e-02,   6.29599638e-02,\n",
       "          2.00818213e-01,   9.20037571e-02,   5.13256633e-02,\n",
       "         -1.02210910e-03,  -7.82051788e-02,  -1.02059728e+00,\n",
       "          6.41297047e-02,  -2.46473092e-03,  -1.08409408e+00,\n",
       "          3.66296997e-02,  -5.43790774e-02,  -4.80653186e-02,\n",
       "         -1.08053242e+00,  -1.40764089e-03,   3.24452867e-02,\n",
       "         -1.08706616e+00],\n",
       "       [  8.75180387e-01,  -1.97812793e-01,  -9.59560052e-03,\n",
       "         -2.09715735e-01,   6.64981413e-01,   9.24435361e-01,\n",
       "          6.29650429e-01,   2.47479888e-02,   7.90739468e-02,\n",
       "         -3.46580964e-02,   5.83038030e-02,   1.32297256e-02,\n",
       "          5.53447857e-02,   8.29072948e-02,   6.11041395e-01,\n",
       "         -4.70341367e-03,  -1.58692044e-01,   1.61244315e-01,\n",
       "          3.81466198e-03]])"
      ]
     },
     "execution_count": 166,
     "metadata": {},
     "output_type": "execute_result"
    }
   ],
   "source": [
    "Fact.components_"
   ]
  },
  {
   "cell_type": "code",
   "execution_count": 160,
   "metadata": {},
   "outputs": [
    {
     "data": {
      "text/plain": [
       "array([[ 0.06299374,  0.03947032,  0.08647512,  0.23274195,  0.06115416,\n",
       "         0.02775261, -0.04053818, -0.07396935, -0.9158791 ,  0.08313671,\n",
       "         0.01675355, -0.95766478,  0.0345847 , -0.06612737, -0.05731117,\n",
       "        -0.95576302, -0.00594052,  0.03080484, -0.95941779],\n",
       "       [-0.67587988,  0.17186437,  0.19117327,  0.40740905, -0.55531097,\n",
       "        -0.7359917 , -0.64441216, -0.05558636, -0.01129259,  0.09297085,\n",
       "         0.01889788,  0.01795876, -0.10965364, -0.12610757, -0.52589439,\n",
       "         0.05104842,  0.20904419, -0.15223245,  0.03394243]])"
      ]
     },
     "execution_count": 160,
     "metadata": {},
     "output_type": "execute_result"
    }
   ],
   "source": [
    "W"
   ]
  },
  {
   "cell_type": "code",
   "execution_count": null,
   "metadata": {},
   "outputs": [],
   "source": []
  }
 ],
 "metadata": {
  "kernelspec": {
   "display_name": "py36-test",
   "language": "python",
   "name": "py36-test"
  },
  "language_info": {
   "codemirror_mode": {
    "name": "ipython",
    "version": 3
   },
   "file_extension": ".py",
   "mimetype": "text/x-python",
   "name": "python",
   "nbconvert_exporter": "python",
   "pygments_lexer": "ipython3",
   "version": "3.6.3"
  }
 },
 "nbformat": 4,
 "nbformat_minor": 2
}
