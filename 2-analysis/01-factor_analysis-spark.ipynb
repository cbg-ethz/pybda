{
 "cells": [
  {
   "cell_type": "code",
   "execution_count": 163,
   "metadata": {},
   "outputs": [],
   "source": [
    "import os\n",
    "import sys\n",
    "import pandas\n",
    "import numpy\n",
    "\n",
    "import findspark\n",
    "findspark.init(\"/usr/local/spark/spark/\")\n",
    "\n",
    "import pyspark\n",
    "from pyspark.sql.window import Window\n",
    "import pyspark.sql.functions as func\n",
    "\n",
    "from pyspark.rdd import reduce\n",
    "from pyspark.sql.types import DoubleType\n",
    "from pyspark.ml.feature import VectorAssembler\n",
    "import pyspark.mllib.linalg.distributed\n",
    "from pyspark.mllib.linalg.distributed import RowMatrix\n",
    "from pyspark.ml.linalg import SparseVector, VectorUDT, Vector, Vectors\n",
    "from pyspark.mllib.stat import Statistics"
   ]
  },
  {
   "cell_type": "code",
   "execution_count": 4,
   "metadata": {},
   "outputs": [],
   "source": [
    "conf = pyspark.SparkConf().setMaster(\"local[*]\").set(\"spark.driver.memory\", \"4G\").set(\"spark.executor.memory\", \"4G\")\n",
    "sc = pyspark.SparkContext(conf=conf)\n",
    "spark = pyspark.sql.SparkSession(sc)"
   ]
  },
  {
   "cell_type": "code",
   "execution_count": 5,
   "metadata": {},
   "outputs": [
    {
     "data": {
      "text/plain": [
       "'2.2.0'"
      ]
     },
     "execution_count": 5,
     "metadata": {},
     "output_type": "execute_result"
    }
   ],
   "source": [
    "spark.version"
   ]
  },
  {
   "cell_type": "code",
   "execution_count": 44,
   "metadata": {},
   "outputs": [],
   "source": [
    "file_name = \"/Users/simondi/PHD/data/data/target_infect_x/query_data/cells_sample_10_normalized_cut_100.tsv\"\n",
    "df = spark.read.csv(path=file_name, sep=\"\\t\", header='true')"
   ]
  },
  {
   "cell_type": "code",
   "execution_count": 45,
   "metadata": {},
   "outputs": [],
   "source": [
    "old_cols = df.columns\n",
    "new_cols = list(map(lambda x: x.replace(\".\", \"_\"), old_cols))\n",
    "\n",
    "df = reduce(\n",
    "  lambda data, idx: data.withColumnRenamed(old_cols[idx], new_cols[idx]),\n",
    "  range(len(new_cols)), df)\n",
    "\n",
    "for i, x in enumerate(new_cols):\n",
    "    if x.startswith(\"cells\") or x.startswith(\"perin\") or x.startswith(\"nucl\"):\n",
    "        df = df.withColumn(x, df[x].cast(\"double\"))\n",
    "\n",
    "df = df.fillna(0)"
   ]
  },
  {
   "cell_type": "code",
   "execution_count": 46,
   "metadata": {},
   "outputs": [],
   "source": [
    "feature_columns = [x for x in df.columns if x.startswith(\"cells\") or x.startswith(\"perin\") or x.startswith(\"nucl\")]\n",
    "assembler = VectorAssembler(inputCols=feature_columns,outputCol='features')\n",
    "data = assembler.transform(df)"
   ]
  },
  {
   "cell_type": "code",
   "execution_count": 47,
   "metadata": {},
   "outputs": [],
   "source": [
    "rdd = data.select(feature_columns).rdd.map(list)\n",
    "X = RowMatrix(rdd)"
   ]
  },
  {
   "cell_type": "code",
   "execution_count": 165,
   "metadata": {},
   "outputs": [],
   "source": [
    "summary = Statistics.colStats(rdd)"
   ]
  },
  {
   "cell_type": "code",
   "execution_count": 166,
   "metadata": {},
   "outputs": [
    {
     "data": {
      "text/plain": [
       "array([ 0.78434512,  1.17739852,  0.89355321,  1.04392896,  0.7218773 ,\n",
       "        1.09173459,  0.74492437,  0.4759858 ,  0.        ,  1.15081103,\n",
       "        0.99763152,  0.94775656,  1.19722718,  0.74309616,  0.90959581,\n",
       "        0.96306527,  1.19621207,  0.90429383,  0.77339588,  1.19382168])"
      ]
     },
     "execution_count": 166,
     "metadata": {},
     "output_type": "execute_result"
    }
   ],
   "source": [
    "summary.variance()"
   ]
  },
  {
   "cell_type": "code",
   "execution_count": 154,
   "metadata": {},
   "outputs": [],
   "source": [
    "def svd(X, comps):\n",
    "    svd = X.computeSVD(X.numCols(), computeU=False)\n",
    "    s = svd.s.toArray()\n",
    "    V = svd.V.toArray().T\n",
    "    var = numpy.dot(s[comps:], s[comps:])\n",
    "    return s[:comps], V[:comps], var"
   ]
  },
  {
   "cell_type": "code",
   "execution_count": 168,
   "metadata": {},
   "outputs": [],
   "source": [
    "iter = 0\n",
    "delta = 1e-12\n",
    "ll = old_ll = -numpy.inf\n",
    "N, P = X.numRows(), X.numCols()\n",
    "psi = numpy.ones(N, dtype=numpy.float64)\n",
    "var = summary.variance()\n",
    "nsqrt = numpy.sqrt(N)\n",
    "\n",
    "n_components = 10\n",
    "llconst = P * numpy.log(2. * numpy.pi) + n_components"
   ]
  },
  {
   "cell_type": "code",
   "execution_count": 120,
   "metadata": {},
   "outputs": [
    {
     "data": {
      "text/plain": [
       "[DenseVector([-0.034, -0.4417, -0.0843, 0.159, 0.0063, 0.1022, 0.0047, -0.0445, 0.1947, 0.1807, -0.0262, 0.0523, 0.1423, 0.1067, -0.1971, 0.1621, 0.765, 0.0468, -0.0285, 0.0]),\n",
       " DenseVector([-0.0227, 0.1068, 0.6125, 0.1978, 0.0993, 0.16, -0.3683, -0.1608, 0.2489, 0.1421, 0.1679, -0.1084, -0.0013, 0.1567, -0.3359, -0.3368, -0.0621, -0.0135, -0.0048, -0.0])]"
      ]
     },
     "execution_count": 120,
     "metadata": {},
     "output_type": "execute_result"
    }
   ],
   "source": [
    "RowMatrix(sc.parallelize(V.toArray()[:2])).rows.take(2)"
   ]
  },
  {
   "cell_type": "code",
   "execution_count": 91,
   "metadata": {},
   "outputs": [
    {
     "data": {
      "text/plain": [
       "20"
      ]
     },
     "execution_count": 91,
     "metadata": {},
     "output_type": "execute_result"
    }
   ],
   "source": [
    "X.numCols()"
   ]
  },
  {
   "cell_type": "code",
   "execution_count": null,
   "metadata": {},
   "outputs": [],
   "source": []
  }
 ],
 "metadata": {
  "kernelspec": {
   "display_name": "py36-test",
   "language": "python",
   "name": "py36-test"
  },
  "language_info": {
   "codemirror_mode": {
    "name": "ipython",
    "version": 3
   },
   "file_extension": ".py",
   "mimetype": "text/x-python",
   "name": "python",
   "nbconvert_exporter": "python",
   "pygments_lexer": "ipython3",
   "version": "3.6.3"
  }
 },
 "nbformat": 4,
 "nbformat_minor": 2
}
