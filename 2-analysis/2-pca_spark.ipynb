{
 "cells": [
  {
   "cell_type": "code",
   "execution_count": 1,
   "metadata": {
    "collapsed": true
   },
   "outputs": [],
   "source": [
    "import os\n",
    "import sys\n",
    "import pandas\n",
    "import numpy\n",
    "\n",
    "import findspark\n",
    "findspark.init(\"/usr/local/spark/spark\")\n",
    "\n",
    "import pyspark\n",
    "\n",
    "from pyspark.ml.feature import PCA\n",
    "from pyspark.ml.linalg import Vector, Vectors"
   ]
  },
  {
   "cell_type": "code",
   "execution_count": 92,
   "metadata": {
    "collapsed": true
   },
   "outputs": [],
   "source": [
    "import matplotlib.pyplot as plt\n",
    "import matplotlib.cm as cm"
   ]
  },
  {
   "cell_type": "code",
   "execution_count": 3,
   "metadata": {
    "collapsed": true
   },
   "outputs": [],
   "source": [
    "file_name = \"/Users/simondi/Desktop/test_ba/kmeans_transform-cells_sample_10_normalized_cut_100_K005\""
   ]
  },
  {
   "cell_type": "code",
   "execution_count": 4,
   "metadata": {
    "collapsed": false
   },
   "outputs": [],
   "source": [
    "conf = pyspark.SparkConf().setMaster(\"local[*]\").set(\"spark.driver.memory\", \"4G\").set(\"spark.executor.memory\", \"4G\")\n",
    "sc = pyspark.SparkContext(conf=conf)\n",
    "spark = pyspark.sql.SparkSession(sc)"
   ]
  },
  {
   "cell_type": "code",
   "execution_count": 5,
   "metadata": {
    "collapsed": false
   },
   "outputs": [],
   "source": [
    "data = spark.read.parquet(file_name)"
   ]
  },
  {
   "cell_type": "code",
   "execution_count": 6,
   "metadata": {
    "collapsed": true
   },
   "outputs": [],
   "source": [
    "data = data.limit(30)"
   ]
  },
  {
   "cell_type": "code",
   "execution_count": 7,
   "metadata": {
    "collapsed": false
   },
   "outputs": [
    {
     "data": {
      "text/plain": [
       "[Row(study='infectx_published', pathogen='listeria', library='a', design='u', replicate='1', plate='kb2-02-1x', well='a01', gene='chka', sirna='s3008', well_type='sirna', image_idx='4', object_idx='144', prediction=0, features=DenseVector([-0.8044, 0.0121, 1.1159, 1.4749, -0.9369, -0.7485, -1.0209, -0.703, 0.0, 0.4476, 1.2809, 1.3916, 0.1489, 0.6694, -1.2335, -0.0825, 0.0106, -0.5078, 1.2455, 0.1357])),\n",
       " Row(study='infectx_published', pathogen='listeria', library='a', design='u', replicate='1', plate='kb2-02-1x', well='a01', gene='chka', sirna='s3008', well_type='sirna', image_idx='5', object_idx='168', prediction=0, features=DenseVector([-0.9474, -0.0399, 0.1262, 0.6198, -1.0081, -0.7959, -0.9485, -0.6324, 0.0, 0.4263, -0.2104, -0.3939, 0.3941, -0.3786, 1.0053, -0.6748, 0.268, -1.0621, -0.5899, 0.429])),\n",
       " Row(study='infectx_published', pathogen='listeria', library='a', design='u', replicate='1', plate='kb2-02-1x', well='a01', gene='chka', sirna='s3008', well_type='sirna', image_idx='2', object_idx='210', prediction=2, features=DenseVector([-0.0839, 1.1239, 1.7611, 0.8489, 0.5572, -0.7291, -0.4751, 0.4974, 0.0, 0.8014, -1.1155, 0.6997, 0.9706, -0.1785, 1.0668, 1.6943, 1.1014, 0.6542, -0.6529, 0.9422])),\n",
       " Row(study='infectx_published', pathogen='listeria', library='a', design='u', replicate='1', plate='kb2-02-1x', well='a01', gene='chka', sirna='s3008', well_type='sirna', image_idx='6', object_idx='207', prediction=4, features=DenseVector([-0.3139, 0.7065, -0.0913, 0.843, -0.1054, -0.559, -0.5982, -0.0675, 0.0, 0.8441, 0.1633, 0.5388, 0.897, -0.2843, -1.2915, 0.5098, 0.9911, 1.0606, 0.7454, 0.9056])),\n",
       " Row(study='infectx_published', pathogen='listeria', library='a', design='u', replicate='1', plate='kb2-02-1x', well='a01', gene='chka', sirna='s3008', well_type='sirna', image_idx='2', object_idx='243', prediction=2, features=DenseVector([-0.3299, -1.9916, 1.6817, 0.5631, -0.8296, 0.351, -0.5286, 0.2149, 0.0, 1.1669, -0.3471, 1.3786, 1.3262, -0.3182, 1.4663, 1.6943, 1.4691, 0.4237, -1.1827, 1.3455]))]"
      ]
     },
     "execution_count": 7,
     "metadata": {},
     "output_type": "execute_result"
    }
   ],
   "source": [
    "data.take(5)"
   ]
  },
  {
   "cell_type": "code",
   "execution_count": 8,
   "metadata": {
    "collapsed": false
   },
   "outputs": [],
   "source": [
    "pca = PCA(k=2, inputCol=\"features\", outputCol=\"pcs\")"
   ]
  },
  {
   "cell_type": "code",
   "execution_count": 9,
   "metadata": {
    "collapsed": false
   },
   "outputs": [],
   "source": [
    "model = pca.fit(data)"
   ]
  },
  {
   "cell_type": "code",
   "execution_count": 10,
   "metadata": {
    "collapsed": false
   },
   "outputs": [],
   "source": [
    "data = model.transform(data)"
   ]
  },
  {
   "cell_type": "code",
   "execution_count": 11,
   "metadata": {
    "collapsed": false
   },
   "outputs": [
    {
     "data": {
      "text/plain": [
       "[Row(study='infectx_published', pathogen='listeria', library='a', design='u', replicate='1', plate='kb2-02-1x', well='a01', gene='chka', sirna='s3008', well_type='sirna', image_idx='4', object_idx='144', prediction=0, features=DenseVector([-0.8044, 0.0121, 1.1159, 1.4749, -0.9369, -0.7485, -1.0209, -0.703, 0.0, 0.4476, 1.2809, 1.3916, 0.1489, 0.6694, -1.2335, -0.0825, 0.0106, -0.5078, 1.2455, 0.1357]), pcs=DenseVector([1.7649, 1.6109]))]"
      ]
     },
     "execution_count": 11,
     "metadata": {},
     "output_type": "execute_result"
    }
   ],
   "source": [
    "data.take(1)"
   ]
  },
  {
   "cell_type": "code",
   "execution_count": 16,
   "metadata": {
    "collapsed": false
   },
   "outputs": [
    {
     "name": "stdout",
     "output_type": "stream",
     "text": [
      "+--------+----+-----+-----+\n",
      "|pathogen|gene|sirna|count|\n",
      "+--------+----+-----+-----+\n",
      "|listeria|chka|s3008|   10|\n",
      "|listeria|grk5|s6088|   10|\n",
      "|listeria|chuk|s3077|   10|\n",
      "+--------+----+-----+-----+\n",
      "\n"
     ]
    }
   ],
   "source": [
    "counts = data.groupBy([\"pathogen\", \"gene\", \"sirna\"]).count()"
   ]
  },
  {
   "cell_type": "code",
   "execution_count": 19,
   "metadata": {
    "collapsed": false
   },
   "outputs": [],
   "source": [
    "from pyspark.sql.window import Window"
   ]
  },
  {
   "cell_type": "code",
   "execution_count": 41,
   "metadata": {
    "collapsed": false
   },
   "outputs": [],
   "source": [
    "window = Window.partitionBy([\"pathogen\", \"gene\", \"sirna\"]).rowsBetween(0, 10)"
   ]
  },
  {
   "cell_type": "code",
   "execution_count": 109,
   "metadata": {
    "collapsed": true
   },
   "outputs": [],
   "source": [
    "from pyspark.sql.functions import row_number"
   ]
  },
  {
   "cell_type": "code",
   "execution_count": 53,
   "metadata": {
    "collapsed": false
   },
   "outputs": [],
   "source": [
    "data = data.withColumn(\"row_num\", row_number().over(Window.partitionBy([\"pathogen\", \"gene\", \"sirna\"]).orderBy(\"pathogen\")))"
   ]
  },
  {
   "cell_type": "code",
   "execution_count": 62,
   "metadata": {
    "collapsed": false
   },
   "outputs": [],
   "source": [
    "data = data.filter(\"row_num <= 10\")"
   ]
  },
  {
   "cell_type": "code",
   "execution_count": 88,
   "metadata": {
    "collapsed": false
   },
   "outputs": [],
   "source": [
    "data_p = data.select([\"pathogen\", \"gene\", \"sirna\", \"prediction\", \"pcs\"]).toPandas()\n",
    "data_p[['pc1','pc2']] = pandas.DataFrame(data_p.pcs.values.tolist())"
   ]
  },
  {
   "cell_type": "code",
   "execution_count": null,
   "metadata": {
    "collapsed": true
   },
   "outputs": [],
   "source": [
    ""
   ]
  },
  {
   "cell_type": "code",
   "execution_count": 75,
   "metadata": {
    "collapsed": false
   },
   "outputs": [],
   "source": [
    "uniq_genes = list(set(data_p[\"gene\"]))\n",
    "uniq_pathogen = list(set(data_p[\"pathogen\"]))\n",
    "uniq_sirnas = list(set(data_p[\"sirna\"]))\n",
    "uniq_clusts = list(set(data_p[\"prediction\"]))"
   ]
  },
  {
   "cell_type": "code",
   "execution_count": 79,
   "metadata": {
    "collapsed": false
   },
   "outputs": [
    {
     "data": {
      "text/plain": [
       "[0, 1, 2, 3, 4]"
      ]
     },
     "execution_count": 79,
     "metadata": {},
     "output_type": "execute_result"
    }
   ],
   "source": [
    "uniq_clusts"
   ]
  },
  {
   "cell_type": "code",
   "execution_count": 103,
   "metadata": {
    "collapsed": false
   },
   "outputs": [
    {
     "data": {
      "text/plain": [
       "array([[  5.00000000e-01,   0.00000000e+00,   1.00000000e+00,\n",
       "          1.00000000e+00],\n",
       "       [  1.96078431e-03,   7.09281308e-01,   9.23289106e-01,\n",
       "          1.00000000e+00],\n",
       "       [  5.03921569e-01,   9.99981027e-01,   7.04925547e-01,\n",
       "          1.00000000e+00],\n",
       "       [  1.00000000e+00,   7.00543038e-01,   3.78411050e-01,\n",
       "          1.00000000e+00],\n",
       "       [  1.00000000e+00,   1.22464680e-16,   6.12323400e-17,\n",
       "          1.00000000e+00]])"
      ]
     },
     "execution_count": 103,
     "metadata": {},
     "output_type": "execute_result"
    }
   ],
   "source": [
    "colors = plt.cm.rainbow(numpy.linspace(0, 1, len(uniq_clusts)))\n",
    "colors"
   ]
  },
  {
   "cell_type": "code",
   "execution_count": 108,
   "metadata": {
    "collapsed": false
   },
   "outputs": [
    {
     "ename": "ValueError",
     "evalue": "Must have equal len keys and value when setting with an ndarray",
     "traceback": [
      "\u001b[0;31m---------------------------------------------------------------------------\u001b[0m",
      "\u001b[0;31mValueError\u001b[0m                                Traceback (most recent call last)",
      "\u001b[0;32m<ipython-input-108-7c29b9866f46>\u001b[0m in \u001b[0;36m<module>\u001b[0;34m()\u001b[0m\n\u001b[0;32m----> 1\u001b[0;31m \u001b[0mdata_p\u001b[0m\u001b[0;34m.\u001b[0m\u001b[0mloc\u001b[0m\u001b[0;34m[\u001b[0m\u001b[0;34m:\u001b[0m\u001b[0;34m,\u001b[0m \u001b[0;34m\"color\"\u001b[0m\u001b[0;34m]\u001b[0m \u001b[0;34m=\u001b[0m \u001b[0mcolors\u001b[0m\u001b[0;34m[\u001b[0m\u001b[0mdata_p\u001b[0m\u001b[0;34m.\u001b[0m\u001b[0mprediction\u001b[0m\u001b[0;34m]\u001b[0m\u001b[0;34m\u001b[0m\u001b[0m\n\u001b[0m",
      "\u001b[0;32m~/anaconda3/envs/py35/lib/python3.5/site-packages/pandas/core/indexing.py\u001b[0m in \u001b[0;36m__setitem__\u001b[0;34m(self, key, value)\u001b[0m\n\u001b[1;32m    177\u001b[0m             \u001b[0mkey\u001b[0m \u001b[0;34m=\u001b[0m \u001b[0mcom\u001b[0m\u001b[0;34m.\u001b[0m\u001b[0m_apply_if_callable\u001b[0m\u001b[0;34m(\u001b[0m\u001b[0mkey\u001b[0m\u001b[0;34m,\u001b[0m \u001b[0mself\u001b[0m\u001b[0;34m.\u001b[0m\u001b[0mobj\u001b[0m\u001b[0;34m)\u001b[0m\u001b[0;34m\u001b[0m\u001b[0m\n\u001b[1;32m    178\u001b[0m         \u001b[0mindexer\u001b[0m \u001b[0;34m=\u001b[0m \u001b[0mself\u001b[0m\u001b[0;34m.\u001b[0m\u001b[0m_get_setitem_indexer\u001b[0m\u001b[0;34m(\u001b[0m\u001b[0mkey\u001b[0m\u001b[0;34m)\u001b[0m\u001b[0;34m\u001b[0m\u001b[0m\n\u001b[0;32m--> 179\u001b[0;31m         \u001b[0mself\u001b[0m\u001b[0;34m.\u001b[0m\u001b[0m_setitem_with_indexer\u001b[0m\u001b[0;34m(\u001b[0m\u001b[0mindexer\u001b[0m\u001b[0;34m,\u001b[0m \u001b[0mvalue\u001b[0m\u001b[0;34m)\u001b[0m\u001b[0;34m\u001b[0m\u001b[0m\n\u001b[0m\u001b[1;32m    180\u001b[0m \u001b[0;34m\u001b[0m\u001b[0m\n\u001b[1;32m    181\u001b[0m     \u001b[0;32mdef\u001b[0m \u001b[0m_has_valid_type\u001b[0m\u001b[0;34m(\u001b[0m\u001b[0mself\u001b[0m\u001b[0;34m,\u001b[0m \u001b[0mk\u001b[0m\u001b[0;34m,\u001b[0m \u001b[0maxis\u001b[0m\u001b[0;34m)\u001b[0m\u001b[0;34m:\u001b[0m\u001b[0;34m\u001b[0m\u001b[0m\n",
      "\u001b[0;32m~/anaconda3/envs/py35/lib/python3.5/site-packages/pandas/core/indexing.py\u001b[0m in \u001b[0;36m_setitem_with_indexer\u001b[0;34m(self, indexer, value)\u001b[0m\n\u001b[1;32m    339\u001b[0m                         new_indexer = convert_from_missing_indexer_tuple(\n\u001b[1;32m    340\u001b[0m                             indexer, self.obj.axes)\n\u001b[0;32m--> 341\u001b[0;31m                         \u001b[0mself\u001b[0m\u001b[0;34m.\u001b[0m\u001b[0m_setitem_with_indexer\u001b[0m\u001b[0;34m(\u001b[0m\u001b[0mnew_indexer\u001b[0m\u001b[0;34m,\u001b[0m \u001b[0mvalue\u001b[0m\u001b[0;34m)\u001b[0m\u001b[0;34m\u001b[0m\u001b[0m\n\u001b[0m\u001b[1;32m    342\u001b[0m \u001b[0;34m\u001b[0m\u001b[0m\n\u001b[1;32m    343\u001b[0m                         \u001b[0;32mreturn\u001b[0m \u001b[0mself\u001b[0m\u001b[0;34m.\u001b[0m\u001b[0mobj\u001b[0m\u001b[0;34m\u001b[0m\u001b[0m\n",
      "\u001b[0;32m~/anaconda3/envs/py35/lib/python3.5/site-packages/pandas/core/indexing.py\u001b[0m in \u001b[0;36m_setitem_with_indexer\u001b[0;34m(self, indexer, value)\u001b[0m\n\u001b[1;32m    561\u001b[0m                     \u001b[0mvalue\u001b[0m \u001b[0;34m=\u001b[0m \u001b[0mnp\u001b[0m\u001b[0;34m.\u001b[0m\u001b[0marray\u001b[0m\u001b[0;34m(\u001b[0m\u001b[0mvalue\u001b[0m\u001b[0;34m,\u001b[0m \u001b[0mdtype\u001b[0m\u001b[0;34m=\u001b[0m\u001b[0mobject\u001b[0m\u001b[0;34m)\u001b[0m\u001b[0;34m\u001b[0m\u001b[0m\n\u001b[1;32m    562\u001b[0m                     \u001b[0;32mif\u001b[0m \u001b[0mlen\u001b[0m\u001b[0;34m(\u001b[0m\u001b[0mlabels\u001b[0m\u001b[0;34m)\u001b[0m \u001b[0;34m!=\u001b[0m \u001b[0mvalue\u001b[0m\u001b[0;34m.\u001b[0m\u001b[0mshape\u001b[0m\u001b[0;34m[\u001b[0m\u001b[0;36m1\u001b[0m\u001b[0;34m]\u001b[0m\u001b[0;34m:\u001b[0m\u001b[0;34m\u001b[0m\u001b[0m\n\u001b[0;32m--> 563\u001b[0;31m                         raise ValueError('Must have equal len keys and value '\n\u001b[0m\u001b[1;32m    564\u001b[0m                                          'when setting with an ndarray')\n\u001b[1;32m    565\u001b[0m \u001b[0;34m\u001b[0m\u001b[0m\n",
      "\u001b[0;31mValueError\u001b[0m: Must have equal len keys and value when setting with an ndarray"
     ],
     "output_type": "error"
    }
   ],
   "source": [
    "data_p.loc[:, \"color\"] = colors[data_p.prediction]"
   ]
  },
  {
   "cell_type": "code",
   "execution_count": 106,
   "metadata": {
    "collapsed": false
   },
   "outputs": [
    {
     "data": {
      "text/html": [
       "<div>\n",
       "<style>\n",
       "    .dataframe thead tr:only-child th {\n",
       "        text-align: right;\n",
       "    }\n",
       "\n",
       "    .dataframe thead th {\n",
       "        text-align: left;\n",
       "    }\n",
       "\n",
       "    .dataframe tbody tr th {\n",
       "        vertical-align: top;\n",
       "    }\n",
       "</style>\n",
       "<table border=\"1\" class=\"dataframe\">\n",
       "  <thead>\n",
       "    <tr style=\"text-align: right;\">\n",
       "      <th></th>\n",
       "      <th>pathogen</th>\n",
       "      <th>gene</th>\n",
       "      <th>sirna</th>\n",
       "      <th>prediction</th>\n",
       "      <th>pcs</th>\n",
       "      <th>pc1</th>\n",
       "      <th>pc2</th>\n",
       "    </tr>\n",
       "  </thead>\n",
       "  <tbody>\n",
       "    <tr>\n",
       "      <th>0</th>\n",
       "      <td>listeria</td>\n",
       "      <td>chka</td>\n",
       "      <td>s3008</td>\n",
       "      <td>0</td>\n",
       "      <td>[1.76487012551, 1.61088575943]</td>\n",
       "      <td>1.764870</td>\n",
       "      <td>1.610886</td>\n",
       "    </tr>\n",
       "    <tr>\n",
       "      <th>1</th>\n",
       "      <td>listeria</td>\n",
       "      <td>chka</td>\n",
       "      <td>s3008</td>\n",
       "      <td>0</td>\n",
       "      <td>[1.63468301131, 0.594261298524]</td>\n",
       "      <td>1.634683</td>\n",
       "      <td>0.594261</td>\n",
       "    </tr>\n",
       "    <tr>\n",
       "      <th>2</th>\n",
       "      <td>listeria</td>\n",
       "      <td>chka</td>\n",
       "      <td>s3008</td>\n",
       "      <td>2</td>\n",
       "      <td>[1.75772043796, -1.00642121456]</td>\n",
       "      <td>1.757720</td>\n",
       "      <td>-1.006421</td>\n",
       "    </tr>\n",
       "    <tr>\n",
       "      <th>3</th>\n",
       "      <td>listeria</td>\n",
       "      <td>chka</td>\n",
       "      <td>s3008</td>\n",
       "      <td>4</td>\n",
       "      <td>[2.02350481383, 0.100451937143]</td>\n",
       "      <td>2.023505</td>\n",
       "      <td>0.100452</td>\n",
       "    </tr>\n",
       "    <tr>\n",
       "      <th>4</th>\n",
       "      <td>listeria</td>\n",
       "      <td>chka</td>\n",
       "      <td>s3008</td>\n",
       "      <td>2</td>\n",
       "      <td>[2.25783110217, -2.77525388643]</td>\n",
       "      <td>2.257831</td>\n",
       "      <td>-2.775254</td>\n",
       "    </tr>\n",
       "    <tr>\n",
       "      <th>5</th>\n",
       "      <td>listeria</td>\n",
       "      <td>chka</td>\n",
       "      <td>s3008</td>\n",
       "      <td>4</td>\n",
       "      <td>[1.53234179511, -1.49438655759]</td>\n",
       "      <td>1.532342</td>\n",
       "      <td>-1.494387</td>\n",
       "    </tr>\n",
       "    <tr>\n",
       "      <th>6</th>\n",
       "      <td>listeria</td>\n",
       "      <td>chka</td>\n",
       "      <td>s3008</td>\n",
       "      <td>1</td>\n",
       "      <td>[-3.37821265856, -4.81525978572]</td>\n",
       "      <td>-3.378213</td>\n",
       "      <td>-4.815260</td>\n",
       "    </tr>\n",
       "    <tr>\n",
       "      <th>7</th>\n",
       "      <td>listeria</td>\n",
       "      <td>chka</td>\n",
       "      <td>s3008</td>\n",
       "      <td>4</td>\n",
       "      <td>[2.81887922754, 0.382042590338]</td>\n",
       "      <td>2.818879</td>\n",
       "      <td>0.382043</td>\n",
       "    </tr>\n",
       "    <tr>\n",
       "      <th>8</th>\n",
       "      <td>listeria</td>\n",
       "      <td>chka</td>\n",
       "      <td>s3008</td>\n",
       "      <td>3</td>\n",
       "      <td>[-2.03657176404, 2.7128186201]</td>\n",
       "      <td>-2.036572</td>\n",
       "      <td>2.712819</td>\n",
       "    </tr>\n",
       "    <tr>\n",
       "      <th>9</th>\n",
       "      <td>listeria</td>\n",
       "      <td>chka</td>\n",
       "      <td>s3008</td>\n",
       "      <td>4</td>\n",
       "      <td>[2.16869401353, 1.386068262]</td>\n",
       "      <td>2.168694</td>\n",
       "      <td>1.386068</td>\n",
       "    </tr>\n",
       "    <tr>\n",
       "      <th>10</th>\n",
       "      <td>listeria</td>\n",
       "      <td>chuk</td>\n",
       "      <td>s3077</td>\n",
       "      <td>3</td>\n",
       "      <td>[-1.7822381539, 3.38880111141]</td>\n",
       "      <td>-1.782238</td>\n",
       "      <td>3.388801</td>\n",
       "    </tr>\n",
       "    <tr>\n",
       "      <th>11</th>\n",
       "      <td>listeria</td>\n",
       "      <td>chuk</td>\n",
       "      <td>s3077</td>\n",
       "      <td>2</td>\n",
       "      <td>[-0.307352406099, -1.75029186953]</td>\n",
       "      <td>-0.307352</td>\n",
       "      <td>-1.750292</td>\n",
       "    </tr>\n",
       "    <tr>\n",
       "      <th>12</th>\n",
       "      <td>listeria</td>\n",
       "      <td>chuk</td>\n",
       "      <td>s3077</td>\n",
       "      <td>3</td>\n",
       "      <td>[-1.54968833094, 1.77802544749]</td>\n",
       "      <td>-1.549688</td>\n",
       "      <td>1.778025</td>\n",
       "    </tr>\n",
       "    <tr>\n",
       "      <th>13</th>\n",
       "      <td>listeria</td>\n",
       "      <td>chuk</td>\n",
       "      <td>s3077</td>\n",
       "      <td>3</td>\n",
       "      <td>[-1.52442407079, 0.943343910425]</td>\n",
       "      <td>-1.524424</td>\n",
       "      <td>0.943344</td>\n",
       "    </tr>\n",
       "    <tr>\n",
       "      <th>14</th>\n",
       "      <td>listeria</td>\n",
       "      <td>chuk</td>\n",
       "      <td>s3077</td>\n",
       "      <td>2</td>\n",
       "      <td>[-0.0684067194932, -1.91648700458]</td>\n",
       "      <td>-0.068407</td>\n",
       "      <td>-1.916487</td>\n",
       "    </tr>\n",
       "    <tr>\n",
       "      <th>15</th>\n",
       "      <td>listeria</td>\n",
       "      <td>chuk</td>\n",
       "      <td>s3077</td>\n",
       "      <td>2</td>\n",
       "      <td>[3.1392067248, -0.644025011857]</td>\n",
       "      <td>3.139207</td>\n",
       "      <td>-0.644025</td>\n",
       "    </tr>\n",
       "    <tr>\n",
       "      <th>16</th>\n",
       "      <td>listeria</td>\n",
       "      <td>chuk</td>\n",
       "      <td>s3077</td>\n",
       "      <td>3</td>\n",
       "      <td>[-2.17977073017, -0.400071954322]</td>\n",
       "      <td>-2.179771</td>\n",
       "      <td>-0.400072</td>\n",
       "    </tr>\n",
       "    <tr>\n",
       "      <th>17</th>\n",
       "      <td>listeria</td>\n",
       "      <td>chuk</td>\n",
       "      <td>s3077</td>\n",
       "      <td>4</td>\n",
       "      <td>[3.13936625309, -0.289717211593]</td>\n",
       "      <td>3.139366</td>\n",
       "      <td>-0.289717</td>\n",
       "    </tr>\n",
       "    <tr>\n",
       "      <th>18</th>\n",
       "      <td>listeria</td>\n",
       "      <td>chuk</td>\n",
       "      <td>s3077</td>\n",
       "      <td>3</td>\n",
       "      <td>[-0.957483481107, 4.0613641157]</td>\n",
       "      <td>-0.957483</td>\n",
       "      <td>4.061364</td>\n",
       "    </tr>\n",
       "    <tr>\n",
       "      <th>19</th>\n",
       "      <td>listeria</td>\n",
       "      <td>chuk</td>\n",
       "      <td>s3077</td>\n",
       "      <td>0</td>\n",
       "      <td>[-1.58068358009, 1.77614069068]</td>\n",
       "      <td>-1.580684</td>\n",
       "      <td>1.776141</td>\n",
       "    </tr>\n",
       "    <tr>\n",
       "      <th>20</th>\n",
       "      <td>listeria</td>\n",
       "      <td>grk5</td>\n",
       "      <td>s6088</td>\n",
       "      <td>1</td>\n",
       "      <td>[-4.09214940708, -0.922741157153]</td>\n",
       "      <td>-4.092149</td>\n",
       "      <td>-0.922741</td>\n",
       "    </tr>\n",
       "    <tr>\n",
       "      <th>21</th>\n",
       "      <td>listeria</td>\n",
       "      <td>grk5</td>\n",
       "      <td>s6088</td>\n",
       "      <td>4</td>\n",
       "      <td>[2.40663332298, -1.16081368412]</td>\n",
       "      <td>2.406633</td>\n",
       "      <td>-1.160814</td>\n",
       "    </tr>\n",
       "    <tr>\n",
       "      <th>22</th>\n",
       "      <td>listeria</td>\n",
       "      <td>grk5</td>\n",
       "      <td>s6088</td>\n",
       "      <td>4</td>\n",
       "      <td>[1.23731778698, 0.272323226064]</td>\n",
       "      <td>1.237318</td>\n",
       "      <td>0.272323</td>\n",
       "    </tr>\n",
       "    <tr>\n",
       "      <th>23</th>\n",
       "      <td>listeria</td>\n",
       "      <td>grk5</td>\n",
       "      <td>s6088</td>\n",
       "      <td>1</td>\n",
       "      <td>[-3.39519942575, -0.442999877945]</td>\n",
       "      <td>-3.395199</td>\n",
       "      <td>-0.443000</td>\n",
       "    </tr>\n",
       "    <tr>\n",
       "      <th>24</th>\n",
       "      <td>listeria</td>\n",
       "      <td>grk5</td>\n",
       "      <td>s6088</td>\n",
       "      <td>2</td>\n",
       "      <td>[0.0368767455798, -1.5310057482]</td>\n",
       "      <td>0.036877</td>\n",
       "      <td>-1.531006</td>\n",
       "    </tr>\n",
       "    <tr>\n",
       "      <th>25</th>\n",
       "      <td>listeria</td>\n",
       "      <td>grk5</td>\n",
       "      <td>s6088</td>\n",
       "      <td>2</td>\n",
       "      <td>[-0.771860264064, -2.41131017641]</td>\n",
       "      <td>-0.771860</td>\n",
       "      <td>-2.411310</td>\n",
       "    </tr>\n",
       "    <tr>\n",
       "      <th>26</th>\n",
       "      <td>listeria</td>\n",
       "      <td>grk5</td>\n",
       "      <td>s6088</td>\n",
       "      <td>0</td>\n",
       "      <td>[0.921226231163, -0.0295039781433]</td>\n",
       "      <td>0.921226</td>\n",
       "      <td>-0.029504</td>\n",
       "    </tr>\n",
       "    <tr>\n",
       "      <th>27</th>\n",
       "      <td>listeria</td>\n",
       "      <td>grk5</td>\n",
       "      <td>s6088</td>\n",
       "      <td>3</td>\n",
       "      <td>[-1.6844954313, 0.848858464726]</td>\n",
       "      <td>-1.684495</td>\n",
       "      <td>0.848858</td>\n",
       "    </tr>\n",
       "    <tr>\n",
       "      <th>28</th>\n",
       "      <td>listeria</td>\n",
       "      <td>grk5</td>\n",
       "      <td>s6088</td>\n",
       "      <td>3</td>\n",
       "      <td>[-1.96041888318, 0.852247084483]</td>\n",
       "      <td>-1.960419</td>\n",
       "      <td>0.852247</td>\n",
       "    </tr>\n",
       "    <tr>\n",
       "      <th>29</th>\n",
       "      <td>listeria</td>\n",
       "      <td>grk5</td>\n",
       "      <td>s6088</td>\n",
       "      <td>0</td>\n",
       "      <td>[2.78588642418, 3.04065281]</td>\n",
       "      <td>2.785886</td>\n",
       "      <td>3.040653</td>\n",
       "    </tr>\n",
       "  </tbody>\n",
       "</table>\n",
       "</div>"
      ],
      "text/plain": [
       "    pathogen  gene  sirna  prediction                                 pcs  \\\n",
       "0   listeria  chka  s3008           0      [1.76487012551, 1.61088575943]   \n",
       "1   listeria  chka  s3008           0     [1.63468301131, 0.594261298524]   \n",
       "2   listeria  chka  s3008           2     [1.75772043796, -1.00642121456]   \n",
       "3   listeria  chka  s3008           4     [2.02350481383, 0.100451937143]   \n",
       "4   listeria  chka  s3008           2     [2.25783110217, -2.77525388643]   \n",
       "5   listeria  chka  s3008           4     [1.53234179511, -1.49438655759]   \n",
       "6   listeria  chka  s3008           1    [-3.37821265856, -4.81525978572]   \n",
       "7   listeria  chka  s3008           4     [2.81887922754, 0.382042590338]   \n",
       "8   listeria  chka  s3008           3      [-2.03657176404, 2.7128186201]   \n",
       "9   listeria  chka  s3008           4        [2.16869401353, 1.386068262]   \n",
       "10  listeria  chuk  s3077           3      [-1.7822381539, 3.38880111141]   \n",
       "11  listeria  chuk  s3077           2   [-0.307352406099, -1.75029186953]   \n",
       "12  listeria  chuk  s3077           3     [-1.54968833094, 1.77802544749]   \n",
       "13  listeria  chuk  s3077           3    [-1.52442407079, 0.943343910425]   \n",
       "14  listeria  chuk  s3077           2  [-0.0684067194932, -1.91648700458]   \n",
       "15  listeria  chuk  s3077           2     [3.1392067248, -0.644025011857]   \n",
       "16  listeria  chuk  s3077           3   [-2.17977073017, -0.400071954322]   \n",
       "17  listeria  chuk  s3077           4    [3.13936625309, -0.289717211593]   \n",
       "18  listeria  chuk  s3077           3     [-0.957483481107, 4.0613641157]   \n",
       "19  listeria  chuk  s3077           0     [-1.58068358009, 1.77614069068]   \n",
       "20  listeria  grk5  s6088           1   [-4.09214940708, -0.922741157153]   \n",
       "21  listeria  grk5  s6088           4     [2.40663332298, -1.16081368412]   \n",
       "22  listeria  grk5  s6088           4     [1.23731778698, 0.272323226064]   \n",
       "23  listeria  grk5  s6088           1   [-3.39519942575, -0.442999877945]   \n",
       "24  listeria  grk5  s6088           2    [0.0368767455798, -1.5310057482]   \n",
       "25  listeria  grk5  s6088           2   [-0.771860264064, -2.41131017641]   \n",
       "26  listeria  grk5  s6088           0  [0.921226231163, -0.0295039781433]   \n",
       "27  listeria  grk5  s6088           3     [-1.6844954313, 0.848858464726]   \n",
       "28  listeria  grk5  s6088           3    [-1.96041888318, 0.852247084483]   \n",
       "29  listeria  grk5  s6088           0         [2.78588642418, 3.04065281]   \n",
       "\n",
       "         pc1       pc2  \n",
       "0   1.764870  1.610886  \n",
       "1   1.634683  0.594261  \n",
       "2   1.757720 -1.006421  \n",
       "3   2.023505  0.100452  \n",
       "4   2.257831 -2.775254  \n",
       "5   1.532342 -1.494387  \n",
       "6  -3.378213 -4.815260  \n",
       "7   2.818879  0.382043  \n",
       "8  -2.036572  2.712819  \n",
       "9   2.168694  1.386068  \n",
       "10 -1.782238  3.388801  \n",
       "11 -0.307352 -1.750292  \n",
       "12 -1.549688  1.778025  \n",
       "13 -1.524424  0.943344  \n",
       "14 -0.068407 -1.916487  \n",
       "15  3.139207 -0.644025  \n",
       "16 -2.179771 -0.400072  \n",
       "17  3.139366 -0.289717  \n",
       "18 -0.957483  4.061364  \n",
       "19 -1.580684  1.776141  \n",
       "20 -4.092149 -0.922741  \n",
       "21  2.406633 -1.160814  \n",
       "22  1.237318  0.272323  \n",
       "23 -3.395199 -0.443000  \n",
       "24  0.036877 -1.531006  \n",
       "25 -0.771860 -2.411310  \n",
       "26  0.921226 -0.029504  \n",
       "27 -1.684495  0.848858  \n",
       "28 -1.960419  0.852247  \n",
       "29  2.785886  3.040653  "
      ]
     },
     "execution_count": 106,
     "metadata": {},
     "output_type": "execute_result"
    }
   ],
   "source": [
    "data_p"
   ]
  },
  {
   "cell_type": "code",
   "execution_count": 100,
   "metadata": {
    "collapsed": false
   },
   "outputs": [
    {
     "ename": "NameError",
     "evalue": "name 'np' is not defined",
     "traceback": [
      "\u001b[0;31m---------------------------------------------------------------------------\u001b[0m",
      "\u001b[0;31mNameError\u001b[0m                                 Traceback (most recent call last)",
      "\u001b[0;32m<ipython-input-100-55deabb01667>\u001b[0m in \u001b[0;36m<module>\u001b[0;34m()\u001b[0m\n\u001b[1;32m      1\u001b[0m \u001b[0mhot\u001b[0m \u001b[0;34m=\u001b[0m \u001b[0mplt\u001b[0m\u001b[0;34m.\u001b[0m\u001b[0mget_cmap\u001b[0m\u001b[0;34m(\u001b[0m\u001b[0;34m'hot'\u001b[0m\u001b[0;34m)\u001b[0m\u001b[0;34m\u001b[0m\u001b[0m\n\u001b[0;32m----> 2\u001b[0;31m \u001b[0mcolors\u001b[0m \u001b[0;34m=\u001b[0m \u001b[0mplt\u001b[0m\u001b[0;34m.\u001b[0m\u001b[0mcm\u001b[0m\u001b[0;34m.\u001b[0m\u001b[0mrainbow\u001b[0m\u001b[0;34m(\u001b[0m\u001b[0mnp\u001b[0m\u001b[0;34m.\u001b[0m\u001b[0mlinspace\u001b[0m\u001b[0;34m(\u001b[0m\u001b[0;36m0\u001b[0m\u001b[0;34m,\u001b[0m \u001b[0;36m1\u001b[0m\u001b[0;34m,\u001b[0m \u001b[0mlen\u001b[0m\u001b[0;34m(\u001b[0m\u001b[0muniq_clusts\u001b[0m\u001b[0;34m)\u001b[0m\u001b[0;34m)\u001b[0m\u001b[0;34m)\u001b[0m\u001b[0;34m\u001b[0m\u001b[0m\n\u001b[0m\u001b[1;32m      3\u001b[0m \u001b[0;34m\u001b[0m\u001b[0m\n\u001b[1;32m      4\u001b[0m \u001b[0mplt\u001b[0m\u001b[0;34m.\u001b[0m\u001b[0mfigure\u001b[0m\u001b[0;34m(\u001b[0m\u001b[0;34m)\u001b[0m\u001b[0;34m\u001b[0m\u001b[0m\n\u001b[1;32m      5\u001b[0m \u001b[0;34m\u001b[0m\u001b[0m\n",
      "\u001b[0;31mNameError\u001b[0m: name 'np' is not defined"
     ],
     "output_type": "error"
    }
   ],
   "source": [
    "hot = plt.get_cmap('hot')\n",
    "colors = plt.cm.rainbow(np.linspace(0, 1, len(uniq_clusts)))\n",
    "\n",
    "plt.figure()\n",
    "\n",
    "plt.scatter(data_p.loc[:, \"pc1\"], data_p.loc[:, \"pc2\"], color=colors)\n",
    "    \n",
    "#uid = str(uuid.uuid1())\n",
    "plt.show()"
   ]
  },
  {
   "cell_type": "code",
   "execution_count": 66,
   "metadata": {
    "collapsed": false
   },
   "outputs": [],
   "source": [
    "font = {'weight': 'normal',\n",
    "            'family': 'sans-serif',\n",
    "            'size': 14}\n",
    "plt.rc('font', **font)\n",
    "plt.figure()\n",
    "ax = plt.subplot(111)\n",
    "plt.tick_params(axis=\"both\", which=\"both\", bottom=\"off\", top=\"off\",\n",
    "                labelbottom=\"on\", left=\"off\", right=\"off\", labelleft=\"on\")\n",
    "ax.spines[\"top\"].set_visible(False)\n",
    "ax.spines[\"bottom\"].set_visible(True)\n",
    "ax.spines[\"right\"].set_visible(False)\n",
    "ax.spines[\"left\"].set_visible(True)"
   ]
  },
  {
   "cell_type": "code",
   "execution_count": null,
   "metadata": {
    "collapsed": true
   },
   "outputs": [],
   "source": [
    "data"
   ]
  },
  {
   "cell_type": "code",
   "execution_count": null,
   "metadata": {
    "collapsed": true
   },
   "outputs": [],
   "source": [
    "ax.plot(ks, score, \"black\")\n",
    "    ax.plot(ks, score, \"or\")\n",
    "    plt.xlabel('K', fontsize=15)\n",
    "    plt.ylabel(axis_label, fontsize=15)\n",
    "    plt.title('')\n",
    "    ax.grid(True)\n",
    "    logger.info(\"Saving plot to: {}\".format(plotfile))\n",
    "    plt.savefig(plotfile, bbox_inches=\"tight\")"
   ]
  }
 ],
 "metadata": {
  "kernelspec": {
   "display_name": "Python 3",
   "language": "python",
   "name": "python3"
  },
  "language_info": {
   "codemirror_mode": {
    "name": "ipython",
    "version": 3.0
   },
   "file_extension": ".py",
   "mimetype": "text/x-python",
   "name": "python",
   "nbconvert_exporter": "python",
   "pygments_lexer": "ipython3",
   "version": "3.5.2"
  }
 },
 "nbformat": 4,
 "nbformat_minor": 0
}