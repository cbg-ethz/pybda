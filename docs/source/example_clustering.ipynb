{
 "cells": [
  {
   "cell_type": "markdown",
   "metadata": {},
   "source": [
    "# $k$-means\n",
    "\n",
    "\n",
    "The following `notebook` shows how PyBDA can be used for a simple clustering task. We use the `iris` data, cause clustering it is fairly easy and we can use it as a check if everything worked out nicely. We'll use a [$k$-means](https://en.wikipedia.org/wiki/K-means_clustering) clustering, which as fairly stringent assumptions about the data, i.e. spherical Gaussians. That means, in order to account for correlated features, we first map the features into a lower dimensional space using factor analysis and then do the clustering."
   ]
  },
  {
   "cell_type": "code",
   "execution_count": 14,
   "metadata": {},
   "outputs": [
    {
     "name": "stdout",
     "output_type": "stream",
     "text": [
      "(tix) "
     ]
    },
    {
     "ename": "",
     "evalue": "1",
     "output_type": "error",
     "traceback": []
    }
   ],
   "source": [
    "source ~/miniconda3/bin/activate tix"
   ]
  },
  {
   "cell_type": "markdown",
   "metadata": {},
   "source": [
    "A file that could do the trick for us would look like this:"
   ]
  },
  {
   "cell_type": "code",
   "execution_count": 12,
   "metadata": {},
   "outputs": [
    {
     "name": "stdout",
     "output_type": "stream",
     "text": [
      "spark: spark-submit\n",
      "infile: iris.tsv\n",
      "outfolder: results\n",
      "meta: iris_meta_columns.tsv\n",
      "features: iris_feature_columns.tsv\n",
      "dimension_reduction: factor_analysis\n",
      "n_components: 2\n",
      "clustering: kmeans\n",
      "n_centers: 2, 3, 5\n",
      "sparkparams:\n",
      "  - \"--driver-memory=1G\"\n",
      "  - \"--executor-memory=1G\"\n",
      "(ml) "
     ]
    },
    {
     "ename": "",
     "evalue": "1",
     "output_type": "error",
     "traceback": []
    }
   ],
   "source": [
    "cat data/pybda-usecase-clustering.config"
   ]
  },
  {
   "cell_type": "markdown",
   "metadata": {},
   "source": [
    "In the config above we will do the following.\n",
    "\n",
    "* Use a factor analysis into a space with two dimensions on the features in ``data/iris_feature_columns.tsv``,\n",
    "* do a clustering with 2, 3 and 5 cluster centers on the two features we got from the factor analysis,\n",
    "* give the Spark driver 3G of memory and the executor 1G of memory.\n",
    "\n",
    "Having the parameters set, we can call PyBDA:"
   ]
  },
  {
   "cell_type": "code",
   "execution_count": 15,
   "metadata": {},
   "outputs": [
    {
     "name": "stdout",
     "output_type": "stream",
     "text": [
      "Checking command line arguments for method: clustering\n",
      "\u001b[31mAttributeError in line 94 of /home/simon/PROJECTS/pybda/pybda/pybda.snake:\n",
      "'NoneType' object has no attribute 'group'\n",
      "  File \"/home/simon/PROJECTS/pybda/pybda/pybda.snake\", line 94, in <module>\n",
      "  File \"/home/simon/PROJECTS/pybda/pybda/pybda_config.py\", line 89, in outfiles_basename\n",
      "  File \"/home/simon/PROJECTS/pybda/pybda/pybda_config.py\", line 89, in <listcomp>\u001b[0m\n",
      "[2019-08-08 17:46:56,994 - ERROR - snakemake.logging]: AttributeError in line 94 of /home/simon/PROJECTS/pybda/pybda/pybda.snake:\n",
      "'NoneType' object has no attribute 'group'\n",
      "  File \"/home/simon/PROJECTS/pybda/pybda/pybda.snake\", line 94, in <module>\n",
      "  File \"/home/simon/PROJECTS/pybda/pybda/pybda_config.py\", line 89, in outfiles_basename\n",
      "  File \"/home/simon/PROJECTS/pybda/pybda/pybda_config.py\", line 89, in <listcomp>\n",
      "(tix) "
     ]
    },
    {
     "ename": "",
     "evalue": "1",
     "output_type": "error",
     "traceback": []
    }
   ],
   "source": [
    "pybda clustering data/pybda-usecase-clustering.config local"
   ]
  },
  {
   "cell_type": "code",
   "execution_count": null,
   "metadata": {},
   "outputs": [],
   "source": [
    "The above command first executes the dimension reduction and then the clustering.\n",
    "After both ran, you should check the plots and statistics."
   ]
  }
 ],
 "metadata": {
  "kernelspec": {
   "display_name": "Bash",
   "language": "bash",
   "name": "bash"
  },
  "language_info": {
   "codemirror_mode": "shell",
   "file_extension": ".sh",
   "mimetype": "text/x-sh",
   "name": "bash"
  }
 },
 "nbformat": 4,
 "nbformat_minor": 2
}
